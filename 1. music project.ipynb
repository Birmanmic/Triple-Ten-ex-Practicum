{
 "cells": [
  {
   "cell_type": "markdown",
   "metadata": {
    "id": "E0vqbgi9ay0H"
   },
   "source": [
    "# Yandex.Music"
   ]
  },
  {
   "cell_type": "markdown",
   "metadata": {
    "id": "fhq_eyov_Zcs"
   },
   "source": [
    "# Contents <a id='back'></a>\n",
    "\n",
    "* [Introduction](#intro)\n",
    "* [Stage 1. Data overview](#data_review)\n",
    "    * [Conclusions](#data_review_conclusions)\n",
    "* [Stage 2. Data preprocessing](#data_preprocessing)\n",
    "    * [2.1 Header style](#header_style)\n",
    "    * [2.2 Missing values](#missing_values)\n",
    "    * [2.3 Duplicates](#duplicates)\n",
    "    * [2.4 Conclusions](#data_preprocessing_conclusions)\n",
    "* [Stage 3. Testing the hypotheses](#hypotheses)\n",
    "    * [3.1 Hypothesis 1: user activity in the two cities](#activity)\n",
    "    * [3.2 Hypothesis 2: music preferences on Monday and Friday](#week)\n",
    "    * [3.3 Hypothesis 3: genre preferences in Springfield and Shelbyville](#genre)\n",
    "* [Findings](#end)"
   ]
  },
  {
   "cell_type": "markdown",
   "metadata": {
    "id": "VUC88oWjTJw2"
   },
   "source": [
    "## Introduction <a id='intro'></a>\n",
    "Whenever we're doing research, we need to formulate hypotheses that we can then test. Sometimes we accept these hypotheses; other times, we reject them. To make the right decisions, a business must be able to understand whether or not it's making the right assumptions.\n",
    "\n",
    "In this project, you'll compare the music preferences of the cities of Springfield and Shelbyville. You'll study real Yandex.Music data to test the hypotheses below and compare user behavior for these two cities.\n",
    "\n",
    "### Goal: \n",
    "Test three hypotheses:\n",
    "1. User activity differs depending on the day of the week and from city to city. \n",
    "2. On Monday mornings, Springfield and Shelbyville residents listen to different genres. This is also true for Friday evenings. \n",
    "3. Springfield and Shelbyville listeners have different preferences. In Springfield, they prefer pop, while Shelbyville has more rap fans.\n",
    "\n",
    "### Stages \n",
    "Data on user behavior is stored in the file `/datasets/music_project_en.csv`. There is no information about the quality of the data, so you will need to explore it before testing the hypotheses. \n",
    "\n",
    "First, you'll evaluate the quality of the data and see whether its issues are significant. Then, during data preprocessing, you will try to account for the most critical problems.\n",
    " \n",
    "Your project will consist of three stages:\n",
    " 1. Data overview\n",
    " 2. Data preprocessing\n",
    " 3. Testing the hypotheses\n",
    " \n",
    "[Back to Contents](#back)"
   ]
  },
  {
   "cell_type": "markdown",
   "metadata": {
    "id": "Ml1hmfXC_Zcs"
   },
   "source": [
    "## Stage 1. Data overview <a id='data_review'></a>\n",
    "\n",
    "Open the data on Yandex.Music and explore it."
   ]
  },
  {
   "cell_type": "markdown",
   "metadata": {
    "id": "57eAOGIz_Zcs"
   },
   "source": [
    "You'll need `pandas`, so import it."
   ]
  },
  {
   "cell_type": "code",
   "execution_count": 1,
   "metadata": {
    "id": "AXN7PHPN_Zcs"
   },
   "outputs": [],
   "source": [
    "# importing pandas\n",
    "import pandas as pd"
   ]
  },
  {
   "cell_type": "markdown",
   "metadata": {
    "id": "SG23P8tt_Zcs"
   },
   "source": [
    "Read the file `music_project_en.csv` from the `/datasets/` folder and save it in the `df` variable:"
   ]
  },
  {
   "cell_type": "code",
   "execution_count": 2,
   "metadata": {
    "id": "fFVu7vqh_Zct"
   },
   "outputs": [
    {
     "data": {
      "text/html": [
       "<div>\n",
       "<style scoped>\n",
       "    .dataframe tbody tr th:only-of-type {\n",
       "        vertical-align: middle;\n",
       "    }\n",
       "\n",
       "    .dataframe tbody tr th {\n",
       "        vertical-align: top;\n",
       "    }\n",
       "\n",
       "    .dataframe thead th {\n",
       "        text-align: right;\n",
       "    }\n",
       "</style>\n",
       "<table border=\"1\" class=\"dataframe\">\n",
       "  <thead>\n",
       "    <tr style=\"text-align: right;\">\n",
       "      <th></th>\n",
       "      <th>userID</th>\n",
       "      <th>Track</th>\n",
       "      <th>artist</th>\n",
       "      <th>genre</th>\n",
       "      <th>City</th>\n",
       "      <th>time</th>\n",
       "      <th>Day</th>\n",
       "    </tr>\n",
       "  </thead>\n",
       "  <tbody>\n",
       "    <tr>\n",
       "      <th>count</th>\n",
       "      <td>65079</td>\n",
       "      <td>63736</td>\n",
       "      <td>57512</td>\n",
       "      <td>63881</td>\n",
       "      <td>65079</td>\n",
       "      <td>65079</td>\n",
       "      <td>65079</td>\n",
       "    </tr>\n",
       "    <tr>\n",
       "      <th>unique</th>\n",
       "      <td>41748</td>\n",
       "      <td>39666</td>\n",
       "      <td>37806</td>\n",
       "      <td>268</td>\n",
       "      <td>2</td>\n",
       "      <td>20392</td>\n",
       "      <td>3</td>\n",
       "    </tr>\n",
       "    <tr>\n",
       "      <th>top</th>\n",
       "      <td>A8AE9169</td>\n",
       "      <td>Brand</td>\n",
       "      <td>Kartvelli</td>\n",
       "      <td>pop</td>\n",
       "      <td>Springfield</td>\n",
       "      <td>08:14:07</td>\n",
       "      <td>Friday</td>\n",
       "    </tr>\n",
       "    <tr>\n",
       "      <th>freq</th>\n",
       "      <td>76</td>\n",
       "      <td>136</td>\n",
       "      <td>136</td>\n",
       "      <td>8850</td>\n",
       "      <td>45360</td>\n",
       "      <td>14</td>\n",
       "      <td>23149</td>\n",
       "    </tr>\n",
       "  </tbody>\n",
       "</table>\n",
       "</div>"
      ],
      "text/plain": [
       "          userID  Track     artist  genre       City        time     Day\n",
       "count      65079  63736      57512  63881        65079     65079   65079\n",
       "unique     41748  39666      37806    268            2     20392       3\n",
       "top     A8AE9169  Brand  Kartvelli    pop  Springfield  08:14:07  Friday\n",
       "freq          76    136        136   8850        45360        14   23149"
      ]
     },
     "execution_count": 2,
     "metadata": {},
     "output_type": "execute_result"
    }
   ],
   "source": [
    "# reading the file and storing it to df\n",
    "df = pd.read_csv('/datasets/music_project_en.csv')\n",
    " \n",
    "df.describe() "
   ]
  },
  {
   "cell_type": "markdown",
   "metadata": {
    "id": "rDoOMd3uTqnZ"
   },
   "source": [
    "Print the first 10 table rows:"
   ]
  },
  {
   "cell_type": "code",
   "execution_count": 3,
   "metadata": {
    "id": "oWTVX3gW_Zct"
   },
   "outputs": [
    {
     "name": "stdout",
     "output_type": "stream",
     "text": [
      "     userID                        Track            artist   genre  \\\n",
      "0  FFB692EC            Kamigata To Boots  The Mass Missile    rock   \n",
      "1  55204538  Delayed Because of Accident  Andreas Rönnberg    rock   \n",
      "2    20EC38            Funiculì funiculà       Mario Lanza     pop   \n",
      "3  A3DD03C9        Dragons in the Sunset        Fire + Ice    folk   \n",
      "4  E2DC1FAE                  Soul People        Space Echo   dance   \n",
      "5  842029A1                       Chains          Obladaet  rusrap   \n",
      "6  4CB90AA5                         True      Roman Messer   dance   \n",
      "7  F03E1C1F             Feeling This Way   Polina Griffith   dance   \n",
      "8  8FA1D3BE                     L’estate       Julia Dalia  ruspop   \n",
      "9  E772D5C0                    Pessimist               NaN   dance   \n",
      "\n",
      "        City        time        Day  \n",
      "0  Shelbyville  20:28:33  Wednesday  \n",
      "1  Springfield  14:07:09     Friday  \n",
      "2  Shelbyville  20:58:07  Wednesday  \n",
      "3  Shelbyville  08:37:09     Monday  \n",
      "4  Springfield  08:34:34     Monday  \n",
      "5  Shelbyville  13:09:41     Friday  \n",
      "6  Springfield  13:00:07  Wednesday  \n",
      "7  Springfield  20:47:49  Wednesday  \n",
      "8  Springfield  09:17:40     Friday  \n",
      "9  Shelbyville  21:20:49  Wednesday  \n"
     ]
    }
   ],
   "source": [
    "print(df.head(10)) # obtaining the first 10 rows from the df table"
   ]
  },
  {
   "cell_type": "markdown",
   "metadata": {
    "id": "EO73Kwic_Zct"
   },
   "source": [
    "Obtaining the general information about the table with one command:"
   ]
  },
  {
   "cell_type": "code",
   "execution_count": 4,
   "metadata": {
    "id": "DSf2kIb-_Zct"
   },
   "outputs": [
    {
     "name": "stdout",
     "output_type": "stream",
     "text": [
      "<class 'pandas.core.frame.DataFrame'>\n",
      "RangeIndex: 65079 entries, 0 to 65078\n",
      "Data columns (total 7 columns):\n",
      " #   Column    Non-Null Count  Dtype \n",
      "---  ------    --------------  ----- \n",
      " 0     userID  65079 non-null  object\n",
      " 1   Track     63736 non-null  object\n",
      " 2   artist    57512 non-null  object\n",
      " 3   genre     63881 non-null  object\n",
      " 4     City    65079 non-null  object\n",
      " 5   time      65079 non-null  object\n",
      " 6   Day       65079 non-null  object\n",
      "dtypes: object(7)\n",
      "memory usage: 3.5+ MB\n",
      "None\n"
     ]
    }
   ],
   "source": [
    "print(df.info()) # obtaining general information about the data in df"
   ]
  },
  {
   "cell_type": "markdown",
   "metadata": {
    "id": "TaQ2Iwbr_Zct"
   },
   "source": [
    "The table contains seven columns. They all store the same data type: `object`.\n",
    "\n",
    "According to the documentation:\n",
    "- `'userID'` — user identifier\n",
    "- `'Track'` — track title\n",
    "- `'artist'` — artist's name\n",
    "- `'genre'`\n",
    "- `'City'` — user's city\n",
    "- `'time'` — the exact time the track was played\n",
    "- `'Day'` — day of the week\n",
    "\n",
    "We can see three issues with style in the column names:\n",
    "1. Some names are uppercase, some are lowercase.\n",
    "2. There are spaces in some names.\n",
    "3. `use snake case to join words`.\n",
    "\n",
    "The number of column values is different. This means the data contains missing values.\n"
   ]
  },
  {
   "cell_type": "markdown",
   "metadata": {
    "id": "MCB6-dXG_Zct"
   },
   "source": [
    "### Conclusions <a id='data_review_conclusions'></a> \n",
    "\n",
    "Each row in the table stores data on a track that was played. Some columns describe the track itself: its title, artist and genre. The rest convey information about the user: the city they come from, the time they played the track. \n",
    "\n",
    "It's clear that the data is sufficient to test the hypotheses. However, there are missing values.\n",
    "\n",
    "To move forward, we need to preprocess the data."
   ]
  },
  {
   "cell_type": "markdown",
   "metadata": {
    "id": "3eL__vcwViOi"
   },
   "source": [
    "[Back to Contents](#back)"
   ]
  },
  {
   "cell_type": "markdown",
   "metadata": {
    "id": "SjYF6Ub9_Zct"
   },
   "source": [
    "## Stage 2. Data preprocessing <a id='data_preprocessing'></a>\n",
    "Correct the formatting in the column headers and deal with the missing values. Then, check whether there are duplicates in the data."
   ]
  },
  {
   "cell_type": "markdown",
   "metadata": {
    "id": "dIaKXr29_Zct"
   },
   "source": [
    "### Header style <a id='header_style'></a>\n",
    "Print the column header:"
   ]
  },
  {
   "cell_type": "code",
   "execution_count": 5,
   "metadata": {
    "id": "oKOTdF_Q_Zct"
   },
   "outputs": [
    {
     "name": "stdout",
     "output_type": "stream",
     "text": [
      "Index(['  userID', 'Track', 'artist', 'genre', '  City  ', 'time', 'Day'], dtype='object')\n"
     ]
    }
   ],
   "source": [
    "print(df.columns) # the list of column names in the df table"
   ]
  },
  {
   "cell_type": "markdown",
   "metadata": {
    "id": "zj5534cv_Zct"
   },
   "source": [
    "Change column names according to the rules of good style:\n",
    "* If the name has several words, use snake_case\n",
    "* All characters must be lowercase\n",
    "* Delete spaces"
   ]
  },
  {
   "cell_type": "code",
   "execution_count": 6,
   "metadata": {
    "id": "ISlFqs5y_Zct"
   },
   "outputs": [],
   "source": [
    "df = df.rename(\n",
    "    columns={\n",
    "        '  userID': 'user_id',\n",
    "        'Track': 'track',\n",
    "        '  City  ': 'city',\n",
    "        'Day': 'day'\n",
    "    }\n",
    ") # renaming columns"
   ]
  },
  {
   "cell_type": "markdown",
   "metadata": {
    "id": "1dqbh00J_Zct"
   },
   "source": [
    "Check the result. Print the names of the columns once more:"
   ]
  },
  {
   "cell_type": "code",
   "execution_count": 7,
   "metadata": {
    "id": "d4NOAmTW_Zct"
   },
   "outputs": [
    {
     "name": "stdout",
     "output_type": "stream",
     "text": [
      "Index(['user_id', 'track', 'artist', 'genre', 'city', 'time', 'day'], dtype='object')\n"
     ]
    }
   ],
   "source": [
    "print(df.columns) # checking result: the list of column names"
   ]
  },
  {
   "cell_type": "markdown",
   "metadata": {
    "id": "xYJk6ksJVpOl"
   },
   "source": [
    "[Back to Contents](#back)"
   ]
  },
  {
   "cell_type": "markdown",
   "metadata": {
    "id": "5ISfbcfY_Zct"
   },
   "source": [
    "### Missing values <a id='missing_values'></a>\n",
    "First, find the number of missing values in the table. To do so, use two `pandas` methods:"
   ]
  },
  {
   "cell_type": "code",
   "execution_count": 8,
   "metadata": {
    "id": "RskX29qr_Zct"
   },
   "outputs": [
    {
     "data": {
      "text/plain": [
       "user_id       0\n",
       "track      1343\n",
       "artist     7567\n",
       "genre      1198\n",
       "city          0\n",
       "time          0\n",
       "day           0\n",
       "dtype: int64"
      ]
     },
     "execution_count": 8,
     "metadata": {},
     "output_type": "execute_result"
    }
   ],
   "source": [
    "df.isna().sum() # calculating missing values"
   ]
  },
  {
   "cell_type": "markdown",
   "metadata": {
    "id": "qubhgnlO_Zct"
   },
   "source": [
    "Not all missing values affect the research. For instance, the missing values in `track` and `artist` are not critical. You can simply replace them with clear markers.\n",
    "\n",
    "But missing values in `'genre'` can affect the comparison of music preferences in Springfield and Shelbyville. In real life, it would be useful to learn the reasons why the data is missing and try to make up for them. But we do not have that opportunity in this project. So you will have to:\n",
    "* Fill in these missing values with markers\n",
    "* Evaluate how much the missing values may affect your computations"
   ]
  },
  {
   "cell_type": "markdown",
   "metadata": {
    "id": "fSv2laPA_Zct"
   },
   "source": [
    "Replace the missing values in `'track'`, `'artist'`, and `'genre'` with the string `'unknown'`. To do this, create the `columns_to_replace` list, loop over it with `for`, and replace the missing values in each of the columns:"
   ]
  },
  {
   "cell_type": "code",
   "execution_count": 9,
   "metadata": {
    "id": "KplB5qWs_Zct"
   },
   "outputs": [],
   "source": [
    "columns_to_replace = ['track','artist','genre']\n",
    "for row in columns_to_replace:\n",
    "    df[row] = df[row].fillna('unknown')\n",
    "    # looping over column names and replacing missing values with 'unknown'"
   ]
  },
  {
   "cell_type": "markdown",
   "metadata": {
    "id": "Ilsm-MZo_Zct"
   },
   "source": [
    "Make sure the table contains no more missing values. Count the missing values again."
   ]
  },
  {
   "cell_type": "code",
   "execution_count": 10,
   "metadata": {
    "id": "Tq4nYRX4_Zct"
   },
   "outputs": [
    {
     "data": {
      "text/plain": [
       "user_id    0\n",
       "track      0\n",
       "artist     0\n",
       "genre      0\n",
       "city       0\n",
       "time       0\n",
       "day        0\n",
       "dtype: int64"
      ]
     },
     "execution_count": 10,
     "metadata": {},
     "output_type": "execute_result"
    }
   ],
   "source": [
    "df.isna().sum() # counting missing values"
   ]
  },
  {
   "cell_type": "markdown",
   "metadata": {
    "id": "74ZIBmq9VrsK"
   },
   "source": [
    "[Back to Contents](#back)"
   ]
  },
  {
   "cell_type": "markdown",
   "metadata": {
    "id": "BWKRtBJ3_Zct"
   },
   "source": [
    "### Duplicates <a id='duplicates'></a>\n",
    "Find the number of obvious duplicates in the table using one command:"
   ]
  },
  {
   "cell_type": "code",
   "execution_count": 11,
   "metadata": {
    "id": "36eES_S0_Zct"
   },
   "outputs": [
    {
     "data": {
      "text/plain": [
       "3826"
      ]
     },
     "execution_count": 11,
     "metadata": {},
     "output_type": "execute_result"
    }
   ],
   "source": [
    "df.duplicated().sum() # counting clear duplicates"
   ]
  },
  {
   "cell_type": "markdown",
   "metadata": {
    "id": "Ot25h6XR_Zct"
   },
   "source": [
    "Call the `pandas` method for getting rid of obvious duplicates:"
   ]
  },
  {
   "cell_type": "code",
   "execution_count": 12,
   "metadata": {
    "id": "exFHq6tt_Zct"
   },
   "outputs": [],
   "source": [
    "df = df.drop_duplicates().reset_index()   # removing obvious duplicates"
   ]
  },
  {
   "cell_type": "markdown",
   "metadata": {
    "id": "Im2YwBEG_Zct"
   },
   "source": [
    "Count obvious duplicates once more to make sure you have removed all of them:"
   ]
  },
  {
   "cell_type": "code",
   "execution_count": 13,
   "metadata": {
    "id": "-8PuNWQ0_Zct"
   },
   "outputs": [
    {
     "data": {
      "text/plain": [
       "0"
      ]
     },
     "execution_count": 13,
     "metadata": {},
     "output_type": "execute_result"
    }
   ],
   "source": [
    "df.duplicated().sum() # checking for duplicates"
   ]
  },
  {
   "cell_type": "markdown",
   "metadata": {
    "id": "QlFBsxAr_Zct"
   },
   "source": [
    "Now get rid of implicit duplicates in the `genre` column. For example, the name of a genre can be written in different ways. Such errors will also affect the result."
   ]
  },
  {
   "cell_type": "markdown",
   "metadata": {
    "id": "eSjWwsOh_Zct"
   },
   "source": [
    "Print a list of unique genre names, sorted in alphabetical order. To do so:\n",
    "* Retrieve the intended DataFrame column \n",
    "* Apply a sorting method to it\n",
    "* For the sorted column, call the method that will return all unique column values"
   ]
  },
  {
   "cell_type": "code",
   "execution_count": 14,
   "metadata": {
    "id": "JIUcqzZN_Zct"
   },
   "outputs": [
    {
     "data": {
      "text/plain": [
       "array(['acid', 'acoustic', 'action', 'adult', 'africa', 'afrikaans',\n",
       "       'alternative', 'ambient', 'americana', 'animated', 'anime',\n",
       "       'arabesk', 'arabic', 'arena', 'argentinetango', 'art', 'audiobook',\n",
       "       'avantgarde', 'axé', 'baile', 'balkan', 'beats', 'bigroom',\n",
       "       'black', 'bluegrass', 'blues', 'bollywood', 'bossa', 'brazilian',\n",
       "       'breakbeat', 'breaks', 'broadway', 'cantautori', 'cantopop',\n",
       "       'canzone', 'caribbean', 'caucasian', 'celtic', 'chamber',\n",
       "       'children', 'chill', 'chinese', 'choral', 'christian', 'christmas',\n",
       "       'classical', 'classicmetal', 'club', 'colombian', 'comedy',\n",
       "       'conjazz', 'contemporary', 'country', 'cuban', 'dance',\n",
       "       'dancehall', 'dancepop', 'dark', 'death', 'deep', 'deutschrock',\n",
       "       'deutschspr', 'dirty', 'disco', 'dnb', 'documentary', 'downbeat',\n",
       "       'downtempo', 'drum', 'dub', 'dubstep', 'eastern', 'easy',\n",
       "       'electronic', 'electropop', 'emo', 'entehno', 'epicmetal',\n",
       "       'estrada', 'ethnic', 'eurofolk', 'european', 'experimental',\n",
       "       'extrememetal', 'fado', 'film', 'fitness', 'flamenco', 'folk',\n",
       "       'folklore', 'folkmetal', 'folkrock', 'folktronica', 'forró',\n",
       "       'frankreich', 'französisch', 'french', 'funk', 'future', 'gangsta',\n",
       "       'garage', 'german', 'ghazal', 'gitarre', 'glitch', 'gospel',\n",
       "       'gothic', 'grime', 'grunge', 'gypsy', 'handsup', \"hard'n'heavy\",\n",
       "       'hardcore', 'hardstyle', 'hardtechno', 'hip', 'hip-hop', 'hiphop',\n",
       "       'historisch', 'holiday', 'hop', 'horror', 'house', 'idm',\n",
       "       'independent', 'indian', 'indie', 'indipop', 'industrial',\n",
       "       'inspirational', 'instrumental', 'international', 'irish', 'jam',\n",
       "       'japanese', 'jazz', 'jewish', 'jpop', 'jungle', 'k-pop',\n",
       "       'karadeniz', 'karaoke', 'kayokyoku', 'korean', 'laiko', 'latin',\n",
       "       'latino', 'leftfield', 'local', 'lounge', 'loungeelectronic',\n",
       "       'lovers', 'malaysian', 'mandopop', 'marschmusik', 'meditative',\n",
       "       'mediterranean', 'melodic', 'metal', 'metalcore', 'mexican',\n",
       "       'middle', 'minimal', 'miscellaneous', 'modern', 'mood', 'mpb',\n",
       "       'muslim', 'native', 'neoklassik', 'neue', 'new', 'newage',\n",
       "       'newwave', 'nu', 'nujazz', 'numetal', 'oceania', 'old', 'opera',\n",
       "       'orchestral', 'other', 'piano', 'pop', 'popelectronic',\n",
       "       'popeurodance', 'post', 'posthardcore', 'postrock', 'power',\n",
       "       'progmetal', 'progressive', 'psychedelic', 'punjabi', 'punk',\n",
       "       'quebecois', 'ragga', 'ram', 'rancheras', 'rap', 'rave', 'reggae',\n",
       "       'reggaeton', 'regional', 'relax', 'religious', 'retro', 'rhythm',\n",
       "       'rnb', 'rnr', 'rock', 'rockabilly', 'romance', 'roots', 'ruspop',\n",
       "       'rusrap', 'rusrock', 'salsa', 'samba', 'schlager', 'self',\n",
       "       'sertanejo', 'shoegazing', 'showtunes', 'singer', 'ska', 'slow',\n",
       "       'smooth', 'soul', 'soulful', 'sound', 'soundtrack', 'southern',\n",
       "       'specialty', 'speech', 'spiritual', 'sport', 'stonerrock', 'surf',\n",
       "       'swing', 'synthpop', 'sängerportrait', 'tango', 'tanzorchester',\n",
       "       'taraftar', 'tech', 'techno', 'thrash', 'top', 'traditional',\n",
       "       'tradjazz', 'trance', 'tribal', 'trip', 'triphop', 'tropical',\n",
       "       'türk', 'türkçe', 'unknown', 'urban', 'uzbek', 'variété', 'vi',\n",
       "       'videogame', 'vocal', 'western', 'world', 'worldbeat', 'ïîï'],\n",
       "      dtype=object)"
      ]
     },
     "execution_count": 14,
     "metadata": {},
     "output_type": "execute_result"
    }
   ],
   "source": [
    "\n",
    "\n",
    "\n",
    "df['genre'].sort_values().unique() # viewing unique genre names"
   ]
  },
  {
   "cell_type": "markdown",
   "metadata": {
    "id": "qej-Qmuo_Zct"
   },
   "source": [
    "Look through the list to find implicit duplicates of the genre `hiphop`. These could be names written incorrectly or alternative names of the same genre.\n",
    "\n",
    "You will see the following implicit duplicates:\n",
    "* `hip`\n",
    "* `hop`\n",
    "* `hip-hop`\n",
    "\n",
    "To get rid of them, declare the function `replace_wrong_genres()` with two parameters: \n",
    "* `wrong_genres=` — the list of duplicates\n",
    "* `correct_genre=` — the string with the correct value\n",
    "\n",
    "The function should correct the names in the `'genre'` column from the `df` table, i.e. replace each value from the `wrong_genres` list with the value in `correct_genre`."
   ]
  },
  {
   "cell_type": "code",
   "execution_count": 15,
   "metadata": {
    "id": "ErNDkmns_Zct"
   },
   "outputs": [],
   "source": [
    "def replace_wrong_genres(wrong_genres, correct_genre): \n",
    "    for wrong_genre in wrong_genres: \n",
    "        df['genre'] = df['genre'].replace(wrong_genre, correct_genre) \n",
    "\n",
    "duplicates = ['hip', 'hop', 'hip-hop'] \n",
    "genre = 'hiphop' \n",
    " # function for replacing implicit duplicates"
   ]
  },
  {
   "cell_type": "markdown",
   "metadata": {
    "id": "aDoBJxbA_Zct"
   },
   "source": [
    "Call `replace_wrong_genres()` and pass it arguments so that it clears implicit duplcates (`hip`, `hop`, and `hip-hop`) and replaces them with `hiphop`:"
   ]
  },
  {
   "cell_type": "code",
   "execution_count": 16,
   "metadata": {
    "id": "YN5i2hpmSo09"
   },
   "outputs": [],
   "source": [
    "replace_wrong_genres(duplicates, genre) \n",
    "# removing implicit duplicates"
   ]
  },
  {
   "cell_type": "markdown",
   "metadata": {
    "id": "zQKF16_RG15m"
   },
   "source": [
    "Make sure the duplicate names were removed. Print the list of unique values from the `'genre'` column:"
   ]
  },
  {
   "cell_type": "code",
   "execution_count": 17,
   "metadata": {
    "id": "wvixALnFG15m"
   },
   "outputs": [
    {
     "data": {
      "text/plain": [
       "array(['acid', 'acoustic', 'action', 'adult', 'africa', 'afrikaans',\n",
       "       'alternative', 'ambient', 'americana', 'animated', 'anime',\n",
       "       'arabesk', 'arabic', 'arena', 'argentinetango', 'art', 'audiobook',\n",
       "       'avantgarde', 'axé', 'baile', 'balkan', 'beats', 'bigroom',\n",
       "       'black', 'bluegrass', 'blues', 'bollywood', 'bossa', 'brazilian',\n",
       "       'breakbeat', 'breaks', 'broadway', 'cantautori', 'cantopop',\n",
       "       'canzone', 'caribbean', 'caucasian', 'celtic', 'chamber',\n",
       "       'children', 'chill', 'chinese', 'choral', 'christian', 'christmas',\n",
       "       'classical', 'classicmetal', 'club', 'colombian', 'comedy',\n",
       "       'conjazz', 'contemporary', 'country', 'cuban', 'dance',\n",
       "       'dancehall', 'dancepop', 'dark', 'death', 'deep', 'deutschrock',\n",
       "       'deutschspr', 'dirty', 'disco', 'dnb', 'documentary', 'downbeat',\n",
       "       'downtempo', 'drum', 'dub', 'dubstep', 'eastern', 'easy',\n",
       "       'electronic', 'electropop', 'emo', 'entehno', 'epicmetal',\n",
       "       'estrada', 'ethnic', 'eurofolk', 'european', 'experimental',\n",
       "       'extrememetal', 'fado', 'film', 'fitness', 'flamenco', 'folk',\n",
       "       'folklore', 'folkmetal', 'folkrock', 'folktronica', 'forró',\n",
       "       'frankreich', 'französisch', 'french', 'funk', 'future', 'gangsta',\n",
       "       'garage', 'german', 'ghazal', 'gitarre', 'glitch', 'gospel',\n",
       "       'gothic', 'grime', 'grunge', 'gypsy', 'handsup', \"hard'n'heavy\",\n",
       "       'hardcore', 'hardstyle', 'hardtechno', 'hiphop', 'historisch',\n",
       "       'holiday', 'horror', 'house', 'idm', 'independent', 'indian',\n",
       "       'indie', 'indipop', 'industrial', 'inspirational', 'instrumental',\n",
       "       'international', 'irish', 'jam', 'japanese', 'jazz', 'jewish',\n",
       "       'jpop', 'jungle', 'k-pop', 'karadeniz', 'karaoke', 'kayokyoku',\n",
       "       'korean', 'laiko', 'latin', 'latino', 'leftfield', 'local',\n",
       "       'lounge', 'loungeelectronic', 'lovers', 'malaysian', 'mandopop',\n",
       "       'marschmusik', 'meditative', 'mediterranean', 'melodic', 'metal',\n",
       "       'metalcore', 'mexican', 'middle', 'minimal', 'miscellaneous',\n",
       "       'modern', 'mood', 'mpb', 'muslim', 'native', 'neoklassik', 'neue',\n",
       "       'new', 'newage', 'newwave', 'nu', 'nujazz', 'numetal', 'oceania',\n",
       "       'old', 'opera', 'orchestral', 'other', 'piano', 'pop',\n",
       "       'popelectronic', 'popeurodance', 'post', 'posthardcore',\n",
       "       'postrock', 'power', 'progmetal', 'progressive', 'psychedelic',\n",
       "       'punjabi', 'punk', 'quebecois', 'ragga', 'ram', 'rancheras', 'rap',\n",
       "       'rave', 'reggae', 'reggaeton', 'regional', 'relax', 'religious',\n",
       "       'retro', 'rhythm', 'rnb', 'rnr', 'rock', 'rockabilly', 'romance',\n",
       "       'roots', 'ruspop', 'rusrap', 'rusrock', 'salsa', 'samba',\n",
       "       'schlager', 'self', 'sertanejo', 'shoegazing', 'showtunes',\n",
       "       'singer', 'ska', 'slow', 'smooth', 'soul', 'soulful', 'sound',\n",
       "       'soundtrack', 'southern', 'specialty', 'speech', 'spiritual',\n",
       "       'sport', 'stonerrock', 'surf', 'swing', 'synthpop',\n",
       "       'sängerportrait', 'tango', 'tanzorchester', 'taraftar', 'tech',\n",
       "       'techno', 'thrash', 'top', 'traditional', 'tradjazz', 'trance',\n",
       "       'tribal', 'trip', 'triphop', 'tropical', 'türk', 'türkçe',\n",
       "       'unknown', 'urban', 'uzbek', 'variété', 'vi', 'videogame', 'vocal',\n",
       "       'western', 'world', 'worldbeat', 'ïîï'], dtype=object)"
      ]
     },
     "execution_count": 17,
     "metadata": {},
     "output_type": "execute_result"
    }
   ],
   "source": [
    "df['genre'].sort_values().unique()# checking for implicit duplicates"
   ]
  },
  {
   "cell_type": "markdown",
   "metadata": {
    "id": "ALgNbvF3VtPA"
   },
   "source": [
    "[Back to Contents](#back)"
   ]
  },
  {
   "cell_type": "markdown",
   "metadata": {
    "id": "jz6a9-7HQUDd"
   },
   "source": [
    "### Conclusions <a id='data_preprocessing_conclusions'></a>\n",
    "We detected three issues with the data:\n",
    "\n",
    "- Incorrect header styles\n",
    "- Missing values\n",
    "- Obvious and implicit duplicates\n",
    "\n",
    "The headers have been cleaned up to make processing the table simpler.\n",
    "\n",
    "All missing values have been replaced with `'unknown'`. But we still have to see whether the missing values in `'genre'` will affect our calculations.\n",
    "\n",
    "The absence of duplicates will make the results more precise and easier to understand.\n",
    "\n",
    "Now we can move on to testing hypotheses. "
   ]
  },
  {
   "cell_type": "markdown",
   "metadata": {
    "id": "eK1es74rVujj"
   },
   "source": [
    "[Back to Contents](#back)"
   ]
  },
  {
   "cell_type": "markdown",
   "metadata": {
    "id": "WttZHXH0SqKk"
   },
   "source": [
    "## Stage 3. Testing hypotheses <a id='hypotheses'></a>"
   ]
  },
  {
   "cell_type": "markdown",
   "metadata": {
    "id": "Im936VVi_Zcu"
   },
   "source": [
    "### Hypothesis 1: comparing user behavior in two cities <a id='activity'></a>"
   ]
  },
  {
   "cell_type": "markdown",
   "metadata": {
    "id": "nwt_MuaL_Zcu"
   },
   "source": [
    "According to the first hypothesis, users from Springfield and Shelbyville listen to music differently. Test this using the data on three days of the week: Monday, Wednesday, and Friday.\n",
    "\n",
    "* Divide the users into groups by city.\n",
    "* Compare how many tracks each group played on Monday, Wednesday, and Friday.\n"
   ]
  },
  {
   "cell_type": "markdown",
   "metadata": {
    "id": "8Dw_YMmT_Zcu"
   },
   "source": [
    "For the sake of practice, perform each computation separately. \n",
    "\n",
    "Evaluate user activity in each city. Group the data by city and find the number of songs played in each group.\n",
    "\n"
   ]
  },
  {
   "cell_type": "code",
   "execution_count": 18,
   "metadata": {
    "id": "0_Qs96oh_Zcu"
   },
   "outputs": [
    {
     "name": "stdout",
     "output_type": "stream",
     "text": [
      "city\n",
      "Shelbyville    18512\n",
      "Springfield    42741\n",
      "Name: track, dtype: int64\n"
     ]
    }
   ],
   "source": [
    "song_number = df.groupby('city')['track'].count()\n",
    "print(song_number)# Counting up the tracks played in each city"
   ]
  },
  {
   "cell_type": "markdown",
   "metadata": {
    "id": "dzli3w8o_Zcu"
   },
   "source": [
    "Springfield has more tracks played than Shelbyville. But that does not imply that citizens of Springfield listen to music more often. This city is simply bigger, and there are more users.\n",
    "\n",
    "Now group the data by day of the week and find the number of tracks played on Monday, Wednesday, and Friday.\n"
   ]
  },
  {
   "cell_type": "code",
   "execution_count": 19,
   "metadata": {
    "id": "uZMKjiJz_Zcu"
   },
   "outputs": [
    {
     "name": "stdout",
     "output_type": "stream",
     "text": [
      "day\n",
      "Friday       21840\n",
      "Monday       21354\n",
      "Wednesday    18059\n",
      "Name: track, dtype: int64\n"
     ]
    }
   ],
   "source": [
    "song_number = df.groupby('day')['track'].count()\n",
    "print(song_number)# Calculating tracks played on each of the three days"
   ]
  },
  {
   "cell_type": "markdown",
   "metadata": {
    "id": "cC2tNrlL_Zcu"
   },
   "source": [
    "Wednesday is the quietest day overall. But if we consider the two cities separately, we might come to a different conclusion."
   ]
  },
  {
   "cell_type": "markdown",
   "metadata": {
    "id": "POzs8bGa_Zcu"
   },
   "source": [
    "You have seen how grouping by city or day works. Now write a function that will group by both.\n",
    "\n",
    "Create the `number_tracks()` function to calculate the number of songs played for a given day and city. It will require two parameters:\n",
    "* day of the week\n",
    "* name of the city\n",
    "\n",
    "In the function, use a variable to store the rows from the original table, where:\n",
    "  * `'day'` column value is equal to the `day` parameter\n",
    "  * `'city'` column value is equal to the `city` parameter\n",
    "\n",
    "Apply consecutive filtering with logical indexing.\n",
    "\n",
    "Then calculate the `'user_id'` column values in the resulting table. Store the result to a new variable. Return this variable from the function."
   ]
  },
  {
   "cell_type": "code",
   "execution_count": 20,
   "metadata": {
    "id": "Nz3GdQB1_Zcu"
   },
   "outputs": [],
   "source": [
    "# <creating the function number_tracks()>\n",
    "# We'll declare a function with two parameters: day=, city=.\n",
    "# Let the track_list variable store the df rows where\n",
    "# the value in the 'day' column is equal to the day= parameter and, at the same time, \n",
    "# the value in the 'city' column is equal to the city= parameter (apply consecutive filtering \n",
    "# with logical indexing).\n",
    "# Let the track_list_count variable store the number of 'user_id' column values in track_list\n",
    "# (found with the count() method).\n",
    "# Let the function return a number: the value of track_list_count.\n",
    "def number_tracks(day, city):\n",
    "    track_list = df[df['day'] == day]\n",
    "    track_list = track_list[track_list['city'] == city]\n",
    "    track_list_count = track_list.count()['user_id']\n",
    "    return track_list_count\n",
    "    \n",
    "# The function counts tracked played for a certain city and day.\n",
    "# It first retrieves the rows with the intended day from the table,\n",
    "# then filters out the rows with the intended city from the result,\n",
    "# then finds the number of 'user_id' values in the filtered table,\n",
    "# then returns that number.\n",
    "# To see what it returns, wrap the function call in print()."
   ]
  },
  {
   "cell_type": "markdown",
   "metadata": {
    "id": "ytf7xFrFJQ2r"
   },
   "source": [
    "Call `number_tracks()` six times, changing the parameter values, so that you retrieve the data on both cities for each of the three days."
   ]
  },
  {
   "cell_type": "code",
   "execution_count": 21,
   "metadata": {
    "id": "rJcRATNQ_Zcu"
   },
   "outputs": [
    {
     "name": "stdout",
     "output_type": "stream",
     "text": [
      "15740\n"
     ]
    }
   ],
   "source": [
    "print(number_tracks('Monday', 'Springfield')) # the number of songs played in Springfield on Monday"
   ]
  },
  {
   "cell_type": "code",
   "execution_count": 22,
   "metadata": {
    "id": "hq_ncZ5T_Zcu"
   },
   "outputs": [
    {
     "name": "stdout",
     "output_type": "stream",
     "text": [
      "5614\n"
     ]
    }
   ],
   "source": [
    "print(number_tracks('Monday', 'Shelbyville'))# the number of songs played in Shelbyville on Monday"
   ]
  },
  {
   "cell_type": "code",
   "execution_count": 23,
   "metadata": {
    "id": "_NTy2VPU_Zcu"
   },
   "outputs": [
    {
     "name": "stdout",
     "output_type": "stream",
     "text": [
      "11056\n"
     ]
    }
   ],
   "source": [
    "print(number_tracks('Wednesday', 'Springfield'))# the number of songs played in Springfield on Wednesday"
   ]
  },
  {
   "cell_type": "code",
   "execution_count": 24,
   "metadata": {
    "id": "j2y3TAwo_Zcu"
   },
   "outputs": [
    {
     "name": "stdout",
     "output_type": "stream",
     "text": [
      "7003\n"
     ]
    }
   ],
   "source": [
    "print(number_tracks('Wednesday', 'Shelbyville'))# the number of songs played in Shelbyville on Wednesday"
   ]
  },
  {
   "cell_type": "code",
   "execution_count": 25,
   "metadata": {
    "id": "vYDw5u_K_Zcu"
   },
   "outputs": [
    {
     "name": "stdout",
     "output_type": "stream",
     "text": [
      "15945\n"
     ]
    }
   ],
   "source": [
    "print(number_tracks('Friday', 'Springfield'))# the number of songs played in Springfield on Friday"
   ]
  },
  {
   "cell_type": "code",
   "execution_count": 26,
   "metadata": {
    "id": "8_yzFtW3_Zcu"
   },
   "outputs": [
    {
     "name": "stdout",
     "output_type": "stream",
     "text": [
      "5895\n"
     ]
    }
   ],
   "source": [
    "print(number_tracks('Friday', 'Shelbyville'))# the number of songs played in Shelbyville on Friday"
   ]
  },
  {
   "cell_type": "markdown",
   "metadata": {
    "id": "7QXffbO-_Zcu"
   },
   "source": [
    "Use `pd.DataFrame` to create a table, where\n",
    "* Column names are: `['city', 'monday', 'wednesday', 'friday']`\n",
    "* The data is the results you got from `number_tracks()`"
   ]
  },
  {
   "cell_type": "code",
   "execution_count": 27,
   "metadata": {
    "id": "APAcLpOr_Zcu"
   },
   "outputs": [
    {
     "data": {
      "text/html": [
       "<div>\n",
       "<style scoped>\n",
       "    .dataframe tbody tr th:only-of-type {\n",
       "        vertical-align: middle;\n",
       "    }\n",
       "\n",
       "    .dataframe tbody tr th {\n",
       "        vertical-align: top;\n",
       "    }\n",
       "\n",
       "    .dataframe thead th {\n",
       "        text-align: right;\n",
       "    }\n",
       "</style>\n",
       "<table border=\"1\" class=\"dataframe\">\n",
       "  <thead>\n",
       "    <tr style=\"text-align: right;\">\n",
       "      <th></th>\n",
       "      <th>city</th>\n",
       "      <th>monday</th>\n",
       "      <th>wednesday</th>\n",
       "      <th>friday</th>\n",
       "    </tr>\n",
       "  </thead>\n",
       "  <tbody>\n",
       "    <tr>\n",
       "      <th>0</th>\n",
       "      <td>Springfield</td>\n",
       "      <td>15740</td>\n",
       "      <td>11056</td>\n",
       "      <td>15945</td>\n",
       "    </tr>\n",
       "    <tr>\n",
       "      <th>1</th>\n",
       "      <td>Shelbyville</td>\n",
       "      <td>5614</td>\n",
       "      <td>7003</td>\n",
       "      <td>5895</td>\n",
       "    </tr>\n",
       "  </tbody>\n",
       "</table>\n",
       "</div>"
      ],
      "text/plain": [
       "          city monday wednesday friday\n",
       "0  Springfield  15740     11056  15945\n",
       "1  Shelbyville   5614      7003   5895"
      ]
     },
     "execution_count": 27,
     "metadata": {},
     "output_type": "execute_result"
    }
   ],
   "source": [
    "data_res = [['Springfield', '15740', '11056', '15945'], ['Shelbyville', '5614', '7003', '5895']]\n",
    "pd.DataFrame(data=data_res,columns=['city', 'monday', 'wednesday', 'friday'])# table with results"
   ]
  },
  {
   "cell_type": "markdown",
   "metadata": {
    "id": "-EgPIHYu_Zcu"
   },
   "source": [
    "**Conclusions**\n",
    "\n",
    "The data reveals differences in user behavior:\n",
    "\n",
    "- In Springfield, the number of songs played peaks on Mondays and Fridays, while on Wednesday there is a decrease in activity.\n",
    "- In Shelbyville, on the contrary, users listen to music more on Wednesday. User activity on Monday and Friday is smaller.\n",
    "\n",
    "So the first hypothesis seems to be correct."
   ]
  },
  {
   "cell_type": "markdown",
   "metadata": {
    "id": "p7nFQajCVw5B"
   },
   "source": [
    "[Back to Contents](#back)"
   ]
  },
  {
   "cell_type": "markdown",
   "metadata": {
    "id": "atZAxtq4_Zcu"
   },
   "source": [
    "### Hypothesis 2: music at the beginning and end of the week <a id='week'></a>"
   ]
  },
  {
   "cell_type": "markdown",
   "metadata": {
    "id": "eXrQqXFH_Zcu"
   },
   "source": [
    "According to the second hypothesis, on Monday morning and Friday night, citizens of Springfield listen to genres that differ from ones users from Shelbyville enjoy."
   ]
  },
  {
   "cell_type": "markdown",
   "metadata": {
    "id": "S8UcW6Hw_Zcu"
   },
   "source": [
    "Get tables (make sure that the name of your combined table matches the DataFrame given in the two code blocks below):\n",
    "* For Springfield — `spr_general`\n",
    "* For Shelbyville — `shel_general`"
   ]
  },
  {
   "cell_type": "code",
   "execution_count": 28,
   "metadata": {
    "id": "qeaFfM_P_Zcu",
    "pycharm": {
     "is_executing": true
    }
   },
   "outputs": [
    {
     "name": "stdout",
     "output_type": "stream",
     "text": [
      "   index   user_id                        track            artist   genre  \\\n",
      "1      1  55204538  Delayed Because of Accident  Andreas Rönnberg    rock   \n",
      "4      4  E2DC1FAE                  Soul People        Space Echo   dance   \n",
      "6      6  4CB90AA5                         True      Roman Messer   dance   \n",
      "7      7  F03E1C1F             Feeling This Way   Polina Griffith   dance   \n",
      "8      8  8FA1D3BE                     L’estate       Julia Dalia  ruspop   \n",
      "\n",
      "          city      time        day  \n",
      "1  Springfield  14:07:09     Friday  \n",
      "4  Springfield  08:34:34     Monday  \n",
      "6  Springfield  13:00:07  Wednesday  \n",
      "7  Springfield  20:47:49  Wednesday  \n",
      "8  Springfield  09:17:40     Friday  \n"
     ]
    }
   ],
   "source": [
    "# create the spr_general table from the df rows, \n",
    "# where the value in the 'city' column is 'Springfield'\n",
    "spr_general = df[df['city'] == 'Springfield'] \n",
    "print(spr_general.head())\n"
   ]
  },
  {
   "cell_type": "code",
   "execution_count": 29,
   "metadata": {
    "id": "ORaVRKto_Zcu"
   },
   "outputs": [],
   "source": [
    "# create the shel_general from the df rows,\n",
    "# where the value in the 'city' column is 'Shelbyville'\n",
    "shel_general = df[df['city'] == 'Shelbyville']"
   ]
  },
  {
   "cell_type": "markdown",
   "metadata": {
    "id": "MEJV-CX2_Zcu"
   },
   "source": [
    "Write the `genre_weekday()` function with four parameters:\n",
    "* A table for data (`df`)\n",
    "* The day of the week (`day`)\n",
    "* The first timestamp, in 'hh:mm' format (`time1`)\n",
    "* The last timestamp, in 'hh:mm' format (`time2`)\n",
    "\n",
    "The function should return info on the 15 most popular genres on a given day within the period between the two timestamps."
   ]
  },
  {
   "cell_type": "code",
   "execution_count": 30,
   "metadata": {
    "id": "laJT9BYl_Zcu"
   },
   "outputs": [],
   "source": [
    "# 1) Let the genre_df variable store the rows that meet several conditions:\n",
    "#    - the value in the 'day' column is equal to the value of the day= argument\n",
    "#    - the value in the 'time' column is greater than the value of the time1= argument\n",
    "#    - the value in the 'time' column is smaller than the value of the time2= argument\n",
    "#    Use consecutive filtering with logical indexing.\n",
    "\n",
    "# 2) Group genre_df by the 'genre' column, take one of its columns, \n",
    "#    and use the count() method to find the number of entries for each of \n",
    "#    the represented genres; store the resulting Series to the\n",
    "#    genre_df_count variable\n",
    "\n",
    "# 3) Sort genre_df_count in descending order of frequency and store the result\n",
    "#    to the genre_df_sorted variable\n",
    "\n",
    "# 4) Return a Series object with the first 15 genre_df_sorted value - the 15 most\n",
    "#    popular genres (on a given day, within a certain timeframe)\n",
    "\n",
    "# Write your function here\n",
    "def genre_weekday(df, day, time1, time2):\n",
    "    # consecutive filtering\n",
    "    # Create the variable genre_df which will store only those df rows where the day is equal to day=\n",
    "    genre_df = df[df['day'] == day]  # write your code here\n",
    "\n",
    "    # filter again so that genre_df will store only those rows where the time is smaller than time2=\n",
    "    genre_df = genre_df[genre_df['time'] > time1] # write your code here\n",
    "\n",
    "    # filter once more so that genre_df will store only rows where the time is greater than time1=\n",
    "    genre_df = genre_df[genre_df['time'] < time2]# write your code here\n",
    "\n",
    "    # group the filtered DataFrame by the column with the names of genres, take the genre column, and find the number of rows for each genre with the count() method\n",
    "    genre_df_count = genre_df.groupby('genre')['track'].count() # write your code here\n",
    "\n",
    "    # sort the result in descending order (so that the most popular genres come first in the Series object)\n",
    "    genre_df_sorted = genre_df_count.sort_values(ascending=False) # write your code here\n",
    "\n",
    "    # we will return the Series object storing the 15 most popular genres on a given day in a given timeframe\n",
    "    return genre_df_sorted[:15]"
   ]
  },
  {
   "cell_type": "markdown",
   "metadata": {
    "id": "la2s2_PF_Zcu"
   },
   "source": [
    "Compare the results of the `genre_weekday()` function for Springfield and Shelbyville on Monday morning (from 7AM to 11AM) and on Friday evening (from 17:00 to 23:00):"
   ]
  },
  {
   "cell_type": "code",
   "execution_count": 31,
   "metadata": {
    "id": "yz7itPUQ_Zcu"
   },
   "outputs": [
    {
     "name": "stdout",
     "output_type": "stream",
     "text": [
      "genre\n",
      "pop            577\n",
      "dance          392\n",
      "rock           359\n",
      "electronic     355\n",
      "hiphop         200\n",
      "ruspop         138\n",
      "unknown        135\n",
      "rusrap         130\n",
      "world          122\n",
      "classical      120\n",
      "alternative    112\n",
      "metal           90\n",
      "jazz            77\n",
      "soundtrack      68\n",
      "folk            68\n",
      "Name: track, dtype: int64\n"
     ]
    }
   ],
   "source": [
    "print(genre_weekday(spr_general, 'Monday', '08:34:34', '12:00:00'))# calling the function for Monday morning in Springfield (use spr_general instead of the df table)\n"
   ]
  },
  {
   "cell_type": "code",
   "execution_count": 32,
   "metadata": {
    "id": "kwUcHPdy_Zcu"
   },
   "outputs": [
    {
     "name": "stdout",
     "output_type": "stream",
     "text": [
      "genre\n",
      "pop            168\n",
      "dance          146\n",
      "rock           120\n",
      "electronic     106\n",
      "hiphop          61\n",
      "ruspop          48\n",
      "alternative     44\n",
      "rusrap          38\n",
      "jazz            34\n",
      "classical       32\n",
      "world           27\n",
      "soundtrack      24\n",
      "folk            22\n",
      "rap             21\n",
      "metal           19\n",
      "Name: track, dtype: int64\n"
     ]
    }
   ],
   "source": [
    "print(genre_weekday(shel_general, 'Monday', '08:34:34', '12:00:00'))# calling the function for Monday morning in Shelbyville (use shel_general instead of the df table)\n"
   ]
  },
  {
   "cell_type": "code",
   "execution_count": 33,
   "metadata": {
    "id": "EzXVRE1o_Zcu"
   },
   "outputs": [
    {
     "name": "stdout",
     "output_type": "stream",
     "text": [
      "genre\n",
      "pop            713\n",
      "rock           517\n",
      "dance          495\n",
      "electronic     482\n",
      "hiphop         273\n",
      "world          208\n",
      "ruspop         170\n",
      "classical      163\n",
      "alternative    163\n",
      "rusrap         142\n",
      "jazz           111\n",
      "unknown        110\n",
      "soundtrack     105\n",
      "rnb             90\n",
      "metal           88\n",
      "Name: track, dtype: int64\n"
     ]
    }
   ],
   "source": [
    "print(genre_weekday(spr_general, 'Friday', '17:34:23', '24:00:00'))# calling the function for Friday evening in Springfield\n"
   ]
  },
  {
   "cell_type": "code",
   "execution_count": 34,
   "metadata": {
    "id": "JZaEKu5v_Zcu"
   },
   "outputs": [
    {
     "name": "stdout",
     "output_type": "stream",
     "text": [
      "genre\n",
      "pop            168\n",
      "dance          146\n",
      "rock           120\n",
      "electronic     106\n",
      "hiphop          61\n",
      "ruspop          48\n",
      "alternative     44\n",
      "rusrap          38\n",
      "jazz            34\n",
      "classical       32\n",
      "world           27\n",
      "soundtrack      24\n",
      "folk            22\n",
      "rap             21\n",
      "metal           19\n",
      "Name: track, dtype: int64\n"
     ]
    }
   ],
   "source": [
    "print(genre_weekday(shel_general, 'Monday', '08:34:34', '12:00:00'))# calling the function for Friday evening in Shelbyville\n"
   ]
  },
  {
   "cell_type": "markdown",
   "metadata": {
    "id": "wrCe4MNX_Zcu"
   },
   "source": [
    "**Conclusion**\n",
    "\n",
    "Having compared the top 15 genres on Monday morning, we can draw the following conclusions:\n",
    "\n",
    "1. Users from Springfield and Shelbyville listen to similar music. The top five genres are the same, only rock and electronic have switched places.\n",
    "\n",
    "2. In Springfield, the number of missing values turned out to be so big that the value `'unknown'` came in 10th. This means that missing values make up a considerable portion of the data, which may be a basis for questioning the reliability of our conclusions.\n",
    "\n",
    "For Friday evening, the situation is similar. Individual genres vary somewhat, but on the whole, the top 15 is similar for the two cities.\n",
    "\n",
    "Thus, the second hypothesis has been partially proven true:\n",
    "* Users listen to similar music at the beginning and end of the week.\n",
    "* There is no major difference between Springfield and Shelbyville. In both cities, pop is the most popular genre.\n",
    "\n",
    "However, the number of missing values makes this result questionable. In Springfield, there are so many that they affect our top 15. Were we not missing these values, things might look different."
   ]
  },
  {
   "cell_type": "markdown",
   "metadata": {
    "id": "jLmXgdanVyhP"
   },
   "source": [
    "[Back to Contents](#back)"
   ]
  },
  {
   "cell_type": "markdown",
   "metadata": {
    "id": "JolODAqr_Zcu"
   },
   "source": [
    "### Hypothesis 3: genre preferences in Springfield and Shelbyville <a id='genre'></a>\n",
    "\n",
    "Hypothesis: Shelbyville loves rap music. Springfield's citizens are more into pop."
   ]
  },
  {
   "cell_type": "markdown",
   "metadata": {
    "id": "DlegSvaT_Zcu"
   },
   "source": [
    "Group the `spr_general` table by genre and find the number of songs played for each genre with the `count()` method. Then sort the result in descending order and store it to `spr_genres`."
   ]
  },
  {
   "cell_type": "code",
   "execution_count": 36,
   "metadata": {
    "id": "r19lIPke_Zcu"
   },
   "outputs": [],
   "source": [
    "# on one line: group the spr_general table by the 'genre' column, \n",
    "# count the 'genre' values with count() in the grouping, \n",
    "spr_genres = spr_general.groupby('genre')['track'].count()\n",
    "\n",
    "\n",
    "# sort the resulting Series in descending order, and store it to spr_genres\n",
    "spr_genres = spr_genres.sort_values(by='track', ascending=False)"
   ]
  },
  {
   "cell_type": "markdown",
   "metadata": {
    "id": "6kMuomxTiIr8"
   },
   "source": [
    "Print the first 10 rows from `spr_genres`:"
   ]
  },
  {
   "cell_type": "code",
   "execution_count": 40,
   "metadata": {
    "id": "WhCSooF8_Zcv"
   },
   "outputs": [
    {
     "name": "stdout",
     "output_type": "stream",
     "text": [
      "genre\n",
      "acid              1\n",
      "acoustic          3\n",
      "action            4\n",
      "adult            16\n",
      "africa           12\n",
      "afrikaans         4\n",
      "alternative    1379\n",
      "ambient         183\n",
      "americana         7\n",
      "animated          2\n",
      "Name: track, dtype: int64\n"
     ]
    }
   ],
   "source": [
    "print(spr_genres.head(10))# printing the first 10 rows of spr_genres"
   ]
  },
  {
   "cell_type": "markdown",
   "metadata": {
    "id": "cnPG2vnN_Zcv"
   },
   "source": [
    "Now do the same with the data on Shelbyville.\n",
    "\n",
    "Group the `shel_general` table by genre and find the number of songs played for each genre. Then sort the result in descending order and store it to the `shel_genres` table:\n"
   ]
  },
  {
   "cell_type": "code",
   "execution_count": 41,
   "metadata": {
    "id": "gluLIpE7_Zcv"
   },
   "outputs": [],
   "source": [
    "# on one line: group the shel_general table by the 'genre' column, \n",
    "shel_genres = shel_general.groupby('genre')['track'].count()\n",
    "# count the 'genre' values in the grouping with count(), \n",
    "# sort the resulting Series in descending order and store it to shel_genres\n",
    "shel_genres = shel_general.sort_values(by='track', ascending=False)"
   ]
  },
  {
   "cell_type": "markdown",
   "metadata": {
    "id": "5Doha_ODgyQ8"
   },
   "source": [
    "Print the first 10 rows of `shel_genres`:"
   ]
  },
  {
   "cell_type": "code",
   "execution_count": 42,
   "metadata": {
    "id": "uaGJHjVU_Zcv"
   },
   "outputs": [
    {
     "name": "stdout",
     "output_type": "stream",
     "text": [
      "       index   user_id           track                         artist   genre  \\\n",
      "20303  20684   16DC88A       푸른 기억의 바다                   Jeon Su Yeon     new   \n",
      "16859  17125  5EBD1B53  이리와봐 Come Here                          Bobby  hiphop   \n",
      "22638  23118  D933B379              쉼표                        Kozypop   urban   \n",
      "10053  10155  68E27506        달리 Dally                           Gray   k-pop   \n",
      "45475  47474  AB90B344             공허해                         Winner     pop   \n",
      "23519  24035  4DD51FF0              酒歌                             童彤     pop   \n",
      "14311  14500  93D696AB             裏返り  black gene for the next scene    rock   \n",
      "1012    1014  5C525738             橄榄树                           华夏乐团   world   \n",
      "34569  35688  4DD51FF0           最后一个人                            谢天笑  reggae   \n",
      "41864  43537   AE69626              抛弃                        开散尔·托乎提   world   \n",
      "\n",
      "              city      time        day  \n",
      "20303  Shelbyville  20:17:39  Wednesday  \n",
      "16859  Shelbyville  21:06:28  Wednesday  \n",
      "22638  Shelbyville  21:03:47  Wednesday  \n",
      "10053  Shelbyville  13:21:01     Monday  \n",
      "45475  Shelbyville  13:30:04     Monday  \n",
      "23519  Shelbyville  09:10:22  Wednesday  \n",
      "14311  Shelbyville  20:32:00     Friday  \n",
      "1012   Shelbyville  20:46:13     Friday  \n",
      "34569  Shelbyville  08:54:32  Wednesday  \n",
      "41864  Shelbyville  13:26:22  Wednesday  \n"
     ]
    }
   ],
   "source": [
    "# printing the first 10 rows from shel_genres\n",
    "print(shel_genres.head(10))"
   ]
  },
  {
   "cell_type": "markdown",
   "metadata": {
    "id": "RY51YJYu_Zcv"
   },
   "source": [
    "**Conclusion**"
   ]
  },
  {
   "cell_type": "markdown",
   "metadata": {
    "id": "nVhnJEm__Zcv"
   },
   "source": [
    "The hypothesis has been partially proven true:\n",
    "* Pop music is the most popular genre in Springfield, as expected.\n",
    "* However, pop music turned out to be equally popular in Springfield and Shelbyville, and rap wasn't in the top 5 for either city.\n"
   ]
  },
  {
   "cell_type": "markdown",
   "metadata": {
    "id": "Byr0RfpPVz14"
   },
   "source": [
    "[Back to Contents](#back)"
   ]
  },
  {
   "cell_type": "markdown",
   "metadata": {
    "id": "ykKQ0N65_Zcv"
   },
   "source": [
    "# Findings <a id='end'></a>"
   ]
  },
  {
   "cell_type": "markdown",
   "metadata": {
    "id": "tjUwbHb3_Zcv"
   },
   "source": [
    "We have tested the following three hypotheses:\n",
    "\n",
    "1. User activity differs depending on the day of the week and from city to city. \n",
    "2. On Monday mornings, Springfield and Shelbyville residents listen to different genres. This is also true for Friday evenings. \n",
    "3. Springfield and Shelbyville listeners have different preferences. In both Springfield and Shelbyville, they prefer pop.\n",
    "\n",
    "After analyzing the data, we concluded:\n",
    "\n",
    "1. User activity in Springfield and Shelbyville depends on the day of the week, though the cities vary in different ways. \n",
    "\n",
    "The first hypothesis is fully accepted.\n",
    "\n",
    "2. Musical preferences do not vary significantly over the course of the week in both Springfield and Shelbyville. We can see small differences in order on Mondays, but:\n",
    "* In Springfield and Shelbyville, people listen to pop music most.\n",
    "\n",
    "So we can't accept this hypothesis. We must also keep in mind that the result could have been different if not for the missing values.\n",
    "\n",
    "3. It turns out that the musical preferences of users from Springfield and Shelbyville are quite similar.\n",
    "\n",
    "The third hypothesis is rejected. If there is any difference in preferences, it cannot be seen from this data.\n",
    "\n",
    "### Note \n",
    "In real projects, research involves statistical hypothesis testing, which is more precise and more quantitative. Also note that you cannot always draw conclusions about an entire city based on the data from just one source.\n",
    "\n",
    "You will study hypothesis testing in the sprint on statistical data analysis."
   ]
  },
  {
   "cell_type": "code",
   "execution_count": null,
   "metadata": {},
   "outputs": [],
   "source": []
  }
 ],
 "metadata": {
  "ExecuteTimeLog": [
   {
    "duration": 46,
    "start_time": "2022-07-21T09:24:13.062Z"
   },
   {
    "duration": 47,
    "start_time": "2022-07-21T09:24:37.662Z"
   },
   {
    "duration": 7,
    "start_time": "2022-07-21T09:26:14.089Z"
   },
   {
    "duration": 466,
    "start_time": "2022-07-21T09:32:20.522Z"
   },
   {
    "duration": 263,
    "start_time": "2022-07-21T09:32:25.661Z"
   },
   {
    "duration": 72,
    "start_time": "2022-07-21T09:37:23.640Z"
   },
   {
    "duration": 185,
    "start_time": "2022-07-21T09:40:05.241Z"
   },
   {
    "duration": 8,
    "start_time": "2022-07-21T09:40:48.507Z"
   },
   {
    "duration": 29,
    "start_time": "2022-07-21T09:41:00.193Z"
   },
   {
    "duration": 5,
    "start_time": "2022-07-21T09:41:39.065Z"
   },
   {
    "duration": 13,
    "start_time": "2022-07-21T09:42:12.132Z"
   },
   {
    "duration": 4,
    "start_time": "2022-07-21T09:42:19.057Z"
   },
   {
    "duration": 168,
    "start_time": "2022-07-21T09:43:32.393Z"
   },
   {
    "duration": 8,
    "start_time": "2022-07-21T09:44:14.757Z"
   },
   {
    "duration": 3,
    "start_time": "2022-07-21T09:44:22.074Z"
   },
   {
    "duration": 170,
    "start_time": "2022-07-21T09:45:42.516Z"
   },
   {
    "duration": 316,
    "start_time": "2022-07-21T09:49:52.087Z"
   },
   {
    "duration": 3,
    "start_time": "2022-07-21T09:50:30.589Z"
   },
   {
    "duration": 9,
    "start_time": "2022-07-21T09:50:49.922Z"
   },
   {
    "duration": 4,
    "start_time": "2022-07-21T09:51:21.346Z"
   },
   {
    "duration": 12,
    "start_time": "2022-07-21T09:52:27.608Z"
   },
   {
    "duration": 4,
    "start_time": "2022-07-21T09:52:31.488Z"
   },
   {
    "duration": 41,
    "start_time": "2022-07-21T09:54:16.616Z"
   },
   {
    "duration": 120,
    "start_time": "2022-07-21T10:03:22.445Z"
   },
   {
    "duration": 114,
    "start_time": "2022-07-21T10:03:27.043Z"
   },
   {
    "duration": 27,
    "start_time": "2022-07-21T10:03:51.397Z"
   },
   {
    "duration": 59,
    "start_time": "2022-07-21T10:05:14.859Z"
   },
   {
    "duration": 67,
    "start_time": "2022-07-21T10:06:21.961Z"
   },
   {
    "duration": 5,
    "start_time": "2022-07-21T10:06:36.300Z"
   },
   {
    "duration": 4,
    "start_time": "2022-07-21T10:07:35.693Z"
   },
   {
    "duration": 5,
    "start_time": "2022-07-21T10:07:40.314Z"
   },
   {
    "duration": 5,
    "start_time": "2022-07-21T10:08:07.619Z"
   },
   {
    "duration": 4,
    "start_time": "2022-07-21T10:08:11.863Z"
   },
   {
    "duration": 5,
    "start_time": "2022-07-21T10:08:23.184Z"
   },
   {
    "duration": 4,
    "start_time": "2022-07-21T10:08:35.790Z"
   },
   {
    "duration": 7,
    "start_time": "2022-07-21T10:08:39.430Z"
   },
   {
    "duration": 5,
    "start_time": "2022-07-21T10:33:59.174Z"
   },
   {
    "duration": 4,
    "start_time": "2022-07-21T10:35:42.063Z"
   },
   {
    "duration": 5,
    "start_time": "2022-07-21T10:35:48.671Z"
   },
   {
    "duration": 4,
    "start_time": "2022-07-21T10:36:07.775Z"
   },
   {
    "duration": 858,
    "start_time": "2022-07-21T10:39:53.582Z"
   },
   {
    "duration": 665,
    "start_time": "2022-07-21T10:45:15.585Z"
   },
   {
    "duration": 663,
    "start_time": "2022-07-21T10:54:24.582Z"
   },
   {
    "duration": 973,
    "start_time": "2022-07-21T10:55:29.905Z"
   },
   {
    "duration": 653,
    "start_time": "2022-07-21T10:56:54.413Z"
   },
   {
    "duration": 131,
    "start_time": "2022-07-21T11:22:23.662Z"
   },
   {
    "duration": 1068,
    "start_time": "2022-07-21T11:22:45.546Z"
   },
   {
    "duration": 874,
    "start_time": "2022-07-21T11:22:57.346Z"
   },
   {
    "duration": 8,
    "start_time": "2022-07-21T11:24:13.583Z"
   },
   {
    "duration": 7,
    "start_time": "2022-07-21T11:24:38.583Z"
   },
   {
    "duration": 7,
    "start_time": "2022-07-21T11:24:55.785Z"
   },
   {
    "duration": 7,
    "start_time": "2022-07-21T11:27:24.423Z"
   },
   {
    "duration": 7,
    "start_time": "2022-07-21T11:27:47.604Z"
   },
   {
    "duration": 9,
    "start_time": "2022-07-21T11:28:11.803Z"
   },
   {
    "duration": 8,
    "start_time": "2022-07-21T11:29:15.258Z"
   },
   {
    "duration": 8,
    "start_time": "2022-07-21T11:32:32.841Z"
   },
   {
    "duration": 9,
    "start_time": "2022-07-21T11:32:52.706Z"
   },
   {
    "duration": 10,
    "start_time": "2022-07-21T11:34:09.573Z"
   },
   {
    "duration": 952,
    "start_time": "2022-07-21T11:41:35.917Z"
   },
   {
    "duration": 724,
    "start_time": "2022-07-21T11:45:06.065Z"
   },
   {
    "duration": 612,
    "start_time": "2022-07-21T11:45:13.022Z"
   },
   {
    "duration": 685,
    "start_time": "2022-07-21T11:45:58.267Z"
   },
   {
    "duration": 660,
    "start_time": "2022-07-21T11:52:01.237Z"
   },
   {
    "duration": 838,
    "start_time": "2022-07-21T11:52:22.076Z"
   },
   {
    "duration": 686,
    "start_time": "2022-07-21T11:53:36.089Z"
   },
   {
    "duration": 829,
    "start_time": "2022-07-21T12:00:28.864Z"
   },
   {
    "duration": 945,
    "start_time": "2022-07-21T12:04:45.330Z"
   },
   {
    "duration": 12,
    "start_time": "2022-07-21T12:07:54.252Z"
   },
   {
    "duration": 10,
    "start_time": "2022-07-21T12:08:49.957Z"
   },
   {
    "duration": 10,
    "start_time": "2022-07-21T12:09:33.394Z"
   },
   {
    "duration": 12,
    "start_time": "2022-07-21T13:09:38.765Z"
   },
   {
    "duration": 406,
    "start_time": "2022-07-24T06:18:42.771Z"
   },
   {
    "duration": 408,
    "start_time": "2022-07-24T06:18:45.805Z"
   },
   {
    "duration": 8,
    "start_time": "2022-07-24T06:18:54.394Z"
   },
   {
    "duration": 37,
    "start_time": "2022-07-24T06:18:58.345Z"
   },
   {
    "duration": 3,
    "start_time": "2022-07-24T06:19:03.227Z"
   },
   {
    "duration": 13,
    "start_time": "2022-07-24T06:19:06.220Z"
   },
   {
    "duration": 4,
    "start_time": "2022-07-24T06:19:09.927Z"
   },
   {
    "duration": 30,
    "start_time": "2022-07-24T06:19:13.581Z"
   },
   {
    "duration": 118,
    "start_time": "2022-07-24T06:19:17.312Z"
   },
   {
    "duration": 32,
    "start_time": "2022-07-24T06:19:21.673Z"
   },
   {
    "duration": 76,
    "start_time": "2022-07-24T06:19:25.429Z"
   },
   {
    "duration": 94,
    "start_time": "2022-07-24T06:19:30.822Z"
   },
   {
    "duration": 66,
    "start_time": "2022-07-24T06:19:34.434Z"
   },
   {
    "duration": 12,
    "start_time": "2022-07-24T06:19:38.592Z"
   },
   {
    "duration": 412,
    "start_time": "2022-07-28T08:37:05.268Z"
   },
   {
    "duration": 573,
    "start_time": "2022-07-28T08:37:23.663Z"
   },
   {
    "duration": 6,
    "start_time": "2022-07-28T08:37:32.315Z"
   },
   {
    "duration": 24,
    "start_time": "2022-07-28T08:37:44.863Z"
   },
   {
    "duration": 4,
    "start_time": "2022-07-28T08:40:47.042Z"
   },
   {
    "duration": 12,
    "start_time": "2022-07-28T08:41:09.500Z"
   },
   {
    "duration": 3,
    "start_time": "2022-07-28T08:41:14.568Z"
   },
   {
    "duration": 23,
    "start_time": "2022-07-28T08:41:33.588Z"
   },
   {
    "duration": 102,
    "start_time": "2022-07-28T08:43:50.325Z"
   },
   {
    "duration": 23,
    "start_time": "2022-07-28T08:43:55.292Z"
   },
   {
    "duration": 57,
    "start_time": "2022-07-28T08:44:20.344Z"
   },
   {
    "duration": 81,
    "start_time": "2022-07-28T08:44:28.850Z"
   },
   {
    "duration": 70,
    "start_time": "2022-07-28T08:44:31.635Z"
   },
   {
    "duration": 9,
    "start_time": "2022-07-28T08:47:58.844Z"
   },
   {
    "duration": 4,
    "start_time": "2022-07-28T08:57:56.255Z"
   },
   {
    "duration": 62,
    "start_time": "2022-07-28T08:58:13.450Z"
   },
   {
    "duration": 8,
    "start_time": "2022-07-28T08:58:44.977Z"
   },
   {
    "duration": 10,
    "start_time": "2022-07-28T08:59:27.616Z"
   },
   {
    "duration": 6,
    "start_time": "2022-07-28T08:59:42.150Z"
   },
   {
    "duration": 11,
    "start_time": "2022-07-28T09:06:43.020Z"
   },
   {
    "duration": 11,
    "start_time": "2022-07-28T09:07:16.615Z"
   },
   {
    "duration": 11,
    "start_time": "2022-07-28T09:08:50.886Z"
   },
   {
    "duration": 4,
    "start_time": "2022-07-28T09:30:07.094Z"
   },
   {
    "duration": 4,
    "start_time": "2022-07-28T09:32:48.597Z"
   },
   {
    "duration": 27,
    "start_time": "2022-07-28T09:33:03.191Z"
   },
   {
    "duration": 16,
    "start_time": "2022-07-28T09:33:19.096Z"
   },
   {
    "duration": 17,
    "start_time": "2022-07-28T09:34:03.869Z"
   },
   {
    "duration": 16,
    "start_time": "2022-07-28T09:34:24.285Z"
   },
   {
    "duration": 19,
    "start_time": "2022-07-28T09:34:50.355Z"
   },
   {
    "duration": 17,
    "start_time": "2022-07-28T09:35:00.412Z"
   },
   {
    "duration": 16,
    "start_time": "2022-07-28T11:00:38.460Z"
   },
   {
    "duration": 4,
    "start_time": "2022-07-28T11:05:40.327Z"
   },
   {
    "duration": 14,
    "start_time": "2022-07-28T11:05:56.628Z"
   },
   {
    "duration": 9,
    "start_time": "2022-07-28T11:06:31.017Z"
   },
   {
    "duration": 71,
    "start_time": "2022-07-28T11:43:56.380Z"
   },
   {
    "duration": 3,
    "start_time": "2022-07-28T11:44:14.624Z"
   },
   {
    "duration": 4,
    "start_time": "2022-07-28T11:44:20.182Z"
   },
   {
    "duration": 22,
    "start_time": "2022-07-28T11:52:30.375Z"
   },
   {
    "duration": 22,
    "start_time": "2022-07-28T11:52:36.175Z"
   },
   {
    "duration": 10,
    "start_time": "2022-07-28T11:53:07.231Z"
   },
   {
    "duration": 34,
    "start_time": "2022-07-28T11:54:27.653Z"
   },
   {
    "duration": 4,
    "start_time": "2022-07-28T11:56:29.257Z"
   },
   {
    "duration": 38,
    "start_time": "2022-07-28T11:56:33.166Z"
   },
   {
    "duration": 20,
    "start_time": "2022-07-28T11:57:34.043Z"
   },
   {
    "duration": 40,
    "start_time": "2022-07-28T11:58:31.161Z"
   },
   {
    "duration": 18,
    "start_time": "2022-07-28T11:58:52.443Z"
   },
   {
    "duration": 42,
    "start_time": "2022-07-28T12:06:25.262Z"
   },
   {
    "duration": 23,
    "start_time": "2022-07-28T12:06:56.320Z"
   },
   {
    "duration": 6,
    "start_time": "2022-07-28T12:07:21.716Z"
   },
   {
    "duration": 1692,
    "start_time": "2022-07-28T12:08:58.718Z"
   },
   {
    "duration": 1252,
    "start_time": "2022-07-28T12:09:08.411Z"
   },
   {
    "duration": 24,
    "start_time": "2022-07-28T12:09:58.565Z"
   },
   {
    "duration": 38,
    "start_time": "2022-07-28T12:10:53.035Z"
   },
   {
    "duration": 38,
    "start_time": "2022-07-28T12:10:58.659Z"
   },
   {
    "duration": 4,
    "start_time": "2022-07-28T12:11:02.527Z"
   },
   {
    "duration": 6,
    "start_time": "2022-07-28T12:12:44.239Z"
   },
   {
    "duration": 6,
    "start_time": "2022-07-28T12:13:21.378Z"
   },
   {
    "duration": 19,
    "start_time": "2022-07-28T12:13:28.301Z"
   },
   {
    "duration": 4,
    "start_time": "2022-07-28T12:14:10.429Z"
   },
   {
    "duration": 345,
    "start_time": "2022-07-28T21:20:18.568Z"
   },
   {
    "duration": 593,
    "start_time": "2022-07-28T21:20:18.915Z"
   },
   {
    "duration": 7,
    "start_time": "2022-07-28T21:20:19.509Z"
   },
   {
    "duration": 30,
    "start_time": "2022-07-28T21:20:19.517Z"
   },
   {
    "duration": 3,
    "start_time": "2022-07-28T21:20:19.548Z"
   },
   {
    "duration": 15,
    "start_time": "2022-07-28T21:20:19.552Z"
   },
   {
    "duration": 10,
    "start_time": "2022-07-28T21:20:19.569Z"
   },
   {
    "duration": 27,
    "start_time": "2022-07-28T21:20:19.580Z"
   },
   {
    "duration": 103,
    "start_time": "2022-07-28T21:20:19.608Z"
   },
   {
    "duration": 35,
    "start_time": "2022-07-28T21:20:19.714Z"
   },
   {
    "duration": 60,
    "start_time": "2022-07-28T21:20:19.751Z"
   },
   {
    "duration": 102,
    "start_time": "2022-07-28T21:20:19.813Z"
   },
   {
    "duration": 67,
    "start_time": "2022-07-28T21:20:19.918Z"
   },
   {
    "duration": 6,
    "start_time": "2022-07-28T21:20:19.986Z"
   },
   {
    "duration": 5,
    "start_time": "2022-07-28T21:20:19.993Z"
   },
   {
    "duration": 12,
    "start_time": "2022-07-28T21:20:19.999Z"
   },
   {
    "duration": 21,
    "start_time": "2022-07-28T21:20:20.013Z"
   },
   {
    "duration": 14,
    "start_time": "2022-07-28T21:20:20.036Z"
   },
   {
    "duration": 11,
    "start_time": "2022-07-28T21:20:20.051Z"
   },
   {
    "duration": 3,
    "start_time": "2022-07-28T21:20:20.063Z"
   },
   {
    "duration": 25,
    "start_time": "2022-07-28T21:20:20.068Z"
   },
   {
    "duration": 40,
    "start_time": "2022-07-28T21:20:20.094Z"
   },
   {
    "duration": 16,
    "start_time": "2022-07-28T21:20:20.135Z"
   },
   {
    "duration": 13,
    "start_time": "2022-07-28T21:20:20.153Z"
   },
   {
    "duration": 20,
    "start_time": "2022-07-28T21:20:20.167Z"
   },
   {
    "duration": 42,
    "start_time": "2022-07-28T21:20:20.189Z"
   },
   {
    "duration": 9,
    "start_time": "2022-07-28T21:20:20.233Z"
   },
   {
    "duration": 15,
    "start_time": "2022-07-28T21:20:20.245Z"
   },
   {
    "duration": 9,
    "start_time": "2022-07-28T21:20:20.261Z"
   },
   {
    "duration": 4,
    "start_time": "2022-07-28T21:20:20.271Z"
   },
   {
    "duration": 33,
    "start_time": "2022-07-28T21:20:20.276Z"
   },
   {
    "duration": 18,
    "start_time": "2022-07-28T21:20:20.331Z"
   },
   {
    "duration": 36,
    "start_time": "2022-07-28T21:20:20.351Z"
   },
   {
    "duration": 16,
    "start_time": "2022-07-28T21:20:20.389Z"
   },
   {
    "duration": 58,
    "start_time": "2022-07-28T21:20:20.406Z"
   },
   {
    "duration": 4,
    "start_time": "2022-07-28T21:20:20.466Z"
   },
   {
    "duration": 28,
    "start_time": "2022-07-28T21:20:20.471Z"
   },
   {
    "duration": 4,
    "start_time": "2022-07-28T21:20:20.501Z"
   },
   {
    "duration": 25,
    "start_time": "2022-07-28T21:27:24.728Z"
   },
   {
    "duration": 4,
    "start_time": "2022-07-28T21:27:25.508Z"
   },
   {
    "duration": 13,
    "start_time": "2022-07-28T21:27:36.641Z"
   },
   {
    "duration": 4,
    "start_time": "2022-07-28T21:27:53.939Z"
   },
   {
    "duration": 5,
    "start_time": "2022-07-28T21:27:58.813Z"
   },
   {
    "duration": 44,
    "start_time": "2022-07-28T21:28:09.794Z"
   },
   {
    "duration": 10,
    "start_time": "2022-07-28T21:28:31.651Z"
   },
   {
    "duration": 12,
    "start_time": "2022-07-28T21:29:01.496Z"
   },
   {
    "duration": 8,
    "start_time": "2022-07-28T21:29:19.425Z"
   },
   {
    "duration": 5,
    "start_time": "2022-07-28T21:29:23.477Z"
   },
   {
    "duration": 48,
    "start_time": "2022-08-04T12:46:46.650Z"
   },
   {
    "duration": 8,
    "start_time": "2022-08-04T12:47:41.534Z"
   },
   {
    "duration": 8,
    "start_time": "2022-08-04T12:47:55.852Z"
   },
   {
    "duration": 8,
    "start_time": "2022-08-04T12:48:22.155Z"
   },
   {
    "duration": 7,
    "start_time": "2022-08-04T12:48:51.663Z"
   },
   {
    "duration": 7,
    "start_time": "2022-08-04T12:51:36.929Z"
   },
   {
    "duration": 52,
    "start_time": "2022-08-07T05:53:56.367Z"
   },
   {
    "duration": 396,
    "start_time": "2022-08-07T05:54:27.990Z"
   },
   {
    "duration": 333,
    "start_time": "2022-08-07T05:54:30.164Z"
   },
   {
    "duration": 250,
    "start_time": "2022-08-07T05:54:33.309Z"
   },
   {
    "duration": 7,
    "start_time": "2022-08-07T05:54:38.746Z"
   },
   {
    "duration": 26,
    "start_time": "2022-08-07T05:54:43.434Z"
   },
   {
    "duration": 3,
    "start_time": "2022-08-07T05:54:53.410Z"
   },
   {
    "duration": 12,
    "start_time": "2022-08-07T05:54:56.965Z"
   },
   {
    "duration": 3,
    "start_time": "2022-08-07T05:55:00.803Z"
   },
   {
    "duration": 22,
    "start_time": "2022-08-07T05:55:04.962Z"
   },
   {
    "duration": 27,
    "start_time": "2022-08-07T05:55:09.853Z"
   },
   {
    "duration": 8,
    "start_time": "2022-08-07T05:56:59.007Z"
   },
   {
    "duration": 6,
    "start_time": "2022-08-07T05:58:01.901Z"
   },
   {
    "duration": 6,
    "start_time": "2022-08-07T05:58:11.181Z"
   },
   {
    "duration": 7,
    "start_time": "2022-08-07T06:02:07.391Z"
   },
   {
    "duration": 2,
    "start_time": "2022-08-07T06:11:36.939Z"
   },
   {
    "duration": 21,
    "start_time": "2022-08-07T06:11:59.161Z"
   },
   {
    "duration": 9,
    "start_time": "2022-08-07T06:14:21.484Z"
   },
   {
    "duration": 6,
    "start_time": "2022-08-07T06:16:52.910Z"
   },
   {
    "duration": 6,
    "start_time": "2022-08-07T06:17:39.036Z"
   },
   {
    "duration": 9,
    "start_time": "2022-08-07T06:22:05.812Z"
   },
   {
    "duration": 105,
    "start_time": "2022-08-07T06:22:32.549Z"
   },
   {
    "duration": 23,
    "start_time": "2022-08-07T06:22:48.105Z"
   },
   {
    "duration": 10,
    "start_time": "2022-08-07T06:23:15.736Z"
   },
   {
    "duration": 96,
    "start_time": "2022-08-07T06:23:23.536Z"
   },
   {
    "duration": 26,
    "start_time": "2022-08-07T06:23:27.527Z"
   },
   {
    "duration": 7,
    "start_time": "2022-08-07T06:23:54.598Z"
   },
   {
    "duration": 7,
    "start_time": "2022-08-07T06:24:13.246Z"
   },
   {
    "duration": 103,
    "start_time": "2022-08-07T06:24:27.115Z"
   },
   {
    "duration": 72,
    "start_time": "2022-08-07T06:24:34.043Z"
   },
   {
    "duration": 21,
    "start_time": "2022-08-07T06:24:39.629Z"
   },
   {
    "duration": 24,
    "start_time": "2022-08-07T06:26:10.131Z"
   },
   {
    "duration": 63,
    "start_time": "2022-08-07T06:26:13.893Z"
   },
   {
    "duration": 75,
    "start_time": "2022-08-07T06:26:16.954Z"
   },
   {
    "duration": 56,
    "start_time": "2022-08-07T06:26:22.281Z"
   },
   {
    "duration": 6,
    "start_time": "2022-08-07T06:26:26.465Z"
   },
   {
    "duration": 33,
    "start_time": "2022-08-07T06:26:48.307Z"
   },
   {
    "duration": 2,
    "start_time": "2022-08-07T06:27:03.681Z"
   },
   {
    "duration": 8,
    "start_time": "2022-08-07T06:27:08.170Z"
   },
   {
    "duration": 7,
    "start_time": "2022-08-07T06:27:27.019Z"
   },
   {
    "duration": 34,
    "start_time": "2022-08-07T06:27:54.546Z"
   },
   {
    "duration": 11,
    "start_time": "2022-08-07T06:28:06.476Z"
   },
   {
    "duration": 11,
    "start_time": "2022-08-07T06:28:11.613Z"
   },
   {
    "duration": 8,
    "start_time": "2022-08-07T06:28:58.857Z"
   },
   {
    "duration": 3,
    "start_time": "2022-08-07T06:29:24.974Z"
   },
   {
    "duration": 19,
    "start_time": "2022-08-07T06:29:29.849Z"
   },
   {
    "duration": 17,
    "start_time": "2022-08-07T06:29:33.266Z"
   },
   {
    "duration": 17,
    "start_time": "2022-08-07T06:29:36.168Z"
   },
   {
    "duration": 22,
    "start_time": "2022-08-07T06:29:39.626Z"
   },
   {
    "duration": 17,
    "start_time": "2022-08-07T06:29:42.905Z"
   },
   {
    "duration": 8,
    "start_time": "2022-08-07T06:29:50.706Z"
   },
   {
    "duration": 14,
    "start_time": "2022-08-07T06:29:59.671Z"
   },
   {
    "duration": 9,
    "start_time": "2022-08-07T06:30:14.096Z"
   },
   {
    "duration": 4,
    "start_time": "2022-08-07T06:30:21.933Z"
   },
   {
    "duration": 27,
    "start_time": "2022-08-07T06:30:26.360Z"
   },
   {
    "duration": 4,
    "start_time": "2022-08-07T06:32:12.080Z"
   },
   {
    "duration": 8,
    "start_time": "2022-08-07T06:32:18.591Z"
   },
   {
    "duration": 4,
    "start_time": "2022-08-07T06:34:36.931Z"
   },
   {
    "duration": 9,
    "start_time": "2022-08-07T06:34:42.218Z"
   },
   {
    "duration": 4,
    "start_time": "2022-08-07T06:42:32.142Z"
   },
   {
    "duration": 9,
    "start_time": "2022-08-07T06:42:35.646Z"
   },
   {
    "duration": 8,
    "start_time": "2022-08-07T06:42:53.779Z"
   },
   {
    "duration": 9,
    "start_time": "2022-08-07T06:43:00.873Z"
   },
   {
    "duration": 54,
    "start_time": "2022-08-07T06:44:36.265Z"
   },
   {
    "duration": 9,
    "start_time": "2022-08-07T06:44:43.314Z"
   },
   {
    "duration": 35,
    "start_time": "2022-08-07T06:45:04.629Z"
   },
   {
    "duration": 8,
    "start_time": "2022-08-07T06:48:24.737Z"
   },
   {
    "duration": 39,
    "start_time": "2022-08-07T06:48:31.007Z"
   },
   {
    "duration": 25,
    "start_time": "2022-08-07T06:48:52.095Z"
   },
   {
    "duration": 4,
    "start_time": "2022-08-07T06:49:01.978Z"
   },
   {
    "duration": 15,
    "start_time": "2022-08-07T06:49:29.134Z"
   },
   {
    "duration": 4,
    "start_time": "2022-08-07T06:49:34.254Z"
   },
   {
    "duration": 403,
    "start_time": "2022-08-07T08:29:56.293Z"
   },
   {
    "duration": 318,
    "start_time": "2022-08-07T08:29:56.930Z"
   },
   {
    "duration": 7,
    "start_time": "2022-08-07T08:29:59.485Z"
   },
   {
    "duration": 29,
    "start_time": "2022-08-07T08:30:00.339Z"
   },
   {
    "duration": 3,
    "start_time": "2022-08-07T08:30:02.120Z"
   },
   {
    "duration": 12,
    "start_time": "2022-08-07T08:30:02.574Z"
   },
   {
    "duration": 4,
    "start_time": "2022-08-07T08:30:03.390Z"
   },
   {
    "duration": 25,
    "start_time": "2022-08-07T08:30:04.390Z"
   },
   {
    "duration": 88,
    "start_time": "2022-08-07T08:30:14.412Z"
   },
   {
    "duration": 75,
    "start_time": "2022-08-07T08:30:35.398Z"
   },
   {
    "duration": 82,
    "start_time": "2022-08-07T08:30:42.286Z"
   },
   {
    "duration": 96,
    "start_time": "2022-08-07T08:30:53.784Z"
   },
   {
    "duration": 24,
    "start_time": "2022-08-07T08:30:59.795Z"
   },
   {
    "duration": 23,
    "start_time": "2022-08-07T08:31:04.896Z"
   },
   {
    "duration": 73,
    "start_time": "2022-08-07T08:31:11.741Z"
   },
   {
    "duration": 25,
    "start_time": "2022-08-07T08:31:13.058Z"
   },
   {
    "duration": 412,
    "start_time": "2022-08-07T08:31:19.410Z"
   },
   {
    "duration": 280,
    "start_time": "2022-08-07T08:31:19.824Z"
   },
   {
    "duration": 6,
    "start_time": "2022-08-07T08:31:20.109Z"
   },
   {
    "duration": 37,
    "start_time": "2022-08-07T08:31:20.118Z"
   },
   {
    "duration": 3,
    "start_time": "2022-08-07T08:31:20.157Z"
   },
   {
    "duration": 14,
    "start_time": "2022-08-07T08:31:20.162Z"
   },
   {
    "duration": 6,
    "start_time": "2022-08-07T08:31:20.178Z"
   },
   {
    "duration": 44,
    "start_time": "2022-08-07T08:31:20.185Z"
   },
   {
    "duration": 80,
    "start_time": "2022-08-07T08:31:20.230Z"
   },
   {
    "duration": 24,
    "start_time": "2022-08-07T08:31:20.313Z"
   },
   {
    "duration": 74,
    "start_time": "2022-08-07T08:31:20.338Z"
   },
   {
    "duration": 69,
    "start_time": "2022-08-07T08:31:20.413Z"
   },
   {
    "duration": 66,
    "start_time": "2022-08-07T08:31:20.484Z"
   },
   {
    "duration": 39,
    "start_time": "2022-08-07T08:31:20.552Z"
   },
   {
    "duration": 17,
    "start_time": "2022-08-07T08:31:20.593Z"
   },
   {
    "duration": 13,
    "start_time": "2022-08-07T08:31:20.612Z"
   },
   {
    "duration": 40,
    "start_time": "2022-08-07T08:31:20.626Z"
   },
   {
    "duration": 13,
    "start_time": "2022-08-07T08:31:20.668Z"
   },
   {
    "duration": 34,
    "start_time": "2022-08-07T08:31:20.683Z"
   },
   {
    "duration": 4,
    "start_time": "2022-08-07T08:31:20.719Z"
   },
   {
    "duration": 27,
    "start_time": "2022-08-07T08:31:20.725Z"
   },
   {
    "duration": 16,
    "start_time": "2022-08-07T08:31:20.754Z"
   },
   {
    "duration": 47,
    "start_time": "2022-08-07T08:31:20.772Z"
   },
   {
    "duration": 16,
    "start_time": "2022-08-07T08:31:20.820Z"
   },
   {
    "duration": 20,
    "start_time": "2022-08-07T08:31:20.838Z"
   },
   {
    "duration": 16,
    "start_time": "2022-08-07T08:31:20.860Z"
   },
   {
    "duration": 33,
    "start_time": "2022-08-07T08:31:20.878Z"
   },
   {
    "duration": 24,
    "start_time": "2022-08-07T08:31:20.914Z"
   },
   {
    "duration": 12,
    "start_time": "2022-08-07T08:31:20.940Z"
   },
   {
    "duration": 10,
    "start_time": "2022-08-07T08:31:20.954Z"
   },
   {
    "duration": 16,
    "start_time": "2022-08-07T08:31:20.966Z"
   },
   {
    "duration": 11,
    "start_time": "2022-08-07T08:31:20.983Z"
   },
   {
    "duration": 21,
    "start_time": "2022-08-07T08:31:20.995Z"
   },
   {
    "duration": 16,
    "start_time": "2022-08-07T08:31:21.017Z"
   },
   {
    "duration": 36,
    "start_time": "2022-08-07T08:31:21.035Z"
   },
   {
    "duration": 4,
    "start_time": "2022-08-07T08:31:21.073Z"
   },
   {
    "duration": 17,
    "start_time": "2022-08-07T08:31:21.078Z"
   },
   {
    "duration": 12,
    "start_time": "2022-08-07T08:31:21.097Z"
   },
   {
    "duration": 24,
    "start_time": "2022-08-07T08:34:11.520Z"
   },
   {
    "duration": 5,
    "start_time": "2022-08-07T08:35:01.284Z"
   },
   {
    "duration": 23,
    "start_time": "2022-08-07T08:35:07.623Z"
   },
   {
    "duration": 5,
    "start_time": "2022-08-07T08:35:18.290Z"
   },
   {
    "duration": 74,
    "start_time": "2022-08-07T08:35:19.375Z"
   },
   {
    "duration": 5,
    "start_time": "2022-08-07T08:35:25.469Z"
   },
   {
    "duration": 16,
    "start_time": "2022-08-07T08:35:26.443Z"
   },
   {
    "duration": 4,
    "start_time": "2022-08-07T08:36:03.749Z"
   },
   {
    "duration": 20,
    "start_time": "2022-08-07T08:36:04.675Z"
   },
   {
    "duration": 6,
    "start_time": "2022-08-07T08:36:17.305Z"
   },
   {
    "duration": 24,
    "start_time": "2022-08-07T08:36:22.246Z"
   },
   {
    "duration": 10,
    "start_time": "2022-08-07T08:36:23.123Z"
   },
   {
    "duration": 75,
    "start_time": "2022-08-09T05:57:17.572Z"
   },
   {
    "duration": 355,
    "start_time": "2022-08-09T05:57:35.954Z"
   },
   {
    "duration": 326,
    "start_time": "2022-08-09T05:57:39.064Z"
   },
   {
    "duration": 270,
    "start_time": "2022-08-09T05:57:43.713Z"
   },
   {
    "duration": 7,
    "start_time": "2022-08-09T05:57:49.206Z"
   },
   {
    "duration": 27,
    "start_time": "2022-08-09T05:57:54.035Z"
   },
   {
    "duration": 4,
    "start_time": "2022-08-09T05:58:00.234Z"
   },
   {
    "duration": 12,
    "start_time": "2022-08-09T05:58:03.177Z"
   },
   {
    "duration": 3,
    "start_time": "2022-08-09T05:58:07.642Z"
   },
   {
    "duration": 20,
    "start_time": "2022-08-09T05:58:11.483Z"
   },
   {
    "duration": 15,
    "start_time": "2022-08-09T05:58:15.040Z"
   },
   {
    "duration": 21,
    "start_time": "2022-08-09T05:58:22.745Z"
   },
   {
    "duration": 60,
    "start_time": "2022-08-09T05:58:27.240Z"
   },
   {
    "duration": 72,
    "start_time": "2022-08-09T05:58:31.825Z"
   },
   {
    "duration": 60,
    "start_time": "2022-08-09T05:58:42.619Z"
   },
   {
    "duration": 39,
    "start_time": "2022-08-09T05:58:46.430Z"
   },
   {
    "duration": 3,
    "start_time": "2022-08-09T05:58:56.417Z"
   },
   {
    "duration": 10,
    "start_time": "2022-08-09T05:59:02.660Z"
   },
   {
    "duration": 42,
    "start_time": "2022-08-09T05:59:06.994Z"
   },
   {
    "duration": 12,
    "start_time": "2022-08-09T05:59:15.853Z"
   },
   {
    "duration": 12,
    "start_time": "2022-08-09T05:59:20.531Z"
   },
   {
    "duration": 32,
    "start_time": "2022-08-09T06:00:04.265Z"
   },
   {
    "duration": 5,
    "start_time": "2022-08-09T06:00:09.027Z"
   },
   {
    "duration": 22,
    "start_time": "2022-08-09T06:00:12.646Z"
   },
   {
    "duration": 17,
    "start_time": "2022-08-09T06:00:15.810Z"
   },
   {
    "duration": 19,
    "start_time": "2022-08-09T06:00:17.274Z"
   },
   {
    "duration": 16,
    "start_time": "2022-08-09T06:00:18.766Z"
   },
   {
    "duration": 20,
    "start_time": "2022-08-09T06:00:20.574Z"
   },
   {
    "duration": 17,
    "start_time": "2022-08-09T06:00:22.418Z"
   },
   {
    "duration": 9,
    "start_time": "2022-08-09T06:00:29.650Z"
   },
   {
    "duration": 14,
    "start_time": "2022-08-09T06:00:35.516Z"
   },
   {
    "duration": 9,
    "start_time": "2022-08-09T06:00:39.853Z"
   },
   {
    "duration": 8,
    "start_time": "2022-08-09T06:04:35.723Z"
   },
   {
    "duration": 4,
    "start_time": "2022-08-09T06:04:39.505Z"
   },
   {
    "duration": 20,
    "start_time": "2022-08-09T06:04:43.791Z"
   },
   {
    "duration": 16,
    "start_time": "2022-08-09T06:05:06.343Z"
   },
   {
    "duration": 20,
    "start_time": "2022-08-09T06:05:15.745Z"
   },
   {
    "duration": 14,
    "start_time": "2022-08-09T06:05:24.131Z"
   },
   {
    "duration": 32,
    "start_time": "2022-08-09T06:05:39.901Z"
   },
   {
    "duration": 4,
    "start_time": "2022-08-09T06:05:44.821Z"
   },
   {
    "duration": 58,
    "start_time": "2022-08-09T06:09:23.829Z"
   },
   {
    "duration": 4,
    "start_time": "2022-08-09T06:09:31.551Z"
   },
   {
    "duration": 28,
    "start_time": "2022-08-09T06:10:11.559Z"
   },
   {
    "duration": 35,
    "start_time": "2022-08-09T06:10:19.188Z"
   },
   {
    "duration": 5,
    "start_time": "2022-08-09T06:10:23.490Z"
   },
   {
    "duration": 41,
    "start_time": "2022-08-09T06:12:17.550Z"
   },
   {
    "duration": 7,
    "start_time": "2022-08-09T06:12:28.603Z"
   },
   {
    "duration": 4,
    "start_time": "2022-08-09T06:14:00.647Z"
   },
   {
    "duration": 3,
    "start_time": "2022-08-09T06:14:20.331Z"
   },
   {
    "duration": 3,
    "start_time": "2022-08-09T06:15:18.897Z"
   },
   {
    "duration": 8,
    "start_time": "2022-08-09T06:16:08.246Z"
   },
   {
    "duration": 48,
    "start_time": "2022-08-09T06:16:25.684Z"
   },
   {
    "duration": 38,
    "start_time": "2022-08-09T06:17:34.601Z"
   },
   {
    "duration": 4,
    "start_time": "2022-08-09T06:17:39.532Z"
   },
   {
    "duration": 54,
    "start_time": "2022-08-09T06:32:18.358Z"
   },
   {
    "duration": 4,
    "start_time": "2022-08-09T06:32:29.054Z"
   },
   {
    "duration": 3,
    "start_time": "2022-08-09T06:32:54.962Z"
   },
   {
    "duration": 44,
    "start_time": "2022-08-09T06:33:08.110Z"
   },
   {
    "duration": 11,
    "start_time": "2022-08-09T06:33:54.624Z"
   },
   {
    "duration": 32,
    "start_time": "2022-08-09T06:36:06.897Z"
   },
   {
    "duration": 41,
    "start_time": "2022-08-09T06:36:16.296Z"
   },
   {
    "duration": 9,
    "start_time": "2022-08-09T06:36:57.174Z"
   },
   {
    "duration": 4,
    "start_time": "2022-08-09T06:37:03.569Z"
   },
   {
    "duration": 37,
    "start_time": "2022-08-09T06:37:43.224Z"
   },
   {
    "duration": 41,
    "start_time": "2022-08-09T06:37:57.147Z"
   },
   {
    "duration": 46,
    "start_time": "2022-08-09T06:41:21.338Z"
   },
   {
    "duration": 6,
    "start_time": "2022-08-09T06:41:26.788Z"
   },
   {
    "duration": 28,
    "start_time": "2022-08-09T06:42:47.319Z"
   },
   {
    "duration": 3,
    "start_time": "2022-08-09T06:42:49.859Z"
   },
   {
    "duration": 22,
    "start_time": "2022-08-09T06:45:02.583Z"
   },
   {
    "duration": 4,
    "start_time": "2022-08-09T06:45:06.346Z"
   },
   {
    "duration": 4,
    "start_time": "2022-08-09T06:47:10.275Z"
   },
   {
    "duration": 20,
    "start_time": "2022-08-09T06:47:16.894Z"
   },
   {
    "duration": 4,
    "start_time": "2022-08-09T06:47:43.518Z"
   },
   {
    "duration": 19,
    "start_time": "2022-08-09T06:47:47.781Z"
   },
   {
    "duration": 4,
    "start_time": "2022-08-09T06:57:35.365Z"
   },
   {
    "duration": 22,
    "start_time": "2022-08-09T06:57:39.816Z"
   },
   {
    "duration": 4,
    "start_time": "2022-08-09T06:57:48.402Z"
   },
   {
    "duration": 19,
    "start_time": "2022-08-09T06:57:51.702Z"
   },
   {
    "duration": 35,
    "start_time": "2022-08-09T07:03:06.615Z"
   },
   {
    "duration": 4,
    "start_time": "2022-08-09T07:03:12.669Z"
   },
   {
    "duration": 409,
    "start_time": "2022-08-09T19:36:27.317Z"
   },
   {
    "duration": 917,
    "start_time": "2022-08-09T19:36:27.728Z"
   },
   {
    "duration": 9,
    "start_time": "2022-08-09T19:36:28.647Z"
   },
   {
    "duration": 30,
    "start_time": "2022-08-09T19:36:28.658Z"
   },
   {
    "duration": 4,
    "start_time": "2022-08-09T19:36:28.690Z"
   },
   {
    "duration": 15,
    "start_time": "2022-08-09T19:36:28.696Z"
   },
   {
    "duration": 4,
    "start_time": "2022-08-09T19:36:28.712Z"
   },
   {
    "duration": 46,
    "start_time": "2022-08-09T19:36:28.717Z"
   },
   {
    "duration": 16,
    "start_time": "2022-08-09T19:36:28.764Z"
   },
   {
    "duration": 23,
    "start_time": "2022-08-09T19:36:28.781Z"
   },
   {
    "duration": 87,
    "start_time": "2022-08-09T19:36:28.807Z"
   },
   {
    "duration": 76,
    "start_time": "2022-08-09T19:36:28.895Z"
   },
   {
    "duration": 59,
    "start_time": "2022-08-09T19:36:28.973Z"
   },
   {
    "duration": 64,
    "start_time": "2022-08-09T19:36:29.035Z"
   },
   {
    "duration": 3,
    "start_time": "2022-08-09T19:36:29.101Z"
   },
   {
    "duration": 10,
    "start_time": "2022-08-09T19:36:29.106Z"
   },
   {
    "duration": 51,
    "start_time": "2022-08-09T19:36:29.117Z"
   },
   {
    "duration": 10,
    "start_time": "2022-08-09T19:36:29.169Z"
   },
   {
    "duration": 10,
    "start_time": "2022-08-09T19:36:29.181Z"
   },
   {
    "duration": 3,
    "start_time": "2022-08-09T19:36:29.192Z"
   },
   {
    "duration": 25,
    "start_time": "2022-08-09T19:36:29.196Z"
   },
   {
    "duration": 47,
    "start_time": "2022-08-09T19:36:29.222Z"
   },
   {
    "duration": 17,
    "start_time": "2022-08-09T19:36:29.270Z"
   },
   {
    "duration": 13,
    "start_time": "2022-08-09T19:36:29.289Z"
   },
   {
    "duration": 23,
    "start_time": "2022-08-09T19:36:29.304Z"
   },
   {
    "duration": 22,
    "start_time": "2022-08-09T19:36:29.355Z"
   },
   {
    "duration": 11,
    "start_time": "2022-08-09T19:36:29.379Z"
   },
   {
    "duration": 16,
    "start_time": "2022-08-09T19:36:29.391Z"
   },
   {
    "duration": 9,
    "start_time": "2022-08-09T19:36:29.408Z"
   },
   {
    "duration": 4,
    "start_time": "2022-08-09T19:36:29.418Z"
   },
   {
    "duration": 48,
    "start_time": "2022-08-09T19:36:29.424Z"
   },
   {
    "duration": 13,
    "start_time": "2022-08-09T19:36:29.473Z"
   },
   {
    "duration": 18,
    "start_time": "2022-08-09T19:36:29.487Z"
   },
   {
    "duration": 13,
    "start_time": "2022-08-09T19:36:29.506Z"
   },
   {
    "duration": 109,
    "start_time": "2022-08-09T19:36:29.520Z"
   },
   {
    "duration": 8,
    "start_time": "2022-08-09T19:36:29.632Z"
   },
   {
    "duration": 34,
    "start_time": "2022-08-09T19:36:29.641Z"
   },
   {
    "duration": 5,
    "start_time": "2022-08-09T19:36:29.676Z"
   },
   {
    "duration": 5,
    "start_time": "2022-08-09T19:37:07.104Z"
   },
   {
    "duration": 23,
    "start_time": "2022-08-09T19:37:07.975Z"
   },
   {
    "duration": 7,
    "start_time": "2022-08-09T19:39:13.713Z"
   },
   {
    "duration": 4,
    "start_time": "2022-08-09T19:39:18.345Z"
   },
   {
    "duration": 19,
    "start_time": "2022-08-09T19:40:13.457Z"
   },
   {
    "duration": 4,
    "start_time": "2022-08-09T19:40:14.809Z"
   },
   {
    "duration": 420,
    "start_time": "2022-08-14T11:25:00.085Z"
   },
   {
    "duration": 646,
    "start_time": "2022-08-14T11:25:00.507Z"
   },
   {
    "duration": 7,
    "start_time": "2022-08-14T11:25:01.155Z"
   },
   {
    "duration": 40,
    "start_time": "2022-08-14T11:25:01.168Z"
   },
   {
    "duration": 28,
    "start_time": "2022-08-14T11:25:01.210Z"
   },
   {
    "duration": 20,
    "start_time": "2022-08-14T11:25:01.240Z"
   },
   {
    "duration": 22,
    "start_time": "2022-08-14T11:25:01.262Z"
   },
   {
    "duration": 27,
    "start_time": "2022-08-14T11:25:01.286Z"
   },
   {
    "duration": 22,
    "start_time": "2022-08-14T11:25:01.315Z"
   },
   {
    "duration": 25,
    "start_time": "2022-08-14T11:25:01.340Z"
   },
   {
    "duration": 88,
    "start_time": "2022-08-14T11:25:01.368Z"
   },
   {
    "duration": 88,
    "start_time": "2022-08-14T11:25:01.457Z"
   },
   {
    "duration": 73,
    "start_time": "2022-08-14T11:25:01.547Z"
   },
   {
    "duration": 37,
    "start_time": "2022-08-14T11:25:01.621Z"
   },
   {
    "duration": 27,
    "start_time": "2022-08-14T11:25:01.668Z"
   },
   {
    "duration": 18,
    "start_time": "2022-08-14T11:25:01.697Z"
   },
   {
    "duration": 44,
    "start_time": "2022-08-14T11:25:01.718Z"
   },
   {
    "duration": 19,
    "start_time": "2022-08-14T11:25:01.763Z"
   },
   {
    "duration": 50,
    "start_time": "2022-08-14T11:25:01.784Z"
   },
   {
    "duration": 16,
    "start_time": "2022-08-14T11:25:01.836Z"
   },
   {
    "duration": 52,
    "start_time": "2022-08-14T11:25:01.854Z"
   },
   {
    "duration": 16,
    "start_time": "2022-08-14T11:25:01.909Z"
   },
   {
    "duration": 32,
    "start_time": "2022-08-14T11:25:01.927Z"
   },
   {
    "duration": 25,
    "start_time": "2022-08-14T11:25:01.960Z"
   },
   {
    "duration": 43,
    "start_time": "2022-08-14T11:25:01.986Z"
   },
   {
    "duration": 19,
    "start_time": "2022-08-14T11:25:02.030Z"
   },
   {
    "duration": 12,
    "start_time": "2022-08-14T11:25:02.050Z"
   },
   {
    "duration": 20,
    "start_time": "2022-08-14T11:25:02.066Z"
   },
   {
    "duration": 20,
    "start_time": "2022-08-14T11:25:02.088Z"
   },
   {
    "duration": 4,
    "start_time": "2022-08-14T11:25:02.110Z"
   },
   {
    "duration": 25,
    "start_time": "2022-08-14T11:25:02.116Z"
   },
   {
    "duration": 12,
    "start_time": "2022-08-14T11:25:02.142Z"
   },
   {
    "duration": 23,
    "start_time": "2022-08-14T11:25:02.167Z"
   },
   {
    "duration": 13,
    "start_time": "2022-08-14T11:25:02.192Z"
   },
   {
    "duration": 73,
    "start_time": "2022-08-14T11:25:02.207Z"
   },
   {
    "duration": 8,
    "start_time": "2022-08-14T11:25:02.282Z"
   },
   {
    "duration": 25,
    "start_time": "2022-08-14T11:25:02.291Z"
   },
   {
    "duration": 4,
    "start_time": "2022-08-14T11:25:02.318Z"
   },
   {
    "duration": 69,
    "start_time": "2022-08-14T11:31:10.683Z"
   },
   {
    "duration": 9,
    "start_time": "2022-08-14T11:31:26.661Z"
   },
   {
    "duration": 5,
    "start_time": "2022-08-14T11:32:38.398Z"
   },
   {
    "duration": 5,
    "start_time": "2022-08-14T11:33:01.383Z"
   },
   {
    "duration": 4,
    "start_time": "2022-08-14T11:33:49.740Z"
   },
   {
    "duration": 7,
    "start_time": "2022-08-14T11:34:10.552Z"
   },
   {
    "duration": 31,
    "start_time": "2022-08-14T11:35:11.087Z"
   },
   {
    "duration": 78,
    "start_time": "2022-08-14T11:36:12.082Z"
   },
   {
    "duration": 53,
    "start_time": "2022-08-14T11:36:29.183Z"
   },
   {
    "duration": 16,
    "start_time": "2022-08-14T11:36:32.562Z"
   },
   {
    "duration": 3,
    "start_time": "2022-08-14T11:37:07.163Z"
   },
   {
    "duration": 347,
    "start_time": "2022-08-14T11:37:07.168Z"
   },
   {
    "duration": 7,
    "start_time": "2022-08-14T11:37:07.517Z"
   },
   {
    "duration": 54,
    "start_time": "2022-08-14T11:37:07.526Z"
   },
   {
    "duration": 3,
    "start_time": "2022-08-14T11:37:07.583Z"
   },
   {
    "duration": 14,
    "start_time": "2022-08-14T11:37:07.588Z"
   },
   {
    "duration": 3,
    "start_time": "2022-08-14T11:37:07.604Z"
   },
   {
    "duration": 26,
    "start_time": "2022-08-14T11:37:07.609Z"
   },
   {
    "duration": 43,
    "start_time": "2022-08-14T11:37:07.637Z"
   },
   {
    "duration": 26,
    "start_time": "2022-08-14T11:37:07.682Z"
   },
   {
    "duration": 78,
    "start_time": "2022-08-14T11:37:07.711Z"
   },
   {
    "duration": 92,
    "start_time": "2022-08-14T11:37:07.790Z"
   },
   {
    "duration": 62,
    "start_time": "2022-08-14T11:37:07.884Z"
   },
   {
    "duration": 50,
    "start_time": "2022-08-14T11:37:07.948Z"
   },
   {
    "duration": 4,
    "start_time": "2022-08-14T11:37:08.001Z"
   },
   {
    "duration": 13,
    "start_time": "2022-08-14T11:37:08.007Z"
   },
   {
    "duration": 66,
    "start_time": "2022-08-14T11:37:08.023Z"
   },
   {
    "duration": 12,
    "start_time": "2022-08-14T11:37:08.091Z"
   },
   {
    "duration": 12,
    "start_time": "2022-08-14T11:37:08.104Z"
   },
   {
    "duration": 4,
    "start_time": "2022-08-14T11:37:08.118Z"
   },
   {
    "duration": 62,
    "start_time": "2022-08-14T11:37:08.123Z"
   },
   {
    "duration": 20,
    "start_time": "2022-08-14T11:37:08.187Z"
   },
   {
    "duration": 22,
    "start_time": "2022-08-14T11:37:08.209Z"
   },
   {
    "duration": 51,
    "start_time": "2022-08-14T11:37:08.233Z"
   },
   {
    "duration": 26,
    "start_time": "2022-08-14T11:37:08.285Z"
   },
   {
    "duration": 20,
    "start_time": "2022-08-14T11:37:08.313Z"
   },
   {
    "duration": 10,
    "start_time": "2022-08-14T11:37:08.335Z"
   },
   {
    "duration": 44,
    "start_time": "2022-08-14T11:37:08.347Z"
   },
   {
    "duration": 11,
    "start_time": "2022-08-14T11:37:08.394Z"
   },
   {
    "duration": 5,
    "start_time": "2022-08-14T11:37:08.407Z"
   },
   {
    "duration": 24,
    "start_time": "2022-08-14T11:37:08.414Z"
   },
   {
    "duration": 45,
    "start_time": "2022-08-14T11:37:08.440Z"
   },
   {
    "duration": 18,
    "start_time": "2022-08-14T11:37:08.488Z"
   },
   {
    "duration": 13,
    "start_time": "2022-08-14T11:37:08.508Z"
   },
   {
    "duration": 86,
    "start_time": "2022-08-14T11:37:08.523Z"
   },
   {
    "duration": 7,
    "start_time": "2022-08-14T11:37:08.611Z"
   },
   {
    "duration": 27,
    "start_time": "2022-08-14T11:37:08.620Z"
   },
   {
    "duration": 0,
    "start_time": "2022-08-14T11:37:08.649Z"
   },
   {
    "duration": 26,
    "start_time": "2022-08-14T11:37:40.685Z"
   },
   {
    "duration": 7,
    "start_time": "2022-08-14T11:37:46.714Z"
   },
   {
    "duration": 351,
    "start_time": "2022-08-15T06:57:18.777Z"
   },
   {
    "duration": 231,
    "start_time": "2022-08-15T06:57:19.129Z"
   },
   {
    "duration": 6,
    "start_time": "2022-08-15T06:57:19.362Z"
   },
   {
    "duration": 33,
    "start_time": "2022-08-15T06:57:19.369Z"
   },
   {
    "duration": 3,
    "start_time": "2022-08-15T06:57:19.403Z"
   },
   {
    "duration": 12,
    "start_time": "2022-08-15T06:57:19.407Z"
   },
   {
    "duration": 5,
    "start_time": "2022-08-15T06:57:19.421Z"
   },
   {
    "duration": 31,
    "start_time": "2022-08-15T06:57:19.427Z"
   },
   {
    "duration": 13,
    "start_time": "2022-08-15T06:57:19.460Z"
   },
   {
    "duration": 19,
    "start_time": "2022-08-15T06:57:19.475Z"
   },
   {
    "duration": 72,
    "start_time": "2022-08-15T06:57:19.495Z"
   },
   {
    "duration": 59,
    "start_time": "2022-08-15T06:57:19.569Z"
   },
   {
    "duration": 55,
    "start_time": "2022-08-15T06:57:19.630Z"
   },
   {
    "duration": 30,
    "start_time": "2022-08-15T06:57:19.687Z"
   },
   {
    "duration": 2,
    "start_time": "2022-08-15T06:57:19.719Z"
   },
   {
    "duration": 9,
    "start_time": "2022-08-15T06:57:19.723Z"
   },
   {
    "duration": 45,
    "start_time": "2022-08-15T06:57:19.733Z"
   },
   {
    "duration": 11,
    "start_time": "2022-08-15T06:57:19.779Z"
   },
   {
    "duration": 10,
    "start_time": "2022-08-15T06:57:19.791Z"
   },
   {
    "duration": 3,
    "start_time": "2022-08-15T06:57:19.802Z"
   },
   {
    "duration": 21,
    "start_time": "2022-08-15T06:57:19.806Z"
   },
   {
    "duration": 36,
    "start_time": "2022-08-15T06:57:19.829Z"
   },
   {
    "duration": 15,
    "start_time": "2022-08-15T06:57:19.866Z"
   },
   {
    "duration": 13,
    "start_time": "2022-08-15T06:57:19.883Z"
   },
   {
    "duration": 17,
    "start_time": "2022-08-15T06:57:19.897Z"
   },
   {
    "duration": 13,
    "start_time": "2022-08-15T06:57:19.915Z"
   },
   {
    "duration": 9,
    "start_time": "2022-08-15T06:57:19.955Z"
   },
   {
    "duration": 29,
    "start_time": "2022-08-15T06:57:19.966Z"
   },
   {
    "duration": 16,
    "start_time": "2022-08-15T06:57:19.996Z"
   },
   {
    "duration": 19,
    "start_time": "2022-08-15T06:57:20.014Z"
   },
   {
    "duration": 36,
    "start_time": "2022-08-15T06:57:20.034Z"
   },
   {
    "duration": 20,
    "start_time": "2022-08-15T06:57:20.072Z"
   },
   {
    "duration": 36,
    "start_time": "2022-08-15T06:57:20.093Z"
   },
   {
    "duration": 16,
    "start_time": "2022-08-15T06:57:20.131Z"
   },
   {
    "duration": 86,
    "start_time": "2022-08-15T06:57:20.149Z"
   },
   {
    "duration": 6,
    "start_time": "2022-08-15T06:57:20.237Z"
   },
   {
    "duration": 39,
    "start_time": "2022-08-15T06:57:20.245Z"
   },
   {
    "duration": 6,
    "start_time": "2022-08-15T06:57:20.285Z"
   },
   {
    "duration": 64,
    "start_time": "2022-08-15T06:59:13.226Z"
   },
   {
    "duration": 318,
    "start_time": "2022-08-15T06:59:18.215Z"
   },
   {
    "duration": 239,
    "start_time": "2022-08-15T06:59:18.534Z"
   },
   {
    "duration": 6,
    "start_time": "2022-08-15T06:59:18.774Z"
   },
   {
    "duration": 25,
    "start_time": "2022-08-15T06:59:18.782Z"
   },
   {
    "duration": 3,
    "start_time": "2022-08-15T06:59:18.808Z"
   },
   {
    "duration": 12,
    "start_time": "2022-08-15T06:59:18.812Z"
   },
   {
    "duration": 4,
    "start_time": "2022-08-15T06:59:18.826Z"
   },
   {
    "duration": 34,
    "start_time": "2022-08-15T06:59:18.831Z"
   },
   {
    "duration": 17,
    "start_time": "2022-08-15T06:59:18.866Z"
   },
   {
    "duration": 19,
    "start_time": "2022-08-15T06:59:18.885Z"
   },
   {
    "duration": 68,
    "start_time": "2022-08-15T06:59:18.905Z"
   },
   {
    "duration": 63,
    "start_time": "2022-08-15T06:59:18.975Z"
   },
   {
    "duration": 59,
    "start_time": "2022-08-15T06:59:19.039Z"
   },
   {
    "duration": 31,
    "start_time": "2022-08-15T06:59:19.099Z"
   },
   {
    "duration": 2,
    "start_time": "2022-08-15T06:59:19.132Z"
   },
   {
    "duration": 20,
    "start_time": "2022-08-15T06:59:19.136Z"
   },
   {
    "duration": 33,
    "start_time": "2022-08-15T06:59:19.157Z"
   },
   {
    "duration": 9,
    "start_time": "2022-08-15T06:59:19.191Z"
   },
   {
    "duration": 11,
    "start_time": "2022-08-15T06:59:19.202Z"
   },
   {
    "duration": 2,
    "start_time": "2022-08-15T06:59:19.215Z"
   },
   {
    "duration": 42,
    "start_time": "2022-08-15T06:59:19.219Z"
   },
   {
    "duration": 14,
    "start_time": "2022-08-15T06:59:19.262Z"
   },
   {
    "duration": 14,
    "start_time": "2022-08-15T06:59:19.277Z"
   },
   {
    "duration": 12,
    "start_time": "2022-08-15T06:59:19.292Z"
   },
   {
    "duration": 16,
    "start_time": "2022-08-15T06:59:19.306Z"
   },
   {
    "duration": 36,
    "start_time": "2022-08-15T06:59:19.323Z"
   },
   {
    "duration": 7,
    "start_time": "2022-08-15T06:59:19.360Z"
   },
   {
    "duration": 15,
    "start_time": "2022-08-15T06:59:19.370Z"
   },
   {
    "duration": 7,
    "start_time": "2022-08-15T06:59:19.386Z"
   },
   {
    "duration": 4,
    "start_time": "2022-08-15T06:59:19.395Z"
   },
   {
    "duration": 19,
    "start_time": "2022-08-15T06:59:19.400Z"
   },
   {
    "duration": 8,
    "start_time": "2022-08-15T06:59:19.421Z"
   },
   {
    "duration": 13,
    "start_time": "2022-08-15T06:59:19.455Z"
   },
   {
    "duration": 10,
    "start_time": "2022-08-15T06:59:19.469Z"
   },
   {
    "duration": 80,
    "start_time": "2022-08-15T06:59:19.480Z"
   },
   {
    "duration": 0,
    "start_time": "2022-08-15T06:59:19.561Z"
   },
   {
    "duration": 0,
    "start_time": "2022-08-15T06:59:19.562Z"
   },
   {
    "duration": 0,
    "start_time": "2022-08-15T06:59:19.564Z"
   },
   {
    "duration": 9,
    "start_time": "2022-08-15T06:59:29.878Z"
   },
   {
    "duration": 3,
    "start_time": "2022-08-15T06:59:32.968Z"
   },
   {
    "duration": 8,
    "start_time": "2022-08-15T06:59:42.408Z"
   },
   {
    "duration": 5,
    "start_time": "2022-08-15T06:59:46.696Z"
   },
   {
    "duration": 3,
    "start_time": "2022-08-15T07:01:14.561Z"
   },
   {
    "duration": 20,
    "start_time": "2022-08-15T07:01:15.040Z"
   },
   {
    "duration": 6,
    "start_time": "2022-08-15T07:01:15.588Z"
   }
  ],
  "colab": {
   "collapsed_sections": [
    "E0vqbgi9ay0H",
    "VUC88oWjTJw2",
    "atZAxtq4_Zcu"
   ],
   "name": "EmptyFinalProject.ipynb\"",
   "provenance": []
  },
  "kernelspec": {
   "display_name": "Python 3 (ipykernel)",
   "language": "python",
   "name": "python3"
  },
  "language_info": {
   "codemirror_mode": {
    "name": "ipython",
    "version": 3
   },
   "file_extension": ".py",
   "mimetype": "text/x-python",
   "name": "python",
   "nbconvert_exporter": "python",
   "pygments_lexer": "ipython3",
   "version": "3.9.12"
  },
  "toc": {
   "base_numbering": 1,
   "nav_menu": {},
   "number_sections": true,
   "sideBar": true,
   "skip_h1_title": true,
   "title_cell": "Table of Contents",
   "title_sidebar": "Contents",
   "toc_cell": false,
   "toc_position": {
    "height": "calc(100% - 180px)",
    "left": "10px",
    "top": "150px",
    "width": "165px"
   },
   "toc_section_display": true,
   "toc_window_display": true
  }
 },
 "nbformat": 4,
 "nbformat_minor": 4
}
