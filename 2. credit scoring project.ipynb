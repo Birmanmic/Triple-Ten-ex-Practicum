{
 "cells": [
  {
   "cell_type": "markdown",
   "metadata": {},
   "source": [
    "# Analyzing borrowers’ risk of defaulting\n",
    "\n",
    "Your project is to prepare a report for a bank’s loan division. You’ll need to find out if a customer’s marital status and number of children has an impact on whether they will default on a loan. The bank already has some data on customers’ credit worthiness.\n",
    "\n",
    "Your report will be considered when building the **credit score** of a potential customer. The **credit score** is used to evaluate the ability of a potential borrower to repay their loan.\n",
    "\n",
    "[In this notebook you're provided with hints and brief instructions and thinking prompts. Don't ignore them as they are designed to equip you with the structure for the project and will help you analyze what you're doing on a deeper level. Before submitting your project, make sure you remove all hints and descriptions provided to you. Instead, make this report look as if you're sending it to your teammates to demonstrate your findings - they shouldn't know you had some external help from us! To help you out, we've placed the hints you should remove in square brackets.]\n",
    "\n",
    "[Before you dive into analyzing your data, explain the purposes of the project and hypotheses you're going to test.]\n",
    "check the relationship between marital status and loan payments\n",
    "check the financial situation and the payment of the loan\n",
    "check the relationship between employment and loan repayment\n",
    "the higher the financial situation, the greater the chances of timely repayment of the loan\n",
    "married people with children are more likely to repay a loan\n",
    "people who have a job are more likely to pay off a loan\n",
    "\n",
    "\n"
   ]
  },
  {
   "cell_type": "code",
   "execution_count": 4,
   "metadata": {},
   "outputs": [
    {
     "name": "stdout",
     "output_type": "stream",
     "text": [
      "['children', 'days_employed', 'dob_years', 'education', 'education_id', 'family_status', 'family_status_id', 'gender', 'income_type', 'debt', 'total_income', 'purpose']\n"
     ]
    }
   ],
   "source": [
    "import pandas as pd\n",
    "import numpy as np\n",
    "\n",
    "# Loading all the libraries\n",
    "try:\n",
    "    data = pd.read_csv('/datasets/credit_scoring_eng.csv')\n",
    "    \n",
    "except:\n",
    "    data = pd.read_csv('C:/Users/Admin/Desktop/practicum/modul_1/Proj2/credit_scoring_eng.csv')\n",
    "\n",
    "\n",
    "print(list(data.columns.values))# Load the data\n"
   ]
  },
  {
   "cell_type": "markdown",
   "metadata": {},
   "source": [
    "## Task 1. Data exploration\n",
    "\n",
    "**Description of the data**\n",
    "- `children` - the number of children in the family\n",
    "- `days_employed` - work experience in days\n",
    "- `dob_years` - client's age in years\n",
    "- `education` - client's education\n",
    "- `education_id` - education identifier\n",
    "- `family_status` - marital status\n",
    "- `family_status_id` - marital status identifier\n",
    "- `gender` - gender of the client\n",
    "- `income_type` - type of employment\n",
    "- `debt` - was there any debt on loan repayment\n",
    "- `total_income` - monthly income\n",
    "- `purpose` - the purpose of obtaining a loan\n",
    "\n"
   ]
  },
  {
   "cell_type": "code",
   "execution_count": 5,
   "metadata": {},
   "outputs": [
    {
     "data": {
      "text/plain": [
       "'the data has 12 columns'"
      ]
     },
     "execution_count": 5,
     "metadata": {},
     "output_type": "execute_result"
    }
   ],
   "source": [
    "f'the data has {len(data)} rows'\n",
    "f'the data has {len(data.columns)} columns'# Let's see how many rows and columns our dataset has\n",
    "\n"
   ]
  },
  {
   "cell_type": "code",
   "execution_count": 6,
   "metadata": {
    "scrolled": true
   },
   "outputs": [
    {
     "data": {
      "text/html": [
       "<div>\n",
       "<style scoped>\n",
       "    .dataframe tbody tr th:only-of-type {\n",
       "        vertical-align: middle;\n",
       "    }\n",
       "\n",
       "    .dataframe tbody tr th {\n",
       "        vertical-align: top;\n",
       "    }\n",
       "\n",
       "    .dataframe thead th {\n",
       "        text-align: right;\n",
       "    }\n",
       "</style>\n",
       "<table border=\"1\" class=\"dataframe\">\n",
       "  <thead>\n",
       "    <tr style=\"text-align: right;\">\n",
       "      <th></th>\n",
       "      <th>children</th>\n",
       "      <th>days_employed</th>\n",
       "      <th>dob_years</th>\n",
       "      <th>education</th>\n",
       "      <th>education_id</th>\n",
       "      <th>family_status</th>\n",
       "      <th>family_status_id</th>\n",
       "      <th>gender</th>\n",
       "      <th>income_type</th>\n",
       "      <th>debt</th>\n",
       "      <th>total_income</th>\n",
       "      <th>purpose</th>\n",
       "    </tr>\n",
       "  </thead>\n",
       "  <tbody>\n",
       "    <tr>\n",
       "      <th>0</th>\n",
       "      <td>1</td>\n",
       "      <td>-8437.673028</td>\n",
       "      <td>42</td>\n",
       "      <td>bachelor's degree</td>\n",
       "      <td>0</td>\n",
       "      <td>married</td>\n",
       "      <td>0</td>\n",
       "      <td>F</td>\n",
       "      <td>employee</td>\n",
       "      <td>0</td>\n",
       "      <td>40620.102</td>\n",
       "      <td>purchase of the house</td>\n",
       "    </tr>\n",
       "    <tr>\n",
       "      <th>1</th>\n",
       "      <td>1</td>\n",
       "      <td>-4024.803754</td>\n",
       "      <td>36</td>\n",
       "      <td>secondary education</td>\n",
       "      <td>1</td>\n",
       "      <td>married</td>\n",
       "      <td>0</td>\n",
       "      <td>F</td>\n",
       "      <td>employee</td>\n",
       "      <td>0</td>\n",
       "      <td>17932.802</td>\n",
       "      <td>car purchase</td>\n",
       "    </tr>\n",
       "    <tr>\n",
       "      <th>2</th>\n",
       "      <td>0</td>\n",
       "      <td>-5623.422610</td>\n",
       "      <td>33</td>\n",
       "      <td>Secondary Education</td>\n",
       "      <td>1</td>\n",
       "      <td>married</td>\n",
       "      <td>0</td>\n",
       "      <td>M</td>\n",
       "      <td>employee</td>\n",
       "      <td>0</td>\n",
       "      <td>23341.752</td>\n",
       "      <td>purchase of the house</td>\n",
       "    </tr>\n",
       "    <tr>\n",
       "      <th>3</th>\n",
       "      <td>3</td>\n",
       "      <td>-4124.747207</td>\n",
       "      <td>32</td>\n",
       "      <td>secondary education</td>\n",
       "      <td>1</td>\n",
       "      <td>married</td>\n",
       "      <td>0</td>\n",
       "      <td>M</td>\n",
       "      <td>employee</td>\n",
       "      <td>0</td>\n",
       "      <td>42820.568</td>\n",
       "      <td>supplementary education</td>\n",
       "    </tr>\n",
       "    <tr>\n",
       "      <th>4</th>\n",
       "      <td>0</td>\n",
       "      <td>340266.072047</td>\n",
       "      <td>53</td>\n",
       "      <td>secondary education</td>\n",
       "      <td>1</td>\n",
       "      <td>civil partnership</td>\n",
       "      <td>1</td>\n",
       "      <td>F</td>\n",
       "      <td>retiree</td>\n",
       "      <td>0</td>\n",
       "      <td>25378.572</td>\n",
       "      <td>to have a wedding</td>\n",
       "    </tr>\n",
       "    <tr>\n",
       "      <th>5</th>\n",
       "      <td>0</td>\n",
       "      <td>-926.185831</td>\n",
       "      <td>27</td>\n",
       "      <td>bachelor's degree</td>\n",
       "      <td>0</td>\n",
       "      <td>civil partnership</td>\n",
       "      <td>1</td>\n",
       "      <td>M</td>\n",
       "      <td>business</td>\n",
       "      <td>0</td>\n",
       "      <td>40922.170</td>\n",
       "      <td>purchase of the house</td>\n",
       "    </tr>\n",
       "    <tr>\n",
       "      <th>6</th>\n",
       "      <td>0</td>\n",
       "      <td>-2879.202052</td>\n",
       "      <td>43</td>\n",
       "      <td>bachelor's degree</td>\n",
       "      <td>0</td>\n",
       "      <td>married</td>\n",
       "      <td>0</td>\n",
       "      <td>F</td>\n",
       "      <td>business</td>\n",
       "      <td>0</td>\n",
       "      <td>38484.156</td>\n",
       "      <td>housing transactions</td>\n",
       "    </tr>\n",
       "    <tr>\n",
       "      <th>7</th>\n",
       "      <td>0</td>\n",
       "      <td>-152.779569</td>\n",
       "      <td>50</td>\n",
       "      <td>SECONDARY EDUCATION</td>\n",
       "      <td>1</td>\n",
       "      <td>married</td>\n",
       "      <td>0</td>\n",
       "      <td>M</td>\n",
       "      <td>employee</td>\n",
       "      <td>0</td>\n",
       "      <td>21731.829</td>\n",
       "      <td>education</td>\n",
       "    </tr>\n",
       "    <tr>\n",
       "      <th>8</th>\n",
       "      <td>2</td>\n",
       "      <td>-6929.865299</td>\n",
       "      <td>35</td>\n",
       "      <td>BACHELOR'S DEGREE</td>\n",
       "      <td>0</td>\n",
       "      <td>civil partnership</td>\n",
       "      <td>1</td>\n",
       "      <td>F</td>\n",
       "      <td>employee</td>\n",
       "      <td>0</td>\n",
       "      <td>15337.093</td>\n",
       "      <td>having a wedding</td>\n",
       "    </tr>\n",
       "    <tr>\n",
       "      <th>9</th>\n",
       "      <td>0</td>\n",
       "      <td>-2188.756445</td>\n",
       "      <td>41</td>\n",
       "      <td>secondary education</td>\n",
       "      <td>1</td>\n",
       "      <td>married</td>\n",
       "      <td>0</td>\n",
       "      <td>M</td>\n",
       "      <td>employee</td>\n",
       "      <td>0</td>\n",
       "      <td>23108.150</td>\n",
       "      <td>purchase of the house for my family</td>\n",
       "    </tr>\n",
       "  </tbody>\n",
       "</table>\n",
       "</div>"
      ],
      "text/plain": [
       "   children  days_employed  dob_years            education  education_id  \\\n",
       "0         1   -8437.673028         42    bachelor's degree             0   \n",
       "1         1   -4024.803754         36  secondary education             1   \n",
       "2         0   -5623.422610         33  Secondary Education             1   \n",
       "3         3   -4124.747207         32  secondary education             1   \n",
       "4         0  340266.072047         53  secondary education             1   \n",
       "5         0    -926.185831         27    bachelor's degree             0   \n",
       "6         0   -2879.202052         43    bachelor's degree             0   \n",
       "7         0    -152.779569         50  SECONDARY EDUCATION             1   \n",
       "8         2   -6929.865299         35    BACHELOR'S DEGREE             0   \n",
       "9         0   -2188.756445         41  secondary education             1   \n",
       "\n",
       "       family_status  family_status_id gender income_type  debt  total_income  \\\n",
       "0            married                 0      F    employee     0     40620.102   \n",
       "1            married                 0      F    employee     0     17932.802   \n",
       "2            married                 0      M    employee     0     23341.752   \n",
       "3            married                 0      M    employee     0     42820.568   \n",
       "4  civil partnership                 1      F     retiree     0     25378.572   \n",
       "5  civil partnership                 1      M    business     0     40922.170   \n",
       "6            married                 0      F    business     0     38484.156   \n",
       "7            married                 0      M    employee     0     21731.829   \n",
       "8  civil partnership                 1      F    employee     0     15337.093   \n",
       "9            married                 0      M    employee     0     23108.150   \n",
       "\n",
       "                               purpose  \n",
       "0                purchase of the house  \n",
       "1                         car purchase  \n",
       "2                purchase of the house  \n",
       "3              supplementary education  \n",
       "4                    to have a wedding  \n",
       "5                purchase of the house  \n",
       "6                 housing transactions  \n",
       "7                            education  \n",
       "8                     having a wedding  \n",
       "9  purchase of the house for my family  "
      ]
     },
     "execution_count": 6,
     "metadata": {},
     "output_type": "execute_result"
    }
   ],
   "source": [
    "data.head(10)# let's print the first N rows\n",
    "\n"
   ]
  },
  {
   "cell_type": "markdown",
   "metadata": {},
   "source": [
    "*days_employed column has many negative values\n",
    "*education column has uppercase and lowercase letters\n",
    "*total_income and days_employed columns has missing values\n"
   ]
  },
  {
   "cell_type": "code",
   "execution_count": 7,
   "metadata": {
    "scrolled": false
   },
   "outputs": [
    {
     "name": "stdout",
     "output_type": "stream",
     "text": [
      "<class 'pandas.core.frame.DataFrame'>\n",
      "RangeIndex: 21525 entries, 0 to 21524\n",
      "Data columns (total 12 columns):\n",
      " #   Column            Non-Null Count  Dtype  \n",
      "---  ------            --------------  -----  \n",
      " 0   children          21525 non-null  int64  \n",
      " 1   days_employed     19351 non-null  float64\n",
      " 2   dob_years         21525 non-null  int64  \n",
      " 3   education         21525 non-null  object \n",
      " 4   education_id      21525 non-null  int64  \n",
      " 5   family_status     21525 non-null  object \n",
      " 6   family_status_id  21525 non-null  int64  \n",
      " 7   gender            21525 non-null  object \n",
      " 8   income_type       21525 non-null  object \n",
      " 9   debt              21525 non-null  int64  \n",
      " 10  total_income      19351 non-null  float64\n",
      " 11  purpose           21525 non-null  object \n",
      "dtypes: float64(2), int64(5), object(5)\n",
      "memory usage: 2.0+ MB\n"
     ]
    }
   ],
   "source": [
    "data.info()# Get info on data\n"
   ]
  },
  {
   "cell_type": "code",
   "execution_count": 8,
   "metadata": {
    "scrolled": true
   },
   "outputs": [
    {
     "data": {
      "text/plain": [
       "children               0\n",
       "days_employed       2174\n",
       "dob_years              0\n",
       "education              0\n",
       "education_id           0\n",
       "family_status          0\n",
       "family_status_id       0\n",
       "gender                 0\n",
       "income_type            0\n",
       "debt                   0\n",
       "total_income        2174\n",
       "purpose                0\n",
       "dtype: int64"
      ]
     },
     "execution_count": 8,
     "metadata": {},
     "output_type": "execute_result"
    }
   ],
   "source": [
    "data.isna().sum()"
   ]
  },
  {
   "cell_type": "markdown",
   "metadata": {},
   "source": [
    "\n",
    " there are missing values in two columns. the number is the same, we need to compare these columns to get a better understanding of the database."
   ]
  },
  {
   "cell_type": "markdown",
   "metadata": {},
   "source": [
    "The number of missing values in both columns is the same. Maybe people who don't work don't get paid?\n"
   ]
  },
  {
   "cell_type": "code",
   "execution_count": 10,
   "metadata": {},
   "outputs": [
    {
     "data": {
      "text/html": [
       "<div>\n",
       "<style scoped>\n",
       "    .dataframe tbody tr th:only-of-type {\n",
       "        vertical-align: middle;\n",
       "    }\n",
       "\n",
       "    .dataframe tbody tr th {\n",
       "        vertical-align: top;\n",
       "    }\n",
       "\n",
       "    .dataframe thead th {\n",
       "        text-align: right;\n",
       "    }\n",
       "</style>\n",
       "<table border=\"1\" class=\"dataframe\">\n",
       "  <thead>\n",
       "    <tr style=\"text-align: right;\">\n",
       "      <th></th>\n",
       "      <th>children</th>\n",
       "      <th>days_employed</th>\n",
       "      <th>dob_years</th>\n",
       "      <th>education</th>\n",
       "      <th>education_id</th>\n",
       "      <th>family_status</th>\n",
       "      <th>family_status_id</th>\n",
       "      <th>gender</th>\n",
       "      <th>income_type</th>\n",
       "      <th>debt</th>\n",
       "      <th>total_income</th>\n",
       "      <th>purpose</th>\n",
       "    </tr>\n",
       "  </thead>\n",
       "  <tbody>\n",
       "    <tr>\n",
       "      <th>12</th>\n",
       "      <td>0</td>\n",
       "      <td>NaN</td>\n",
       "      <td>65</td>\n",
       "      <td>secondary education</td>\n",
       "      <td>1</td>\n",
       "      <td>civil partnership</td>\n",
       "      <td>1</td>\n",
       "      <td>M</td>\n",
       "      <td>retiree</td>\n",
       "      <td>0</td>\n",
       "      <td>NaN</td>\n",
       "      <td>to have a wedding</td>\n",
       "    </tr>\n",
       "    <tr>\n",
       "      <th>26</th>\n",
       "      <td>0</td>\n",
       "      <td>NaN</td>\n",
       "      <td>41</td>\n",
       "      <td>secondary education</td>\n",
       "      <td>1</td>\n",
       "      <td>married</td>\n",
       "      <td>0</td>\n",
       "      <td>M</td>\n",
       "      <td>civil servant</td>\n",
       "      <td>0</td>\n",
       "      <td>NaN</td>\n",
       "      <td>education</td>\n",
       "    </tr>\n",
       "    <tr>\n",
       "      <th>29</th>\n",
       "      <td>0</td>\n",
       "      <td>NaN</td>\n",
       "      <td>63</td>\n",
       "      <td>secondary education</td>\n",
       "      <td>1</td>\n",
       "      <td>unmarried</td>\n",
       "      <td>4</td>\n",
       "      <td>F</td>\n",
       "      <td>retiree</td>\n",
       "      <td>0</td>\n",
       "      <td>NaN</td>\n",
       "      <td>building a real estate</td>\n",
       "    </tr>\n",
       "    <tr>\n",
       "      <th>41</th>\n",
       "      <td>0</td>\n",
       "      <td>NaN</td>\n",
       "      <td>50</td>\n",
       "      <td>secondary education</td>\n",
       "      <td>1</td>\n",
       "      <td>married</td>\n",
       "      <td>0</td>\n",
       "      <td>F</td>\n",
       "      <td>civil servant</td>\n",
       "      <td>0</td>\n",
       "      <td>NaN</td>\n",
       "      <td>second-hand car purchase</td>\n",
       "    </tr>\n",
       "    <tr>\n",
       "      <th>55</th>\n",
       "      <td>0</td>\n",
       "      <td>NaN</td>\n",
       "      <td>54</td>\n",
       "      <td>secondary education</td>\n",
       "      <td>1</td>\n",
       "      <td>civil partnership</td>\n",
       "      <td>1</td>\n",
       "      <td>F</td>\n",
       "      <td>retiree</td>\n",
       "      <td>1</td>\n",
       "      <td>NaN</td>\n",
       "      <td>to have a wedding</td>\n",
       "    </tr>\n",
       "    <tr>\n",
       "      <th>...</th>\n",
       "      <td>...</td>\n",
       "      <td>...</td>\n",
       "      <td>...</td>\n",
       "      <td>...</td>\n",
       "      <td>...</td>\n",
       "      <td>...</td>\n",
       "      <td>...</td>\n",
       "      <td>...</td>\n",
       "      <td>...</td>\n",
       "      <td>...</td>\n",
       "      <td>...</td>\n",
       "      <td>...</td>\n",
       "    </tr>\n",
       "    <tr>\n",
       "      <th>21489</th>\n",
       "      <td>2</td>\n",
       "      <td>NaN</td>\n",
       "      <td>47</td>\n",
       "      <td>Secondary Education</td>\n",
       "      <td>1</td>\n",
       "      <td>married</td>\n",
       "      <td>0</td>\n",
       "      <td>M</td>\n",
       "      <td>business</td>\n",
       "      <td>0</td>\n",
       "      <td>NaN</td>\n",
       "      <td>purchase of a car</td>\n",
       "    </tr>\n",
       "    <tr>\n",
       "      <th>21495</th>\n",
       "      <td>1</td>\n",
       "      <td>NaN</td>\n",
       "      <td>50</td>\n",
       "      <td>secondary education</td>\n",
       "      <td>1</td>\n",
       "      <td>civil partnership</td>\n",
       "      <td>1</td>\n",
       "      <td>F</td>\n",
       "      <td>employee</td>\n",
       "      <td>0</td>\n",
       "      <td>NaN</td>\n",
       "      <td>wedding ceremony</td>\n",
       "    </tr>\n",
       "    <tr>\n",
       "      <th>21497</th>\n",
       "      <td>0</td>\n",
       "      <td>NaN</td>\n",
       "      <td>48</td>\n",
       "      <td>BACHELOR'S DEGREE</td>\n",
       "      <td>0</td>\n",
       "      <td>married</td>\n",
       "      <td>0</td>\n",
       "      <td>F</td>\n",
       "      <td>business</td>\n",
       "      <td>0</td>\n",
       "      <td>NaN</td>\n",
       "      <td>building a property</td>\n",
       "    </tr>\n",
       "    <tr>\n",
       "      <th>21502</th>\n",
       "      <td>1</td>\n",
       "      <td>NaN</td>\n",
       "      <td>42</td>\n",
       "      <td>secondary education</td>\n",
       "      <td>1</td>\n",
       "      <td>married</td>\n",
       "      <td>0</td>\n",
       "      <td>F</td>\n",
       "      <td>employee</td>\n",
       "      <td>0</td>\n",
       "      <td>NaN</td>\n",
       "      <td>building a real estate</td>\n",
       "    </tr>\n",
       "    <tr>\n",
       "      <th>21510</th>\n",
       "      <td>2</td>\n",
       "      <td>NaN</td>\n",
       "      <td>28</td>\n",
       "      <td>secondary education</td>\n",
       "      <td>1</td>\n",
       "      <td>married</td>\n",
       "      <td>0</td>\n",
       "      <td>F</td>\n",
       "      <td>employee</td>\n",
       "      <td>0</td>\n",
       "      <td>NaN</td>\n",
       "      <td>car purchase</td>\n",
       "    </tr>\n",
       "  </tbody>\n",
       "</table>\n",
       "<p>2174 rows × 12 columns</p>\n",
       "</div>"
      ],
      "text/plain": [
       "       children  days_employed  dob_years            education  education_id  \\\n",
       "12            0            NaN         65  secondary education             1   \n",
       "26            0            NaN         41  secondary education             1   \n",
       "29            0            NaN         63  secondary education             1   \n",
       "41            0            NaN         50  secondary education             1   \n",
       "55            0            NaN         54  secondary education             1   \n",
       "...         ...            ...        ...                  ...           ...   \n",
       "21489         2            NaN         47  Secondary Education             1   \n",
       "21495         1            NaN         50  secondary education             1   \n",
       "21497         0            NaN         48    BACHELOR'S DEGREE             0   \n",
       "21502         1            NaN         42  secondary education             1   \n",
       "21510         2            NaN         28  secondary education             1   \n",
       "\n",
       "           family_status  family_status_id gender    income_type  debt  \\\n",
       "12     civil partnership                 1      M        retiree     0   \n",
       "26               married                 0      M  civil servant     0   \n",
       "29             unmarried                 4      F        retiree     0   \n",
       "41               married                 0      F  civil servant     0   \n",
       "55     civil partnership                 1      F        retiree     1   \n",
       "...                  ...               ...    ...            ...   ...   \n",
       "21489            married                 0      M       business     0   \n",
       "21495  civil partnership                 1      F       employee     0   \n",
       "21497            married                 0      F       business     0   \n",
       "21502            married                 0      F       employee     0   \n",
       "21510            married                 0      F       employee     0   \n",
       "\n",
       "       total_income                   purpose  \n",
       "12              NaN         to have a wedding  \n",
       "26              NaN                 education  \n",
       "29              NaN    building a real estate  \n",
       "41              NaN  second-hand car purchase  \n",
       "55              NaN         to have a wedding  \n",
       "...             ...                       ...  \n",
       "21489           NaN         purchase of a car  \n",
       "21495           NaN          wedding ceremony  \n",
       "21497           NaN       building a property  \n",
       "21502           NaN    building a real estate  \n",
       "21510           NaN              car purchase  \n",
       "\n",
       "[2174 rows x 12 columns]"
      ]
     },
     "execution_count": 10,
     "metadata": {},
     "output_type": "execute_result"
    }
   ],
   "source": [
    "missing_data = data[(data['days_employed'].isnull())&(data['total_income'].isnull())]# Let's apply multiple conditions for filtering data and look at the number of rows in the filtered table.\n",
    "\n",
    "missing_data"
   ]
  },
  {
   "cell_type": "markdown",
   "metadata": {},
   "source": [
    "the number of rows in the filtered table match the number of missing values. clients who do not have the number of working days also do not have a monthly income. maybe they don't work."
   ]
  },
  {
   "cell_type": "markdown",
   "metadata": {},
   "source": [
    "calculate percentage of missing date\n"
   ]
  },
  {
   "cell_type": "code",
   "execution_count": 11,
   "metadata": {
    "scrolled": true
   },
   "outputs": [
    {
     "data": {
      "text/plain": [
       "children                 inf\n",
       "days_employed       9.901104\n",
       "dob_years                inf\n",
       "education                inf\n",
       "education_id             inf\n",
       "family_status            inf\n",
       "family_status_id         inf\n",
       "gender                   inf\n",
       "income_type              inf\n",
       "debt                     inf\n",
       "total_income        9.901104\n",
       "purpose                  inf\n",
       "dtype: float64"
      ]
     },
     "execution_count": 11,
     "metadata": {},
     "output_type": "execute_result"
    }
   ],
   "source": [
    "\n",
    "len(data) / data.isna().sum()\n"
   ]
  },
  {
   "cell_type": "code",
   "execution_count": 12,
   "metadata": {},
   "outputs": [
    {
     "name": "stdout",
     "output_type": "stream",
     "text": [
      "<class 'pandas.core.frame.DataFrame'>\n",
      "Int64Index: 2174 entries, 12 to 21510\n",
      "Data columns (total 12 columns):\n",
      " #   Column            Non-Null Count  Dtype  \n",
      "---  ------            --------------  -----  \n",
      " 0   children          2174 non-null   int64  \n",
      " 1   days_employed     0 non-null      float64\n",
      " 2   dob_years         2174 non-null   int64  \n",
      " 3   education         2174 non-null   object \n",
      " 4   education_id      2174 non-null   int64  \n",
      " 5   family_status     2174 non-null   object \n",
      " 6   family_status_id  2174 non-null   int64  \n",
      " 7   gender            2174 non-null   object \n",
      " 8   income_type       2174 non-null   object \n",
      " 9   debt              2174 non-null   int64  \n",
      " 10  total_income      0 non-null      float64\n",
      " 11  purpose           2174 non-null   object \n",
      "dtypes: float64(2), int64(5), object(5)\n",
      "memory usage: 220.8+ KB\n"
     ]
    }
   ],
   "source": [
    "# Checking distribution\n",
    "\n",
    "missing_data.info()"
   ]
  },
  {
   "cell_type": "markdown",
   "metadata": {},
   "source": [
    "\n",
    "**Possible reasons for missing values in data**\n",
    "1. technical reason -  if so, then we have nothing to do with it\n",
    "2. it's possible that people who don't have a job really don't have an income.\n",
    "3. there may be other reasons, but in order to find them, we need to perform some actions with the database.\n",
    "\n"
   ]
  },
  {
   "cell_type": "markdown",
   "metadata": {},
   "source": [
    "check each column individually and see how much of each value is missing in the missing information"
   ]
  },
  {
   "cell_type": "code",
   "execution_count": 13,
   "metadata": {},
   "outputs": [
    {
     "data": {
      "text/plain": [
       "F    1484\n",
       "M     690\n",
       "Name: gender, dtype: int64"
      ]
     },
     "execution_count": 13,
     "metadata": {},
     "output_type": "execute_result"
    }
   ],
   "source": [
    "missing_data[missing_data.days_employed.isnull()]['gender'].value_counts()"
   ]
  },
  {
   "cell_type": "markdown",
   "metadata": {},
   "source": [
    "most missing values are wemen."
   ]
  },
  {
   "cell_type": "code",
   "execution_count": 14,
   "metadata": {},
   "outputs": [
    {
     "data": {
      "text/plain": [
       "secondary education    1408\n",
       "bachelor's degree       496\n",
       "SECONDARY EDUCATION      67\n",
       "Secondary Education      65\n",
       "some college             55\n",
       "Bachelor's Degree        25\n",
       "BACHELOR'S DEGREE        23\n",
       "primary education        19\n",
       "Some College              7\n",
       "SOME COLLEGE              7\n",
       "Primary Education         1\n",
       "PRIMARY EDUCATION         1\n",
       "Name: education, dtype: int64"
      ]
     },
     "execution_count": 14,
     "metadata": {},
     "output_type": "execute_result"
    }
   ],
   "source": [
    "missing_data[missing_data.days_employed.isnull()]['education'].value_counts()"
   ]
  },
  {
   "cell_type": "markdown",
   "metadata": {},
   "source": [
    "most missing values with secondary education, possibly education influences the final result"
   ]
  },
  {
   "cell_type": "code",
   "execution_count": 15,
   "metadata": {},
   "outputs": [
    {
     "data": {
      "text/plain": [
       " 0     1439\n",
       " 1      475\n",
       " 2      204\n",
       " 3       36\n",
       " 20       9\n",
       " 4        7\n",
       "-1        3\n",
       " 5        1\n",
       "Name: children, dtype: int64"
      ]
     },
     "execution_count": 15,
     "metadata": {},
     "output_type": "execute_result"
    }
   ],
   "source": [
    "missing_data['children'].value_counts()"
   ]
  },
  {
   "cell_type": "markdown",
   "metadata": {},
   "source": [
    "most of the missing values don't have children, maybe the number of children affects the final result"
   ]
  },
  {
   "cell_type": "code",
   "execution_count": 16,
   "metadata": {},
   "outputs": [
    {
     "data": {
      "text/plain": [
       "having a wedding                            92\n",
       "to have a wedding                           81\n",
       "wedding ceremony                            76\n",
       "construction of own property                75\n",
       "housing transactions                        74\n",
       "buy real estate                             72\n",
       "purchase of the house for my family         71\n",
       "transactions with my real estate            71\n",
       "transactions with commercial real estate    70\n",
       "housing renovation                          70\n",
       "buy commercial real estate                  67\n",
       "buying property for renting out             65\n",
       "property                                    62\n",
       "real estate transactions                    61\n",
       "buy residential real estate                 61\n",
       "housing                                     60\n",
       "building a property                         59\n",
       "cars                                        57\n",
       "going to university                         56\n",
       "to become educated                          55\n",
       "second-hand car purchase                    54\n",
       "buying my own car                           53\n",
       "to own a car                                52\n",
       "purchase of the house                       52\n",
       "to get a supplementary education            51\n",
       "getting an education                        50\n",
       "supplementary education                     48\n",
       "profile education                           47\n",
       "purchase of a car                           46\n",
       "building a real estate                      46\n",
       "purchase of my own house                    46\n",
       "car purchase                                43\n",
       "education                                   42\n",
       "buying a second-hand car                    42\n",
       "car                                         41\n",
       "university education                        40\n",
       "getting higher education                    36\n",
       "to buy a car                                30\n",
       "Name: purpose, dtype: int64"
      ]
     },
     "execution_count": 16,
     "metadata": {},
     "output_type": "execute_result"
    }
   ],
   "source": [
    "missing_data[missing_data.days_employed.isnull()]['purpose'].value_counts()"
   ]
  },
  {
   "cell_type": "markdown",
   "metadata": {},
   "source": [
    "there are too many meanings and perhaps after categorization it will be seen better, but it is already clear that most of the meanings refer to the wedding, perhaps there is a pattern here"
   ]
  },
  {
   "cell_type": "code",
   "execution_count": 17,
   "metadata": {},
   "outputs": [
    {
     "data": {
      "text/plain": [
       "employee         1105\n",
       "business          508\n",
       "retiree           413\n",
       "civil servant     147\n",
       "entrepreneur        1\n",
       "Name: income_type, dtype: int64"
      ]
     },
     "execution_count": 17,
     "metadata": {},
     "output_type": "execute_result"
    }
   ],
   "source": [
    "missing_data[missing_data.days_employed.isnull()]['income_type'].value_counts()"
   ]
  },
  {
   "cell_type": "markdown",
   "metadata": {},
   "source": [
    "again, most of the missing values are related to employees, it is possible that there is a pattern here too"
   ]
  },
  {
   "cell_type": "markdown",
   "metadata": {},
   "source": [
    "we see that the greatest matches with the missing dates are among women, those who do not have children and secondary education. the rest is not suspicious. perhaps on follow-up we will see the relationship between gender, education and the number of children in debt repayment. "
   ]
  },
  {
   "cell_type": "code",
   "execution_count": 18,
   "metadata": {},
   "outputs": [
    {
     "data": {
      "text/html": [
       "<div>\n",
       "<style scoped>\n",
       "    .dataframe tbody tr th:only-of-type {\n",
       "        vertical-align: middle;\n",
       "    }\n",
       "\n",
       "    .dataframe tbody tr th {\n",
       "        vertical-align: top;\n",
       "    }\n",
       "\n",
       "    .dataframe thead th {\n",
       "        text-align: right;\n",
       "    }\n",
       "</style>\n",
       "<table border=\"1\" class=\"dataframe\">\n",
       "  <thead>\n",
       "    <tr style=\"text-align: right;\">\n",
       "      <th></th>\n",
       "      <th>children</th>\n",
       "      <th>days_employed</th>\n",
       "      <th>dob_years</th>\n",
       "      <th>education</th>\n",
       "      <th>education_id</th>\n",
       "      <th>family_status</th>\n",
       "      <th>family_status_id</th>\n",
       "      <th>income_type</th>\n",
       "      <th>debt</th>\n",
       "      <th>total_income</th>\n",
       "      <th>purpose</th>\n",
       "    </tr>\n",
       "    <tr>\n",
       "      <th>gender</th>\n",
       "      <th></th>\n",
       "      <th></th>\n",
       "      <th></th>\n",
       "      <th></th>\n",
       "      <th></th>\n",
       "      <th></th>\n",
       "      <th></th>\n",
       "      <th></th>\n",
       "      <th></th>\n",
       "      <th></th>\n",
       "      <th></th>\n",
       "    </tr>\n",
       "  </thead>\n",
       "  <tbody>\n",
       "    <tr>\n",
       "      <th>F</th>\n",
       "      <td>1484</td>\n",
       "      <td>0</td>\n",
       "      <td>1484</td>\n",
       "      <td>1484</td>\n",
       "      <td>1484</td>\n",
       "      <td>1484</td>\n",
       "      <td>1484</td>\n",
       "      <td>1484</td>\n",
       "      <td>1484</td>\n",
       "      <td>0</td>\n",
       "      <td>1484</td>\n",
       "    </tr>\n",
       "    <tr>\n",
       "      <th>M</th>\n",
       "      <td>690</td>\n",
       "      <td>0</td>\n",
       "      <td>690</td>\n",
       "      <td>690</td>\n",
       "      <td>690</td>\n",
       "      <td>690</td>\n",
       "      <td>690</td>\n",
       "      <td>690</td>\n",
       "      <td>690</td>\n",
       "      <td>0</td>\n",
       "      <td>690</td>\n",
       "    </tr>\n",
       "  </tbody>\n",
       "</table>\n",
       "</div>"
      ],
      "text/plain": [
       "        children  days_employed  dob_years  education  education_id  \\\n",
       "gender                                                                \n",
       "F           1484              0       1484       1484          1484   \n",
       "M            690              0        690        690           690   \n",
       "\n",
       "        family_status  family_status_id  income_type  debt  total_income  \\\n",
       "gender                                                                     \n",
       "F                1484              1484         1484  1484             0   \n",
       "M                 690               690          690   690             0   \n",
       "\n",
       "        purpose  \n",
       "gender           \n",
       "F          1484  \n",
       "M           690  "
      ]
     },
     "execution_count": 18,
     "metadata": {},
     "output_type": "execute_result"
    }
   ],
   "source": [
    "missing_data.groupby('gender').count()"
   ]
  },
  {
   "cell_type": "code",
   "execution_count": 19,
   "metadata": {},
   "outputs": [
    {
     "data": {
      "text/html": [
       "<div>\n",
       "<style scoped>\n",
       "    .dataframe tbody tr th:only-of-type {\n",
       "        vertical-align: middle;\n",
       "    }\n",
       "\n",
       "    .dataframe tbody tr th {\n",
       "        vertical-align: top;\n",
       "    }\n",
       "\n",
       "    .dataframe thead th {\n",
       "        text-align: right;\n",
       "    }\n",
       "</style>\n",
       "<table border=\"1\" class=\"dataframe\">\n",
       "  <thead>\n",
       "    <tr style=\"text-align: right;\">\n",
       "      <th></th>\n",
       "      <th>children</th>\n",
       "      <th>days_employed</th>\n",
       "      <th>dob_years</th>\n",
       "      <th>education</th>\n",
       "      <th>family_status</th>\n",
       "      <th>family_status_id</th>\n",
       "      <th>gender</th>\n",
       "      <th>income_type</th>\n",
       "      <th>debt</th>\n",
       "      <th>total_income</th>\n",
       "      <th>purpose</th>\n",
       "    </tr>\n",
       "    <tr>\n",
       "      <th>education_id</th>\n",
       "      <th></th>\n",
       "      <th></th>\n",
       "      <th></th>\n",
       "      <th></th>\n",
       "      <th></th>\n",
       "      <th></th>\n",
       "      <th></th>\n",
       "      <th></th>\n",
       "      <th></th>\n",
       "      <th></th>\n",
       "      <th></th>\n",
       "    </tr>\n",
       "  </thead>\n",
       "  <tbody>\n",
       "    <tr>\n",
       "      <th>0</th>\n",
       "      <td>544</td>\n",
       "      <td>0</td>\n",
       "      <td>544</td>\n",
       "      <td>544</td>\n",
       "      <td>544</td>\n",
       "      <td>544</td>\n",
       "      <td>544</td>\n",
       "      <td>544</td>\n",
       "      <td>544</td>\n",
       "      <td>0</td>\n",
       "      <td>544</td>\n",
       "    </tr>\n",
       "    <tr>\n",
       "      <th>1</th>\n",
       "      <td>1540</td>\n",
       "      <td>0</td>\n",
       "      <td>1540</td>\n",
       "      <td>1540</td>\n",
       "      <td>1540</td>\n",
       "      <td>1540</td>\n",
       "      <td>1540</td>\n",
       "      <td>1540</td>\n",
       "      <td>1540</td>\n",
       "      <td>0</td>\n",
       "      <td>1540</td>\n",
       "    </tr>\n",
       "    <tr>\n",
       "      <th>2</th>\n",
       "      <td>69</td>\n",
       "      <td>0</td>\n",
       "      <td>69</td>\n",
       "      <td>69</td>\n",
       "      <td>69</td>\n",
       "      <td>69</td>\n",
       "      <td>69</td>\n",
       "      <td>69</td>\n",
       "      <td>69</td>\n",
       "      <td>0</td>\n",
       "      <td>69</td>\n",
       "    </tr>\n",
       "    <tr>\n",
       "      <th>3</th>\n",
       "      <td>21</td>\n",
       "      <td>0</td>\n",
       "      <td>21</td>\n",
       "      <td>21</td>\n",
       "      <td>21</td>\n",
       "      <td>21</td>\n",
       "      <td>21</td>\n",
       "      <td>21</td>\n",
       "      <td>21</td>\n",
       "      <td>0</td>\n",
       "      <td>21</td>\n",
       "    </tr>\n",
       "  </tbody>\n",
       "</table>\n",
       "</div>"
      ],
      "text/plain": [
       "              children  days_employed  dob_years  education  family_status  \\\n",
       "education_id                                                                 \n",
       "0                  544              0        544        544            544   \n",
       "1                 1540              0       1540       1540           1540   \n",
       "2                   69              0         69         69             69   \n",
       "3                   21              0         21         21             21   \n",
       "\n",
       "              family_status_id  gender  income_type  debt  total_income  \\\n",
       "education_id                                                              \n",
       "0                          544     544          544   544             0   \n",
       "1                         1540    1540         1540  1540             0   \n",
       "2                           69      69           69    69             0   \n",
       "3                           21      21           21    21             0   \n",
       "\n",
       "              purpose  \n",
       "education_id           \n",
       "0                 544  \n",
       "1                1540  \n",
       "2                  69  \n",
       "3                  21  "
      ]
     },
     "execution_count": 19,
     "metadata": {},
     "output_type": "execute_result"
    }
   ],
   "source": [
    "# Check for other reasons and patterns that could lead to missing values\n",
    "missing_data.groupby('education_id').count()"
   ]
  },
  {
   "cell_type": "markdown",
   "metadata": {},
   "source": []
  },
  {
   "cell_type": "code",
   "execution_count": 20,
   "metadata": {},
   "outputs": [
    {
     "data": {
      "text/plain": [
       "array([\"bachelor's degree\", 'secondary education', 'Secondary Education',\n",
       "       'SECONDARY EDUCATION', \"BACHELOR'S DEGREE\", 'some college',\n",
       "       'primary education', \"Bachelor's Degree\", 'SOME COLLEGE',\n",
       "       'Some College', 'PRIMARY EDUCATION', 'Primary Education',\n",
       "       'Graduate Degree', 'GRADUATE DEGREE', 'graduate degree'],\n",
       "      dtype=object)"
      ]
     },
     "execution_count": 20,
     "metadata": {},
     "output_type": "execute_result"
    }
   ],
   "source": [
    "data['education'].unique()# Let's see all values in education column to check if and what spellings will need to be fixed\n"
   ]
  },
  {
   "cell_type": "code",
   "execution_count": 21,
   "metadata": {
    "scrolled": true
   },
   "outputs": [],
   "source": [
    "data['education'] = data['education'].str.lower()# Fix the registers if required\n"
   ]
  },
  {
   "cell_type": "code",
   "execution_count": 22,
   "metadata": {},
   "outputs": [
    {
     "data": {
      "text/plain": [
       "array([\"bachelor's degree\", 'secondary education', 'some college',\n",
       "       'primary education', 'graduate degree'], dtype=object)"
      ]
     },
     "execution_count": 22,
     "metadata": {},
     "output_type": "execute_result"
    }
   ],
   "source": [
    "# Checking all the values in the column to make sure we fixed them\n",
    "data['education'].unique()\n"
   ]
  },
  {
   "cell_type": "markdown",
   "metadata": {},
   "source": [
    "[Check the data the `children` column]"
   ]
  },
  {
   "cell_type": "code",
   "execution_count": 23,
   "metadata": {},
   "outputs": [
    {
     "data": {
      "text/plain": [
       "children\n",
       "-1        47\n",
       " 0     14149\n",
       " 1      4818\n",
       " 2      2055\n",
       " 3       330\n",
       " 4        41\n",
       " 5         9\n",
       " 20       76\n",
       "dtype: int64"
      ]
     },
     "execution_count": 23,
     "metadata": {},
     "output_type": "execute_result"
    }
   ],
   "source": [
    "# Let's see the distribution of values in the `children` column\n",
    "#групбай\n",
    "data.groupby('children').size()\n"
   ]
  },
  {
   "cell_type": "markdown",
   "metadata": {},
   "source": [
    "47 lines with a value of -1 and this does not affect and can be replaced or thrown out. 76 lines with a value of 20. in theory, it also does not really affect much and you can just get rid of it or replace it.\n"
   ]
  },
  {
   "cell_type": "code",
   "execution_count": 24,
   "metadata": {},
   "outputs": [],
   "source": [
    "# [fix the data based on your decision]\n",
    "data.loc[data['children'] == -1,'children' ] = 1\n"
   ]
  },
  {
   "cell_type": "code",
   "execution_count": 25,
   "metadata": {},
   "outputs": [],
   "source": [
    "data = data.loc[data['children'] != 20]"
   ]
  },
  {
   "cell_type": "code",
   "execution_count": 26,
   "metadata": {},
   "outputs": [
    {
     "data": {
      "text/plain": [
       "array([1, 0, 3, 2, 4, 5], dtype=int64)"
      ]
     },
     "execution_count": 26,
     "metadata": {},
     "output_type": "execute_result"
    }
   ],
   "source": [
    "# Checking the `children` column again to make sure it's all fixed\n",
    "\n",
    "data['children'].unique()"
   ]
  },
  {
   "cell_type": "code",
   "execution_count": 27,
   "metadata": {},
   "outputs": [
    {
     "data": {
      "text/plain": [
       "count     19284.000000\n",
       "mean      63141.233527\n",
       "std      140910.281638\n",
       "min      -18388.949901\n",
       "25%       -2747.876441\n",
       "50%       -1204.164714\n",
       "75%        -290.206221\n",
       "max      401755.400475\n",
       "Name: days_employed, dtype: float64"
      ]
     },
     "execution_count": 27,
     "metadata": {},
     "output_type": "execute_result"
    }
   ],
   "source": [
    "# Find problematic data in `days_employed`, if they exist, and calculate the percentage\n",
    "data['days_employed'].describe()"
   ]
  },
  {
   "cell_type": "markdown",
   "metadata": {},
   "source": [
    "we see a large number of negative values and numbers with a comma, and the days are whole. perhaps when filling mixed up a hyphen and a minus sign. and also there was a technical error due to which the number became not an integer. also the maximum value of 401755 days is clearly impossible. we need to find out how many such extreme data and if they are a little discard them."
   ]
  },
  {
   "cell_type": "code",
   "execution_count": 28,
   "metadata": {},
   "outputs": [],
   "source": [
    "# Address the problematic values, if they exist\n",
    "data['days_employed'] = data['days_employed'].fillna(0)\n",
    "data['days_employed'] = data['days_employed'].astype(np.int64).abs()\n",
    " \n"
   ]
  },
  {
   "cell_type": "code",
   "execution_count": 29,
   "metadata": {},
   "outputs": [
    {
     "data": {
      "text/plain": [
       "count     21449.000000\n",
       "mean      60245.349760\n",
       "std      133440.134589\n",
       "min           0.000000\n",
       "25%         612.000000\n",
       "50%        1811.000000\n",
       "75%        4791.000000\n",
       "max      401755.000000\n",
       "Name: days_employed, dtype: float64"
      ]
     },
     "execution_count": 29,
     "metadata": {},
     "output_type": "execute_result"
    }
   ],
   "source": [
    "# Check the result - make sure it's fixed\n",
    "data['days_employed'].describe()"
   ]
  },
  {
   "cell_type": "markdown",
   "metadata": {},
   "source": [
    "we changed the negative to positive and the float to inter. it remains to understand what to do with outliers (40 thousand +), but there is a huge amount of missing data, therefore, we will not use this column in further calculations. and leave everything as it is. in principle, we can calculate the number of working days more than 1 and less than 365 days multiplied by 20 working years. but no need)))"
   ]
  },
  {
   "cell_type": "code",
   "execution_count": 30,
   "metadata": {
    "scrolled": true
   },
   "outputs": [
    {
     "data": {
      "text/plain": [
       "count    21449.000000\n",
       "mean        43.298615\n",
       "std         12.576314\n",
       "min          0.000000\n",
       "25%         33.000000\n",
       "50%         42.000000\n",
       "75%         53.000000\n",
       "max         75.000000\n",
       "Name: dob_years, dtype: float64"
      ]
     },
     "execution_count": 30,
     "metadata": {},
     "output_type": "execute_result"
    }
   ],
   "source": [
    "# Check the `dob_years` for suspicious values and count the percentage\n",
    "\n",
    "data['dob_years'].describe()"
   ]
  },
  {
   "cell_type": "code",
   "execution_count": 31,
   "metadata": {},
   "outputs": [
    {
     "data": {
      "text/html": [
       "<div>\n",
       "<style scoped>\n",
       "    .dataframe tbody tr th:only-of-type {\n",
       "        vertical-align: middle;\n",
       "    }\n",
       "\n",
       "    .dataframe tbody tr th {\n",
       "        vertical-align: top;\n",
       "    }\n",
       "\n",
       "    .dataframe thead th {\n",
       "        text-align: right;\n",
       "    }\n",
       "</style>\n",
       "<table border=\"1\" class=\"dataframe\">\n",
       "  <thead>\n",
       "    <tr style=\"text-align: right;\">\n",
       "      <th></th>\n",
       "      <th>children</th>\n",
       "      <th>days_employed</th>\n",
       "      <th>education</th>\n",
       "      <th>education_id</th>\n",
       "      <th>family_status</th>\n",
       "      <th>family_status_id</th>\n",
       "      <th>gender</th>\n",
       "      <th>income_type</th>\n",
       "      <th>debt</th>\n",
       "      <th>total_income</th>\n",
       "      <th>purpose</th>\n",
       "    </tr>\n",
       "    <tr>\n",
       "      <th>dob_years</th>\n",
       "      <th></th>\n",
       "      <th></th>\n",
       "      <th></th>\n",
       "      <th></th>\n",
       "      <th></th>\n",
       "      <th></th>\n",
       "      <th></th>\n",
       "      <th></th>\n",
       "      <th></th>\n",
       "      <th></th>\n",
       "      <th></th>\n",
       "    </tr>\n",
       "  </thead>\n",
       "  <tbody>\n",
       "    <tr>\n",
       "      <th>0</th>\n",
       "      <td>100</td>\n",
       "      <td>100</td>\n",
       "      <td>100</td>\n",
       "      <td>100</td>\n",
       "      <td>100</td>\n",
       "      <td>100</td>\n",
       "      <td>100</td>\n",
       "      <td>100</td>\n",
       "      <td>100</td>\n",
       "      <td>90</td>\n",
       "      <td>100</td>\n",
       "    </tr>\n",
       "    <tr>\n",
       "      <th>19</th>\n",
       "      <td>14</td>\n",
       "      <td>14</td>\n",
       "      <td>14</td>\n",
       "      <td>14</td>\n",
       "      <td>14</td>\n",
       "      <td>14</td>\n",
       "      <td>14</td>\n",
       "      <td>14</td>\n",
       "      <td>14</td>\n",
       "      <td>13</td>\n",
       "      <td>14</td>\n",
       "    </tr>\n",
       "    <tr>\n",
       "      <th>20</th>\n",
       "      <td>51</td>\n",
       "      <td>51</td>\n",
       "      <td>51</td>\n",
       "      <td>51</td>\n",
       "      <td>51</td>\n",
       "      <td>51</td>\n",
       "      <td>51</td>\n",
       "      <td>51</td>\n",
       "      <td>51</td>\n",
       "      <td>46</td>\n",
       "      <td>51</td>\n",
       "    </tr>\n",
       "    <tr>\n",
       "      <th>21</th>\n",
       "      <td>110</td>\n",
       "      <td>110</td>\n",
       "      <td>110</td>\n",
       "      <td>110</td>\n",
       "      <td>110</td>\n",
       "      <td>110</td>\n",
       "      <td>110</td>\n",
       "      <td>110</td>\n",
       "      <td>110</td>\n",
       "      <td>92</td>\n",
       "      <td>110</td>\n",
       "    </tr>\n",
       "    <tr>\n",
       "      <th>22</th>\n",
       "      <td>183</td>\n",
       "      <td>183</td>\n",
       "      <td>183</td>\n",
       "      <td>183</td>\n",
       "      <td>183</td>\n",
       "      <td>183</td>\n",
       "      <td>183</td>\n",
       "      <td>183</td>\n",
       "      <td>183</td>\n",
       "      <td>166</td>\n",
       "      <td>183</td>\n",
       "    </tr>\n",
       "    <tr>\n",
       "      <th>23</th>\n",
       "      <td>253</td>\n",
       "      <td>253</td>\n",
       "      <td>253</td>\n",
       "      <td>253</td>\n",
       "      <td>253</td>\n",
       "      <td>253</td>\n",
       "      <td>253</td>\n",
       "      <td>253</td>\n",
       "      <td>253</td>\n",
       "      <td>217</td>\n",
       "      <td>253</td>\n",
       "    </tr>\n",
       "    <tr>\n",
       "      <th>24</th>\n",
       "      <td>263</td>\n",
       "      <td>263</td>\n",
       "      <td>263</td>\n",
       "      <td>263</td>\n",
       "      <td>263</td>\n",
       "      <td>263</td>\n",
       "      <td>263</td>\n",
       "      <td>263</td>\n",
       "      <td>263</td>\n",
       "      <td>242</td>\n",
       "      <td>263</td>\n",
       "    </tr>\n",
       "    <tr>\n",
       "      <th>25</th>\n",
       "      <td>356</td>\n",
       "      <td>356</td>\n",
       "      <td>356</td>\n",
       "      <td>356</td>\n",
       "      <td>356</td>\n",
       "      <td>356</td>\n",
       "      <td>356</td>\n",
       "      <td>356</td>\n",
       "      <td>356</td>\n",
       "      <td>334</td>\n",
       "      <td>356</td>\n",
       "    </tr>\n",
       "    <tr>\n",
       "      <th>26</th>\n",
       "      <td>407</td>\n",
       "      <td>407</td>\n",
       "      <td>407</td>\n",
       "      <td>407</td>\n",
       "      <td>407</td>\n",
       "      <td>407</td>\n",
       "      <td>407</td>\n",
       "      <td>407</td>\n",
       "      <td>407</td>\n",
       "      <td>372</td>\n",
       "      <td>407</td>\n",
       "    </tr>\n",
       "    <tr>\n",
       "      <th>27</th>\n",
       "      <td>491</td>\n",
       "      <td>491</td>\n",
       "      <td>491</td>\n",
       "      <td>491</td>\n",
       "      <td>491</td>\n",
       "      <td>491</td>\n",
       "      <td>491</td>\n",
       "      <td>491</td>\n",
       "      <td>491</td>\n",
       "      <td>455</td>\n",
       "      <td>491</td>\n",
       "    </tr>\n",
       "    <tr>\n",
       "      <th>28</th>\n",
       "      <td>503</td>\n",
       "      <td>503</td>\n",
       "      <td>503</td>\n",
       "      <td>503</td>\n",
       "      <td>503</td>\n",
       "      <td>503</td>\n",
       "      <td>503</td>\n",
       "      <td>503</td>\n",
       "      <td>503</td>\n",
       "      <td>446</td>\n",
       "      <td>503</td>\n",
       "    </tr>\n",
       "    <tr>\n",
       "      <th>29</th>\n",
       "      <td>543</td>\n",
       "      <td>543</td>\n",
       "      <td>543</td>\n",
       "      <td>543</td>\n",
       "      <td>543</td>\n",
       "      <td>543</td>\n",
       "      <td>543</td>\n",
       "      <td>543</td>\n",
       "      <td>543</td>\n",
       "      <td>493</td>\n",
       "      <td>543</td>\n",
       "    </tr>\n",
       "    <tr>\n",
       "      <th>30</th>\n",
       "      <td>537</td>\n",
       "      <td>537</td>\n",
       "      <td>537</td>\n",
       "      <td>537</td>\n",
       "      <td>537</td>\n",
       "      <td>537</td>\n",
       "      <td>537</td>\n",
       "      <td>537</td>\n",
       "      <td>537</td>\n",
       "      <td>479</td>\n",
       "      <td>537</td>\n",
       "    </tr>\n",
       "    <tr>\n",
       "      <th>31</th>\n",
       "      <td>558</td>\n",
       "      <td>558</td>\n",
       "      <td>558</td>\n",
       "      <td>558</td>\n",
       "      <td>558</td>\n",
       "      <td>558</td>\n",
       "      <td>558</td>\n",
       "      <td>558</td>\n",
       "      <td>558</td>\n",
       "      <td>493</td>\n",
       "      <td>558</td>\n",
       "    </tr>\n",
       "    <tr>\n",
       "      <th>32</th>\n",
       "      <td>508</td>\n",
       "      <td>508</td>\n",
       "      <td>508</td>\n",
       "      <td>508</td>\n",
       "      <td>508</td>\n",
       "      <td>508</td>\n",
       "      <td>508</td>\n",
       "      <td>508</td>\n",
       "      <td>508</td>\n",
       "      <td>471</td>\n",
       "      <td>508</td>\n",
       "    </tr>\n",
       "    <tr>\n",
       "      <th>33</th>\n",
       "      <td>579</td>\n",
       "      <td>579</td>\n",
       "      <td>579</td>\n",
       "      <td>579</td>\n",
       "      <td>579</td>\n",
       "      <td>579</td>\n",
       "      <td>579</td>\n",
       "      <td>579</td>\n",
       "      <td>579</td>\n",
       "      <td>528</td>\n",
       "      <td>579</td>\n",
       "    </tr>\n",
       "    <tr>\n",
       "      <th>34</th>\n",
       "      <td>600</td>\n",
       "      <td>600</td>\n",
       "      <td>600</td>\n",
       "      <td>600</td>\n",
       "      <td>600</td>\n",
       "      <td>600</td>\n",
       "      <td>600</td>\n",
       "      <td>600</td>\n",
       "      <td>600</td>\n",
       "      <td>531</td>\n",
       "      <td>600</td>\n",
       "    </tr>\n",
       "    <tr>\n",
       "      <th>35</th>\n",
       "      <td>615</td>\n",
       "      <td>615</td>\n",
       "      <td>615</td>\n",
       "      <td>615</td>\n",
       "      <td>615</td>\n",
       "      <td>615</td>\n",
       "      <td>615</td>\n",
       "      <td>615</td>\n",
       "      <td>615</td>\n",
       "      <td>553</td>\n",
       "      <td>615</td>\n",
       "    </tr>\n",
       "    <tr>\n",
       "      <th>36</th>\n",
       "      <td>553</td>\n",
       "      <td>553</td>\n",
       "      <td>553</td>\n",
       "      <td>553</td>\n",
       "      <td>553</td>\n",
       "      <td>553</td>\n",
       "      <td>553</td>\n",
       "      <td>553</td>\n",
       "      <td>553</td>\n",
       "      <td>490</td>\n",
       "      <td>553</td>\n",
       "    </tr>\n",
       "    <tr>\n",
       "      <th>37</th>\n",
       "      <td>533</td>\n",
       "      <td>533</td>\n",
       "      <td>533</td>\n",
       "      <td>533</td>\n",
       "      <td>533</td>\n",
       "      <td>533</td>\n",
       "      <td>533</td>\n",
       "      <td>533</td>\n",
       "      <td>533</td>\n",
       "      <td>480</td>\n",
       "      <td>533</td>\n",
       "    </tr>\n",
       "    <tr>\n",
       "      <th>38</th>\n",
       "      <td>597</td>\n",
       "      <td>597</td>\n",
       "      <td>597</td>\n",
       "      <td>597</td>\n",
       "      <td>597</td>\n",
       "      <td>597</td>\n",
       "      <td>597</td>\n",
       "      <td>597</td>\n",
       "      <td>597</td>\n",
       "      <td>543</td>\n",
       "      <td>597</td>\n",
       "    </tr>\n",
       "    <tr>\n",
       "      <th>39</th>\n",
       "      <td>572</td>\n",
       "      <td>572</td>\n",
       "      <td>572</td>\n",
       "      <td>572</td>\n",
       "      <td>572</td>\n",
       "      <td>572</td>\n",
       "      <td>572</td>\n",
       "      <td>572</td>\n",
       "      <td>572</td>\n",
       "      <td>522</td>\n",
       "      <td>572</td>\n",
       "    </tr>\n",
       "    <tr>\n",
       "      <th>40</th>\n",
       "      <td>605</td>\n",
       "      <td>605</td>\n",
       "      <td>605</td>\n",
       "      <td>605</td>\n",
       "      <td>605</td>\n",
       "      <td>605</td>\n",
       "      <td>605</td>\n",
       "      <td>605</td>\n",
       "      <td>605</td>\n",
       "      <td>539</td>\n",
       "      <td>605</td>\n",
       "    </tr>\n",
       "    <tr>\n",
       "      <th>41</th>\n",
       "      <td>605</td>\n",
       "      <td>605</td>\n",
       "      <td>605</td>\n",
       "      <td>605</td>\n",
       "      <td>605</td>\n",
       "      <td>605</td>\n",
       "      <td>605</td>\n",
       "      <td>605</td>\n",
       "      <td>605</td>\n",
       "      <td>546</td>\n",
       "      <td>605</td>\n",
       "    </tr>\n",
       "    <tr>\n",
       "      <th>42</th>\n",
       "      <td>594</td>\n",
       "      <td>594</td>\n",
       "      <td>594</td>\n",
       "      <td>594</td>\n",
       "      <td>594</td>\n",
       "      <td>594</td>\n",
       "      <td>594</td>\n",
       "      <td>594</td>\n",
       "      <td>594</td>\n",
       "      <td>529</td>\n",
       "      <td>594</td>\n",
       "    </tr>\n",
       "    <tr>\n",
       "      <th>43</th>\n",
       "      <td>511</td>\n",
       "      <td>511</td>\n",
       "      <td>511</td>\n",
       "      <td>511</td>\n",
       "      <td>511</td>\n",
       "      <td>511</td>\n",
       "      <td>511</td>\n",
       "      <td>511</td>\n",
       "      <td>511</td>\n",
       "      <td>461</td>\n",
       "      <td>511</td>\n",
       "    </tr>\n",
       "    <tr>\n",
       "      <th>44</th>\n",
       "      <td>545</td>\n",
       "      <td>545</td>\n",
       "      <td>545</td>\n",
       "      <td>545</td>\n",
       "      <td>545</td>\n",
       "      <td>545</td>\n",
       "      <td>545</td>\n",
       "      <td>545</td>\n",
       "      <td>545</td>\n",
       "      <td>501</td>\n",
       "      <td>545</td>\n",
       "    </tr>\n",
       "    <tr>\n",
       "      <th>45</th>\n",
       "      <td>494</td>\n",
       "      <td>494</td>\n",
       "      <td>494</td>\n",
       "      <td>494</td>\n",
       "      <td>494</td>\n",
       "      <td>494</td>\n",
       "      <td>494</td>\n",
       "      <td>494</td>\n",
       "      <td>494</td>\n",
       "      <td>444</td>\n",
       "      <td>494</td>\n",
       "    </tr>\n",
       "    <tr>\n",
       "      <th>46</th>\n",
       "      <td>472</td>\n",
       "      <td>472</td>\n",
       "      <td>472</td>\n",
       "      <td>472</td>\n",
       "      <td>472</td>\n",
       "      <td>472</td>\n",
       "      <td>472</td>\n",
       "      <td>472</td>\n",
       "      <td>472</td>\n",
       "      <td>424</td>\n",
       "      <td>472</td>\n",
       "    </tr>\n",
       "    <tr>\n",
       "      <th>47</th>\n",
       "      <td>480</td>\n",
       "      <td>480</td>\n",
       "      <td>480</td>\n",
       "      <td>480</td>\n",
       "      <td>480</td>\n",
       "      <td>480</td>\n",
       "      <td>480</td>\n",
       "      <td>480</td>\n",
       "      <td>480</td>\n",
       "      <td>421</td>\n",
       "      <td>480</td>\n",
       "    </tr>\n",
       "    <tr>\n",
       "      <th>48</th>\n",
       "      <td>537</td>\n",
       "      <td>537</td>\n",
       "      <td>537</td>\n",
       "      <td>537</td>\n",
       "      <td>537</td>\n",
       "      <td>537</td>\n",
       "      <td>537</td>\n",
       "      <td>537</td>\n",
       "      <td>537</td>\n",
       "      <td>491</td>\n",
       "      <td>537</td>\n",
       "    </tr>\n",
       "    <tr>\n",
       "      <th>49</th>\n",
       "      <td>505</td>\n",
       "      <td>505</td>\n",
       "      <td>505</td>\n",
       "      <td>505</td>\n",
       "      <td>505</td>\n",
       "      <td>505</td>\n",
       "      <td>505</td>\n",
       "      <td>505</td>\n",
       "      <td>505</td>\n",
       "      <td>455</td>\n",
       "      <td>505</td>\n",
       "    </tr>\n",
       "    <tr>\n",
       "      <th>50</th>\n",
       "      <td>511</td>\n",
       "      <td>511</td>\n",
       "      <td>511</td>\n",
       "      <td>511</td>\n",
       "      <td>511</td>\n",
       "      <td>511</td>\n",
       "      <td>511</td>\n",
       "      <td>511</td>\n",
       "      <td>511</td>\n",
       "      <td>461</td>\n",
       "      <td>511</td>\n",
       "    </tr>\n",
       "    <tr>\n",
       "      <th>51</th>\n",
       "      <td>447</td>\n",
       "      <td>447</td>\n",
       "      <td>447</td>\n",
       "      <td>447</td>\n",
       "      <td>447</td>\n",
       "      <td>447</td>\n",
       "      <td>447</td>\n",
       "      <td>447</td>\n",
       "      <td>447</td>\n",
       "      <td>397</td>\n",
       "      <td>447</td>\n",
       "    </tr>\n",
       "    <tr>\n",
       "      <th>52</th>\n",
       "      <td>483</td>\n",
       "      <td>483</td>\n",
       "      <td>483</td>\n",
       "      <td>483</td>\n",
       "      <td>483</td>\n",
       "      <td>483</td>\n",
       "      <td>483</td>\n",
       "      <td>483</td>\n",
       "      <td>483</td>\n",
       "      <td>430</td>\n",
       "      <td>483</td>\n",
       "    </tr>\n",
       "    <tr>\n",
       "      <th>53</th>\n",
       "      <td>458</td>\n",
       "      <td>458</td>\n",
       "      <td>458</td>\n",
       "      <td>458</td>\n",
       "      <td>458</td>\n",
       "      <td>458</td>\n",
       "      <td>458</td>\n",
       "      <td>458</td>\n",
       "      <td>458</td>\n",
       "      <td>415</td>\n",
       "      <td>458</td>\n",
       "    </tr>\n",
       "    <tr>\n",
       "      <th>54</th>\n",
       "      <td>478</td>\n",
       "      <td>478</td>\n",
       "      <td>478</td>\n",
       "      <td>478</td>\n",
       "      <td>478</td>\n",
       "      <td>478</td>\n",
       "      <td>478</td>\n",
       "      <td>478</td>\n",
       "      <td>478</td>\n",
       "      <td>423</td>\n",
       "      <td>478</td>\n",
       "    </tr>\n",
       "    <tr>\n",
       "      <th>55</th>\n",
       "      <td>442</td>\n",
       "      <td>442</td>\n",
       "      <td>442</td>\n",
       "      <td>442</td>\n",
       "      <td>442</td>\n",
       "      <td>442</td>\n",
       "      <td>442</td>\n",
       "      <td>442</td>\n",
       "      <td>442</td>\n",
       "      <td>394</td>\n",
       "      <td>442</td>\n",
       "    </tr>\n",
       "    <tr>\n",
       "      <th>56</th>\n",
       "      <td>482</td>\n",
       "      <td>482</td>\n",
       "      <td>482</td>\n",
       "      <td>482</td>\n",
       "      <td>482</td>\n",
       "      <td>482</td>\n",
       "      <td>482</td>\n",
       "      <td>482</td>\n",
       "      <td>482</td>\n",
       "      <td>429</td>\n",
       "      <td>482</td>\n",
       "    </tr>\n",
       "    <tr>\n",
       "      <th>57</th>\n",
       "      <td>459</td>\n",
       "      <td>459</td>\n",
       "      <td>459</td>\n",
       "      <td>459</td>\n",
       "      <td>459</td>\n",
       "      <td>459</td>\n",
       "      <td>459</td>\n",
       "      <td>459</td>\n",
       "      <td>459</td>\n",
       "      <td>403</td>\n",
       "      <td>459</td>\n",
       "    </tr>\n",
       "    <tr>\n",
       "      <th>58</th>\n",
       "      <td>461</td>\n",
       "      <td>461</td>\n",
       "      <td>461</td>\n",
       "      <td>461</td>\n",
       "      <td>461</td>\n",
       "      <td>461</td>\n",
       "      <td>461</td>\n",
       "      <td>461</td>\n",
       "      <td>461</td>\n",
       "      <td>405</td>\n",
       "      <td>461</td>\n",
       "    </tr>\n",
       "    <tr>\n",
       "      <th>59</th>\n",
       "      <td>442</td>\n",
       "      <td>442</td>\n",
       "      <td>442</td>\n",
       "      <td>442</td>\n",
       "      <td>442</td>\n",
       "      <td>442</td>\n",
       "      <td>442</td>\n",
       "      <td>442</td>\n",
       "      <td>442</td>\n",
       "      <td>409</td>\n",
       "      <td>442</td>\n",
       "    </tr>\n",
       "    <tr>\n",
       "      <th>60</th>\n",
       "      <td>376</td>\n",
       "      <td>376</td>\n",
       "      <td>376</td>\n",
       "      <td>376</td>\n",
       "      <td>376</td>\n",
       "      <td>376</td>\n",
       "      <td>376</td>\n",
       "      <td>376</td>\n",
       "      <td>376</td>\n",
       "      <td>338</td>\n",
       "      <td>376</td>\n",
       "    </tr>\n",
       "    <tr>\n",
       "      <th>61</th>\n",
       "      <td>354</td>\n",
       "      <td>354</td>\n",
       "      <td>354</td>\n",
       "      <td>354</td>\n",
       "      <td>354</td>\n",
       "      <td>354</td>\n",
       "      <td>354</td>\n",
       "      <td>354</td>\n",
       "      <td>354</td>\n",
       "      <td>316</td>\n",
       "      <td>354</td>\n",
       "    </tr>\n",
       "    <tr>\n",
       "      <th>62</th>\n",
       "      <td>351</td>\n",
       "      <td>351</td>\n",
       "      <td>351</td>\n",
       "      <td>351</td>\n",
       "      <td>351</td>\n",
       "      <td>351</td>\n",
       "      <td>351</td>\n",
       "      <td>351</td>\n",
       "      <td>351</td>\n",
       "      <td>313</td>\n",
       "      <td>351</td>\n",
       "    </tr>\n",
       "    <tr>\n",
       "      <th>63</th>\n",
       "      <td>269</td>\n",
       "      <td>269</td>\n",
       "      <td>269</td>\n",
       "      <td>269</td>\n",
       "      <td>269</td>\n",
       "      <td>269</td>\n",
       "      <td>269</td>\n",
       "      <td>269</td>\n",
       "      <td>269</td>\n",
       "      <td>240</td>\n",
       "      <td>269</td>\n",
       "    </tr>\n",
       "    <tr>\n",
       "      <th>64</th>\n",
       "      <td>264</td>\n",
       "      <td>264</td>\n",
       "      <td>264</td>\n",
       "      <td>264</td>\n",
       "      <td>264</td>\n",
       "      <td>264</td>\n",
       "      <td>264</td>\n",
       "      <td>264</td>\n",
       "      <td>264</td>\n",
       "      <td>227</td>\n",
       "      <td>264</td>\n",
       "    </tr>\n",
       "    <tr>\n",
       "      <th>65</th>\n",
       "      <td>194</td>\n",
       "      <td>194</td>\n",
       "      <td>194</td>\n",
       "      <td>194</td>\n",
       "      <td>194</td>\n",
       "      <td>194</td>\n",
       "      <td>194</td>\n",
       "      <td>194</td>\n",
       "      <td>194</td>\n",
       "      <td>174</td>\n",
       "      <td>194</td>\n",
       "    </tr>\n",
       "    <tr>\n",
       "      <th>66</th>\n",
       "      <td>183</td>\n",
       "      <td>183</td>\n",
       "      <td>183</td>\n",
       "      <td>183</td>\n",
       "      <td>183</td>\n",
       "      <td>183</td>\n",
       "      <td>183</td>\n",
       "      <td>183</td>\n",
       "      <td>183</td>\n",
       "      <td>163</td>\n",
       "      <td>183</td>\n",
       "    </tr>\n",
       "    <tr>\n",
       "      <th>67</th>\n",
       "      <td>167</td>\n",
       "      <td>167</td>\n",
       "      <td>167</td>\n",
       "      <td>167</td>\n",
       "      <td>167</td>\n",
       "      <td>167</td>\n",
       "      <td>167</td>\n",
       "      <td>167</td>\n",
       "      <td>167</td>\n",
       "      <td>151</td>\n",
       "      <td>167</td>\n",
       "    </tr>\n",
       "    <tr>\n",
       "      <th>68</th>\n",
       "      <td>99</td>\n",
       "      <td>99</td>\n",
       "      <td>99</td>\n",
       "      <td>99</td>\n",
       "      <td>99</td>\n",
       "      <td>99</td>\n",
       "      <td>99</td>\n",
       "      <td>99</td>\n",
       "      <td>99</td>\n",
       "      <td>90</td>\n",
       "      <td>99</td>\n",
       "    </tr>\n",
       "    <tr>\n",
       "      <th>69</th>\n",
       "      <td>84</td>\n",
       "      <td>84</td>\n",
       "      <td>84</td>\n",
       "      <td>84</td>\n",
       "      <td>84</td>\n",
       "      <td>84</td>\n",
       "      <td>84</td>\n",
       "      <td>84</td>\n",
       "      <td>84</td>\n",
       "      <td>79</td>\n",
       "      <td>84</td>\n",
       "    </tr>\n",
       "    <tr>\n",
       "      <th>70</th>\n",
       "      <td>65</td>\n",
       "      <td>65</td>\n",
       "      <td>65</td>\n",
       "      <td>65</td>\n",
       "      <td>65</td>\n",
       "      <td>65</td>\n",
       "      <td>65</td>\n",
       "      <td>65</td>\n",
       "      <td>65</td>\n",
       "      <td>62</td>\n",
       "      <td>65</td>\n",
       "    </tr>\n",
       "    <tr>\n",
       "      <th>71</th>\n",
       "      <td>58</td>\n",
       "      <td>58</td>\n",
       "      <td>58</td>\n",
       "      <td>58</td>\n",
       "      <td>58</td>\n",
       "      <td>58</td>\n",
       "      <td>58</td>\n",
       "      <td>58</td>\n",
       "      <td>58</td>\n",
       "      <td>53</td>\n",
       "      <td>58</td>\n",
       "    </tr>\n",
       "    <tr>\n",
       "      <th>72</th>\n",
       "      <td>33</td>\n",
       "      <td>33</td>\n",
       "      <td>33</td>\n",
       "      <td>33</td>\n",
       "      <td>33</td>\n",
       "      <td>33</td>\n",
       "      <td>33</td>\n",
       "      <td>33</td>\n",
       "      <td>33</td>\n",
       "      <td>31</td>\n",
       "      <td>33</td>\n",
       "    </tr>\n",
       "    <tr>\n",
       "      <th>73</th>\n",
       "      <td>8</td>\n",
       "      <td>8</td>\n",
       "      <td>8</td>\n",
       "      <td>8</td>\n",
       "      <td>8</td>\n",
       "      <td>8</td>\n",
       "      <td>8</td>\n",
       "      <td>8</td>\n",
       "      <td>8</td>\n",
       "      <td>7</td>\n",
       "      <td>8</td>\n",
       "    </tr>\n",
       "    <tr>\n",
       "      <th>74</th>\n",
       "      <td>6</td>\n",
       "      <td>6</td>\n",
       "      <td>6</td>\n",
       "      <td>6</td>\n",
       "      <td>6</td>\n",
       "      <td>6</td>\n",
       "      <td>6</td>\n",
       "      <td>6</td>\n",
       "      <td>6</td>\n",
       "      <td>6</td>\n",
       "      <td>6</td>\n",
       "    </tr>\n",
       "    <tr>\n",
       "      <th>75</th>\n",
       "      <td>1</td>\n",
       "      <td>1</td>\n",
       "      <td>1</td>\n",
       "      <td>1</td>\n",
       "      <td>1</td>\n",
       "      <td>1</td>\n",
       "      <td>1</td>\n",
       "      <td>1</td>\n",
       "      <td>1</td>\n",
       "      <td>1</td>\n",
       "      <td>1</td>\n",
       "    </tr>\n",
       "  </tbody>\n",
       "</table>\n",
       "</div>"
      ],
      "text/plain": [
       "           children  days_employed  education  education_id  family_status  \\\n",
       "dob_years                                                                    \n",
       "0               100            100        100           100            100   \n",
       "19               14             14         14            14             14   \n",
       "20               51             51         51            51             51   \n",
       "21              110            110        110           110            110   \n",
       "22              183            183        183           183            183   \n",
       "23              253            253        253           253            253   \n",
       "24              263            263        263           263            263   \n",
       "25              356            356        356           356            356   \n",
       "26              407            407        407           407            407   \n",
       "27              491            491        491           491            491   \n",
       "28              503            503        503           503            503   \n",
       "29              543            543        543           543            543   \n",
       "30              537            537        537           537            537   \n",
       "31              558            558        558           558            558   \n",
       "32              508            508        508           508            508   \n",
       "33              579            579        579           579            579   \n",
       "34              600            600        600           600            600   \n",
       "35              615            615        615           615            615   \n",
       "36              553            553        553           553            553   \n",
       "37              533            533        533           533            533   \n",
       "38              597            597        597           597            597   \n",
       "39              572            572        572           572            572   \n",
       "40              605            605        605           605            605   \n",
       "41              605            605        605           605            605   \n",
       "42              594            594        594           594            594   \n",
       "43              511            511        511           511            511   \n",
       "44              545            545        545           545            545   \n",
       "45              494            494        494           494            494   \n",
       "46              472            472        472           472            472   \n",
       "47              480            480        480           480            480   \n",
       "48              537            537        537           537            537   \n",
       "49              505            505        505           505            505   \n",
       "50              511            511        511           511            511   \n",
       "51              447            447        447           447            447   \n",
       "52              483            483        483           483            483   \n",
       "53              458            458        458           458            458   \n",
       "54              478            478        478           478            478   \n",
       "55              442            442        442           442            442   \n",
       "56              482            482        482           482            482   \n",
       "57              459            459        459           459            459   \n",
       "58              461            461        461           461            461   \n",
       "59              442            442        442           442            442   \n",
       "60              376            376        376           376            376   \n",
       "61              354            354        354           354            354   \n",
       "62              351            351        351           351            351   \n",
       "63              269            269        269           269            269   \n",
       "64              264            264        264           264            264   \n",
       "65              194            194        194           194            194   \n",
       "66              183            183        183           183            183   \n",
       "67              167            167        167           167            167   \n",
       "68               99             99         99            99             99   \n",
       "69               84             84         84            84             84   \n",
       "70               65             65         65            65             65   \n",
       "71               58             58         58            58             58   \n",
       "72               33             33         33            33             33   \n",
       "73                8              8          8             8              8   \n",
       "74                6              6          6             6              6   \n",
       "75                1              1          1             1              1   \n",
       "\n",
       "           family_status_id  gender  income_type  debt  total_income  purpose  \n",
       "dob_years                                                                      \n",
       "0                       100     100          100   100            90      100  \n",
       "19                       14      14           14    14            13       14  \n",
       "20                       51      51           51    51            46       51  \n",
       "21                      110     110          110   110            92      110  \n",
       "22                      183     183          183   183           166      183  \n",
       "23                      253     253          253   253           217      253  \n",
       "24                      263     263          263   263           242      263  \n",
       "25                      356     356          356   356           334      356  \n",
       "26                      407     407          407   407           372      407  \n",
       "27                      491     491          491   491           455      491  \n",
       "28                      503     503          503   503           446      503  \n",
       "29                      543     543          543   543           493      543  \n",
       "30                      537     537          537   537           479      537  \n",
       "31                      558     558          558   558           493      558  \n",
       "32                      508     508          508   508           471      508  \n",
       "33                      579     579          579   579           528      579  \n",
       "34                      600     600          600   600           531      600  \n",
       "35                      615     615          615   615           553      615  \n",
       "36                      553     553          553   553           490      553  \n",
       "37                      533     533          533   533           480      533  \n",
       "38                      597     597          597   597           543      597  \n",
       "39                      572     572          572   572           522      572  \n",
       "40                      605     605          605   605           539      605  \n",
       "41                      605     605          605   605           546      605  \n",
       "42                      594     594          594   594           529      594  \n",
       "43                      511     511          511   511           461      511  \n",
       "44                      545     545          545   545           501      545  \n",
       "45                      494     494          494   494           444      494  \n",
       "46                      472     472          472   472           424      472  \n",
       "47                      480     480          480   480           421      480  \n",
       "48                      537     537          537   537           491      537  \n",
       "49                      505     505          505   505           455      505  \n",
       "50                      511     511          511   511           461      511  \n",
       "51                      447     447          447   447           397      447  \n",
       "52                      483     483          483   483           430      483  \n",
       "53                      458     458          458   458           415      458  \n",
       "54                      478     478          478   478           423      478  \n",
       "55                      442     442          442   442           394      442  \n",
       "56                      482     482          482   482           429      482  \n",
       "57                      459     459          459   459           403      459  \n",
       "58                      461     461          461   461           405      461  \n",
       "59                      442     442          442   442           409      442  \n",
       "60                      376     376          376   376           338      376  \n",
       "61                      354     354          354   354           316      354  \n",
       "62                      351     351          351   351           313      351  \n",
       "63                      269     269          269   269           240      269  \n",
       "64                      264     264          264   264           227      264  \n",
       "65                      194     194          194   194           174      194  \n",
       "66                      183     183          183   183           163      183  \n",
       "67                      167     167          167   167           151      167  \n",
       "68                       99      99           99    99            90       99  \n",
       "69                       84      84           84    84            79       84  \n",
       "70                       65      65           65    65            62       65  \n",
       "71                       58      58           58    58            53       58  \n",
       "72                       33      33           33    33            31       33  \n",
       "73                        8       8            8     8             7        8  \n",
       "74                        6       6            6     6             6        6  \n",
       "75                        1       1            1     1             1        1  "
      ]
     },
     "execution_count": 31,
     "metadata": {},
     "output_type": "execute_result"
    }
   ],
   "source": [
    "data.groupby('dob_years').count()"
   ]
  },
  {
   "cell_type": "markdown",
   "metadata": {},
   "source": [
    "number of problematic data with age = 0 101. not much. so you can easily get rid of them as outliers, but we will replace them with the median value. "
   ]
  },
  {
   "cell_type": "code",
   "execution_count": 32,
   "metadata": {},
   "outputs": [
    {
     "name": "stdout",
     "output_type": "stream",
     "text": [
      "42.0\n"
     ]
    }
   ],
   "source": [
    "# Address the issues in the `dob_years` column, if they exist\n",
    "age_median = data['dob_years'].median()\n",
    "print(age_median)\n"
   ]
  },
  {
   "cell_type": "code",
   "execution_count": 33,
   "metadata": {},
   "outputs": [],
   "source": [
    "data['dob_years'] = data['dob_years'].replace(0,42)"
   ]
  },
  {
   "cell_type": "code",
   "execution_count": 34,
   "metadata": {},
   "outputs": [
    {
     "data": {
      "text/plain": [
       "count    21449.000000\n",
       "mean        43.494429\n",
       "std         12.222610\n",
       "min         19.000000\n",
       "25%         34.000000\n",
       "50%         42.000000\n",
       "75%         53.000000\n",
       "max         75.000000\n",
       "Name: dob_years, dtype: float64"
      ]
     },
     "execution_count": 34,
     "metadata": {},
     "output_type": "execute_result"
    }
   ],
   "source": [
    "# Check the result - make sure it's fixed\n",
    "data['dob_years'].describe()"
   ]
  },
  {
   "cell_type": "code",
   "execution_count": 35,
   "metadata": {},
   "outputs": [
    {
     "data": {
      "text/plain": [
       "count       21449\n",
       "unique          5\n",
       "top       married\n",
       "freq        12331\n",
       "Name: family_status, dtype: object"
      ]
     },
     "execution_count": 35,
     "metadata": {},
     "output_type": "execute_result"
    }
   ],
   "source": [
    "# Let's see the values for the column\n",
    "\n",
    "data['family_status'].describe()"
   ]
  },
  {
   "cell_type": "code",
   "execution_count": 36,
   "metadata": {},
   "outputs": [
    {
     "data": {
      "text/plain": [
       "array(['married', 'civil partnership', 'widow / widower', 'divorced',\n",
       "       'unmarried'], dtype=object)"
      ]
     },
     "execution_count": 36,
     "metadata": {},
     "output_type": "execute_result"
    }
   ],
   "source": [
    "data['family_status'].unique()"
   ]
  },
  {
   "cell_type": "markdown",
   "metadata": {},
   "source": [
    "everything is ok with this column and nothing needs to be done yet"
   ]
  },
  {
   "cell_type": "code",
   "execution_count": 37,
   "metadata": {},
   "outputs": [
    {
     "data": {
      "text/plain": [
       "count     21449\n",
       "unique        3\n",
       "top           F\n",
       "freq      14189\n",
       "Name: gender, dtype: object"
      ]
     },
     "execution_count": 37,
     "metadata": {},
     "output_type": "execute_result"
    }
   ],
   "source": [
    "data['gender'].describe()# Let's see the values in the column"
   ]
  },
  {
   "cell_type": "code",
   "execution_count": 38,
   "metadata": {},
   "outputs": [
    {
     "data": {
      "text/plain": [
       "array(['F', 'M', 'XNA'], dtype=object)"
      ]
     },
     "execution_count": 38,
     "metadata": {},
     "output_type": "execute_result"
    }
   ],
   "source": [
    "data['gender'].unique()"
   ]
  },
  {
   "cell_type": "markdown",
   "metadata": {},
   "source": [
    "incomprehensible gender (XNA) check how many there are"
   ]
  },
  {
   "cell_type": "code",
   "execution_count": 39,
   "metadata": {},
   "outputs": [
    {
     "data": {
      "text/html": [
       "<div>\n",
       "<style scoped>\n",
       "    .dataframe tbody tr th:only-of-type {\n",
       "        vertical-align: middle;\n",
       "    }\n",
       "\n",
       "    .dataframe tbody tr th {\n",
       "        vertical-align: top;\n",
       "    }\n",
       "\n",
       "    .dataframe thead th {\n",
       "        text-align: right;\n",
       "    }\n",
       "</style>\n",
       "<table border=\"1\" class=\"dataframe\">\n",
       "  <thead>\n",
       "    <tr style=\"text-align: right;\">\n",
       "      <th></th>\n",
       "      <th>children</th>\n",
       "      <th>days_employed</th>\n",
       "      <th>dob_years</th>\n",
       "      <th>education</th>\n",
       "      <th>education_id</th>\n",
       "      <th>family_status</th>\n",
       "      <th>family_status_id</th>\n",
       "      <th>gender</th>\n",
       "      <th>income_type</th>\n",
       "      <th>debt</th>\n",
       "      <th>total_income</th>\n",
       "      <th>purpose</th>\n",
       "    </tr>\n",
       "  </thead>\n",
       "  <tbody>\n",
       "    <tr>\n",
       "      <th>10701</th>\n",
       "      <td>0</td>\n",
       "      <td>2358</td>\n",
       "      <td>24</td>\n",
       "      <td>some college</td>\n",
       "      <td>2</td>\n",
       "      <td>civil partnership</td>\n",
       "      <td>1</td>\n",
       "      <td>XNA</td>\n",
       "      <td>business</td>\n",
       "      <td>0</td>\n",
       "      <td>32624.825</td>\n",
       "      <td>buy real estate</td>\n",
       "    </tr>\n",
       "  </tbody>\n",
       "</table>\n",
       "</div>"
      ],
      "text/plain": [
       "       children  days_employed  dob_years     education  education_id  \\\n",
       "10701         0           2358         24  some college             2   \n",
       "\n",
       "           family_status  family_status_id gender income_type  debt  \\\n",
       "10701  civil partnership                 1    XNA    business     0   \n",
       "\n",
       "       total_income          purpose  \n",
       "10701     32624.825  buy real estate  "
      ]
     },
     "execution_count": 39,
     "metadata": {},
     "output_type": "execute_result"
    }
   ],
   "source": [
    "data[data['gender'] == 'XNA']"
   ]
  },
  {
   "cell_type": "markdown",
   "metadata": {},
   "source": [
    "only one. can be thrown out without problems"
   ]
  },
  {
   "cell_type": "code",
   "execution_count": 40,
   "metadata": {},
   "outputs": [],
   "source": [
    "data = data.drop(index=[10701])# Address the problematic values, if they exist"
   ]
  },
  {
   "cell_type": "code",
   "execution_count": 41,
   "metadata": {},
   "outputs": [
    {
     "data": {
      "text/html": [
       "<div>\n",
       "<style scoped>\n",
       "    .dataframe tbody tr th:only-of-type {\n",
       "        vertical-align: middle;\n",
       "    }\n",
       "\n",
       "    .dataframe tbody tr th {\n",
       "        vertical-align: top;\n",
       "    }\n",
       "\n",
       "    .dataframe thead th {\n",
       "        text-align: right;\n",
       "    }\n",
       "</style>\n",
       "<table border=\"1\" class=\"dataframe\">\n",
       "  <thead>\n",
       "    <tr style=\"text-align: right;\">\n",
       "      <th></th>\n",
       "      <th>children</th>\n",
       "      <th>days_employed</th>\n",
       "      <th>dob_years</th>\n",
       "      <th>education</th>\n",
       "      <th>education_id</th>\n",
       "      <th>family_status</th>\n",
       "      <th>family_status_id</th>\n",
       "      <th>gender</th>\n",
       "      <th>income_type</th>\n",
       "      <th>debt</th>\n",
       "      <th>total_income</th>\n",
       "      <th>purpose</th>\n",
       "    </tr>\n",
       "  </thead>\n",
       "  <tbody>\n",
       "  </tbody>\n",
       "</table>\n",
       "</div>"
      ],
      "text/plain": [
       "Empty DataFrame\n",
       "Columns: [children, days_employed, dob_years, education, education_id, family_status, family_status_id, gender, income_type, debt, total_income, purpose]\n",
       "Index: []"
      ]
     },
     "execution_count": 41,
     "metadata": {},
     "output_type": "execute_result"
    }
   ],
   "source": [
    "# Check the result - make sure it's fixed\n",
    "data[data['gender'] == 'XNA']\n"
   ]
  },
  {
   "cell_type": "code",
   "execution_count": 42,
   "metadata": {},
   "outputs": [
    {
     "data": {
      "text/plain": [
       "count        21448\n",
       "unique           8\n",
       "top       employee\n",
       "freq         11076\n",
       "Name: income_type, dtype: object"
      ]
     },
     "execution_count": 42,
     "metadata": {},
     "output_type": "execute_result"
    }
   ],
   "source": [
    "data['income_type'].describe() # Let's see the values in the column"
   ]
  },
  {
   "cell_type": "code",
   "execution_count": 43,
   "metadata": {},
   "outputs": [
    {
     "data": {
      "text/plain": [
       "array(['employee', 'retiree', 'business', 'civil servant', 'unemployed',\n",
       "       'entrepreneur', 'student', 'paternity / maternity leave'],\n",
       "      dtype=object)"
      ]
     },
     "execution_count": 43,
     "metadata": {},
     "output_type": "execute_result"
    }
   ],
   "source": [
    "data['income_type'].unique()"
   ]
  },
  {
   "cell_type": "code",
   "execution_count": 44,
   "metadata": {},
   "outputs": [
    {
     "data": {
      "text/plain": [
       "employee                       11076\n",
       "business                        5062\n",
       "retiree                         3847\n",
       "civil servant                   1457\n",
       "unemployed                         2\n",
       "entrepreneur                       2\n",
       "student                            1\n",
       "paternity / maternity leave        1\n",
       "Name: income_type, dtype: int64"
      ]
     },
     "execution_count": 44,
     "metadata": {},
     "output_type": "execute_result"
    }
   ],
   "source": [
    "data['income_type'].value_counts()"
   ]
  },
  {
   "cell_type": "markdown",
   "metadata": {},
   "source": [
    "\n",
    "we have strange values:\n",
    "1st unemployed - 2\n",
    "2. entrepreneur - 2\n",
    "3. paternity / maternity leave -1\n",
    "4. student - 1\n",
    "what do we do? unemployed, maternity leave and students are removed. entrepreneurs are replaced by businesses."
   ]
  },
  {
   "cell_type": "code",
   "execution_count": 45,
   "metadata": {},
   "outputs": [],
   "source": [
    "data['income_type'] = data['income_type'].replace('entrepreneur', 'business')# Address the problematic values, if they exist"
   ]
  },
  {
   "cell_type": "code",
   "execution_count": 46,
   "metadata": {},
   "outputs": [
    {
     "data": {
      "text/plain": [
       "employee                       11076\n",
       "business                        5064\n",
       "retiree                         3847\n",
       "civil servant                   1457\n",
       "unemployed                         2\n",
       "student                            1\n",
       "paternity / maternity leave        1\n",
       "Name: income_type, dtype: int64"
      ]
     },
     "execution_count": 46,
     "metadata": {},
     "output_type": "execute_result"
    }
   ],
   "source": [
    "data['income_type'].value_counts()"
   ]
  },
  {
   "cell_type": "code",
   "execution_count": 47,
   "metadata": {},
   "outputs": [],
   "source": [
    "data.drop(data.index[data['income_type'] == 'unemployed'], inplace=True)"
   ]
  },
  {
   "cell_type": "code",
   "execution_count": 48,
   "metadata": {},
   "outputs": [],
   "source": [
    "data.drop(data.index[data['income_type'] == 'paternity / maternity leave'], inplace=True)"
   ]
  },
  {
   "cell_type": "code",
   "execution_count": 49,
   "metadata": {},
   "outputs": [],
   "source": [
    "data.drop(data.index[data['income_type'] == 'student'], inplace=True)"
   ]
  },
  {
   "cell_type": "code",
   "execution_count": 50,
   "metadata": {},
   "outputs": [
    {
     "data": {
      "text/plain": [
       "employee         11076\n",
       "business          5064\n",
       "retiree           3847\n",
       "civil servant     1457\n",
       "Name: income_type, dtype: int64"
      ]
     },
     "execution_count": 50,
     "metadata": {},
     "output_type": "execute_result"
    }
   ],
   "source": [
    "data['income_type'].value_counts()"
   ]
  },
  {
   "cell_type": "code",
   "execution_count": 51,
   "metadata": {},
   "outputs": [
    {
     "data": {
      "text/plain": [
       "72"
      ]
     },
     "execution_count": 51,
     "metadata": {},
     "output_type": "execute_result"
    }
   ],
   "source": [
    "# Checking duplicates\n",
    "data.duplicated().sum()\n",
    "\n"
   ]
  },
  {
   "cell_type": "code",
   "execution_count": 52,
   "metadata": {},
   "outputs": [
    {
     "data": {
      "text/html": [
       "<div>\n",
       "<style scoped>\n",
       "    .dataframe tbody tr th:only-of-type {\n",
       "        vertical-align: middle;\n",
       "    }\n",
       "\n",
       "    .dataframe tbody tr th {\n",
       "        vertical-align: top;\n",
       "    }\n",
       "\n",
       "    .dataframe thead th {\n",
       "        text-align: right;\n",
       "    }\n",
       "</style>\n",
       "<table border=\"1\" class=\"dataframe\">\n",
       "  <thead>\n",
       "    <tr style=\"text-align: right;\">\n",
       "      <th></th>\n",
       "      <th>children</th>\n",
       "      <th>days_employed</th>\n",
       "      <th>dob_years</th>\n",
       "      <th>education</th>\n",
       "      <th>education_id</th>\n",
       "      <th>family_status</th>\n",
       "      <th>family_status_id</th>\n",
       "      <th>gender</th>\n",
       "      <th>income_type</th>\n",
       "      <th>debt</th>\n",
       "      <th>total_income</th>\n",
       "      <th>purpose</th>\n",
       "    </tr>\n",
       "  </thead>\n",
       "  <tbody>\n",
       "    <tr>\n",
       "      <th>2849</th>\n",
       "      <td>0</td>\n",
       "      <td>0</td>\n",
       "      <td>41</td>\n",
       "      <td>secondary education</td>\n",
       "      <td>1</td>\n",
       "      <td>married</td>\n",
       "      <td>0</td>\n",
       "      <td>F</td>\n",
       "      <td>employee</td>\n",
       "      <td>0</td>\n",
       "      <td>NaN</td>\n",
       "      <td>purchase of the house for my family</td>\n",
       "    </tr>\n",
       "    <tr>\n",
       "      <th>3290</th>\n",
       "      <td>0</td>\n",
       "      <td>0</td>\n",
       "      <td>58</td>\n",
       "      <td>secondary education</td>\n",
       "      <td>1</td>\n",
       "      <td>civil partnership</td>\n",
       "      <td>1</td>\n",
       "      <td>F</td>\n",
       "      <td>retiree</td>\n",
       "      <td>0</td>\n",
       "      <td>NaN</td>\n",
       "      <td>to have a wedding</td>\n",
       "    </tr>\n",
       "    <tr>\n",
       "      <th>4182</th>\n",
       "      <td>1</td>\n",
       "      <td>0</td>\n",
       "      <td>34</td>\n",
       "      <td>bachelor's degree</td>\n",
       "      <td>0</td>\n",
       "      <td>civil partnership</td>\n",
       "      <td>1</td>\n",
       "      <td>F</td>\n",
       "      <td>employee</td>\n",
       "      <td>0</td>\n",
       "      <td>NaN</td>\n",
       "      <td>wedding ceremony</td>\n",
       "    </tr>\n",
       "    <tr>\n",
       "      <th>4851</th>\n",
       "      <td>0</td>\n",
       "      <td>0</td>\n",
       "      <td>60</td>\n",
       "      <td>secondary education</td>\n",
       "      <td>1</td>\n",
       "      <td>civil partnership</td>\n",
       "      <td>1</td>\n",
       "      <td>F</td>\n",
       "      <td>retiree</td>\n",
       "      <td>0</td>\n",
       "      <td>NaN</td>\n",
       "      <td>wedding ceremony</td>\n",
       "    </tr>\n",
       "    <tr>\n",
       "      <th>5557</th>\n",
       "      <td>0</td>\n",
       "      <td>0</td>\n",
       "      <td>58</td>\n",
       "      <td>secondary education</td>\n",
       "      <td>1</td>\n",
       "      <td>civil partnership</td>\n",
       "      <td>1</td>\n",
       "      <td>F</td>\n",
       "      <td>retiree</td>\n",
       "      <td>0</td>\n",
       "      <td>NaN</td>\n",
       "      <td>to have a wedding</td>\n",
       "    </tr>\n",
       "    <tr>\n",
       "      <th>...</th>\n",
       "      <td>...</td>\n",
       "      <td>...</td>\n",
       "      <td>...</td>\n",
       "      <td>...</td>\n",
       "      <td>...</td>\n",
       "      <td>...</td>\n",
       "      <td>...</td>\n",
       "      <td>...</td>\n",
       "      <td>...</td>\n",
       "      <td>...</td>\n",
       "      <td>...</td>\n",
       "      <td>...</td>\n",
       "    </tr>\n",
       "    <tr>\n",
       "      <th>20702</th>\n",
       "      <td>0</td>\n",
       "      <td>0</td>\n",
       "      <td>64</td>\n",
       "      <td>secondary education</td>\n",
       "      <td>1</td>\n",
       "      <td>married</td>\n",
       "      <td>0</td>\n",
       "      <td>F</td>\n",
       "      <td>retiree</td>\n",
       "      <td>0</td>\n",
       "      <td>NaN</td>\n",
       "      <td>supplementary education</td>\n",
       "    </tr>\n",
       "    <tr>\n",
       "      <th>21032</th>\n",
       "      <td>0</td>\n",
       "      <td>0</td>\n",
       "      <td>60</td>\n",
       "      <td>secondary education</td>\n",
       "      <td>1</td>\n",
       "      <td>married</td>\n",
       "      <td>0</td>\n",
       "      <td>F</td>\n",
       "      <td>retiree</td>\n",
       "      <td>0</td>\n",
       "      <td>NaN</td>\n",
       "      <td>to become educated</td>\n",
       "    </tr>\n",
       "    <tr>\n",
       "      <th>21132</th>\n",
       "      <td>0</td>\n",
       "      <td>0</td>\n",
       "      <td>47</td>\n",
       "      <td>secondary education</td>\n",
       "      <td>1</td>\n",
       "      <td>married</td>\n",
       "      <td>0</td>\n",
       "      <td>F</td>\n",
       "      <td>employee</td>\n",
       "      <td>0</td>\n",
       "      <td>NaN</td>\n",
       "      <td>housing renovation</td>\n",
       "    </tr>\n",
       "    <tr>\n",
       "      <th>21281</th>\n",
       "      <td>1</td>\n",
       "      <td>0</td>\n",
       "      <td>30</td>\n",
       "      <td>bachelor's degree</td>\n",
       "      <td>0</td>\n",
       "      <td>married</td>\n",
       "      <td>0</td>\n",
       "      <td>F</td>\n",
       "      <td>employee</td>\n",
       "      <td>0</td>\n",
       "      <td>NaN</td>\n",
       "      <td>buy commercial real estate</td>\n",
       "    </tr>\n",
       "    <tr>\n",
       "      <th>21415</th>\n",
       "      <td>0</td>\n",
       "      <td>0</td>\n",
       "      <td>54</td>\n",
       "      <td>secondary education</td>\n",
       "      <td>1</td>\n",
       "      <td>married</td>\n",
       "      <td>0</td>\n",
       "      <td>F</td>\n",
       "      <td>retiree</td>\n",
       "      <td>0</td>\n",
       "      <td>NaN</td>\n",
       "      <td>housing transactions</td>\n",
       "    </tr>\n",
       "  </tbody>\n",
       "</table>\n",
       "<p>72 rows × 12 columns</p>\n",
       "</div>"
      ],
      "text/plain": [
       "       children  days_employed  dob_years            education  education_id  \\\n",
       "2849          0              0         41  secondary education             1   \n",
       "3290          0              0         58  secondary education             1   \n",
       "4182          1              0         34    bachelor's degree             0   \n",
       "4851          0              0         60  secondary education             1   \n",
       "5557          0              0         58  secondary education             1   \n",
       "...         ...            ...        ...                  ...           ...   \n",
       "20702         0              0         64  secondary education             1   \n",
       "21032         0              0         60  secondary education             1   \n",
       "21132         0              0         47  secondary education             1   \n",
       "21281         1              0         30    bachelor's degree             0   \n",
       "21415         0              0         54  secondary education             1   \n",
       "\n",
       "           family_status  family_status_id gender income_type  debt  \\\n",
       "2849             married                 0      F    employee     0   \n",
       "3290   civil partnership                 1      F     retiree     0   \n",
       "4182   civil partnership                 1      F    employee     0   \n",
       "4851   civil partnership                 1      F     retiree     0   \n",
       "5557   civil partnership                 1      F     retiree     0   \n",
       "...                  ...               ...    ...         ...   ...   \n",
       "20702            married                 0      F     retiree     0   \n",
       "21032            married                 0      F     retiree     0   \n",
       "21132            married                 0      F    employee     0   \n",
       "21281            married                 0      F    employee     0   \n",
       "21415            married                 0      F     retiree     0   \n",
       "\n",
       "       total_income                              purpose  \n",
       "2849            NaN  purchase of the house for my family  \n",
       "3290            NaN                    to have a wedding  \n",
       "4182            NaN                     wedding ceremony  \n",
       "4851            NaN                     wedding ceremony  \n",
       "5557            NaN                    to have a wedding  \n",
       "...             ...                                  ...  \n",
       "20702           NaN              supplementary education  \n",
       "21032           NaN                   to become educated  \n",
       "21132           NaN                   housing renovation  \n",
       "21281           NaN           buy commercial real estate  \n",
       "21415           NaN                 housing transactions  \n",
       "\n",
       "[72 rows x 12 columns]"
      ]
     },
     "execution_count": 52,
     "metadata": {},
     "output_type": "execute_result"
    }
   ],
   "source": [
    "data[data.duplicated()]# Address the duplicates, if they exist"
   ]
  },
  {
   "cell_type": "code",
   "execution_count": 53,
   "metadata": {},
   "outputs": [],
   "source": [
    "data = data.drop_duplicates()\n"
   ]
  },
  {
   "cell_type": "code",
   "execution_count": 54,
   "metadata": {},
   "outputs": [
    {
     "data": {
      "text/plain": [
       "0"
      ]
     },
     "execution_count": 54,
     "metadata": {},
     "output_type": "execute_result"
    }
   ],
   "source": [
    "data.duplicated().sum()# Last check whether we have any duplicates\n"
   ]
  },
  {
   "cell_type": "code",
   "execution_count": 55,
   "metadata": {},
   "outputs": [
    {
     "name": "stdout",
     "output_type": "stream",
     "text": [
      "<class 'pandas.core.frame.DataFrame'>\n",
      "Int64Index: 21372 entries, 0 to 21524\n",
      "Data columns (total 12 columns):\n",
      " #   Column            Non-Null Count  Dtype  \n",
      "---  ------            --------------  -----  \n",
      " 0   children          21372 non-null  int64  \n",
      " 1   days_employed     21372 non-null  int64  \n",
      " 2   dob_years         21372 non-null  int64  \n",
      " 3   education         21372 non-null  object \n",
      " 4   education_id      21372 non-null  int64  \n",
      " 5   family_status     21372 non-null  object \n",
      " 6   family_status_id  21372 non-null  int64  \n",
      " 7   gender            21372 non-null  object \n",
      " 8   income_type       21372 non-null  object \n",
      " 9   debt              21372 non-null  int64  \n",
      " 10  total_income      19279 non-null  float64\n",
      " 11  purpose           21372 non-null  object \n",
      "dtypes: float64(1), int64(6), object(5)\n",
      "memory usage: 2.1+ MB\n"
     ]
    }
   ],
   "source": [
    "data.info()# Check the size of the dataset that you now have after your first manipulations with it"
   ]
  },
  {
   "cell_type": "markdown",
   "metadata": {},
   "source": [
    "there were 21525 rows, we cleaned up and merged and it became 21465. in the days_employed column, we replaced the missing date with 0."
   ]
  },
  {
   "cell_type": "markdown",
   "metadata": {},
   "source": [
    "# Working with missing values"
   ]
  },
  {
   "cell_type": "code",
   "execution_count": 56,
   "metadata": {},
   "outputs": [],
   "source": [
    "# Find the dictionaries"
   ]
  },
  {
   "cell_type": "markdown",
   "metadata": {},
   "source": [
    "we can define dictionaries, for example: education_id and education, but I prefer to use the transform method in the subsequent analysis"
   ]
  },
  {
   "cell_type": "markdown",
   "metadata": {},
   "source": [
    "### Restoring missing values in `total_income`"
   ]
  },
  {
   "cell_type": "code",
   "execution_count": 57,
   "metadata": {},
   "outputs": [
    {
     "data": {
      "text/plain": [
       "count    21372.000000\n",
       "mean        43.475576\n",
       "std         12.217662\n",
       "min         19.000000\n",
       "25%         33.000000\n",
       "50%         42.000000\n",
       "75%         53.000000\n",
       "max         75.000000\n",
       "Name: dob_years, dtype: float64"
      ]
     },
     "execution_count": 57,
     "metadata": {},
     "output_type": "execute_result"
    }
   ],
   "source": [
    "data['dob_years'].describe()"
   ]
  },
  {
   "cell_type": "code",
   "execution_count": 234,
   "metadata": {},
   "outputs": [],
   "source": [
    "# Let's write a function that calculates the age category\n",
    "def age_group(age):\n",
    "    if age >= 19 and age < 33:\n",
    "        return 'young'\n",
    "    elif age >= 33 and age < 42:\n",
    "        return 'young+'\n",
    "    elif age >= 42 and age < 65:\n",
    "        return 'adults'\n",
    "    elif age >= 65 and age <= 75:\n",
    "        return 'pensioner'\n",
    "    \n",
    "    "
   ]
  },
  {
   "cell_type": "code",
   "execution_count": 235,
   "metadata": {},
   "outputs": [
    {
     "data": {
      "text/plain": [
       "'adults'"
      ]
     },
     "execution_count": 235,
     "metadata": {},
     "output_type": "execute_result"
    }
   ],
   "source": [
    "age_group(45) # Test if the function works\n"
   ]
  },
  {
   "cell_type": "code",
   "execution_count": 236,
   "metadata": {},
   "outputs": [],
   "source": [
    "data['age_group'] = data['dob_years'].apply(age_group)# Creating new column based on function\n",
    "\n"
   ]
  },
  {
   "cell_type": "code",
   "execution_count": 237,
   "metadata": {},
   "outputs": [
    {
     "data": {
      "text/plain": [
       "adults       10465\n",
       "young+        5247\n",
       "young         4766\n",
       "pensioner      894\n",
       "Name: age_group, dtype: int64"
      ]
     },
     "execution_count": 237,
     "metadata": {},
     "output_type": "execute_result"
    }
   ],
   "source": [
    "data['age_group'].value_counts()# Checking how values in the new column\n",
    "\n"
   ]
  },
  {
   "cell_type": "markdown",
   "metadata": {},
   "source": [
    "factors affecting income:\n",
    "1. education\n",
    "2. way of earning\n",
    "3. age\n"
   ]
  },
  {
   "cell_type": "code",
   "execution_count": 238,
   "metadata": {},
   "outputs": [
    {
     "data": {
      "text/html": [
       "<div>\n",
       "<style scoped>\n",
       "    .dataframe tbody tr th:only-of-type {\n",
       "        vertical-align: middle;\n",
       "    }\n",
       "\n",
       "    .dataframe tbody tr th {\n",
       "        vertical-align: top;\n",
       "    }\n",
       "\n",
       "    .dataframe thead th {\n",
       "        text-align: right;\n",
       "    }\n",
       "</style>\n",
       "<table border=\"1\" class=\"dataframe\">\n",
       "  <thead>\n",
       "    <tr style=\"text-align: right;\">\n",
       "      <th></th>\n",
       "      <th>children</th>\n",
       "      <th>days_employed</th>\n",
       "      <th>dob_years</th>\n",
       "      <th>education</th>\n",
       "      <th>education_id</th>\n",
       "      <th>family_status</th>\n",
       "      <th>family_status_id</th>\n",
       "      <th>gender</th>\n",
       "      <th>income_type</th>\n",
       "      <th>debt</th>\n",
       "      <th>total_income</th>\n",
       "      <th>purpose</th>\n",
       "      <th>age_group</th>\n",
       "    </tr>\n",
       "  </thead>\n",
       "  <tbody>\n",
       "    <tr>\n",
       "      <th>0</th>\n",
       "      <td>1</td>\n",
       "      <td>8437</td>\n",
       "      <td>42</td>\n",
       "      <td>bachelor's degree</td>\n",
       "      <td>0</td>\n",
       "      <td>married</td>\n",
       "      <td>0</td>\n",
       "      <td>F</td>\n",
       "      <td>employee</td>\n",
       "      <td>0</td>\n",
       "      <td>40620.102</td>\n",
       "      <td>purchase of the house</td>\n",
       "      <td>adults</td>\n",
       "    </tr>\n",
       "    <tr>\n",
       "      <th>1</th>\n",
       "      <td>1</td>\n",
       "      <td>4024</td>\n",
       "      <td>36</td>\n",
       "      <td>secondary education</td>\n",
       "      <td>1</td>\n",
       "      <td>married</td>\n",
       "      <td>0</td>\n",
       "      <td>F</td>\n",
       "      <td>employee</td>\n",
       "      <td>0</td>\n",
       "      <td>17932.802</td>\n",
       "      <td>car purchase</td>\n",
       "      <td>young+</td>\n",
       "    </tr>\n",
       "    <tr>\n",
       "      <th>2</th>\n",
       "      <td>0</td>\n",
       "      <td>5623</td>\n",
       "      <td>33</td>\n",
       "      <td>secondary education</td>\n",
       "      <td>1</td>\n",
       "      <td>married</td>\n",
       "      <td>0</td>\n",
       "      <td>M</td>\n",
       "      <td>employee</td>\n",
       "      <td>0</td>\n",
       "      <td>23341.752</td>\n",
       "      <td>purchase of the house</td>\n",
       "      <td>young+</td>\n",
       "    </tr>\n",
       "    <tr>\n",
       "      <th>3</th>\n",
       "      <td>3</td>\n",
       "      <td>4124</td>\n",
       "      <td>32</td>\n",
       "      <td>secondary education</td>\n",
       "      <td>1</td>\n",
       "      <td>married</td>\n",
       "      <td>0</td>\n",
       "      <td>M</td>\n",
       "      <td>employee</td>\n",
       "      <td>0</td>\n",
       "      <td>42820.568</td>\n",
       "      <td>supplementary education</td>\n",
       "      <td>young</td>\n",
       "    </tr>\n",
       "    <tr>\n",
       "      <th>4</th>\n",
       "      <td>0</td>\n",
       "      <td>340266</td>\n",
       "      <td>53</td>\n",
       "      <td>secondary education</td>\n",
       "      <td>1</td>\n",
       "      <td>civil partnership</td>\n",
       "      <td>1</td>\n",
       "      <td>F</td>\n",
       "      <td>retiree</td>\n",
       "      <td>0</td>\n",
       "      <td>25378.572</td>\n",
       "      <td>to have a wedding</td>\n",
       "      <td>adults</td>\n",
       "    </tr>\n",
       "    <tr>\n",
       "      <th>5</th>\n",
       "      <td>0</td>\n",
       "      <td>926</td>\n",
       "      <td>27</td>\n",
       "      <td>bachelor's degree</td>\n",
       "      <td>0</td>\n",
       "      <td>civil partnership</td>\n",
       "      <td>1</td>\n",
       "      <td>M</td>\n",
       "      <td>business</td>\n",
       "      <td>0</td>\n",
       "      <td>40922.170</td>\n",
       "      <td>purchase of the house</td>\n",
       "      <td>young</td>\n",
       "    </tr>\n",
       "    <tr>\n",
       "      <th>6</th>\n",
       "      <td>0</td>\n",
       "      <td>2879</td>\n",
       "      <td>43</td>\n",
       "      <td>bachelor's degree</td>\n",
       "      <td>0</td>\n",
       "      <td>married</td>\n",
       "      <td>0</td>\n",
       "      <td>F</td>\n",
       "      <td>business</td>\n",
       "      <td>0</td>\n",
       "      <td>38484.156</td>\n",
       "      <td>housing transactions</td>\n",
       "      <td>adults</td>\n",
       "    </tr>\n",
       "    <tr>\n",
       "      <th>7</th>\n",
       "      <td>0</td>\n",
       "      <td>152</td>\n",
       "      <td>50</td>\n",
       "      <td>secondary education</td>\n",
       "      <td>1</td>\n",
       "      <td>married</td>\n",
       "      <td>0</td>\n",
       "      <td>M</td>\n",
       "      <td>employee</td>\n",
       "      <td>0</td>\n",
       "      <td>21731.829</td>\n",
       "      <td>education</td>\n",
       "      <td>adults</td>\n",
       "    </tr>\n",
       "    <tr>\n",
       "      <th>8</th>\n",
       "      <td>2</td>\n",
       "      <td>6929</td>\n",
       "      <td>35</td>\n",
       "      <td>bachelor's degree</td>\n",
       "      <td>0</td>\n",
       "      <td>civil partnership</td>\n",
       "      <td>1</td>\n",
       "      <td>F</td>\n",
       "      <td>employee</td>\n",
       "      <td>0</td>\n",
       "      <td>15337.093</td>\n",
       "      <td>having a wedding</td>\n",
       "      <td>young+</td>\n",
       "    </tr>\n",
       "    <tr>\n",
       "      <th>9</th>\n",
       "      <td>0</td>\n",
       "      <td>2188</td>\n",
       "      <td>41</td>\n",
       "      <td>secondary education</td>\n",
       "      <td>1</td>\n",
       "      <td>married</td>\n",
       "      <td>0</td>\n",
       "      <td>M</td>\n",
       "      <td>employee</td>\n",
       "      <td>0</td>\n",
       "      <td>23108.150</td>\n",
       "      <td>purchase of the house for my family</td>\n",
       "      <td>young+</td>\n",
       "    </tr>\n",
       "  </tbody>\n",
       "</table>\n",
       "</div>"
      ],
      "text/plain": [
       "   children  days_employed  dob_years            education  education_id  \\\n",
       "0         1           8437         42    bachelor's degree             0   \n",
       "1         1           4024         36  secondary education             1   \n",
       "2         0           5623         33  secondary education             1   \n",
       "3         3           4124         32  secondary education             1   \n",
       "4         0         340266         53  secondary education             1   \n",
       "5         0            926         27    bachelor's degree             0   \n",
       "6         0           2879         43    bachelor's degree             0   \n",
       "7         0            152         50  secondary education             1   \n",
       "8         2           6929         35    bachelor's degree             0   \n",
       "9         0           2188         41  secondary education             1   \n",
       "\n",
       "       family_status  family_status_id gender income_type  debt  total_income  \\\n",
       "0            married                 0      F    employee     0     40620.102   \n",
       "1            married                 0      F    employee     0     17932.802   \n",
       "2            married                 0      M    employee     0     23341.752   \n",
       "3            married                 0      M    employee     0     42820.568   \n",
       "4  civil partnership                 1      F     retiree     0     25378.572   \n",
       "5  civil partnership                 1      M    business     0     40922.170   \n",
       "6            married                 0      F    business     0     38484.156   \n",
       "7            married                 0      M    employee     0     21731.829   \n",
       "8  civil partnership                 1      F    employee     0     15337.093   \n",
       "9            married                 0      M    employee     0     23108.150   \n",
       "\n",
       "                               purpose age_group  \n",
       "0                purchase of the house    adults  \n",
       "1                         car purchase    young+  \n",
       "2                purchase of the house    young+  \n",
       "3              supplementary education     young  \n",
       "4                    to have a wedding    adults  \n",
       "5                purchase of the house     young  \n",
       "6                 housing transactions    adults  \n",
       "7                            education    adults  \n",
       "8                     having a wedding    young+  \n",
       "9  purchase of the house for my family    young+  "
      ]
     },
     "execution_count": 238,
     "metadata": {},
     "output_type": "execute_result"
    }
   ],
   "source": [
    "\n",
    "new_data = data.dropna(subset=['total_income'])\n",
    "new_data.head(10)# Create a table without missing values and print a few of its rows to make sure it looks fine"
   ]
  },
  {
   "cell_type": "code",
   "execution_count": 239,
   "metadata": {},
   "outputs": [
    {
     "name": "stdout",
     "output_type": "stream",
     "text": [
      "<class 'pandas.core.frame.DataFrame'>\n",
      "Int64Index: 19279 entries, 0 to 21524\n",
      "Data columns (total 13 columns):\n",
      " #   Column            Non-Null Count  Dtype  \n",
      "---  ------            --------------  -----  \n",
      " 0   children          19279 non-null  int64  \n",
      " 1   days_employed     19279 non-null  int64  \n",
      " 2   dob_years         19279 non-null  int64  \n",
      " 3   education         19279 non-null  object \n",
      " 4   education_id      19279 non-null  int64  \n",
      " 5   family_status     19279 non-null  object \n",
      " 6   family_status_id  19279 non-null  int64  \n",
      " 7   gender            19279 non-null  object \n",
      " 8   income_type       19279 non-null  object \n",
      " 9   debt              19279 non-null  int64  \n",
      " 10  total_income      19279 non-null  float64\n",
      " 11  purpose           19279 non-null  object \n",
      " 12  age_group         19279 non-null  object \n",
      "dtypes: float64(1), int64(6), object(6)\n",
      "memory usage: 2.1+ MB\n"
     ]
    }
   ],
   "source": [
    "new_data.info()"
   ]
  },
  {
   "cell_type": "code",
   "execution_count": 240,
   "metadata": {
    "scrolled": true
   },
   "outputs": [
    {
     "data": {
      "text/plain": [
       "26788.659822708647"
      ]
     },
     "execution_count": 240,
     "metadata": {},
     "output_type": "execute_result"
    }
   ],
   "source": [
    "new_data['total_income'].mean()# Look at the mean values for income based on your identified factors"
   ]
  },
  {
   "cell_type": "code",
   "execution_count": 241,
   "metadata": {
    "scrolled": true
   },
   "outputs": [
    {
     "data": {
      "text/plain": [
       "23203.786"
      ]
     },
     "execution_count": 241,
     "metadata": {},
     "output_type": "execute_result"
    }
   ],
   "source": [
    "new_data['total_income'].median()# Look at the median values for income based on your identified factors\n"
   ]
  },
  {
   "cell_type": "code",
   "execution_count": 242,
   "metadata": {},
   "outputs": [
    {
     "data": {
      "text/plain": [
       "count     19279.000000\n",
       "mean      26788.659823\n",
       "std       16487.538349\n",
       "min        3306.762000\n",
       "25%       16488.504500\n",
       "50%       23203.786000\n",
       "75%       32541.860500\n",
       "max      362496.645000\n",
       "Name: total_income, dtype: float64"
      ]
     },
     "execution_count": 242,
     "metadata": {},
     "output_type": "execute_result"
    }
   ],
   "source": [
    "new_data['total_income'].describe()"
   ]
  },
  {
   "cell_type": "code",
   "execution_count": null,
   "metadata": {},
   "outputs": [],
   "source": []
  },
  {
   "cell_type": "markdown",
   "metadata": {},
   "source": [
    "most of the data is in between.16488 and 32541 we will take the median  for analysis based on the columns that we think affect the final result ('age_group','education','income_type')\n",
    "we take the median and not the average, because we see that there is a very large variation in extreme (especially in very high) wage levels. between 3000 and 360000. there may be values that greatly affect the average"
   ]
  },
  {
   "cell_type": "code",
   "execution_count": null,
   "metadata": {},
   "outputs": [],
   "source": [
    "data['total_income'] = data['total_income'].fillna(data\\\n",
    ".groupby(['age_group','education','income_type'])['total_income'].transform(lambda grp: grp.fillna(np.median(grp))))#  Write a function that we will use for filling in missing values\n",
    "     "
   ]
  },
  {
   "cell_type": "code",
   "execution_count": null,
   "metadata": {},
   "outputs": [],
   "source": [
    "data['total_income'].isna().sum() # Check if it works\n"
   ]
  },
  {
   "cell_type": "code",
   "execution_count": null,
   "metadata": {},
   "outputs": [],
   "source": [
    "# Checking the number of entries in the columns\n",
    "\n",
    "data.info()"
   ]
  },
  {
   "cell_type": "markdown",
   "metadata": {},
   "source": [
    "###  Restoring values in `days_employed`"
   ]
  },
  {
   "cell_type": "code",
   "execution_count": null,
   "metadata": {
    "pycharm": {
     "name": "#%%\n"
    }
   },
   "outputs": [],
   "source": [
    "# Distribution of `days_employed` medians based on your identified parameters\n",
    "\n",
    "data['days_employed'].median()\n"
   ]
  },
  {
   "cell_type": "code",
   "execution_count": 247,
   "metadata": {},
   "outputs": [
    {
     "data": {
      "text/plain": [
       "60427.82374134381"
      ]
     },
     "execution_count": 247,
     "metadata": {},
     "output_type": "execute_result"
    }
   ],
   "source": [
    "# Distribution of `days_employed` means based on your identified parameters\n",
    "data['days_employed'].mean()"
   ]
  },
  {
   "cell_type": "code",
   "execution_count": 248,
   "metadata": {},
   "outputs": [
    {
     "data": {
      "text/plain": [
       "count     21372.000000\n",
       "mean      60427.823741\n",
       "std      133599.546074\n",
       "min           0.000000\n",
       "25%         623.000000\n",
       "50%        1823.000000\n",
       "75%        4803.000000\n",
       "max      401755.000000\n",
       "Name: days_employed, dtype: float64"
      ]
     },
     "execution_count": 248,
     "metadata": {},
     "output_type": "execute_result"
    }
   ],
   "source": [
    "data['days_employed'].describe()"
   ]
  },
  {
   "cell_type": "markdown",
   "metadata": {},
   "source": [
    "we have replaced the missing values with 0 at the beginning. because of this, the average value is strongly changed in the negative direction. so we can't use it and will use the median"
   ]
  },
  {
   "cell_type": "code",
   "execution_count": 249,
   "metadata": {},
   "outputs": [],
   "source": [
    "# Let's write a function that calculates means or medians (depending on your decision) based on your identified parameter\n",
    "data['days_employed'] = data['days_employed'].fillna(data\\\n",
    ".groupby(['age_group','education','income_type'])['days_employed'].transform(lambda grp: grp.fillna(np.median(grp))))"
   ]
  },
  {
   "cell_type": "code",
   "execution_count": 250,
   "metadata": {},
   "outputs": [
    {
     "data": {
      "text/plain": [
       "0"
      ]
     },
     "execution_count": 250,
     "metadata": {},
     "output_type": "execute_result"
    }
   ],
   "source": [
    "# Check that the function works\n",
    "\n",
    "data['days_employed'].isna().sum() "
   ]
  },
  {
   "cell_type": "code",
   "execution_count": 251,
   "metadata": {},
   "outputs": [
    {
     "name": "stdout",
     "output_type": "stream",
     "text": [
      "<class 'pandas.core.frame.DataFrame'>\n",
      "Int64Index: 21372 entries, 0 to 21524\n",
      "Data columns (total 13 columns):\n",
      " #   Column            Non-Null Count  Dtype  \n",
      "---  ------            --------------  -----  \n",
      " 0   children          21372 non-null  int64  \n",
      " 1   days_employed     21372 non-null  int64  \n",
      " 2   dob_years         21372 non-null  int64  \n",
      " 3   education         21372 non-null  object \n",
      " 4   education_id      21372 non-null  int64  \n",
      " 5   family_status     21372 non-null  object \n",
      " 6   family_status_id  21372 non-null  int64  \n",
      " 7   gender            21372 non-null  object \n",
      " 8   income_type       21372 non-null  object \n",
      " 9   debt              21372 non-null  int64  \n",
      " 10  total_income      19279 non-null  float64\n",
      " 11  purpose           21372 non-null  object \n",
      " 12  age_group         21372 non-null  object \n",
      "dtypes: float64(1), int64(6), object(6)\n",
      "memory usage: 2.3+ MB\n"
     ]
    }
   ],
   "source": [
    "data.info()# Check the entries in all columns - make sure we fixed all missing values"
   ]
  },
  {
   "cell_type": "markdown",
   "metadata": {},
   "source": [
    "## Categorization of data\n",
    "\n",
    "\n"
   ]
  },
  {
   "cell_type": "code",
   "execution_count": 252,
   "metadata": {
    "scrolled": true
   },
   "outputs": [
    {
     "data": {
      "text/plain": [
       "0          purchase of the house\n",
       "1                   car purchase\n",
       "2          purchase of the house\n",
       "3        supplementary education\n",
       "4              to have a wedding\n",
       "                  ...           \n",
       "21520       housing transactions\n",
       "21521          purchase of a car\n",
       "21522                   property\n",
       "21523          buying my own car\n",
       "21524               to buy a car\n",
       "Name: purpose, Length: 21372, dtype: object"
      ]
     },
     "execution_count": 252,
     "metadata": {},
     "output_type": "execute_result"
    }
   ],
   "source": [
    "# Print the values for your selected data for categorization\n",
    "\n",
    "data['purpose']"
   ]
  },
  {
   "cell_type": "code",
   "execution_count": 253,
   "metadata": {},
   "outputs": [
    {
     "data": {
      "text/plain": [
       "array(['purchase of the house', 'car purchase', 'supplementary education',\n",
       "       'to have a wedding', 'housing transactions', 'education',\n",
       "       'having a wedding', 'purchase of the house for my family',\n",
       "       'buy real estate', 'buy commercial real estate',\n",
       "       'buy residential real estate', 'construction of own property',\n",
       "       'property', 'building a property', 'buying a second-hand car',\n",
       "       'buying my own car', 'transactions with commercial real estate',\n",
       "       'building a real estate', 'housing',\n",
       "       'transactions with my real estate', 'cars', 'to become educated',\n",
       "       'second-hand car purchase', 'getting an education', 'car',\n",
       "       'wedding ceremony', 'to get a supplementary education',\n",
       "       'purchase of my own house', 'real estate transactions',\n",
       "       'getting higher education', 'to own a car', 'purchase of a car',\n",
       "       'profile education', 'university education',\n",
       "       'buying property for renting out', 'to buy a car',\n",
       "       'housing renovation', 'going to university'], dtype=object)"
      ]
     },
     "execution_count": 253,
     "metadata": {},
     "output_type": "execute_result"
    }
   ],
   "source": [
    "# Check the unique values\n",
    "data['purpose'].unique()"
   ]
  },
  {
   "cell_type": "code",
   "execution_count": 254,
   "metadata": {},
   "outputs": [],
   "source": [
    "wedding = ['to have a wedding', 'having a wedding', 'wedding ceremony' ]\n",
    "real_estate = ['purchase of the house', 'housing transactions', 'purchase of the house for my family', 'buy real estate', 'buy commercial real estate', 'buy residential real estate', 'construction of own property', 'property', 'building a property', 'transactions with commercial real estate', 'building a real estate',  'housing', 'transactions with my real estate', 'purchase of my own house', 'real estate transactions',  'buying property for renting out', 'housing renovation' ]\n",
    "car = ['car purchase', 'buying a second-hand car', 'buying my own car', 'cars', 'second-hand car purchase', 'car',  'to own a car', 'purchase of a car', 'to buy a car' ]\n",
    "education = ['supplementary education', 'education', 'to become educated', 'getting an education', 'to get a supplementary education', 'getting higher education', 'profile education', 'university education', 'going to university' ]\n"
   ]
  },
  {
   "cell_type": "code",
   "execution_count": 255,
   "metadata": {},
   "outputs": [],
   "source": [
    "# Let's write a function to categorize the data based on common topics\n",
    "def purpose_cat(purpose):\n",
    "    if purpose in real_estate:\n",
    "        return 'real estate'\n",
    "    elif purpose in wedding:\n",
    "        return 'wedding'\n",
    "    elif purpose in car:\n",
    "        return 'car'\n",
    "    elif purpose in education:\n",
    "        return 'education'\n",
    "    else:\n",
    "        return 'other'"
   ]
  },
  {
   "cell_type": "code",
   "execution_count": 256,
   "metadata": {},
   "outputs": [
    {
     "data": {
      "text/plain": [
       "'car'"
      ]
     },
     "execution_count": 256,
     "metadata": {},
     "output_type": "execute_result"
    }
   ],
   "source": [
    "purpose_cat('to buy a car')"
   ]
  },
  {
   "cell_type": "code",
   "execution_count": 257,
   "metadata": {},
   "outputs": [],
   "source": [
    "# Create a column with the categories and count the values for them\n",
    "\n",
    "data['purpose_cati'] = data['purpose'].apply(purpose_cat)"
   ]
  },
  {
   "cell_type": "code",
   "execution_count": 258,
   "metadata": {},
   "outputs": [
    {
     "data": {
      "text/plain": [
       "real estate    10771\n",
       "car             4289\n",
       "education       3998\n",
       "wedding         2314\n",
       "Name: purpose_cati, dtype: int64"
      ]
     },
     "execution_count": 258,
     "metadata": {},
     "output_type": "execute_result"
    }
   ],
   "source": [
    "data['purpose_cati'].value_counts()"
   ]
  },
  {
   "cell_type": "code",
   "execution_count": 259,
   "metadata": {},
   "outputs": [
    {
     "data": {
      "text/html": [
       "<div>\n",
       "<style scoped>\n",
       "    .dataframe tbody tr th:only-of-type {\n",
       "        vertical-align: middle;\n",
       "    }\n",
       "\n",
       "    .dataframe tbody tr th {\n",
       "        vertical-align: top;\n",
       "    }\n",
       "\n",
       "    .dataframe thead th {\n",
       "        text-align: right;\n",
       "    }\n",
       "</style>\n",
       "<table border=\"1\" class=\"dataframe\">\n",
       "  <thead>\n",
       "    <tr style=\"text-align: right;\">\n",
       "      <th></th>\n",
       "      <th>children</th>\n",
       "      <th>days_employed</th>\n",
       "      <th>dob_years</th>\n",
       "      <th>education</th>\n",
       "      <th>education_id</th>\n",
       "      <th>family_status</th>\n",
       "      <th>family_status_id</th>\n",
       "      <th>gender</th>\n",
       "      <th>income_type</th>\n",
       "      <th>debt</th>\n",
       "      <th>total_income</th>\n",
       "      <th>purpose</th>\n",
       "      <th>age_group</th>\n",
       "      <th>purpose_cati</th>\n",
       "    </tr>\n",
       "  </thead>\n",
       "  <tbody>\n",
       "    <tr>\n",
       "      <th>0</th>\n",
       "      <td>1</td>\n",
       "      <td>8437</td>\n",
       "      <td>42</td>\n",
       "      <td>bachelor's degree</td>\n",
       "      <td>0</td>\n",
       "      <td>married</td>\n",
       "      <td>0</td>\n",
       "      <td>F</td>\n",
       "      <td>employee</td>\n",
       "      <td>0</td>\n",
       "      <td>40620.102</td>\n",
       "      <td>purchase of the house</td>\n",
       "      <td>adults</td>\n",
       "      <td>real estate</td>\n",
       "    </tr>\n",
       "    <tr>\n",
       "      <th>1</th>\n",
       "      <td>1</td>\n",
       "      <td>4024</td>\n",
       "      <td>36</td>\n",
       "      <td>secondary education</td>\n",
       "      <td>1</td>\n",
       "      <td>married</td>\n",
       "      <td>0</td>\n",
       "      <td>F</td>\n",
       "      <td>employee</td>\n",
       "      <td>0</td>\n",
       "      <td>17932.802</td>\n",
       "      <td>car purchase</td>\n",
       "      <td>young+</td>\n",
       "      <td>car</td>\n",
       "    </tr>\n",
       "    <tr>\n",
       "      <th>2</th>\n",
       "      <td>0</td>\n",
       "      <td>5623</td>\n",
       "      <td>33</td>\n",
       "      <td>secondary education</td>\n",
       "      <td>1</td>\n",
       "      <td>married</td>\n",
       "      <td>0</td>\n",
       "      <td>M</td>\n",
       "      <td>employee</td>\n",
       "      <td>0</td>\n",
       "      <td>23341.752</td>\n",
       "      <td>purchase of the house</td>\n",
       "      <td>young+</td>\n",
       "      <td>real estate</td>\n",
       "    </tr>\n",
       "    <tr>\n",
       "      <th>3</th>\n",
       "      <td>3</td>\n",
       "      <td>4124</td>\n",
       "      <td>32</td>\n",
       "      <td>secondary education</td>\n",
       "      <td>1</td>\n",
       "      <td>married</td>\n",
       "      <td>0</td>\n",
       "      <td>M</td>\n",
       "      <td>employee</td>\n",
       "      <td>0</td>\n",
       "      <td>42820.568</td>\n",
       "      <td>supplementary education</td>\n",
       "      <td>young</td>\n",
       "      <td>education</td>\n",
       "    </tr>\n",
       "    <tr>\n",
       "      <th>4</th>\n",
       "      <td>0</td>\n",
       "      <td>340266</td>\n",
       "      <td>53</td>\n",
       "      <td>secondary education</td>\n",
       "      <td>1</td>\n",
       "      <td>civil partnership</td>\n",
       "      <td>1</td>\n",
       "      <td>F</td>\n",
       "      <td>retiree</td>\n",
       "      <td>0</td>\n",
       "      <td>25378.572</td>\n",
       "      <td>to have a wedding</td>\n",
       "      <td>adults</td>\n",
       "      <td>wedding</td>\n",
       "    </tr>\n",
       "  </tbody>\n",
       "</table>\n",
       "</div>"
      ],
      "text/plain": [
       "   children  days_employed  dob_years            education  education_id  \\\n",
       "0         1           8437         42    bachelor's degree             0   \n",
       "1         1           4024         36  secondary education             1   \n",
       "2         0           5623         33  secondary education             1   \n",
       "3         3           4124         32  secondary education             1   \n",
       "4         0         340266         53  secondary education             1   \n",
       "\n",
       "       family_status  family_status_id gender income_type  debt  total_income  \\\n",
       "0            married                 0      F    employee     0     40620.102   \n",
       "1            married                 0      F    employee     0     17932.802   \n",
       "2            married                 0      M    employee     0     23341.752   \n",
       "3            married                 0      M    employee     0     42820.568   \n",
       "4  civil partnership                 1      F     retiree     0     25378.572   \n",
       "\n",
       "                   purpose age_group purpose_cati  \n",
       "0    purchase of the house    adults  real estate  \n",
       "1             car purchase    young+          car  \n",
       "2    purchase of the house    young+  real estate  \n",
       "3  supplementary education     young    education  \n",
       "4        to have a wedding    adults      wedding  "
      ]
     },
     "execution_count": 259,
     "metadata": {},
     "output_type": "execute_result"
    }
   ],
   "source": [
    "data.head()"
   ]
  },
  {
   "cell_type": "code",
   "execution_count": 260,
   "metadata": {},
   "outputs": [
    {
     "data": {
      "text/html": [
       "<div>\n",
       "<style scoped>\n",
       "    .dataframe tbody tr th:only-of-type {\n",
       "        vertical-align: middle;\n",
       "    }\n",
       "\n",
       "    .dataframe tbody tr th {\n",
       "        vertical-align: top;\n",
       "    }\n",
       "\n",
       "    .dataframe thead th {\n",
       "        text-align: right;\n",
       "    }\n",
       "</style>\n",
       "<table border=\"1\" class=\"dataframe\">\n",
       "  <thead>\n",
       "    <tr style=\"text-align: right;\">\n",
       "      <th></th>\n",
       "      <th>children</th>\n",
       "      <th>days_employed</th>\n",
       "      <th>dob_years</th>\n",
       "      <th>education_id</th>\n",
       "      <th>family_status_id</th>\n",
       "      <th>debt</th>\n",
       "      <th>total_income</th>\n",
       "    </tr>\n",
       "  </thead>\n",
       "  <tbody>\n",
       "    <tr>\n",
       "      <th>count</th>\n",
       "      <td>21372.000000</td>\n",
       "      <td>21372.000000</td>\n",
       "      <td>21372.000000</td>\n",
       "      <td>21372.000000</td>\n",
       "      <td>21372.000000</td>\n",
       "      <td>21372.000000</td>\n",
       "      <td>19279.000000</td>\n",
       "    </tr>\n",
       "    <tr>\n",
       "      <th>mean</th>\n",
       "      <td>0.475154</td>\n",
       "      <td>60427.823741</td>\n",
       "      <td>43.475576</td>\n",
       "      <td>0.817004</td>\n",
       "      <td>0.974406</td>\n",
       "      <td>0.080994</td>\n",
       "      <td>26788.659823</td>\n",
       "    </tr>\n",
       "    <tr>\n",
       "      <th>std</th>\n",
       "      <td>0.751951</td>\n",
       "      <td>133599.546074</td>\n",
       "      <td>12.217662</td>\n",
       "      <td>0.549003</td>\n",
       "      <td>1.421787</td>\n",
       "      <td>0.272832</td>\n",
       "      <td>16487.538349</td>\n",
       "    </tr>\n",
       "    <tr>\n",
       "      <th>min</th>\n",
       "      <td>0.000000</td>\n",
       "      <td>0.000000</td>\n",
       "      <td>19.000000</td>\n",
       "      <td>0.000000</td>\n",
       "      <td>0.000000</td>\n",
       "      <td>0.000000</td>\n",
       "      <td>3306.762000</td>\n",
       "    </tr>\n",
       "    <tr>\n",
       "      <th>25%</th>\n",
       "      <td>0.000000</td>\n",
       "      <td>623.000000</td>\n",
       "      <td>33.000000</td>\n",
       "      <td>1.000000</td>\n",
       "      <td>0.000000</td>\n",
       "      <td>0.000000</td>\n",
       "      <td>16488.504500</td>\n",
       "    </tr>\n",
       "    <tr>\n",
       "      <th>50%</th>\n",
       "      <td>0.000000</td>\n",
       "      <td>1823.000000</td>\n",
       "      <td>42.000000</td>\n",
       "      <td>1.000000</td>\n",
       "      <td>0.000000</td>\n",
       "      <td>0.000000</td>\n",
       "      <td>23203.786000</td>\n",
       "    </tr>\n",
       "    <tr>\n",
       "      <th>75%</th>\n",
       "      <td>1.000000</td>\n",
       "      <td>4803.000000</td>\n",
       "      <td>53.000000</td>\n",
       "      <td>1.000000</td>\n",
       "      <td>1.000000</td>\n",
       "      <td>0.000000</td>\n",
       "      <td>32541.860500</td>\n",
       "    </tr>\n",
       "    <tr>\n",
       "      <th>max</th>\n",
       "      <td>5.000000</td>\n",
       "      <td>401755.000000</td>\n",
       "      <td>75.000000</td>\n",
       "      <td>4.000000</td>\n",
       "      <td>4.000000</td>\n",
       "      <td>1.000000</td>\n",
       "      <td>362496.645000</td>\n",
       "    </tr>\n",
       "  </tbody>\n",
       "</table>\n",
       "</div>"
      ],
      "text/plain": [
       "           children  days_employed     dob_years  education_id  \\\n",
       "count  21372.000000   21372.000000  21372.000000  21372.000000   \n",
       "mean       0.475154   60427.823741     43.475576      0.817004   \n",
       "std        0.751951  133599.546074     12.217662      0.549003   \n",
       "min        0.000000       0.000000     19.000000      0.000000   \n",
       "25%        0.000000     623.000000     33.000000      1.000000   \n",
       "50%        0.000000    1823.000000     42.000000      1.000000   \n",
       "75%        1.000000    4803.000000     53.000000      1.000000   \n",
       "max        5.000000  401755.000000     75.000000      4.000000   \n",
       "\n",
       "       family_status_id          debt   total_income  \n",
       "count      21372.000000  21372.000000   19279.000000  \n",
       "mean           0.974406      0.080994   26788.659823  \n",
       "std            1.421787      0.272832   16487.538349  \n",
       "min            0.000000      0.000000    3306.762000  \n",
       "25%            0.000000      0.000000   16488.504500  \n",
       "50%            0.000000      0.000000   23203.786000  \n",
       "75%            1.000000      0.000000   32541.860500  \n",
       "max            4.000000      1.000000  362496.645000  "
      ]
     },
     "execution_count": 260,
     "metadata": {},
     "output_type": "execute_result"
    }
   ],
   "source": [
    "data.describe()# Looking through all the numerical data in your selected column for categorization\n"
   ]
  },
  {
   "cell_type": "code",
   "execution_count": 261,
   "metadata": {},
   "outputs": [
    {
     "data": {
      "text/plain": [
       "count     19279.000000\n",
       "mean      26788.659823\n",
       "std       16487.538349\n",
       "min        3306.762000\n",
       "25%       16488.504500\n",
       "50%       23203.786000\n",
       "75%       32541.860500\n",
       "max      362496.645000\n",
       "Name: total_income, dtype: float64"
      ]
     },
     "execution_count": 261,
     "metadata": {},
     "output_type": "execute_result"
    }
   ],
   "source": [
    "# Getting summary statistics for the column\n",
    "\n",
    "data['total_income'].describe()"
   ]
  },
  {
   "cell_type": "code",
   "execution_count": 262,
   "metadata": {},
   "outputs": [],
   "source": [
    "# Creating function for categorizing into different numerical groups based on ranges\n",
    "def total_income_cut(total):\n",
    "    if total <= 17203:\n",
    "        return 'low'\n",
    "    elif total <= 24010:\n",
    "        return 'middle'\n",
    "    elif total <= 32079:\n",
    "        return 'high'\n",
    "    else:\n",
    "        return 'very high'\n"
   ]
  },
  {
   "cell_type": "code",
   "execution_count": 263,
   "metadata": {},
   "outputs": [
    {
     "data": {
      "text/plain": [
       "'middle'"
      ]
     },
     "execution_count": 263,
     "metadata": {},
     "output_type": "execute_result"
    }
   ],
   "source": [
    "total_income_cut(19567)"
   ]
  },
  {
   "cell_type": "code",
   "execution_count": 264,
   "metadata": {},
   "outputs": [],
   "source": [
    "# Creating column with categories\n",
    "data['income_cat'] = data['total_income'].apply(total_income_cut)"
   ]
  },
  {
   "cell_type": "code",
   "execution_count": 265,
   "metadata": {
    "scrolled": true
   },
   "outputs": [
    {
     "data": {
      "text/plain": [
       "very high    7104\n",
       "low          5341\n",
       "middle       4789\n",
       "high         4138\n",
       "Name: income_cat, dtype: int64"
      ]
     },
     "execution_count": 265,
     "metadata": {},
     "output_type": "execute_result"
    }
   ],
   "source": [
    "# Count each categories values to see the distribution\n",
    "data['income_cat'].value_counts()"
   ]
  },
  {
   "cell_type": "code",
   "execution_count": 266,
   "metadata": {},
   "outputs": [
    {
     "data": {
      "text/html": [
       "<div>\n",
       "<style scoped>\n",
       "    .dataframe tbody tr th:only-of-type {\n",
       "        vertical-align: middle;\n",
       "    }\n",
       "\n",
       "    .dataframe tbody tr th {\n",
       "        vertical-align: top;\n",
       "    }\n",
       "\n",
       "    .dataframe thead th {\n",
       "        text-align: right;\n",
       "    }\n",
       "</style>\n",
       "<table border=\"1\" class=\"dataframe\">\n",
       "  <thead>\n",
       "    <tr style=\"text-align: right;\">\n",
       "      <th></th>\n",
       "      <th>children</th>\n",
       "      <th>days_employed</th>\n",
       "      <th>dob_years</th>\n",
       "      <th>education</th>\n",
       "      <th>education_id</th>\n",
       "      <th>family_status</th>\n",
       "      <th>family_status_id</th>\n",
       "      <th>gender</th>\n",
       "      <th>income_type</th>\n",
       "      <th>debt</th>\n",
       "      <th>total_income</th>\n",
       "      <th>purpose</th>\n",
       "      <th>age_group</th>\n",
       "      <th>purpose_cati</th>\n",
       "      <th>income_cat</th>\n",
       "    </tr>\n",
       "  </thead>\n",
       "  <tbody>\n",
       "    <tr>\n",
       "      <th>0</th>\n",
       "      <td>1</td>\n",
       "      <td>8437</td>\n",
       "      <td>42</td>\n",
       "      <td>bachelor's degree</td>\n",
       "      <td>0</td>\n",
       "      <td>married</td>\n",
       "      <td>0</td>\n",
       "      <td>F</td>\n",
       "      <td>employee</td>\n",
       "      <td>0</td>\n",
       "      <td>40620.102</td>\n",
       "      <td>purchase of the house</td>\n",
       "      <td>adults</td>\n",
       "      <td>real estate</td>\n",
       "      <td>very high</td>\n",
       "    </tr>\n",
       "    <tr>\n",
       "      <th>1</th>\n",
       "      <td>1</td>\n",
       "      <td>4024</td>\n",
       "      <td>36</td>\n",
       "      <td>secondary education</td>\n",
       "      <td>1</td>\n",
       "      <td>married</td>\n",
       "      <td>0</td>\n",
       "      <td>F</td>\n",
       "      <td>employee</td>\n",
       "      <td>0</td>\n",
       "      <td>17932.802</td>\n",
       "      <td>car purchase</td>\n",
       "      <td>young+</td>\n",
       "      <td>car</td>\n",
       "      <td>middle</td>\n",
       "    </tr>\n",
       "    <tr>\n",
       "      <th>2</th>\n",
       "      <td>0</td>\n",
       "      <td>5623</td>\n",
       "      <td>33</td>\n",
       "      <td>secondary education</td>\n",
       "      <td>1</td>\n",
       "      <td>married</td>\n",
       "      <td>0</td>\n",
       "      <td>M</td>\n",
       "      <td>employee</td>\n",
       "      <td>0</td>\n",
       "      <td>23341.752</td>\n",
       "      <td>purchase of the house</td>\n",
       "      <td>young+</td>\n",
       "      <td>real estate</td>\n",
       "      <td>middle</td>\n",
       "    </tr>\n",
       "    <tr>\n",
       "      <th>3</th>\n",
       "      <td>3</td>\n",
       "      <td>4124</td>\n",
       "      <td>32</td>\n",
       "      <td>secondary education</td>\n",
       "      <td>1</td>\n",
       "      <td>married</td>\n",
       "      <td>0</td>\n",
       "      <td>M</td>\n",
       "      <td>employee</td>\n",
       "      <td>0</td>\n",
       "      <td>42820.568</td>\n",
       "      <td>supplementary education</td>\n",
       "      <td>young</td>\n",
       "      <td>education</td>\n",
       "      <td>very high</td>\n",
       "    </tr>\n",
       "    <tr>\n",
       "      <th>4</th>\n",
       "      <td>0</td>\n",
       "      <td>340266</td>\n",
       "      <td>53</td>\n",
       "      <td>secondary education</td>\n",
       "      <td>1</td>\n",
       "      <td>civil partnership</td>\n",
       "      <td>1</td>\n",
       "      <td>F</td>\n",
       "      <td>retiree</td>\n",
       "      <td>0</td>\n",
       "      <td>25378.572</td>\n",
       "      <td>to have a wedding</td>\n",
       "      <td>adults</td>\n",
       "      <td>wedding</td>\n",
       "      <td>high</td>\n",
       "    </tr>\n",
       "  </tbody>\n",
       "</table>\n",
       "</div>"
      ],
      "text/plain": [
       "   children  days_employed  dob_years            education  education_id  \\\n",
       "0         1           8437         42    bachelor's degree             0   \n",
       "1         1           4024         36  secondary education             1   \n",
       "2         0           5623         33  secondary education             1   \n",
       "3         3           4124         32  secondary education             1   \n",
       "4         0         340266         53  secondary education             1   \n",
       "\n",
       "       family_status  family_status_id gender income_type  debt  total_income  \\\n",
       "0            married                 0      F    employee     0     40620.102   \n",
       "1            married                 0      F    employee     0     17932.802   \n",
       "2            married                 0      M    employee     0     23341.752   \n",
       "3            married                 0      M    employee     0     42820.568   \n",
       "4  civil partnership                 1      F     retiree     0     25378.572   \n",
       "\n",
       "                   purpose age_group purpose_cati income_cat  \n",
       "0    purchase of the house    adults  real estate  very high  \n",
       "1             car purchase    young+          car     middle  \n",
       "2    purchase of the house    young+  real estate     middle  \n",
       "3  supplementary education     young    education  very high  \n",
       "4        to have a wedding    adults      wedding       high  "
      ]
     },
     "execution_count": 266,
     "metadata": {},
     "output_type": "execute_result"
    }
   ],
   "source": [
    "data.head()"
   ]
  },
  {
   "cell_type": "markdown",
   "metadata": {},
   "source": [
    "## Checking the Hypotheses\n"
   ]
  },
  {
   "cell_type": "markdown",
   "metadata": {},
   "source": [
    "**Is there a correlation between having children and paying back on time?**"
   ]
  },
  {
   "cell_type": "code",
   "execution_count": 267,
   "metadata": {},
   "outputs": [
    {
     "data": {
      "text/html": [
       "<div>\n",
       "<style scoped>\n",
       "    .dataframe tbody tr th:only-of-type {\n",
       "        vertical-align: middle;\n",
       "    }\n",
       "\n",
       "    .dataframe tbody tr th {\n",
       "        vertical-align: top;\n",
       "    }\n",
       "\n",
       "    .dataframe thead th {\n",
       "        text-align: right;\n",
       "    }\n",
       "</style>\n",
       "<table border=\"1\" class=\"dataframe\">\n",
       "  <thead>\n",
       "    <tr style=\"text-align: right;\">\n",
       "      <th>debt</th>\n",
       "      <th>0</th>\n",
       "      <th>1</th>\n",
       "      <th>All</th>\n",
       "      <th>defauolt_rate</th>\n",
       "    </tr>\n",
       "    <tr>\n",
       "      <th>children</th>\n",
       "      <th></th>\n",
       "      <th></th>\n",
       "      <th></th>\n",
       "      <th></th>\n",
       "    </tr>\n",
       "  </thead>\n",
       "  <tbody>\n",
       "    <tr>\n",
       "      <th>0</th>\n",
       "      <td>13024.0</td>\n",
       "      <td>1063.0</td>\n",
       "      <td>14087</td>\n",
       "      <td>7.545964</td>\n",
       "    </tr>\n",
       "    <tr>\n",
       "      <th>1</th>\n",
       "      <td>4410.0</td>\n",
       "      <td>444.0</td>\n",
       "      <td>4854</td>\n",
       "      <td>9.147095</td>\n",
       "    </tr>\n",
       "    <tr>\n",
       "      <th>2</th>\n",
       "      <td>1858.0</td>\n",
       "      <td>193.0</td>\n",
       "      <td>2051</td>\n",
       "      <td>9.410044</td>\n",
       "    </tr>\n",
       "    <tr>\n",
       "      <th>3</th>\n",
       "      <td>303.0</td>\n",
       "      <td>27.0</td>\n",
       "      <td>330</td>\n",
       "      <td>8.181818</td>\n",
       "    </tr>\n",
       "    <tr>\n",
       "      <th>4</th>\n",
       "      <td>37.0</td>\n",
       "      <td>4.0</td>\n",
       "      <td>41</td>\n",
       "      <td>9.756098</td>\n",
       "    </tr>\n",
       "    <tr>\n",
       "      <th>5</th>\n",
       "      <td>9.0</td>\n",
       "      <td>NaN</td>\n",
       "      <td>9</td>\n",
       "      <td>NaN</td>\n",
       "    </tr>\n",
       "    <tr>\n",
       "      <th>All</th>\n",
       "      <td>19641.0</td>\n",
       "      <td>1731.0</td>\n",
       "      <td>21372</td>\n",
       "      <td>8.099382</td>\n",
       "    </tr>\n",
       "  </tbody>\n",
       "</table>\n",
       "</div>"
      ],
      "text/plain": [
       "debt            0       1    All  defauolt_rate\n",
       "children                                       \n",
       "0         13024.0  1063.0  14087       7.545964\n",
       "1          4410.0   444.0   4854       9.147095\n",
       "2          1858.0   193.0   2051       9.410044\n",
       "3           303.0    27.0    330       8.181818\n",
       "4            37.0     4.0     41       9.756098\n",
       "5             9.0     NaN      9            NaN\n",
       "All       19641.0  1731.0  21372       8.099382"
      ]
     },
     "execution_count": 267,
     "metadata": {},
     "output_type": "execute_result"
    }
   ],
   "source": [
    "# Check the children data and paying back on time\n",
    "children_pivot = pd.pivot_table(data, index='children', columns='debt', values='income_cat', aggfunc='count', margins=True)\n",
    "children_pivot['defauolt_rate'] = (children_pivot[1]/children_pivot['All'])*100\n",
    "children_pivot\n",
    "# Calculating default-rate based on the number of children\n",
    "\n"
   ]
  },
  {
   "cell_type": "markdown",
   "metadata": {},
   "source": [
    "the distribution is:\n",
    "0 children - 7.54 percent do not paid on time\n",
    "1 - 9.15\n",
    "2-9.41\n",
    "3 - 8.18\n",
    "4 - 9.76\n",
    "\n",
    "Based on this, we can argue that people without children pay better than those who have children.  peaple with 2 and 4 kids are the worst payers, but there is  only 41 peaple with 4 kids, so it could n't be a representative. the result for people with 5 children does not fit this theory, but there are too few data (only 9) to make an analysis. I think the most dangerous clients are those with 2 kids. (9.41%)"
   ]
  },
  {
   "cell_type": "markdown",
   "metadata": {},
   "source": [
    "**Is there a correlation between family status and paying back on time?**"
   ]
  },
  {
   "cell_type": "code",
   "execution_count": 268,
   "metadata": {},
   "outputs": [
    {
     "data": {
      "text/html": [
       "<div>\n",
       "<style scoped>\n",
       "    .dataframe tbody tr th:only-of-type {\n",
       "        vertical-align: middle;\n",
       "    }\n",
       "\n",
       "    .dataframe tbody tr th {\n",
       "        vertical-align: top;\n",
       "    }\n",
       "\n",
       "    .dataframe thead th {\n",
       "        text-align: right;\n",
       "    }\n",
       "</style>\n",
       "<table border=\"1\" class=\"dataframe\">\n",
       "  <thead>\n",
       "    <tr style=\"text-align: right;\">\n",
       "      <th>debt</th>\n",
       "      <th>0</th>\n",
       "      <th>1</th>\n",
       "      <th>All</th>\n",
       "      <th>defauolt_rate</th>\n",
       "    </tr>\n",
       "    <tr>\n",
       "      <th>family_status</th>\n",
       "      <th></th>\n",
       "      <th></th>\n",
       "      <th></th>\n",
       "      <th></th>\n",
       "    </tr>\n",
       "  </thead>\n",
       "  <tbody>\n",
       "    <tr>\n",
       "      <th>civil partnership</th>\n",
       "      <td>3751</td>\n",
       "      <td>385</td>\n",
       "      <td>4136</td>\n",
       "      <td>9.308511</td>\n",
       "    </tr>\n",
       "    <tr>\n",
       "      <th>divorced</th>\n",
       "      <td>1109</td>\n",
       "      <td>84</td>\n",
       "      <td>1193</td>\n",
       "      <td>7.041073</td>\n",
       "    </tr>\n",
       "    <tr>\n",
       "      <th>married</th>\n",
       "      <td>11362</td>\n",
       "      <td>926</td>\n",
       "      <td>12288</td>\n",
       "      <td>7.535807</td>\n",
       "    </tr>\n",
       "    <tr>\n",
       "      <th>unmarried</th>\n",
       "      <td>2527</td>\n",
       "      <td>273</td>\n",
       "      <td>2800</td>\n",
       "      <td>9.750000</td>\n",
       "    </tr>\n",
       "    <tr>\n",
       "      <th>widow / widower</th>\n",
       "      <td>892</td>\n",
       "      <td>63</td>\n",
       "      <td>955</td>\n",
       "      <td>6.596859</td>\n",
       "    </tr>\n",
       "    <tr>\n",
       "      <th>All</th>\n",
       "      <td>19641</td>\n",
       "      <td>1731</td>\n",
       "      <td>21372</td>\n",
       "      <td>8.099382</td>\n",
       "    </tr>\n",
       "  </tbody>\n",
       "</table>\n",
       "</div>"
      ],
      "text/plain": [
       "debt                   0     1    All  defauolt_rate\n",
       "family_status                                       \n",
       "civil partnership   3751   385   4136       9.308511\n",
       "divorced            1109    84   1193       7.041073\n",
       "married            11362   926  12288       7.535807\n",
       "unmarried           2527   273   2800       9.750000\n",
       "widow / widower      892    63    955       6.596859\n",
       "All                19641  1731  21372       8.099382"
      ]
     },
     "execution_count": 268,
     "metadata": {},
     "output_type": "execute_result"
    }
   ],
   "source": [
    "# Check the family status data and paying back on time\n",
    "\n",
    "family_pivot = pd.pivot_table(data, index='family_status', columns='debt', values='income_cat', aggfunc='count', margins=True)\n",
    "family_pivot['defauolt_rate'] = (family_pivot[1]/family_pivot['All'])*100\n",
    "family_pivot\n",
    "\n",
    "# Calculating default-rate based on family status\n",
    "\n"
   ]
  },
  {
   "cell_type": "markdown",
   "metadata": {},
   "source": [
    "**Conclusion**\n",
    "\n",
    "[Write your conclusions based on your manipulations and observations.]"
   ]
  },
  {
   "cell_type": "markdown",
   "metadata": {},
   "source": [
    "based on the distribution, the most dangerous clients are not married or living in a civil marriage (9.750000 and 9.308511)"
   ]
  },
  {
   "cell_type": "markdown",
   "metadata": {},
   "source": [
    "**Is there a correlation between income level and paying back on time?**"
   ]
  },
  {
   "cell_type": "code",
   "execution_count": 269,
   "metadata": {},
   "outputs": [
    {
     "data": {
      "text/html": [
       "<div>\n",
       "<style scoped>\n",
       "    .dataframe tbody tr th:only-of-type {\n",
       "        vertical-align: middle;\n",
       "    }\n",
       "\n",
       "    .dataframe tbody tr th {\n",
       "        vertical-align: top;\n",
       "    }\n",
       "\n",
       "    .dataframe thead th {\n",
       "        text-align: right;\n",
       "    }\n",
       "</style>\n",
       "<table border=\"1\" class=\"dataframe\">\n",
       "  <thead>\n",
       "    <tr style=\"text-align: right;\">\n",
       "      <th>debt</th>\n",
       "      <th>0</th>\n",
       "      <th>1</th>\n",
       "      <th>All</th>\n",
       "      <th>defauolt_rate</th>\n",
       "    </tr>\n",
       "    <tr>\n",
       "      <th>income_cat</th>\n",
       "      <th></th>\n",
       "      <th></th>\n",
       "      <th></th>\n",
       "      <th></th>\n",
       "    </tr>\n",
       "  </thead>\n",
       "  <tbody>\n",
       "    <tr>\n",
       "      <th>high</th>\n",
       "      <td>3768</td>\n",
       "      <td>370</td>\n",
       "      <td>4138</td>\n",
       "      <td>8.941518</td>\n",
       "    </tr>\n",
       "    <tr>\n",
       "      <th>low</th>\n",
       "      <td>4916</td>\n",
       "      <td>425</td>\n",
       "      <td>5341</td>\n",
       "      <td>7.957311</td>\n",
       "    </tr>\n",
       "    <tr>\n",
       "      <th>middle</th>\n",
       "      <td>4375</td>\n",
       "      <td>414</td>\n",
       "      <td>4789</td>\n",
       "      <td>8.644811</td>\n",
       "    </tr>\n",
       "    <tr>\n",
       "      <th>very high</th>\n",
       "      <td>4659</td>\n",
       "      <td>352</td>\n",
       "      <td>5011</td>\n",
       "      <td>7.024546</td>\n",
       "    </tr>\n",
       "    <tr>\n",
       "      <th>All</th>\n",
       "      <td>17718</td>\n",
       "      <td>1561</td>\n",
       "      <td>19279</td>\n",
       "      <td>8.096893</td>\n",
       "    </tr>\n",
       "  </tbody>\n",
       "</table>\n",
       "</div>"
      ],
      "text/plain": [
       "debt            0     1    All  defauolt_rate\n",
       "income_cat                                   \n",
       "high         3768   370   4138       8.941518\n",
       "low          4916   425   5341       7.957311\n",
       "middle       4375   414   4789       8.644811\n",
       "very high    4659   352   5011       7.024546\n",
       "All         17718  1561  19279       8.096893"
      ]
     },
     "execution_count": 269,
     "metadata": {},
     "output_type": "execute_result"
    }
   ],
   "source": [
    "# Check the income level data and paying back on time\n",
    "\n",
    "income_pivot = pd.pivot_table(data, index='income_cat', columns='debt', values='total_income', aggfunc='count', margins=True)\n",
    "income_pivot['defauolt_rate'] = (income_pivot[1]/income_pivot['All'])*100\n",
    "income_pivot\n",
    "\n",
    "# Calculating default-rate based on income level\n",
    "\n"
   ]
  },
  {
   "cell_type": "markdown",
   "metadata": {},
   "source": [
    "**Conclusion**\n",
    "\n",
    "[Write your conclusions based on your manipulations and observations.]"
   ]
  },
  {
   "cell_type": "markdown",
   "metadata": {},
   "source": [
    "judging by the findings, the worst payers are those who earns 'high' and 'middle' - (8.742044 and 8.871421)  \n"
   ]
  },
  {
   "cell_type": "markdown",
   "metadata": {},
   "source": [
    "**How does credit purpose affect the default rate?**"
   ]
  },
  {
   "cell_type": "code",
   "execution_count": 270,
   "metadata": {},
   "outputs": [
    {
     "data": {
      "text/html": [
       "<div>\n",
       "<style scoped>\n",
       "    .dataframe tbody tr th:only-of-type {\n",
       "        vertical-align: middle;\n",
       "    }\n",
       "\n",
       "    .dataframe tbody tr th {\n",
       "        vertical-align: top;\n",
       "    }\n",
       "\n",
       "    .dataframe thead th {\n",
       "        text-align: right;\n",
       "    }\n",
       "</style>\n",
       "<table border=\"1\" class=\"dataframe\">\n",
       "  <thead>\n",
       "    <tr style=\"text-align: right;\">\n",
       "      <th>debt</th>\n",
       "      <th>0</th>\n",
       "      <th>1</th>\n",
       "      <th>All</th>\n",
       "      <th>defauolt_rate</th>\n",
       "    </tr>\n",
       "    <tr>\n",
       "      <th>purpose_cati</th>\n",
       "      <th></th>\n",
       "      <th></th>\n",
       "      <th></th>\n",
       "      <th></th>\n",
       "    </tr>\n",
       "  </thead>\n",
       "  <tbody>\n",
       "    <tr>\n",
       "      <th>car</th>\n",
       "      <td>3889</td>\n",
       "      <td>400</td>\n",
       "      <td>4289</td>\n",
       "      <td>9.326183</td>\n",
       "    </tr>\n",
       "    <tr>\n",
       "      <th>education</th>\n",
       "      <td>3629</td>\n",
       "      <td>369</td>\n",
       "      <td>3998</td>\n",
       "      <td>9.229615</td>\n",
       "    </tr>\n",
       "    <tr>\n",
       "      <th>real estate</th>\n",
       "      <td>9992</td>\n",
       "      <td>779</td>\n",
       "      <td>10771</td>\n",
       "      <td>7.232383</td>\n",
       "    </tr>\n",
       "    <tr>\n",
       "      <th>wedding</th>\n",
       "      <td>2131</td>\n",
       "      <td>183</td>\n",
       "      <td>2314</td>\n",
       "      <td>7.908384</td>\n",
       "    </tr>\n",
       "    <tr>\n",
       "      <th>All</th>\n",
       "      <td>19641</td>\n",
       "      <td>1731</td>\n",
       "      <td>21372</td>\n",
       "      <td>8.099382</td>\n",
       "    </tr>\n",
       "  </tbody>\n",
       "</table>\n",
       "</div>"
      ],
      "text/plain": [
       "debt              0     1    All  defauolt_rate\n",
       "purpose_cati                                   \n",
       "car            3889   400   4289       9.326183\n",
       "education      3629   369   3998       9.229615\n",
       "real estate    9992   779  10771       7.232383\n",
       "wedding        2131   183   2314       7.908384\n",
       "All           19641  1731  21372       8.099382"
      ]
     },
     "execution_count": 270,
     "metadata": {},
     "output_type": "execute_result"
    }
   ],
   "source": [
    "# Check the percentages for default rate for each credit purpose and analyze them\n",
    "purpose_pivot = pd.pivot_table(data, index='purpose_cati', columns='debt', values='income_cat', aggfunc='count', margins=True)\n",
    "purpose_pivot['defauolt_rate'] = (purpose_pivot[1]/purpose_pivot['All'])*100\n",
    "purpose_pivot\n"
   ]
  },
  {
   "cell_type": "markdown",
   "metadata": {},
   "source": [
    "**Conclusion**\n",
    "\n",
    "[Write your conclusions based on your manipulations and observations.]\n"
   ]
  },
  {
   "cell_type": "markdown",
   "metadata": {},
   "source": [
    "according to the conclusion\n",
    "the worst payers are those who want a real estate loan - 7.23 and a wedding - 7.87.\n"
   ]
  },
  {
   "cell_type": "markdown",
   "metadata": {},
   "source": [
    "# General Conclusion \n",
    "\n",
    "[List your conclusions in this final section. Make sure you include all your important conclusions you made that led you to the way you processed and analyzed the data. Cover the missing values, duplicates, and possible reasons and solutions for problematic artifacts that you had to address.]\n",
    "\n",
    "[List your conclusions regarding the posed questions here as well.]\n"
   ]
  },
  {
   "cell_type": "markdown",
   "metadata": {},
   "source": [
    "1. The first step was to find and compare the missing values. we found the same amount in the two columns total_income and days_employed. compared them and realized that they are in the same lines. then we checked the distribution for the remaining columns and came to the conclusion that patterns are possible in the columns: 'children', 'dob_years', 'education', 'family_status', 'gender', 'income_type', 'total_income', 'purpose'.\n",
    "2. second stage - we worked with each column separately. found the problematic data and fixed it.\n",
    "3. operation and replacement of missing data. in the total_income column, we calculated and categorized the data by age and found the average for each group and replaced the missing data with it.\n",
    "4. categorized the data in the prupose column\n",
    "5. conducted a comparative analysis using pivot tables and came to the conclusion that:\n",
    "the worst clients, those who will face problems in repaying the debt, are:\n",
    "1. clients without children\n",
    "2. divorced\n",
    "3. earning the highest salaries\n",
    "4. wedding or real estate reasons for loan. "
   ]
  }
 ],
 "metadata": {
  "ExecuteTimeLog": [
   {
    "duration": 2741,
    "start_time": "2021-10-21T01:08:49.480Z"
   },
   {
    "duration": 52,
    "start_time": "2021-10-21T01:08:53.315Z"
   },
   {
    "duration": 49,
    "start_time": "2021-10-21T01:08:57.432Z"
   },
   {
    "duration": 70,
    "start_time": "2021-10-21T01:09:07.706Z"
   },
   {
    "duration": 82,
    "start_time": "2022-07-27T06:41:41.275Z"
   },
   {
    "duration": 82,
    "start_time": "2022-07-27T06:42:07.213Z"
   },
   {
    "duration": 91,
    "start_time": "2022-07-27T06:44:01.688Z"
   },
   {
    "duration": 715,
    "start_time": "2022-07-27T06:44:10.018Z"
   },
   {
    "duration": 17,
    "start_time": "2022-07-27T06:50:02.162Z"
   },
   {
    "duration": 11,
    "start_time": "2022-07-27T06:50:58.282Z"
   },
   {
    "duration": 23,
    "start_time": "2022-07-27T06:57:58.518Z"
   },
   {
    "duration": 73,
    "start_time": "2022-07-27T06:59:25.961Z"
   },
   {
    "duration": 65,
    "start_time": "2022-07-27T07:08:03.286Z"
   },
   {
    "duration": 10,
    "start_time": "2022-07-27T07:08:29.816Z"
   },
   {
    "duration": 6,
    "start_time": "2022-07-27T07:08:51.029Z"
   },
   {
    "duration": 5,
    "start_time": "2022-07-27T07:09:08.047Z"
   },
   {
    "duration": 5,
    "start_time": "2022-07-27T07:11:03.844Z"
   },
   {
    "duration": 579,
    "start_time": "2022-07-27T09:06:16.397Z"
   },
   {
    "duration": 3,
    "start_time": "2022-07-27T09:08:15.552Z"
   },
   {
    "duration": 126,
    "start_time": "2022-07-27T09:10:21.239Z"
   },
   {
    "duration": 3,
    "start_time": "2022-07-27T09:11:04.580Z"
   },
   {
    "duration": 19,
    "start_time": "2022-07-27T09:11:23.256Z"
   },
   {
    "duration": 4,
    "start_time": "2022-07-27T09:15:07.405Z"
   },
   {
    "duration": 3,
    "start_time": "2022-07-27T09:18:13.576Z"
   },
   {
    "duration": 12,
    "start_time": "2022-07-27T09:34:13.850Z"
   },
   {
    "duration": 8,
    "start_time": "2022-07-27T09:34:50.554Z"
   },
   {
    "duration": 12,
    "start_time": "2022-07-27T09:37:57.827Z"
   },
   {
    "duration": 108,
    "start_time": "2022-07-27T09:38:07.593Z"
   },
   {
    "duration": 74,
    "start_time": "2022-07-27T09:38:21.564Z"
   },
   {
    "duration": 84,
    "start_time": "2022-07-27T09:39:17.052Z"
   },
   {
    "duration": 42,
    "start_time": "2022-07-27T09:58:22.608Z"
   },
   {
    "duration": 60,
    "start_time": "2022-07-27T09:58:45.291Z"
   },
   {
    "duration": 6,
    "start_time": "2022-07-27T09:58:53.931Z"
   },
   {
    "duration": 7,
    "start_time": "2022-07-27T09:59:35.952Z"
   },
   {
    "duration": 5,
    "start_time": "2022-07-27T10:00:04.734Z"
   },
   {
    "duration": 9,
    "start_time": "2022-07-27T10:03:14.321Z"
   },
   {
    "duration": 650,
    "start_time": "2022-07-29T09:27:08.608Z"
   },
   {
    "duration": 54,
    "start_time": "2022-07-29T09:29:19.069Z"
   },
   {
    "duration": 57,
    "start_time": "2022-07-29T09:38:24.664Z"
   },
   {
    "duration": 3,
    "start_time": "2022-07-29T09:43:28.021Z"
   },
   {
    "duration": 3,
    "start_time": "2022-07-29T09:44:30.129Z"
   },
   {
    "duration": 9,
    "start_time": "2022-07-29T09:44:36.073Z"
   },
   {
    "duration": 10,
    "start_time": "2022-07-29T09:46:33.592Z"
   },
   {
    "duration": 26,
    "start_time": "2022-07-29T09:54:35.227Z"
   },
   {
    "duration": 64,
    "start_time": "2022-07-29T10:06:25.522Z"
   },
   {
    "duration": 9,
    "start_time": "2022-07-29T10:06:33.967Z"
   },
   {
    "duration": 9,
    "start_time": "2022-07-29T10:06:48.303Z"
   },
   {
    "duration": 10,
    "start_time": "2022-07-29T10:07:00.899Z"
   },
   {
    "duration": 18,
    "start_time": "2022-07-29T10:10:12.686Z"
   },
   {
    "duration": 15,
    "start_time": "2022-07-29T10:11:25.538Z"
   },
   {
    "duration": 16,
    "start_time": "2022-07-29T10:11:58.339Z"
   },
   {
    "duration": 15,
    "start_time": "2022-07-29T10:12:50.459Z"
   },
   {
    "duration": 10,
    "start_time": "2022-07-29T10:13:11.081Z"
   },
   {
    "duration": 5,
    "start_time": "2022-07-29T10:22:15.252Z"
   },
   {
    "duration": 17,
    "start_time": "2022-07-29T10:22:36.635Z"
   },
   {
    "duration": 4,
    "start_time": "2022-07-29T10:23:19.673Z"
   },
   {
    "duration": 15,
    "start_time": "2022-07-29T10:23:23.176Z"
   },
   {
    "duration": 19,
    "start_time": "2022-07-29T10:49:02.954Z"
   },
   {
    "duration": 15,
    "start_time": "2022-07-29T10:50:56.224Z"
   },
   {
    "duration": 17,
    "start_time": "2022-07-29T10:52:59.348Z"
   },
   {
    "duration": 24,
    "start_time": "2022-07-29T10:53:49.054Z"
   },
   {
    "duration": 24,
    "start_time": "2022-07-29T10:55:06.442Z"
   },
   {
    "duration": 19,
    "start_time": "2022-07-29T10:56:14.601Z"
   },
   {
    "duration": 10,
    "start_time": "2022-07-29T10:57:55.611Z"
   },
   {
    "duration": 14,
    "start_time": "2022-07-29T11:04:35.028Z"
   },
   {
    "duration": 55,
    "start_time": "2022-07-29T11:05:50.253Z"
   },
   {
    "duration": 12,
    "start_time": "2022-07-29T11:06:11.369Z"
   },
   {
    "duration": 12,
    "start_time": "2022-07-29T11:11:17.745Z"
   },
   {
    "duration": 11,
    "start_time": "2022-07-29T11:13:53.144Z"
   },
   {
    "duration": 17,
    "start_time": "2022-07-29T11:14:40.190Z"
   },
   {
    "duration": 11,
    "start_time": "2022-07-29T11:15:04.815Z"
   },
   {
    "duration": 10,
    "start_time": "2022-07-29T11:22:56.962Z"
   },
   {
    "duration": 18,
    "start_time": "2022-07-29T11:25:01.963Z"
   },
   {
    "duration": 16,
    "start_time": "2022-07-29T11:34:32.751Z"
   },
   {
    "duration": 9,
    "start_time": "2022-07-29T11:35:34.443Z"
   },
   {
    "duration": 8,
    "start_time": "2022-07-29T11:35:55.791Z"
   },
   {
    "duration": 16,
    "start_time": "2022-07-29T11:36:15.448Z"
   },
   {
    "duration": 9,
    "start_time": "2022-07-29T11:36:29.472Z"
   },
   {
    "duration": 13,
    "start_time": "2022-07-29T11:37:17.473Z"
   },
   {
    "duration": 15,
    "start_time": "2022-07-29T11:37:25.702Z"
   },
   {
    "duration": 12,
    "start_time": "2022-07-29T11:37:36.557Z"
   },
   {
    "duration": 8,
    "start_time": "2022-07-29T11:38:31.772Z"
   },
   {
    "duration": 14,
    "start_time": "2022-07-29T11:42:42.858Z"
   },
   {
    "duration": 11,
    "start_time": "2022-07-29T11:43:22.335Z"
   },
   {
    "duration": 15,
    "start_time": "2022-07-29T11:43:54.666Z"
   },
   {
    "duration": 16,
    "start_time": "2022-07-29T11:44:44.953Z"
   },
   {
    "duration": 3,
    "start_time": "2022-07-29T11:50:02.279Z"
   },
   {
    "duration": 7,
    "start_time": "2022-07-29T12:17:53.482Z"
   },
   {
    "duration": 10,
    "start_time": "2022-07-29T12:18:37.546Z"
   },
   {
    "duration": 13,
    "start_time": "2022-07-29T12:29:16.924Z"
   },
   {
    "duration": 16,
    "start_time": "2022-07-29T12:29:44.053Z"
   },
   {
    "duration": 2,
    "start_time": "2022-07-29T12:32:20.319Z"
   },
   {
    "duration": 661,
    "start_time": "2022-08-02T05:16:47.208Z"
   },
   {
    "duration": 4,
    "start_time": "2022-08-02T05:16:50.724Z"
   },
   {
    "duration": 17,
    "start_time": "2022-08-02T05:16:54.683Z"
   },
   {
    "duration": 10,
    "start_time": "2022-08-02T05:17:00.036Z"
   },
   {
    "duration": 29,
    "start_time": "2022-08-02T05:17:05.148Z"
   },
   {
    "duration": 12,
    "start_time": "2022-08-02T05:17:11.670Z"
   },
   {
    "duration": 5,
    "start_time": "2022-08-02T05:17:26.628Z"
   },
   {
    "duration": 15,
    "start_time": "2022-08-02T05:17:41.522Z"
   },
   {
    "duration": 7,
    "start_time": "2022-08-02T05:17:59.577Z"
   },
   {
    "duration": 14,
    "start_time": "2022-08-02T05:18:04.721Z"
   },
   {
    "duration": 79,
    "start_time": "2022-08-02T05:19:58.496Z"
   },
   {
    "duration": 21,
    "start_time": "2022-08-02T05:20:40.219Z"
   },
   {
    "duration": 5,
    "start_time": "2022-08-02T05:26:09.746Z"
   },
   {
    "duration": 10,
    "start_time": "2022-08-02T05:26:28.042Z"
   },
   {
    "duration": 4,
    "start_time": "2022-08-02T05:26:42.461Z"
   },
   {
    "duration": 9,
    "start_time": "2022-08-02T05:26:45.434Z"
   },
   {
    "duration": 4,
    "start_time": "2022-08-02T05:27:01.527Z"
   },
   {
    "duration": 5,
    "start_time": "2022-08-02T05:38:04.637Z"
   },
   {
    "duration": 9,
    "start_time": "2022-08-02T05:38:09.573Z"
   },
   {
    "duration": 3,
    "start_time": "2022-08-02T05:52:35.738Z"
   },
   {
    "duration": 11,
    "start_time": "2022-08-02T05:52:39.348Z"
   },
   {
    "duration": 7,
    "start_time": "2022-08-02T05:54:09.021Z"
   },
   {
    "duration": 12,
    "start_time": "2022-08-02T05:55:24.441Z"
   },
   {
    "duration": 8,
    "start_time": "2022-08-02T05:55:54.535Z"
   },
   {
    "duration": 15,
    "start_time": "2022-08-02T05:56:02.418Z"
   },
   {
    "duration": 10,
    "start_time": "2022-08-02T05:56:38.053Z"
   },
   {
    "duration": 11,
    "start_time": "2022-08-02T05:56:59.914Z"
   },
   {
    "duration": 593,
    "start_time": "2022-08-15T10:21:56.978Z"
   },
   {
    "duration": 4,
    "start_time": "2022-08-15T10:22:45.871Z"
   },
   {
    "duration": 9,
    "start_time": "2022-08-15T10:22:55.868Z"
   },
   {
    "duration": 11,
    "start_time": "2022-08-15T10:32:22.928Z"
   },
   {
    "duration": 90,
    "start_time": "2022-08-15T10:37:28.692Z"
   },
   {
    "duration": 60,
    "start_time": "2022-08-15T10:37:36.006Z"
   },
   {
    "duration": 3,
    "start_time": "2022-08-15T10:37:36.067Z"
   },
   {
    "duration": 21,
    "start_time": "2022-08-15T10:37:36.071Z"
   },
   {
    "duration": 19,
    "start_time": "2022-08-15T10:37:36.094Z"
   },
   {
    "duration": 8,
    "start_time": "2022-08-15T10:37:36.114Z"
   },
   {
    "duration": 31,
    "start_time": "2022-08-15T10:37:36.124Z"
   },
   {
    "duration": 221,
    "start_time": "2022-08-15T10:37:36.157Z"
   },
   {
    "duration": 0,
    "start_time": "2022-08-15T10:37:36.382Z"
   },
   {
    "duration": 0,
    "start_time": "2022-08-15T10:37:36.383Z"
   },
   {
    "duration": 0,
    "start_time": "2022-08-15T10:37:36.384Z"
   },
   {
    "duration": 0,
    "start_time": "2022-08-15T10:37:36.385Z"
   },
   {
    "duration": 0,
    "start_time": "2022-08-15T10:37:36.386Z"
   },
   {
    "duration": 0,
    "start_time": "2022-08-15T10:37:36.387Z"
   },
   {
    "duration": 0,
    "start_time": "2022-08-15T10:37:36.388Z"
   },
   {
    "duration": 0,
    "start_time": "2022-08-15T10:37:36.389Z"
   },
   {
    "duration": 0,
    "start_time": "2022-08-15T10:37:36.390Z"
   },
   {
    "duration": 0,
    "start_time": "2022-08-15T10:37:36.391Z"
   },
   {
    "duration": 0,
    "start_time": "2022-08-15T10:37:36.393Z"
   },
   {
    "duration": 0,
    "start_time": "2022-08-15T10:37:36.394Z"
   },
   {
    "duration": 0,
    "start_time": "2022-08-15T10:37:36.395Z"
   },
   {
    "duration": 0,
    "start_time": "2022-08-15T10:37:36.396Z"
   },
   {
    "duration": 0,
    "start_time": "2022-08-15T10:37:36.398Z"
   },
   {
    "duration": 0,
    "start_time": "2022-08-15T10:37:36.399Z"
   },
   {
    "duration": 0,
    "start_time": "2022-08-15T10:37:36.400Z"
   },
   {
    "duration": 0,
    "start_time": "2022-08-15T10:37:36.401Z"
   },
   {
    "duration": 0,
    "start_time": "2022-08-15T10:37:36.402Z"
   },
   {
    "duration": 0,
    "start_time": "2022-08-15T10:37:36.404Z"
   },
   {
    "duration": 0,
    "start_time": "2022-08-15T10:37:36.405Z"
   },
   {
    "duration": 0,
    "start_time": "2022-08-15T10:37:36.406Z"
   },
   {
    "duration": 0,
    "start_time": "2022-08-15T10:37:36.407Z"
   },
   {
    "duration": 0,
    "start_time": "2022-08-15T10:37:36.409Z"
   },
   {
    "duration": 0,
    "start_time": "2022-08-15T10:37:36.410Z"
   },
   {
    "duration": 0,
    "start_time": "2022-08-15T10:37:36.411Z"
   },
   {
    "duration": 0,
    "start_time": "2022-08-15T10:37:36.412Z"
   },
   {
    "duration": 0,
    "start_time": "2022-08-15T10:37:36.413Z"
   },
   {
    "duration": 0,
    "start_time": "2022-08-15T10:37:36.414Z"
   },
   {
    "duration": 0,
    "start_time": "2022-08-15T10:37:36.415Z"
   },
   {
    "duration": 0,
    "start_time": "2022-08-15T10:37:36.416Z"
   },
   {
    "duration": 0,
    "start_time": "2022-08-15T10:37:36.417Z"
   },
   {
    "duration": 0,
    "start_time": "2022-08-15T10:37:36.419Z"
   },
   {
    "duration": 0,
    "start_time": "2022-08-15T10:37:36.419Z"
   },
   {
    "duration": 0,
    "start_time": "2022-08-15T10:37:36.420Z"
   },
   {
    "duration": 0,
    "start_time": "2022-08-15T10:37:36.421Z"
   },
   {
    "duration": 0,
    "start_time": "2022-08-15T10:37:36.423Z"
   },
   {
    "duration": 0,
    "start_time": "2022-08-15T10:37:36.423Z"
   },
   {
    "duration": 0,
    "start_time": "2022-08-15T10:37:36.424Z"
   },
   {
    "duration": 0,
    "start_time": "2022-08-15T10:37:36.426Z"
   },
   {
    "duration": 0,
    "start_time": "2022-08-15T10:37:36.427Z"
   },
   {
    "duration": 0,
    "start_time": "2022-08-15T10:37:36.427Z"
   },
   {
    "duration": 0,
    "start_time": "2022-08-15T10:37:36.428Z"
   },
   {
    "duration": 0,
    "start_time": "2022-08-15T10:37:36.429Z"
   },
   {
    "duration": 0,
    "start_time": "2022-08-15T10:37:36.430Z"
   },
   {
    "duration": 0,
    "start_time": "2022-08-15T10:37:36.431Z"
   },
   {
    "duration": 0,
    "start_time": "2022-08-15T10:37:36.432Z"
   },
   {
    "duration": 0,
    "start_time": "2022-08-15T10:37:36.432Z"
   },
   {
    "duration": 0,
    "start_time": "2022-08-15T10:37:36.434Z"
   },
   {
    "duration": 0,
    "start_time": "2022-08-15T10:37:36.435Z"
   },
   {
    "duration": 0,
    "start_time": "2022-08-15T10:37:36.436Z"
   },
   {
    "duration": 0,
    "start_time": "2022-08-15T10:37:36.436Z"
   },
   {
    "duration": 0,
    "start_time": "2022-08-15T10:37:36.438Z"
   },
   {
    "duration": 0,
    "start_time": "2022-08-15T10:37:36.503Z"
   },
   {
    "duration": 0,
    "start_time": "2022-08-15T10:37:36.504Z"
   },
   {
    "duration": 0,
    "start_time": "2022-08-15T10:37:36.505Z"
   },
   {
    "duration": 0,
    "start_time": "2022-08-15T10:37:36.506Z"
   },
   {
    "duration": 0,
    "start_time": "2022-08-15T10:37:36.507Z"
   },
   {
    "duration": 0,
    "start_time": "2022-08-15T10:37:36.508Z"
   },
   {
    "duration": 0,
    "start_time": "2022-08-15T10:37:36.510Z"
   },
   {
    "duration": 0,
    "start_time": "2022-08-15T10:37:36.511Z"
   },
   {
    "duration": 0,
    "start_time": "2022-08-15T10:37:36.512Z"
   },
   {
    "duration": 0,
    "start_time": "2022-08-15T10:37:36.512Z"
   },
   {
    "duration": 0,
    "start_time": "2022-08-15T10:37:36.514Z"
   },
   {
    "duration": 0,
    "start_time": "2022-08-15T10:37:36.515Z"
   },
   {
    "duration": 0,
    "start_time": "2022-08-15T10:37:36.516Z"
   },
   {
    "duration": 0,
    "start_time": "2022-08-15T10:37:36.517Z"
   },
   {
    "duration": 8,
    "start_time": "2022-08-15T10:38:21.112Z"
   },
   {
    "duration": 9,
    "start_time": "2022-08-15T10:38:31.315Z"
   },
   {
    "duration": 8,
    "start_time": "2022-08-15T10:38:36.638Z"
   },
   {
    "duration": 4,
    "start_time": "2022-08-15T10:39:10.635Z"
   },
   {
    "duration": 12,
    "start_time": "2022-08-15T10:39:26.316Z"
   },
   {
    "duration": 9,
    "start_time": "2022-08-15T10:40:02.336Z"
   },
   {
    "duration": 11,
    "start_time": "2022-08-15T10:40:48.662Z"
   },
   {
    "duration": 17,
    "start_time": "2022-08-15T10:43:01.206Z"
   },
   {
    "duration": 12,
    "start_time": "2022-08-15T10:43:30.142Z"
   },
   {
    "duration": 13,
    "start_time": "2022-08-15T10:46:46.677Z"
   },
   {
    "duration": 6,
    "start_time": "2022-08-15T10:48:49.279Z"
   },
   {
    "duration": 12,
    "start_time": "2022-08-15T10:49:14.300Z"
   },
   {
    "duration": 5,
    "start_time": "2022-08-15T10:53:33.507Z"
   },
   {
    "duration": 12,
    "start_time": "2022-08-15T10:53:46.089Z"
   },
   {
    "duration": 8,
    "start_time": "2022-08-15T10:56:54.119Z"
   },
   {
    "duration": 24,
    "start_time": "2022-08-15T10:58:09.564Z"
   },
   {
    "duration": 10,
    "start_time": "2022-08-15T10:58:32.912Z"
   },
   {
    "duration": 16,
    "start_time": "2022-08-15T10:58:59.685Z"
   },
   {
    "duration": 3,
    "start_time": "2022-08-15T11:01:29.384Z"
   },
   {
    "duration": 15,
    "start_time": "2022-08-15T11:01:45.951Z"
   },
   {
    "duration": 10,
    "start_time": "2022-08-15T11:51:57.620Z"
   },
   {
    "duration": 87,
    "start_time": "2022-08-15T11:52:16.859Z"
   },
   {
    "duration": 11,
    "start_time": "2022-08-15T11:52:24.548Z"
   },
   {
    "duration": 4,
    "start_time": "2022-08-15T12:09:36.863Z"
   },
   {
    "duration": 11,
    "start_time": "2022-08-15T12:10:10.025Z"
   },
   {
    "duration": 8,
    "start_time": "2022-08-15T12:10:26.660Z"
   },
   {
    "duration": 6,
    "start_time": "2022-08-15T12:10:34.432Z"
   },
   {
    "duration": 3,
    "start_time": "2022-08-15T12:14:39.546Z"
   },
   {
    "duration": 59,
    "start_time": "2022-08-15T12:16:33.415Z"
   },
   {
    "duration": 7,
    "start_time": "2022-08-15T12:17:03.573Z"
   },
   {
    "duration": 7,
    "start_time": "2022-08-15T12:17:24.889Z"
   },
   {
    "duration": 4,
    "start_time": "2022-08-15T12:17:54.596Z"
   },
   {
    "duration": 7,
    "start_time": "2022-08-15T12:18:05.057Z"
   },
   {
    "duration": 18,
    "start_time": "2022-08-15T12:43:17.559Z"
   },
   {
    "duration": 3,
    "start_time": "2022-08-15T12:49:18.314Z"
   },
   {
    "duration": 6,
    "start_time": "2022-08-15T12:49:24.539Z"
   },
   {
    "duration": 14,
    "start_time": "2022-08-15T12:50:36.851Z"
   },
   {
    "duration": 7,
    "start_time": "2022-08-15T12:50:44.979Z"
   },
   {
    "duration": 1027,
    "start_time": "2022-08-15T12:51:45.854Z"
   },
   {
    "duration": 6,
    "start_time": "2022-08-15T12:52:07.797Z"
   },
   {
    "duration": 9,
    "start_time": "2022-08-15T12:52:49.017Z"
   },
   {
    "duration": 650,
    "start_time": "2022-08-16T08:52:27.328Z"
   },
   {
    "duration": 4,
    "start_time": "2022-08-16T08:52:27.981Z"
   },
   {
    "duration": 12,
    "start_time": "2022-08-16T08:52:27.988Z"
   },
   {
    "duration": 19,
    "start_time": "2022-08-16T08:52:28.003Z"
   },
   {
    "duration": 9,
    "start_time": "2022-08-16T08:52:28.024Z"
   },
   {
    "duration": 5,
    "start_time": "2022-08-16T08:52:28.035Z"
   },
   {
    "duration": 13,
    "start_time": "2022-08-16T08:52:28.042Z"
   },
   {
    "duration": 14,
    "start_time": "2022-08-16T08:52:28.057Z"
   },
   {
    "duration": 38,
    "start_time": "2022-08-16T08:52:28.072Z"
   },
   {
    "duration": 10,
    "start_time": "2022-08-16T08:52:28.113Z"
   },
   {
    "duration": 5,
    "start_time": "2022-08-16T08:52:28.125Z"
   },
   {
    "duration": 13,
    "start_time": "2022-08-16T08:52:28.132Z"
   },
   {
    "duration": 15,
    "start_time": "2022-08-16T08:52:28.146Z"
   },
   {
    "duration": 12,
    "start_time": "2022-08-16T08:52:28.163Z"
   },
   {
    "duration": 31,
    "start_time": "2022-08-16T08:52:28.177Z"
   },
   {
    "duration": 27,
    "start_time": "2022-08-16T08:52:28.210Z"
   },
   {
    "duration": 4,
    "start_time": "2022-08-16T08:52:28.239Z"
   },
   {
    "duration": 23,
    "start_time": "2022-08-16T08:52:28.245Z"
   },
   {
    "duration": 10,
    "start_time": "2022-08-16T08:52:28.269Z"
   },
   {
    "duration": 4,
    "start_time": "2022-08-16T08:52:28.303Z"
   },
   {
    "duration": 13,
    "start_time": "2022-08-16T08:52:28.308Z"
   },
   {
    "duration": 20,
    "start_time": "2022-08-16T08:52:28.323Z"
   },
   {
    "duration": 2,
    "start_time": "2022-08-16T08:52:28.346Z"
   },
   {
    "duration": 11,
    "start_time": "2022-08-16T08:52:28.350Z"
   },
   {
    "duration": 8,
    "start_time": "2022-08-16T08:52:28.363Z"
   },
   {
    "duration": 15,
    "start_time": "2022-08-16T08:52:28.373Z"
   },
   {
    "duration": 11,
    "start_time": "2022-08-16T08:52:28.390Z"
   },
   {
    "duration": 5,
    "start_time": "2022-08-16T08:52:28.406Z"
   },
   {
    "duration": 9,
    "start_time": "2022-08-16T08:52:28.413Z"
   },
   {
    "duration": 19,
    "start_time": "2022-08-16T08:52:28.425Z"
   },
   {
    "duration": 28,
    "start_time": "2022-08-16T08:52:28.453Z"
   },
   {
    "duration": 4,
    "start_time": "2022-08-16T08:52:28.483Z"
   },
   {
    "duration": 7,
    "start_time": "2022-08-16T08:52:28.489Z"
   },
   {
    "duration": 4,
    "start_time": "2022-08-16T08:52:28.498Z"
   },
   {
    "duration": 6,
    "start_time": "2022-08-16T08:52:28.504Z"
   },
   {
    "duration": 5,
    "start_time": "2022-08-16T08:52:28.512Z"
   },
   {
    "duration": 11,
    "start_time": "2022-08-16T08:52:28.518Z"
   },
   {
    "duration": 11,
    "start_time": "2022-08-16T08:52:28.531Z"
   },
   {
    "duration": 6,
    "start_time": "2022-08-16T08:52:28.543Z"
   },
   {
    "duration": 6,
    "start_time": "2022-08-16T08:52:28.551Z"
   },
   {
    "duration": 18,
    "start_time": "2022-08-16T08:52:28.559Z"
   },
   {
    "duration": 13,
    "start_time": "2022-08-16T08:52:28.579Z"
   },
   {
    "duration": 17,
    "start_time": "2022-08-16T08:52:28.594Z"
   },
   {
    "duration": 9,
    "start_time": "2022-08-16T08:52:28.613Z"
   },
   {
    "duration": 6,
    "start_time": "2022-08-16T08:52:28.624Z"
   },
   {
    "duration": 9,
    "start_time": "2022-08-16T08:52:28.632Z"
   },
   {
    "duration": 9,
    "start_time": "2022-08-16T08:52:28.643Z"
   },
   {
    "duration": 9,
    "start_time": "2022-08-16T08:52:28.653Z"
   },
   {
    "duration": 7,
    "start_time": "2022-08-16T08:52:28.664Z"
   },
   {
    "duration": 14,
    "start_time": "2022-08-16T08:52:28.674Z"
   },
   {
    "duration": 9,
    "start_time": "2022-08-16T08:52:28.690Z"
   },
   {
    "duration": 11,
    "start_time": "2022-08-16T08:52:28.701Z"
   },
   {
    "duration": 14,
    "start_time": "2022-08-16T08:52:28.714Z"
   },
   {
    "duration": 7,
    "start_time": "2022-08-16T08:52:28.730Z"
   },
   {
    "duration": 11,
    "start_time": "2022-08-16T08:52:28.739Z"
   },
   {
    "duration": 9,
    "start_time": "2022-08-16T08:52:28.753Z"
   },
   {
    "duration": 16,
    "start_time": "2022-08-16T08:52:28.764Z"
   },
   {
    "duration": 13,
    "start_time": "2022-08-16T08:52:28.782Z"
   },
   {
    "duration": 13,
    "start_time": "2022-08-16T08:52:28.796Z"
   },
   {
    "duration": 14,
    "start_time": "2022-08-16T08:52:28.811Z"
   },
   {
    "duration": 18,
    "start_time": "2022-08-16T08:52:28.827Z"
   },
   {
    "duration": 44,
    "start_time": "2022-08-16T08:52:28.848Z"
   },
   {
    "duration": 26,
    "start_time": "2022-08-16T08:52:28.894Z"
   },
   {
    "duration": 61,
    "start_time": "2022-08-16T08:52:28.921Z"
   },
   {
    "duration": 27,
    "start_time": "2022-08-16T08:52:28.984Z"
   },
   {
    "duration": 21,
    "start_time": "2022-08-16T08:52:29.013Z"
   },
   {
    "duration": 13,
    "start_time": "2022-08-16T08:52:29.037Z"
   },
   {
    "duration": 13,
    "start_time": "2022-08-16T08:52:29.052Z"
   },
   {
    "duration": 12,
    "start_time": "2022-08-16T08:52:29.068Z"
   },
   {
    "duration": 25,
    "start_time": "2022-08-16T08:52:29.083Z"
   },
   {
    "duration": 19,
    "start_time": "2022-08-16T08:52:29.110Z"
   },
   {
    "duration": 24,
    "start_time": "2022-08-16T08:52:29.131Z"
   },
   {
    "duration": 343,
    "start_time": "2022-08-16T08:56:43.392Z"
   },
   {
    "duration": 4,
    "start_time": "2022-08-16T08:57:21.588Z"
   },
   {
    "duration": 9,
    "start_time": "2022-08-16T09:00:01.012Z"
   },
   {
    "duration": 12,
    "start_time": "2022-08-16T09:02:33.116Z"
   },
   {
    "duration": 8,
    "start_time": "2022-08-16T09:02:51.696Z"
   },
   {
    "duration": 24,
    "start_time": "2022-08-16T09:03:04.925Z"
   },
   {
    "duration": 2,
    "start_time": "2022-08-16T09:07:31.934Z"
   },
   {
    "duration": 19,
    "start_time": "2022-08-16T09:07:38.950Z"
   },
   {
    "duration": 26,
    "start_time": "2022-08-16T09:09:17.714Z"
   },
   {
    "duration": 22,
    "start_time": "2022-08-16T09:10:16.513Z"
   },
   {
    "duration": 28,
    "start_time": "2022-08-16T09:10:28.607Z"
   },
   {
    "duration": 7,
    "start_time": "2022-08-16T12:30:26.333Z"
   },
   {
    "duration": 5,
    "start_time": "2022-08-16T12:30:38.542Z"
   },
   {
    "duration": 21,
    "start_time": "2022-08-16T12:30:44.940Z"
   },
   {
    "duration": 7,
    "start_time": "2022-08-16T12:31:03.786Z"
   },
   {
    "duration": 26,
    "start_time": "2022-08-16T12:31:11.903Z"
   },
   {
    "duration": 10,
    "start_time": "2022-08-16T12:34:31.626Z"
   },
   {
    "duration": 31,
    "start_time": "2022-08-16T12:35:07.201Z"
   },
   {
    "duration": 14,
    "start_time": "2022-08-16T12:35:22.522Z"
   },
   {
    "duration": 6,
    "start_time": "2022-08-16T13:00:06.268Z"
   },
   {
    "duration": 19,
    "start_time": "2022-08-16T13:00:10.374Z"
   },
   {
    "duration": 17,
    "start_time": "2022-08-16T13:03:51.237Z"
   },
   {
    "duration": 6,
    "start_time": "2022-08-16T13:03:57.683Z"
   },
   {
    "duration": 5,
    "start_time": "2022-08-16T13:04:31.654Z"
   },
   {
    "duration": 11,
    "start_time": "2022-08-16T13:04:56.033Z"
   },
   {
    "duration": 11,
    "start_time": "2022-08-16T13:05:06.143Z"
   },
   {
    "duration": 13,
    "start_time": "2022-08-16T13:05:11.193Z"
   },
   {
    "duration": 96,
    "start_time": "2022-08-16T13:07:07.951Z"
   },
   {
    "duration": 2867,
    "start_time": "2022-08-16T13:07:40.062Z"
   },
   {
    "duration": 5,
    "start_time": "2022-08-16T13:07:57.835Z"
   },
   {
    "duration": 1653,
    "start_time": "2022-08-16T13:14:50.201Z"
   },
   {
    "duration": 6,
    "start_time": "2022-08-16T13:15:05.015Z"
   },
   {
    "duration": 6,
    "start_time": "2022-08-16T13:16:59.582Z"
   },
   {
    "duration": 4,
    "start_time": "2022-08-16T13:17:38.185Z"
   },
   {
    "duration": 6,
    "start_time": "2022-08-16T13:18:30.540Z"
   },
   {
    "duration": 11,
    "start_time": "2022-08-16T13:44:46.753Z"
   },
   {
    "duration": 7,
    "start_time": "2022-08-16T13:45:07.542Z"
   },
   {
    "duration": 14,
    "start_time": "2022-08-16T13:45:25.733Z"
   },
   {
    "duration": 11,
    "start_time": "2022-08-16T13:45:35.170Z"
   },
   {
    "duration": 5,
    "start_time": "2022-08-16T15:07:55.759Z"
   },
   {
    "duration": 4,
    "start_time": "2022-08-16T15:08:45.034Z"
   },
   {
    "duration": 4,
    "start_time": "2022-08-16T15:09:05.080Z"
   },
   {
    "duration": 6,
    "start_time": "2022-08-16T15:10:36.430Z"
   },
   {
    "duration": 604,
    "start_time": "2022-08-21T12:00:39.783Z"
   },
   {
    "duration": 3,
    "start_time": "2022-08-21T12:00:40.389Z"
   },
   {
    "duration": 15,
    "start_time": "2022-08-21T12:00:40.394Z"
   },
   {
    "duration": 14,
    "start_time": "2022-08-21T12:00:40.411Z"
   },
   {
    "duration": 13,
    "start_time": "2022-08-21T12:00:40.426Z"
   },
   {
    "duration": 4,
    "start_time": "2022-08-21T12:00:40.441Z"
   },
   {
    "duration": 13,
    "start_time": "2022-08-21T12:00:40.446Z"
   },
   {
    "duration": 12,
    "start_time": "2022-08-21T12:00:40.487Z"
   },
   {
    "duration": 21,
    "start_time": "2022-08-21T12:00:40.501Z"
   },
   {
    "duration": 8,
    "start_time": "2022-08-21T12:00:40.526Z"
   },
   {
    "duration": 5,
    "start_time": "2022-08-21T12:00:40.535Z"
   },
   {
    "duration": 5,
    "start_time": "2022-08-21T12:00:40.542Z"
   },
   {
    "duration": 9,
    "start_time": "2022-08-21T12:00:40.549Z"
   },
   {
    "duration": 34,
    "start_time": "2022-08-21T12:00:40.559Z"
   },
   {
    "duration": 6,
    "start_time": "2022-08-21T12:00:40.594Z"
   },
   {
    "duration": 23,
    "start_time": "2022-08-21T12:00:40.602Z"
   },
   {
    "duration": 3,
    "start_time": "2022-08-21T12:00:40.627Z"
   },
   {
    "duration": 9,
    "start_time": "2022-08-21T12:00:40.632Z"
   },
   {
    "duration": 45,
    "start_time": "2022-08-21T12:00:40.642Z"
   },
   {
    "duration": 9,
    "start_time": "2022-08-21T12:00:40.689Z"
   },
   {
    "duration": 2532,
    "start_time": "2022-08-21T12:00:40.699Z"
   },
   {
    "duration": 5,
    "start_time": "2022-08-21T12:00:43.233Z"
   },
   {
    "duration": 12,
    "start_time": "2022-08-21T12:00:43.239Z"
   },
   {
    "duration": 53,
    "start_time": "2022-08-21T12:00:43.253Z"
   },
   {
    "duration": 5,
    "start_time": "2022-08-21T12:00:43.307Z"
   },
   {
    "duration": 8,
    "start_time": "2022-08-21T12:00:43.313Z"
   },
   {
    "duration": 4,
    "start_time": "2022-08-21T12:00:43.322Z"
   },
   {
    "duration": 2,
    "start_time": "2022-08-21T12:00:43.329Z"
   },
   {
    "duration": 5,
    "start_time": "2022-08-21T12:00:43.333Z"
   },
   {
    "duration": 5,
    "start_time": "2022-08-21T12:00:43.339Z"
   },
   {
    "duration": 5,
    "start_time": "2022-08-21T12:00:43.345Z"
   },
   {
    "duration": 7,
    "start_time": "2022-08-21T12:00:43.351Z"
   },
   {
    "duration": 7,
    "start_time": "2022-08-21T12:00:43.359Z"
   },
   {
    "duration": 3,
    "start_time": "2022-08-21T12:00:43.386Z"
   },
   {
    "duration": 5,
    "start_time": "2022-08-21T12:00:43.390Z"
   },
   {
    "duration": 5,
    "start_time": "2022-08-21T12:00:43.397Z"
   },
   {
    "duration": 5,
    "start_time": "2022-08-21T12:00:43.403Z"
   },
   {
    "duration": 5,
    "start_time": "2022-08-21T12:00:43.410Z"
   },
   {
    "duration": 5,
    "start_time": "2022-08-21T12:00:43.417Z"
   },
   {
    "duration": 4,
    "start_time": "2022-08-21T12:00:43.423Z"
   },
   {
    "duration": 4,
    "start_time": "2022-08-21T12:00:43.429Z"
   },
   {
    "duration": 5,
    "start_time": "2022-08-21T12:00:43.434Z"
   },
   {
    "duration": 5,
    "start_time": "2022-08-21T12:00:43.440Z"
   },
   {
    "duration": 6,
    "start_time": "2022-08-21T12:00:43.447Z"
   },
   {
    "duration": 16,
    "start_time": "2022-08-21T12:00:43.454Z"
   },
   {
    "duration": 10,
    "start_time": "2022-08-21T12:00:43.472Z"
   },
   {
    "duration": 7,
    "start_time": "2022-08-21T12:00:43.483Z"
   },
   {
    "duration": 4,
    "start_time": "2022-08-21T12:00:43.491Z"
   },
   {
    "duration": 6,
    "start_time": "2022-08-21T12:00:43.497Z"
   },
   {
    "duration": 6,
    "start_time": "2022-08-21T12:00:43.504Z"
   },
   {
    "duration": 5,
    "start_time": "2022-08-21T12:00:43.512Z"
   },
   {
    "duration": 5,
    "start_time": "2022-08-21T12:00:43.519Z"
   },
   {
    "duration": 7,
    "start_time": "2022-08-21T12:00:43.525Z"
   },
   {
    "duration": 6,
    "start_time": "2022-08-21T12:00:43.533Z"
   },
   {
    "duration": 7,
    "start_time": "2022-08-21T12:00:43.540Z"
   },
   {
    "duration": 4,
    "start_time": "2022-08-21T12:00:43.548Z"
   },
   {
    "duration": 6,
    "start_time": "2022-08-21T12:00:43.554Z"
   },
   {
    "duration": 7,
    "start_time": "2022-08-21T12:00:43.561Z"
   },
   {
    "duration": 5,
    "start_time": "2022-08-21T12:00:43.570Z"
   },
   {
    "duration": 6,
    "start_time": "2022-08-21T12:00:43.576Z"
   },
   {
    "duration": 5,
    "start_time": "2022-08-21T12:00:43.587Z"
   },
   {
    "duration": 5,
    "start_time": "2022-08-21T12:00:43.593Z"
   },
   {
    "duration": 4,
    "start_time": "2022-08-21T12:00:43.600Z"
   },
   {
    "duration": 6,
    "start_time": "2022-08-21T12:00:43.605Z"
   },
   {
    "duration": 9,
    "start_time": "2022-08-21T12:00:43.612Z"
   },
   {
    "duration": 6,
    "start_time": "2022-08-21T12:00:43.622Z"
   },
   {
    "duration": 6,
    "start_time": "2022-08-21T12:00:43.629Z"
   },
   {
    "duration": 5,
    "start_time": "2022-08-21T12:00:43.636Z"
   },
   {
    "duration": 7,
    "start_time": "2022-08-21T12:00:43.642Z"
   },
   {
    "duration": 4,
    "start_time": "2022-08-21T12:00:43.651Z"
   },
   {
    "duration": 5,
    "start_time": "2022-08-21T12:00:43.656Z"
   },
   {
    "duration": 4,
    "start_time": "2022-08-21T12:00:43.663Z"
   },
   {
    "duration": 9,
    "start_time": "2022-08-21T12:00:43.668Z"
   },
   {
    "duration": 5,
    "start_time": "2022-08-21T12:00:43.678Z"
   },
   {
    "duration": 2,
    "start_time": "2022-08-21T12:00:43.687Z"
   },
   {
    "duration": 6,
    "start_time": "2022-08-21T12:07:04.251Z"
   },
   {
    "duration": 5,
    "start_time": "2022-08-21T12:07:50.847Z"
   },
   {
    "duration": 11,
    "start_time": "2022-08-21T12:08:31.683Z"
   },
   {
    "duration": 11,
    "start_time": "2022-08-21T12:09:01.781Z"
   },
   {
    "duration": 64,
    "start_time": "2022-08-21T12:11:29.799Z"
   },
   {
    "duration": 13,
    "start_time": "2022-08-21T12:11:38.032Z"
   },
   {
    "duration": 13,
    "start_time": "2022-08-21T12:13:26.966Z"
   },
   {
    "duration": 12,
    "start_time": "2022-08-21T12:15:03.479Z"
   },
   {
    "duration": 15,
    "start_time": "2022-08-21T12:17:07.614Z"
   },
   {
    "duration": 13,
    "start_time": "2022-08-21T12:17:14.114Z"
   },
   {
    "duration": 5,
    "start_time": "2022-08-21T12:25:34.773Z"
   },
   {
    "duration": 9,
    "start_time": "2022-08-21T12:26:20.863Z"
   },
   {
    "duration": 5,
    "start_time": "2022-08-21T12:26:23.504Z"
   },
   {
    "duration": 5,
    "start_time": "2022-08-21T12:48:53.351Z"
   },
   {
    "duration": 8,
    "start_time": "2022-08-21T12:48:58.030Z"
   },
   {
    "duration": 7,
    "start_time": "2022-08-21T13:00:05.541Z"
   },
   {
    "duration": 57,
    "start_time": "2022-08-21T13:01:33.141Z"
   },
   {
    "duration": 12,
    "start_time": "2022-08-21T13:01:52.675Z"
   },
   {
    "duration": 12,
    "start_time": "2022-08-21T13:01:58.891Z"
   },
   {
    "duration": 5,
    "start_time": "2022-08-21T13:03:59.349Z"
   },
   {
    "duration": 7,
    "start_time": "2022-08-21T13:04:07.143Z"
   },
   {
    "duration": 10,
    "start_time": "2022-08-21T13:06:13.511Z"
   },
   {
    "duration": 9,
    "start_time": "2022-08-21T13:18:43.499Z"
   },
   {
    "duration": 5,
    "start_time": "2022-08-21T13:20:15.845Z"
   },
   {
    "duration": 11,
    "start_time": "2022-08-21T13:20:19.409Z"
   },
   {
    "duration": 9,
    "start_time": "2022-08-21T13:21:34.849Z"
   },
   {
    "duration": 11,
    "start_time": "2022-08-21T13:21:56.276Z"
   },
   {
    "duration": 6,
    "start_time": "2022-08-21T13:22:24.925Z"
   },
   {
    "duration": 9,
    "start_time": "2022-08-21T13:25:05.239Z"
   },
   {
    "duration": 5,
    "start_time": "2022-08-21T13:25:32.413Z"
   },
   {
    "duration": 54,
    "start_time": "2022-08-21T13:29:04.762Z"
   },
   {
    "duration": 13,
    "start_time": "2022-08-21T13:29:15.636Z"
   },
   {
    "duration": 7,
    "start_time": "2022-08-21T13:35:59.961Z"
   },
   {
    "duration": 9,
    "start_time": "2022-08-21T13:36:10.482Z"
   },
   {
    "duration": 9,
    "start_time": "2022-08-21T13:37:09.568Z"
   },
   {
    "duration": 5,
    "start_time": "2022-08-21T13:40:30.590Z"
   },
   {
    "duration": 8,
    "start_time": "2022-08-21T13:41:31.493Z"
   },
   {
    "duration": 13,
    "start_time": "2022-08-21T13:49:36.143Z"
   },
   {
    "duration": 9,
    "start_time": "2022-08-21T13:56:49.580Z"
   },
   {
    "duration": 5,
    "start_time": "2022-08-21T13:57:11.428Z"
   },
   {
    "duration": 7,
    "start_time": "2022-08-21T13:57:14.181Z"
   },
   {
    "duration": 12,
    "start_time": "2022-08-21T13:57:42.236Z"
   },
   {
    "duration": 12,
    "start_time": "2022-08-21T13:58:01.959Z"
   },
   {
    "duration": 12,
    "start_time": "2022-08-21T13:58:30.250Z"
   },
   {
    "duration": 19,
    "start_time": "2022-08-21T13:59:21.880Z"
   },
   {
    "duration": 11,
    "start_time": "2022-08-21T13:59:36.677Z"
   },
   {
    "duration": 13,
    "start_time": "2022-08-21T14:00:05.465Z"
   },
   {
    "duration": 5,
    "start_time": "2022-08-21T14:02:09.176Z"
   },
   {
    "duration": 7,
    "start_time": "2022-08-21T14:02:31.555Z"
   },
   {
    "duration": 9,
    "start_time": "2022-08-21T14:09:17.602Z"
   },
   {
    "duration": 6,
    "start_time": "2022-08-21T14:09:29.384Z"
   },
   {
    "duration": 11,
    "start_time": "2022-08-21T14:09:41.817Z"
   },
   {
    "duration": 7,
    "start_time": "2022-08-21T14:10:05.396Z"
   },
   {
    "duration": 12,
    "start_time": "2022-08-21T14:10:25.782Z"
   },
   {
    "duration": 10,
    "start_time": "2022-08-21T14:10:39.503Z"
   },
   {
    "duration": 11,
    "start_time": "2022-08-21T14:10:49.307Z"
   },
   {
    "duration": 10,
    "start_time": "2022-08-21T14:10:52.987Z"
   },
   {
    "duration": 10,
    "start_time": "2022-08-21T14:11:04.597Z"
   },
   {
    "duration": 7,
    "start_time": "2022-08-21T14:11:07.573Z"
   },
   {
    "duration": 21,
    "start_time": "2022-08-21T14:12:00.414Z"
   },
   {
    "duration": 17,
    "start_time": "2022-08-21T14:12:17.034Z"
   },
   {
    "duration": 31,
    "start_time": "2022-08-21T14:14:13.033Z"
   },
   {
    "duration": 16,
    "start_time": "2022-08-21T14:15:32.215Z"
   },
   {
    "duration": 15,
    "start_time": "2022-08-21T14:15:45.822Z"
   },
   {
    "duration": 9,
    "start_time": "2022-08-21T14:16:26.458Z"
   },
   {
    "duration": 4,
    "start_time": "2022-08-21T14:16:31.931Z"
   },
   {
    "duration": 15,
    "start_time": "2022-08-21T14:16:52.594Z"
   },
   {
    "duration": 58,
    "start_time": "2022-08-21T15:02:22.545Z"
   },
   {
    "duration": 3,
    "start_time": "2022-08-21T15:02:22.605Z"
   },
   {
    "duration": 13,
    "start_time": "2022-08-21T15:02:22.609Z"
   },
   {
    "duration": 25,
    "start_time": "2022-08-21T15:02:22.625Z"
   },
   {
    "duration": 9,
    "start_time": "2022-08-21T15:02:22.651Z"
   },
   {
    "duration": 26,
    "start_time": "2022-08-21T15:02:22.662Z"
   },
   {
    "duration": 20,
    "start_time": "2022-08-21T15:02:22.690Z"
   },
   {
    "duration": 15,
    "start_time": "2022-08-21T15:02:22.712Z"
   },
   {
    "duration": 21,
    "start_time": "2022-08-21T15:02:22.729Z"
   },
   {
    "duration": 36,
    "start_time": "2022-08-21T15:02:22.752Z"
   },
   {
    "duration": 12,
    "start_time": "2022-08-21T15:02:22.790Z"
   },
   {
    "duration": 18,
    "start_time": "2022-08-21T15:02:22.803Z"
   },
   {
    "duration": 2,
    "start_time": "2022-08-21T15:02:22.823Z"
   },
   {
    "duration": 6,
    "start_time": "2022-08-21T15:02:22.827Z"
   },
   {
    "duration": 9,
    "start_time": "2022-08-21T15:02:22.835Z"
   },
   {
    "duration": 13,
    "start_time": "2022-08-21T15:02:22.846Z"
   },
   {
    "duration": 35,
    "start_time": "2022-08-21T15:02:22.860Z"
   },
   {
    "duration": 9,
    "start_time": "2022-08-21T15:02:22.897Z"
   },
   {
    "duration": 5,
    "start_time": "2022-08-21T15:02:22.908Z"
   },
   {
    "duration": 11,
    "start_time": "2022-08-21T15:02:22.914Z"
   },
   {
    "duration": 21,
    "start_time": "2022-08-21T15:02:22.927Z"
   },
   {
    "duration": 8,
    "start_time": "2022-08-21T15:02:22.950Z"
   },
   {
    "duration": 4,
    "start_time": "2022-08-21T15:02:22.959Z"
   },
   {
    "duration": 8,
    "start_time": "2022-08-21T15:02:22.987Z"
   },
   {
    "duration": 8,
    "start_time": "2022-08-21T15:02:22.997Z"
   },
   {
    "duration": 26,
    "start_time": "2022-08-21T15:02:23.006Z"
   },
   {
    "duration": 4,
    "start_time": "2022-08-21T15:02:23.034Z"
   },
   {
    "duration": 7,
    "start_time": "2022-08-21T15:02:23.041Z"
   },
   {
    "duration": 39,
    "start_time": "2022-08-21T15:02:23.049Z"
   },
   {
    "duration": 9,
    "start_time": "2022-08-21T15:02:23.090Z"
   },
   {
    "duration": 9,
    "start_time": "2022-08-21T15:02:23.100Z"
   },
   {
    "duration": 9,
    "start_time": "2022-08-21T15:02:23.111Z"
   },
   {
    "duration": 8,
    "start_time": "2022-08-21T15:02:23.122Z"
   },
   {
    "duration": 16,
    "start_time": "2022-08-21T15:02:23.132Z"
   },
   {
    "duration": 8,
    "start_time": "2022-08-21T15:02:23.150Z"
   },
   {
    "duration": 9,
    "start_time": "2022-08-21T15:02:23.189Z"
   },
   {
    "duration": 19,
    "start_time": "2022-08-21T15:02:23.199Z"
   },
   {
    "duration": 12,
    "start_time": "2022-08-21T15:02:23.220Z"
   },
   {
    "duration": 10,
    "start_time": "2022-08-21T15:02:23.234Z"
   },
   {
    "duration": 5,
    "start_time": "2022-08-21T15:02:23.246Z"
   },
   {
    "duration": 7,
    "start_time": "2022-08-21T15:02:23.253Z"
   },
   {
    "duration": 9,
    "start_time": "2022-08-21T15:02:23.262Z"
   },
   {
    "duration": 16,
    "start_time": "2022-08-21T15:02:23.272Z"
   },
   {
    "duration": 14,
    "start_time": "2022-08-21T15:02:23.290Z"
   },
   {
    "duration": 7,
    "start_time": "2022-08-21T15:02:23.306Z"
   },
   {
    "duration": 17,
    "start_time": "2022-08-21T15:02:23.315Z"
   },
   {
    "duration": 26,
    "start_time": "2022-08-21T15:02:23.333Z"
   },
   {
    "duration": 37,
    "start_time": "2022-08-21T15:02:23.361Z"
   },
   {
    "duration": 15,
    "start_time": "2022-08-21T15:02:23.399Z"
   },
   {
    "duration": 14,
    "start_time": "2022-08-21T15:02:23.416Z"
   },
   {
    "duration": 2,
    "start_time": "2022-08-21T15:02:23.432Z"
   },
   {
    "duration": 7,
    "start_time": "2022-08-21T15:02:23.436Z"
   },
   {
    "duration": 66,
    "start_time": "2022-08-21T15:02:23.445Z"
   },
   {
    "duration": 0,
    "start_time": "2022-08-21T15:02:23.513Z"
   },
   {
    "duration": 0,
    "start_time": "2022-08-21T15:02:23.514Z"
   },
   {
    "duration": 0,
    "start_time": "2022-08-21T15:02:23.515Z"
   },
   {
    "duration": 0,
    "start_time": "2022-08-21T15:02:23.516Z"
   },
   {
    "duration": 0,
    "start_time": "2022-08-21T15:02:23.517Z"
   },
   {
    "duration": 0,
    "start_time": "2022-08-21T15:02:23.518Z"
   },
   {
    "duration": 0,
    "start_time": "2022-08-21T15:02:23.519Z"
   },
   {
    "duration": 0,
    "start_time": "2022-08-21T15:02:23.520Z"
   },
   {
    "duration": 0,
    "start_time": "2022-08-21T15:02:23.521Z"
   },
   {
    "duration": 0,
    "start_time": "2022-08-21T15:02:23.522Z"
   },
   {
    "duration": 0,
    "start_time": "2022-08-21T15:02:23.523Z"
   },
   {
    "duration": 0,
    "start_time": "2022-08-21T15:02:23.524Z"
   },
   {
    "duration": 0,
    "start_time": "2022-08-21T15:02:23.525Z"
   },
   {
    "duration": 0,
    "start_time": "2022-08-21T15:02:23.527Z"
   },
   {
    "duration": 0,
    "start_time": "2022-08-21T15:02:23.528Z"
   },
   {
    "duration": 0,
    "start_time": "2022-08-21T15:02:23.529Z"
   },
   {
    "duration": 0,
    "start_time": "2022-08-21T15:02:23.530Z"
   },
   {
    "duration": 0,
    "start_time": "2022-08-21T15:02:23.531Z"
   },
   {
    "duration": 0,
    "start_time": "2022-08-21T15:02:23.532Z"
   },
   {
    "duration": 0,
    "start_time": "2022-08-21T15:02:23.533Z"
   },
   {
    "duration": 0,
    "start_time": "2022-08-21T15:02:23.534Z"
   },
   {
    "duration": 0,
    "start_time": "2022-08-21T15:02:23.535Z"
   },
   {
    "duration": 0,
    "start_time": "2022-08-21T15:02:23.536Z"
   },
   {
    "duration": 0,
    "start_time": "2022-08-21T15:02:23.537Z"
   },
   {
    "duration": 0,
    "start_time": "2022-08-21T15:02:23.538Z"
   },
   {
    "duration": 0,
    "start_time": "2022-08-21T15:02:23.539Z"
   },
   {
    "duration": 0,
    "start_time": "2022-08-21T15:02:23.540Z"
   },
   {
    "duration": 0,
    "start_time": "2022-08-21T15:02:23.541Z"
   },
   {
    "duration": 0,
    "start_time": "2022-08-21T15:02:23.542Z"
   },
   {
    "duration": 0,
    "start_time": "2022-08-21T15:02:23.543Z"
   },
   {
    "duration": 0,
    "start_time": "2022-08-21T15:02:23.544Z"
   },
   {
    "duration": 0,
    "start_time": "2022-08-21T15:02:23.545Z"
   },
   {
    "duration": 0,
    "start_time": "2022-08-21T15:02:23.546Z"
   },
   {
    "duration": 5,
    "start_time": "2022-08-21T15:03:02.876Z"
   },
   {
    "duration": 5,
    "start_time": "2022-08-21T15:03:21.241Z"
   },
   {
    "duration": 9,
    "start_time": "2022-08-21T15:04:23.821Z"
   },
   {
    "duration": 3,
    "start_time": "2022-08-21T15:11:28.771Z"
   },
   {
    "duration": 59,
    "start_time": "2022-08-21T15:12:19.565Z"
   },
   {
    "duration": 3,
    "start_time": "2022-08-21T15:12:39.568Z"
   },
   {
    "duration": 3,
    "start_time": "2022-08-21T15:12:49.890Z"
   },
   {
    "duration": 2,
    "start_time": "2022-08-21T15:13:01.937Z"
   },
   {
    "duration": 67,
    "start_time": "2022-08-21T15:14:06.479Z"
   },
   {
    "duration": 3,
    "start_time": "2022-08-21T15:18:32.051Z"
   },
   {
    "duration": 3,
    "start_time": "2022-08-21T15:18:38.977Z"
   },
   {
    "duration": 2,
    "start_time": "2022-08-21T15:18:44.629Z"
   },
   {
    "duration": 13,
    "start_time": "2022-08-21T15:19:48.400Z"
   },
   {
    "duration": 4,
    "start_time": "2022-08-21T15:20:13.759Z"
   },
   {
    "duration": 4,
    "start_time": "2022-08-21T15:20:22.244Z"
   },
   {
    "duration": 4,
    "start_time": "2022-08-21T15:20:25.751Z"
   },
   {
    "duration": 1576,
    "start_time": "2022-08-21T15:25:03.813Z"
   },
   {
    "duration": 8,
    "start_time": "2022-08-21T15:26:14.466Z"
   },
   {
    "duration": 5,
    "start_time": "2022-08-21T15:26:34.580Z"
   },
   {
    "duration": 8,
    "start_time": "2022-08-21T15:26:54.351Z"
   },
   {
    "duration": 8,
    "start_time": "2022-08-21T15:34:43.867Z"
   },
   {
    "duration": 15,
    "start_time": "2022-08-21T15:35:06.933Z"
   },
   {
    "duration": 8,
    "start_time": "2022-08-21T15:36:43.062Z"
   },
   {
    "duration": 7,
    "start_time": "2022-08-21T15:36:59.466Z"
   },
   {
    "duration": 16,
    "start_time": "2022-08-21T15:37:27.710Z"
   },
   {
    "duration": 5,
    "start_time": "2022-08-21T15:38:58.599Z"
   },
   {
    "duration": 4,
    "start_time": "2022-08-21T15:39:22.635Z"
   },
   {
    "duration": 9,
    "start_time": "2022-08-21T15:41:08.530Z"
   },
   {
    "duration": 33,
    "start_time": "2022-08-21T15:57:54.131Z"
   },
   {
    "duration": 7,
    "start_time": "2022-08-21T15:58:16.055Z"
   },
   {
    "duration": 4,
    "start_time": "2022-08-21T16:02:41.556Z"
   },
   {
    "duration": 632,
    "start_time": "2022-08-23T07:27:52.677Z"
   },
   {
    "duration": 4,
    "start_time": "2022-08-23T07:27:53.312Z"
   },
   {
    "duration": 13,
    "start_time": "2022-08-23T07:27:53.318Z"
   },
   {
    "duration": 17,
    "start_time": "2022-08-23T07:27:53.334Z"
   },
   {
    "duration": 23,
    "start_time": "2022-08-23T07:27:53.353Z"
   },
   {
    "duration": 6,
    "start_time": "2022-08-23T07:27:53.378Z"
   },
   {
    "duration": 19,
    "start_time": "2022-08-23T07:27:53.386Z"
   },
   {
    "duration": 12,
    "start_time": "2022-08-23T07:27:53.407Z"
   },
   {
    "duration": 19,
    "start_time": "2022-08-23T07:27:53.420Z"
   },
   {
    "duration": 36,
    "start_time": "2022-08-23T07:27:53.441Z"
   },
   {
    "duration": 14,
    "start_time": "2022-08-23T07:27:53.479Z"
   },
   {
    "duration": 13,
    "start_time": "2022-08-23T07:27:53.495Z"
   },
   {
    "duration": 2,
    "start_time": "2022-08-23T07:27:53.510Z"
   },
   {
    "duration": 7,
    "start_time": "2022-08-23T07:27:53.514Z"
   },
   {
    "duration": 7,
    "start_time": "2022-08-23T07:27:53.523Z"
   },
   {
    "duration": 42,
    "start_time": "2022-08-23T07:27:53.531Z"
   },
   {
    "duration": 23,
    "start_time": "2022-08-23T07:27:53.574Z"
   },
   {
    "duration": 14,
    "start_time": "2022-08-23T07:27:53.599Z"
   },
   {
    "duration": 24,
    "start_time": "2022-08-23T07:27:53.614Z"
   },
   {
    "duration": 16,
    "start_time": "2022-08-23T07:27:53.640Z"
   },
   {
    "duration": 24,
    "start_time": "2022-08-23T07:27:53.658Z"
   },
   {
    "duration": 9,
    "start_time": "2022-08-23T07:27:53.684Z"
   },
   {
    "duration": 15,
    "start_time": "2022-08-23T07:27:53.695Z"
   },
   {
    "duration": 21,
    "start_time": "2022-08-23T07:27:53.712Z"
   },
   {
    "duration": 11,
    "start_time": "2022-08-23T07:27:53.734Z"
   },
   {
    "duration": 37,
    "start_time": "2022-08-23T07:27:53.747Z"
   },
   {
    "duration": 4,
    "start_time": "2022-08-23T07:27:53.786Z"
   },
   {
    "duration": 18,
    "start_time": "2022-08-23T07:27:53.794Z"
   },
   {
    "duration": 20,
    "start_time": "2022-08-23T07:27:53.815Z"
   },
   {
    "duration": 15,
    "start_time": "2022-08-23T07:27:53.836Z"
   },
   {
    "duration": 25,
    "start_time": "2022-08-23T07:27:53.853Z"
   },
   {
    "duration": 15,
    "start_time": "2022-08-23T07:27:53.880Z"
   },
   {
    "duration": 22,
    "start_time": "2022-08-23T07:27:53.897Z"
   },
   {
    "duration": 21,
    "start_time": "2022-08-23T07:27:53.921Z"
   },
   {
    "duration": 21,
    "start_time": "2022-08-23T07:27:53.944Z"
   },
   {
    "duration": 20,
    "start_time": "2022-08-23T07:27:53.967Z"
   },
   {
    "duration": 13,
    "start_time": "2022-08-23T07:27:53.989Z"
   },
   {
    "duration": 25,
    "start_time": "2022-08-23T07:27:54.004Z"
   },
   {
    "duration": 17,
    "start_time": "2022-08-23T07:27:54.031Z"
   },
   {
    "duration": 15,
    "start_time": "2022-08-23T07:27:54.050Z"
   },
   {
    "duration": 15,
    "start_time": "2022-08-23T07:27:54.067Z"
   },
   {
    "duration": 20,
    "start_time": "2022-08-23T07:27:54.083Z"
   },
   {
    "duration": 18,
    "start_time": "2022-08-23T07:27:54.105Z"
   },
   {
    "duration": 20,
    "start_time": "2022-08-23T07:27:54.124Z"
   },
   {
    "duration": 13,
    "start_time": "2022-08-23T07:27:54.145Z"
   },
   {
    "duration": 32,
    "start_time": "2022-08-23T07:27:54.159Z"
   },
   {
    "duration": 37,
    "start_time": "2022-08-23T07:27:54.193Z"
   },
   {
    "duration": 16,
    "start_time": "2022-08-23T07:27:54.231Z"
   },
   {
    "duration": 20,
    "start_time": "2022-08-23T07:27:54.249Z"
   },
   {
    "duration": 14,
    "start_time": "2022-08-23T07:27:54.271Z"
   },
   {
    "duration": 22,
    "start_time": "2022-08-23T07:27:54.286Z"
   },
   {
    "duration": 26,
    "start_time": "2022-08-23T07:27:54.310Z"
   },
   {
    "duration": 13,
    "start_time": "2022-08-23T07:27:54.338Z"
   },
   {
    "duration": 31,
    "start_time": "2022-08-23T07:27:54.352Z"
   },
   {
    "duration": 13,
    "start_time": "2022-08-23T07:27:54.385Z"
   },
   {
    "duration": 22,
    "start_time": "2022-08-23T07:27:54.400Z"
   },
   {
    "duration": 21,
    "start_time": "2022-08-23T07:27:54.423Z"
   },
   {
    "duration": 11,
    "start_time": "2022-08-23T07:27:54.445Z"
   },
   {
    "duration": 18,
    "start_time": "2022-08-23T07:27:54.458Z"
   },
   {
    "duration": 15,
    "start_time": "2022-08-23T07:27:54.478Z"
   },
   {
    "duration": 37,
    "start_time": "2022-08-23T07:27:54.494Z"
   },
   {
    "duration": 4,
    "start_time": "2022-08-23T07:27:54.533Z"
   },
   {
    "duration": 22,
    "start_time": "2022-08-23T07:27:54.539Z"
   },
   {
    "duration": 15,
    "start_time": "2022-08-23T07:27:54.562Z"
   },
   {
    "duration": 10,
    "start_time": "2022-08-23T07:27:54.579Z"
   },
   {
    "duration": 23,
    "start_time": "2022-08-23T07:27:54.591Z"
   },
   {
    "duration": 8,
    "start_time": "2022-08-23T07:27:54.616Z"
   },
   {
    "duration": 24,
    "start_time": "2022-08-23T07:27:54.626Z"
   },
   {
    "duration": 7,
    "start_time": "2022-08-23T07:27:54.651Z"
   },
   {
    "duration": 7,
    "start_time": "2022-08-23T07:27:54.660Z"
   },
   {
    "duration": 6,
    "start_time": "2022-08-23T07:27:54.669Z"
   },
   {
    "duration": 4,
    "start_time": "2022-08-23T07:27:54.677Z"
   },
   {
    "duration": 19,
    "start_time": "2022-08-23T07:27:54.682Z"
   },
   {
    "duration": 20,
    "start_time": "2022-08-23T07:27:54.703Z"
   },
   {
    "duration": 23,
    "start_time": "2022-08-23T07:27:54.725Z"
   },
   {
    "duration": 24,
    "start_time": "2022-08-23T07:27:54.749Z"
   },
   {
    "duration": 7,
    "start_time": "2022-08-23T07:27:54.775Z"
   },
   {
    "duration": 12,
    "start_time": "2022-08-23T07:27:54.784Z"
   },
   {
    "duration": 5,
    "start_time": "2022-08-23T07:27:54.798Z"
   },
   {
    "duration": 16,
    "start_time": "2022-08-23T07:27:54.805Z"
   },
   {
    "duration": 14,
    "start_time": "2022-08-23T07:27:54.823Z"
   },
   {
    "duration": 3,
    "start_time": "2022-08-23T07:27:54.842Z"
   },
   {
    "duration": 16,
    "start_time": "2022-08-23T07:27:54.846Z"
   },
   {
    "duration": 10,
    "start_time": "2022-08-23T07:27:54.864Z"
   },
   {
    "duration": 35,
    "start_time": "2022-08-23T07:27:54.875Z"
   },
   {
    "duration": 23,
    "start_time": "2022-08-23T07:27:54.911Z"
   },
   {
    "duration": 19,
    "start_time": "2022-08-23T07:27:54.935Z"
   },
   {
    "duration": 271,
    "start_time": "2022-08-23T07:29:15.232Z"
   },
   {
    "duration": 61,
    "start_time": "2022-08-23T08:00:37.956Z"
   },
   {
    "duration": 4,
    "start_time": "2022-08-23T08:00:38.019Z"
   },
   {
    "duration": 13,
    "start_time": "2022-08-23T08:00:38.025Z"
   },
   {
    "duration": 28,
    "start_time": "2022-08-23T08:00:38.040Z"
   },
   {
    "duration": 10,
    "start_time": "2022-08-23T08:00:38.070Z"
   },
   {
    "duration": 4,
    "start_time": "2022-08-23T08:00:38.081Z"
   },
   {
    "duration": 12,
    "start_time": "2022-08-23T08:00:38.087Z"
   },
   {
    "duration": 13,
    "start_time": "2022-08-23T08:00:38.100Z"
   },
   {
    "duration": 55,
    "start_time": "2022-08-23T08:00:38.114Z"
   },
   {
    "duration": 13,
    "start_time": "2022-08-23T08:00:38.171Z"
   },
   {
    "duration": 16,
    "start_time": "2022-08-23T08:00:38.185Z"
   },
   {
    "duration": 12,
    "start_time": "2022-08-23T08:00:38.203Z"
   },
   {
    "duration": 2,
    "start_time": "2022-08-23T08:00:38.217Z"
   },
   {
    "duration": 7,
    "start_time": "2022-08-23T08:00:38.221Z"
   },
   {
    "duration": 45,
    "start_time": "2022-08-23T08:00:38.229Z"
   },
   {
    "duration": 13,
    "start_time": "2022-08-23T08:00:38.276Z"
   },
   {
    "duration": 8,
    "start_time": "2022-08-23T08:00:38.291Z"
   },
   {
    "duration": 9,
    "start_time": "2022-08-23T08:00:38.301Z"
   },
   {
    "duration": 4,
    "start_time": "2022-08-23T08:00:38.312Z"
   },
   {
    "duration": 7,
    "start_time": "2022-08-23T08:00:38.317Z"
   },
   {
    "duration": 46,
    "start_time": "2022-08-23T08:00:38.325Z"
   },
   {
    "duration": 9,
    "start_time": "2022-08-23T08:00:38.373Z"
   },
   {
    "duration": 4,
    "start_time": "2022-08-23T08:00:38.383Z"
   },
   {
    "duration": 12,
    "start_time": "2022-08-23T08:00:38.389Z"
   },
   {
    "duration": 8,
    "start_time": "2022-08-23T08:00:38.403Z"
   },
   {
    "duration": 22,
    "start_time": "2022-08-23T08:00:38.413Z"
   },
   {
    "duration": 5,
    "start_time": "2022-08-23T08:00:38.467Z"
   },
   {
    "duration": 4,
    "start_time": "2022-08-23T08:00:38.476Z"
   },
   {
    "duration": 9,
    "start_time": "2022-08-23T08:00:38.482Z"
   },
   {
    "duration": 8,
    "start_time": "2022-08-23T08:00:38.493Z"
   },
   {
    "duration": 11,
    "start_time": "2022-08-23T08:00:38.502Z"
   },
   {
    "duration": 12,
    "start_time": "2022-08-23T08:00:38.514Z"
   },
   {
    "duration": 8,
    "start_time": "2022-08-23T08:00:38.528Z"
   },
   {
    "duration": 12,
    "start_time": "2022-08-23T08:00:38.567Z"
   },
   {
    "duration": 7,
    "start_time": "2022-08-23T08:00:38.581Z"
   },
   {
    "duration": 38,
    "start_time": "2022-08-23T08:00:38.590Z"
   },
   {
    "duration": 16,
    "start_time": "2022-08-23T08:00:38.630Z"
   },
   {
    "duration": 15,
    "start_time": "2022-08-23T08:00:38.648Z"
   },
   {
    "duration": 11,
    "start_time": "2022-08-23T08:00:38.665Z"
   },
   {
    "duration": 6,
    "start_time": "2022-08-23T08:00:38.678Z"
   },
   {
    "duration": 9,
    "start_time": "2022-08-23T08:00:38.686Z"
   },
   {
    "duration": 8,
    "start_time": "2022-08-23T08:00:38.697Z"
   },
   {
    "duration": 7,
    "start_time": "2022-08-23T08:00:38.707Z"
   },
   {
    "duration": 8,
    "start_time": "2022-08-23T08:00:38.716Z"
   },
   {
    "duration": 7,
    "start_time": "2022-08-23T08:00:38.725Z"
   },
   {
    "duration": 45,
    "start_time": "2022-08-23T08:00:38.734Z"
   },
   {
    "duration": 28,
    "start_time": "2022-08-23T08:00:38.781Z"
   },
   {
    "duration": 16,
    "start_time": "2022-08-23T08:00:38.811Z"
   },
   {
    "duration": 18,
    "start_time": "2022-08-23T08:00:38.828Z"
   },
   {
    "duration": 16,
    "start_time": "2022-08-23T08:00:38.867Z"
   },
   {
    "duration": 2,
    "start_time": "2022-08-23T08:00:38.885Z"
   },
   {
    "duration": 12,
    "start_time": "2022-08-23T08:00:38.888Z"
   },
   {
    "duration": 3,
    "start_time": "2022-08-23T08:00:38.902Z"
   },
   {
    "duration": 12,
    "start_time": "2022-08-23T08:00:38.907Z"
   },
   {
    "duration": 12,
    "start_time": "2022-08-23T08:00:38.920Z"
   },
   {
    "duration": 35,
    "start_time": "2022-08-23T08:00:38.934Z"
   },
   {
    "duration": 21,
    "start_time": "2022-08-23T08:00:38.971Z"
   },
   {
    "duration": 4,
    "start_time": "2022-08-23T08:00:38.994Z"
   },
   {
    "duration": 7,
    "start_time": "2022-08-23T08:00:39.000Z"
   },
   {
    "duration": 11,
    "start_time": "2022-08-23T08:00:39.009Z"
   },
   {
    "duration": 63,
    "start_time": "2022-08-23T08:00:39.022Z"
   },
   {
    "duration": 5,
    "start_time": "2022-08-23T08:00:39.086Z"
   },
   {
    "duration": 8,
    "start_time": "2022-08-23T08:00:39.093Z"
   },
   {
    "duration": 5,
    "start_time": "2022-08-23T08:00:39.102Z"
   },
   {
    "duration": 5,
    "start_time": "2022-08-23T08:00:39.108Z"
   },
   {
    "duration": 7,
    "start_time": "2022-08-23T08:00:39.114Z"
   },
   {
    "duration": 6,
    "start_time": "2022-08-23T08:00:39.123Z"
   },
   {
    "duration": 5,
    "start_time": "2022-08-23T08:00:39.131Z"
   },
   {
    "duration": 6,
    "start_time": "2022-08-23T08:00:39.138Z"
   },
   {
    "duration": 4,
    "start_time": "2022-08-23T08:00:39.145Z"
   },
   {
    "duration": 8,
    "start_time": "2022-08-23T08:00:39.168Z"
   },
   {
    "duration": 4,
    "start_time": "2022-08-23T08:00:39.178Z"
   },
   {
    "duration": 5,
    "start_time": "2022-08-23T08:00:39.184Z"
   },
   {
    "duration": 7,
    "start_time": "2022-08-23T08:00:39.191Z"
   },
   {
    "duration": 6,
    "start_time": "2022-08-23T08:00:39.200Z"
   },
   {
    "duration": 6,
    "start_time": "2022-08-23T08:00:39.207Z"
   },
   {
    "duration": 5,
    "start_time": "2022-08-23T08:00:39.214Z"
   },
   {
    "duration": 5,
    "start_time": "2022-08-23T08:00:39.221Z"
   },
   {
    "duration": 6,
    "start_time": "2022-08-23T08:00:39.227Z"
   },
   {
    "duration": 5,
    "start_time": "2022-08-23T08:00:39.235Z"
   },
   {
    "duration": 10,
    "start_time": "2022-08-23T08:00:39.242Z"
   },
   {
    "duration": 3,
    "start_time": "2022-08-23T08:00:39.267Z"
   },
   {
    "duration": 10,
    "start_time": "2022-08-23T08:00:39.272Z"
   },
   {
    "duration": 7,
    "start_time": "2022-08-23T08:00:39.283Z"
   },
   {
    "duration": 10,
    "start_time": "2022-08-23T08:00:39.291Z"
   },
   {
    "duration": 29,
    "start_time": "2022-08-23T08:00:39.302Z"
   },
   {
    "duration": 10,
    "start_time": "2022-08-23T08:00:39.333Z"
   },
   {
    "duration": 10,
    "start_time": "2022-08-23T08:02:43.451Z"
   },
   {
    "duration": 8,
    "start_time": "2022-08-23T08:03:13.456Z"
   },
   {
    "duration": 6,
    "start_time": "2022-08-23T08:03:24.685Z"
   },
   {
    "duration": 7,
    "start_time": "2022-08-23T08:03:32.728Z"
   },
   {
    "duration": 7,
    "start_time": "2022-08-23T08:03:44.058Z"
   },
   {
    "duration": 17,
    "start_time": "2022-08-23T08:04:00.925Z"
   },
   {
    "duration": 7,
    "start_time": "2022-08-23T08:06:02.141Z"
   },
   {
    "duration": 6,
    "start_time": "2022-08-23T08:07:33.794Z"
   },
   {
    "duration": 1202,
    "start_time": "2022-08-23T08:08:31.637Z"
   },
   {
    "duration": 6,
    "start_time": "2022-08-23T08:08:41.170Z"
   },
   {
    "duration": 6,
    "start_time": "2022-08-23T08:09:47.295Z"
   },
   {
    "duration": 5,
    "start_time": "2022-08-23T08:10:09.964Z"
   },
   {
    "duration": 6,
    "start_time": "2022-08-23T08:10:35.709Z"
   },
   {
    "duration": 7,
    "start_time": "2022-08-23T08:10:48.451Z"
   },
   {
    "duration": 1690,
    "start_time": "2022-08-23T08:11:33.135Z"
   },
   {
    "duration": 10,
    "start_time": "2022-08-23T08:11:43.477Z"
   },
   {
    "duration": 7,
    "start_time": "2022-08-23T08:14:23.880Z"
   },
   {
    "duration": 9,
    "start_time": "2022-08-23T08:15:30.784Z"
   },
   {
    "duration": 7,
    "start_time": "2022-08-23T08:17:20.256Z"
   },
   {
    "duration": 8,
    "start_time": "2022-08-23T08:43:50.211Z"
   },
   {
    "duration": 9,
    "start_time": "2022-08-23T08:52:19.138Z"
   },
   {
    "duration": 5,
    "start_time": "2022-08-23T08:53:58.762Z"
   },
   {
    "duration": 7,
    "start_time": "2022-08-23T08:54:07.445Z"
   },
   {
    "duration": 6,
    "start_time": "2022-08-23T08:54:50.002Z"
   },
   {
    "duration": 8,
    "start_time": "2022-08-23T08:55:06.774Z"
   },
   {
    "duration": 6,
    "start_time": "2022-08-23T08:56:17.696Z"
   },
   {
    "duration": 8,
    "start_time": "2022-08-23T09:23:29.655Z"
   },
   {
    "duration": 7,
    "start_time": "2022-08-23T09:24:20.135Z"
   },
   {
    "duration": 9,
    "start_time": "2022-08-23T09:25:07.826Z"
   },
   {
    "duration": 10,
    "start_time": "2022-08-23T09:26:41.451Z"
   },
   {
    "duration": 8,
    "start_time": "2022-08-23T09:28:55.359Z"
   },
   {
    "duration": 6,
    "start_time": "2022-08-23T09:56:10.285Z"
   },
   {
    "duration": 6,
    "start_time": "2022-08-23T09:56:40.854Z"
   },
   {
    "duration": 4,
    "start_time": "2022-08-23T10:05:46.582Z"
   },
   {
    "duration": 11,
    "start_time": "2022-08-23T10:07:41.343Z"
   },
   {
    "duration": 3,
    "start_time": "2022-08-23T10:07:49.520Z"
   },
   {
    "duration": 10,
    "start_time": "2022-08-23T10:07:52.812Z"
   },
   {
    "duration": 6,
    "start_time": "2022-08-23T10:08:22.799Z"
   },
   {
    "duration": 8,
    "start_time": "2022-08-23T10:08:49.632Z"
   },
   {
    "duration": 3,
    "start_time": "2022-08-23T10:09:08.421Z"
   },
   {
    "duration": 7,
    "start_time": "2022-08-23T10:09:12.113Z"
   },
   {
    "duration": 7,
    "start_time": "2022-08-23T10:10:38.516Z"
   },
   {
    "duration": 6,
    "start_time": "2022-08-23T10:10:41.360Z"
   },
   {
    "duration": 4,
    "start_time": "2022-08-23T10:11:17.382Z"
   },
   {
    "duration": 3,
    "start_time": "2022-08-23T10:19:32.824Z"
   },
   {
    "duration": 4,
    "start_time": "2022-08-23T10:19:35.603Z"
   },
   {
    "duration": 94,
    "start_time": "2022-08-23T10:20:27.959Z"
   },
   {
    "duration": 5,
    "start_time": "2022-08-23T10:21:45.469Z"
   },
   {
    "duration": 4,
    "start_time": "2022-08-23T10:21:49.411Z"
   },
   {
    "duration": 4,
    "start_time": "2022-08-23T10:31:00.904Z"
   },
   {
    "duration": 10,
    "start_time": "2022-08-23T10:31:05.331Z"
   },
   {
    "duration": 4,
    "start_time": "2022-08-23T10:32:29.264Z"
   },
   {
    "duration": 10,
    "start_time": "2022-08-23T10:32:33.199Z"
   },
   {
    "duration": 79,
    "start_time": "2022-08-23T10:33:13.210Z"
   },
   {
    "duration": 9,
    "start_time": "2022-08-23T10:33:20.826Z"
   },
   {
    "duration": 3,
    "start_time": "2022-08-23T10:33:30.273Z"
   },
   {
    "duration": 3,
    "start_time": "2022-08-23T10:33:32.703Z"
   },
   {
    "duration": 10,
    "start_time": "2022-08-23T10:33:34.895Z"
   },
   {
    "duration": 10,
    "start_time": "2022-08-23T10:35:06.268Z"
   },
   {
    "duration": 2,
    "start_time": "2022-08-23T10:35:08.328Z"
   },
   {
    "duration": 4,
    "start_time": "2022-08-23T10:35:12.559Z"
   },
   {
    "duration": 9,
    "start_time": "2022-08-23T10:35:15.923Z"
   },
   {
    "duration": 3,
    "start_time": "2022-08-23T10:36:36.368Z"
   },
   {
    "duration": 3,
    "start_time": "2022-08-23T10:36:38.647Z"
   },
   {
    "duration": 3,
    "start_time": "2022-08-23T10:36:45.490Z"
   },
   {
    "duration": 12,
    "start_time": "2022-08-23T10:37:01.434Z"
   },
   {
    "duration": 3,
    "start_time": "2022-08-23T10:37:02.919Z"
   },
   {
    "duration": 3,
    "start_time": "2022-08-23T10:37:04.907Z"
   },
   {
    "duration": 3,
    "start_time": "2022-08-23T10:37:07.425Z"
   },
   {
    "duration": 3,
    "start_time": "2022-08-23T10:39:47.238Z"
   },
   {
    "duration": 9,
    "start_time": "2022-08-23T10:39:49.651Z"
   },
   {
    "duration": 3,
    "start_time": "2022-08-23T10:39:59.255Z"
   },
   {
    "duration": 3,
    "start_time": "2022-08-23T10:40:01.027Z"
   },
   {
    "duration": 9,
    "start_time": "2022-08-23T10:40:18.397Z"
   },
   {
    "duration": 3,
    "start_time": "2022-08-23T10:40:18.908Z"
   },
   {
    "duration": 4,
    "start_time": "2022-08-23T10:40:20.265Z"
   },
   {
    "duration": 3,
    "start_time": "2022-08-23T10:40:20.856Z"
   },
   {
    "duration": 3,
    "start_time": "2022-08-23T10:44:03.644Z"
   },
   {
    "duration": 4,
    "start_time": "2022-08-23T10:44:07.120Z"
   },
   {
    "duration": 4,
    "start_time": "2022-08-23T10:44:59.251Z"
   },
   {
    "duration": 4,
    "start_time": "2022-08-23T10:45:21.334Z"
   },
   {
    "duration": 3,
    "start_time": "2022-08-23T10:45:53.534Z"
   },
   {
    "duration": 4,
    "start_time": "2022-08-23T10:45:57.932Z"
   },
   {
    "duration": 4,
    "start_time": "2022-08-23T10:46:03.321Z"
   },
   {
    "duration": 4,
    "start_time": "2022-08-23T10:55:01.321Z"
   },
   {
    "duration": 3,
    "start_time": "2022-08-23T10:55:05.417Z"
   },
   {
    "duration": 5,
    "start_time": "2022-08-23T10:55:09.428Z"
   },
   {
    "duration": 11,
    "start_time": "2022-08-23T10:55:14.780Z"
   },
   {
    "duration": 8,
    "start_time": "2022-08-23T10:55:16.755Z"
   },
   {
    "duration": 38,
    "start_time": "2022-08-23T10:56:17.518Z"
   },
   {
    "duration": 10,
    "start_time": "2022-08-23T10:57:32.317Z"
   },
   {
    "duration": 4,
    "start_time": "2022-08-23T11:01:14.060Z"
   },
   {
    "duration": 6,
    "start_time": "2022-08-23T11:01:38.970Z"
   },
   {
    "duration": 5,
    "start_time": "2022-08-23T11:02:00.258Z"
   },
   {
    "duration": 4,
    "start_time": "2022-08-23T11:02:09.136Z"
   },
   {
    "duration": 9,
    "start_time": "2022-08-23T11:03:06.076Z"
   },
   {
    "duration": 7,
    "start_time": "2022-08-23T11:03:33.912Z"
   },
   {
    "duration": 8,
    "start_time": "2022-08-23T11:05:47.211Z"
   },
   {
    "duration": 18,
    "start_time": "2022-08-23T11:47:01.443Z"
   },
   {
    "duration": 8,
    "start_time": "2022-08-23T11:49:26.939Z"
   },
   {
    "duration": 15,
    "start_time": "2022-08-23T11:50:13.039Z"
   },
   {
    "duration": 675,
    "start_time": "2022-08-24T07:11:32.433Z"
   },
   {
    "duration": 4,
    "start_time": "2022-08-24T07:11:33.110Z"
   },
   {
    "duration": 25,
    "start_time": "2022-08-24T07:11:33.116Z"
   },
   {
    "duration": 25,
    "start_time": "2022-08-24T07:11:33.144Z"
   },
   {
    "duration": 23,
    "start_time": "2022-08-24T07:11:33.170Z"
   },
   {
    "duration": 88,
    "start_time": "2022-08-24T07:11:33.195Z"
   },
   {
    "duration": 0,
    "start_time": "2022-08-24T07:11:33.288Z"
   },
   {
    "duration": 0,
    "start_time": "2022-08-24T07:11:33.289Z"
   },
   {
    "duration": 0,
    "start_time": "2022-08-24T07:11:33.290Z"
   },
   {
    "duration": 0,
    "start_time": "2022-08-24T07:11:33.291Z"
   },
   {
    "duration": 0,
    "start_time": "2022-08-24T07:11:33.292Z"
   },
   {
    "duration": 0,
    "start_time": "2022-08-24T07:11:33.293Z"
   },
   {
    "duration": 0,
    "start_time": "2022-08-24T07:11:33.294Z"
   },
   {
    "duration": 0,
    "start_time": "2022-08-24T07:11:33.295Z"
   },
   {
    "duration": 0,
    "start_time": "2022-08-24T07:11:33.296Z"
   },
   {
    "duration": 0,
    "start_time": "2022-08-24T07:11:33.297Z"
   },
   {
    "duration": 0,
    "start_time": "2022-08-24T07:11:33.298Z"
   },
   {
    "duration": 0,
    "start_time": "2022-08-24T07:11:33.299Z"
   },
   {
    "duration": 0,
    "start_time": "2022-08-24T07:11:33.300Z"
   },
   {
    "duration": 0,
    "start_time": "2022-08-24T07:11:33.301Z"
   },
   {
    "duration": 0,
    "start_time": "2022-08-24T07:11:33.302Z"
   },
   {
    "duration": 0,
    "start_time": "2022-08-24T07:11:33.303Z"
   },
   {
    "duration": 0,
    "start_time": "2022-08-24T07:11:33.304Z"
   },
   {
    "duration": 0,
    "start_time": "2022-08-24T07:11:33.305Z"
   },
   {
    "duration": 0,
    "start_time": "2022-08-24T07:11:33.306Z"
   },
   {
    "duration": 0,
    "start_time": "2022-08-24T07:11:33.308Z"
   },
   {
    "duration": 0,
    "start_time": "2022-08-24T07:11:33.309Z"
   },
   {
    "duration": 0,
    "start_time": "2022-08-24T07:11:33.310Z"
   },
   {
    "duration": 0,
    "start_time": "2022-08-24T07:11:33.311Z"
   },
   {
    "duration": 0,
    "start_time": "2022-08-24T07:11:33.312Z"
   },
   {
    "duration": 0,
    "start_time": "2022-08-24T07:11:33.313Z"
   },
   {
    "duration": 0,
    "start_time": "2022-08-24T07:11:33.314Z"
   },
   {
    "duration": 0,
    "start_time": "2022-08-24T07:11:33.315Z"
   },
   {
    "duration": 0,
    "start_time": "2022-08-24T07:11:33.316Z"
   },
   {
    "duration": 0,
    "start_time": "2022-08-24T07:11:33.317Z"
   },
   {
    "duration": 0,
    "start_time": "2022-08-24T07:11:33.318Z"
   },
   {
    "duration": 0,
    "start_time": "2022-08-24T07:11:33.319Z"
   },
   {
    "duration": 0,
    "start_time": "2022-08-24T07:11:33.369Z"
   },
   {
    "duration": 0,
    "start_time": "2022-08-24T07:11:33.371Z"
   },
   {
    "duration": 0,
    "start_time": "2022-08-24T07:11:33.372Z"
   },
   {
    "duration": 0,
    "start_time": "2022-08-24T07:11:33.373Z"
   },
   {
    "duration": 0,
    "start_time": "2022-08-24T07:11:33.375Z"
   },
   {
    "duration": 0,
    "start_time": "2022-08-24T07:11:33.376Z"
   },
   {
    "duration": 0,
    "start_time": "2022-08-24T07:11:33.377Z"
   },
   {
    "duration": 0,
    "start_time": "2022-08-24T07:11:33.378Z"
   },
   {
    "duration": 0,
    "start_time": "2022-08-24T07:11:33.379Z"
   },
   {
    "duration": 0,
    "start_time": "2022-08-24T07:11:33.381Z"
   },
   {
    "duration": 0,
    "start_time": "2022-08-24T07:11:33.382Z"
   },
   {
    "duration": 0,
    "start_time": "2022-08-24T07:11:33.383Z"
   },
   {
    "duration": 0,
    "start_time": "2022-08-24T07:11:33.385Z"
   },
   {
    "duration": 0,
    "start_time": "2022-08-24T07:11:33.386Z"
   },
   {
    "duration": 0,
    "start_time": "2022-08-24T07:11:33.387Z"
   },
   {
    "duration": 0,
    "start_time": "2022-08-24T07:11:33.388Z"
   },
   {
    "duration": 0,
    "start_time": "2022-08-24T07:11:33.390Z"
   },
   {
    "duration": 0,
    "start_time": "2022-08-24T07:11:33.391Z"
   },
   {
    "duration": 0,
    "start_time": "2022-08-24T07:11:33.394Z"
   },
   {
    "duration": 0,
    "start_time": "2022-08-24T07:11:33.395Z"
   },
   {
    "duration": 0,
    "start_time": "2022-08-24T07:11:33.397Z"
   },
   {
    "duration": 0,
    "start_time": "2022-08-24T07:11:33.397Z"
   },
   {
    "duration": 0,
    "start_time": "2022-08-24T07:11:33.398Z"
   },
   {
    "duration": 0,
    "start_time": "2022-08-24T07:11:33.399Z"
   },
   {
    "duration": 0,
    "start_time": "2022-08-24T07:11:33.400Z"
   },
   {
    "duration": 0,
    "start_time": "2022-08-24T07:11:33.401Z"
   },
   {
    "duration": 0,
    "start_time": "2022-08-24T07:11:33.402Z"
   },
   {
    "duration": 0,
    "start_time": "2022-08-24T07:11:33.403Z"
   },
   {
    "duration": 0,
    "start_time": "2022-08-24T07:11:33.405Z"
   },
   {
    "duration": 0,
    "start_time": "2022-08-24T07:11:33.405Z"
   },
   {
    "duration": 0,
    "start_time": "2022-08-24T07:11:33.406Z"
   },
   {
    "duration": 0,
    "start_time": "2022-08-24T07:11:33.468Z"
   },
   {
    "duration": 0,
    "start_time": "2022-08-24T07:11:33.469Z"
   },
   {
    "duration": 0,
    "start_time": "2022-08-24T07:11:33.470Z"
   },
   {
    "duration": 0,
    "start_time": "2022-08-24T07:11:33.471Z"
   },
   {
    "duration": 0,
    "start_time": "2022-08-24T07:11:33.472Z"
   },
   {
    "duration": 0,
    "start_time": "2022-08-24T07:11:33.473Z"
   },
   {
    "duration": 0,
    "start_time": "2022-08-24T07:11:33.474Z"
   },
   {
    "duration": 0,
    "start_time": "2022-08-24T07:11:33.475Z"
   },
   {
    "duration": 0,
    "start_time": "2022-08-24T07:11:33.476Z"
   },
   {
    "duration": 0,
    "start_time": "2022-08-24T07:11:33.477Z"
   },
   {
    "duration": 0,
    "start_time": "2022-08-24T07:11:33.478Z"
   },
   {
    "duration": 0,
    "start_time": "2022-08-24T07:11:33.479Z"
   },
   {
    "duration": 0,
    "start_time": "2022-08-24T07:11:33.480Z"
   },
   {
    "duration": 0,
    "start_time": "2022-08-24T07:11:33.481Z"
   },
   {
    "duration": 0,
    "start_time": "2022-08-24T07:11:33.483Z"
   },
   {
    "duration": 0,
    "start_time": "2022-08-24T07:11:33.484Z"
   },
   {
    "duration": 0,
    "start_time": "2022-08-24T07:11:33.485Z"
   },
   {
    "duration": 0,
    "start_time": "2022-08-24T07:11:33.487Z"
   },
   {
    "duration": 0,
    "start_time": "2022-08-24T07:11:33.488Z"
   },
   {
    "duration": 0,
    "start_time": "2022-08-24T07:11:33.489Z"
   },
   {
    "duration": 0,
    "start_time": "2022-08-24T07:11:33.494Z"
   },
   {
    "duration": 0,
    "start_time": "2022-08-24T07:11:33.495Z"
   },
   {
    "duration": 0,
    "start_time": "2022-08-24T07:11:33.496Z"
   },
   {
    "duration": 0,
    "start_time": "2022-08-24T07:11:33.498Z"
   },
   {
    "duration": 0,
    "start_time": "2022-08-24T07:11:33.499Z"
   },
   {
    "duration": 0,
    "start_time": "2022-08-24T07:11:33.500Z"
   },
   {
    "duration": 0,
    "start_time": "2022-08-24T07:11:33.502Z"
   },
   {
    "duration": 0,
    "start_time": "2022-08-24T07:11:33.502Z"
   },
   {
    "duration": 0,
    "start_time": "2022-08-24T07:11:33.504Z"
   },
   {
    "duration": 0,
    "start_time": "2022-08-24T07:11:33.505Z"
   },
   {
    "duration": 0,
    "start_time": "2022-08-24T07:11:33.507Z"
   },
   {
    "duration": 0,
    "start_time": "2022-08-24T07:11:33.567Z"
   },
   {
    "duration": 0,
    "start_time": "2022-08-24T07:11:33.568Z"
   },
   {
    "duration": 0,
    "start_time": "2022-08-24T07:11:33.569Z"
   },
   {
    "duration": 8,
    "start_time": "2022-08-24T07:12:03.749Z"
   },
   {
    "duration": 58,
    "start_time": "2022-08-24T07:12:08.112Z"
   },
   {
    "duration": 4,
    "start_time": "2022-08-24T07:12:08.173Z"
   },
   {
    "duration": 14,
    "start_time": "2022-08-24T07:12:08.178Z"
   },
   {
    "duration": 20,
    "start_time": "2022-08-24T07:12:08.195Z"
   },
   {
    "duration": 12,
    "start_time": "2022-08-24T07:12:08.216Z"
   },
   {
    "duration": 9,
    "start_time": "2022-08-24T07:12:08.268Z"
   },
   {
    "duration": 0,
    "start_time": "2022-08-24T07:12:08.279Z"
   },
   {
    "duration": 0,
    "start_time": "2022-08-24T07:12:08.281Z"
   },
   {
    "duration": 0,
    "start_time": "2022-08-24T07:12:08.283Z"
   },
   {
    "duration": 0,
    "start_time": "2022-08-24T07:12:08.285Z"
   },
   {
    "duration": 0,
    "start_time": "2022-08-24T07:12:08.287Z"
   },
   {
    "duration": 0,
    "start_time": "2022-08-24T07:12:08.289Z"
   },
   {
    "duration": 0,
    "start_time": "2022-08-24T07:12:08.290Z"
   },
   {
    "duration": 0,
    "start_time": "2022-08-24T07:12:08.292Z"
   },
   {
    "duration": 0,
    "start_time": "2022-08-24T07:12:08.294Z"
   },
   {
    "duration": 0,
    "start_time": "2022-08-24T07:12:08.295Z"
   },
   {
    "duration": 0,
    "start_time": "2022-08-24T07:12:08.297Z"
   },
   {
    "duration": 0,
    "start_time": "2022-08-24T07:12:08.299Z"
   },
   {
    "duration": 0,
    "start_time": "2022-08-24T07:12:08.300Z"
   },
   {
    "duration": 0,
    "start_time": "2022-08-24T07:12:08.302Z"
   },
   {
    "duration": 0,
    "start_time": "2022-08-24T07:12:08.304Z"
   },
   {
    "duration": 0,
    "start_time": "2022-08-24T07:12:08.305Z"
   },
   {
    "duration": 0,
    "start_time": "2022-08-24T07:12:08.306Z"
   },
   {
    "duration": 0,
    "start_time": "2022-08-24T07:12:08.308Z"
   },
   {
    "duration": 0,
    "start_time": "2022-08-24T07:12:08.369Z"
   },
   {
    "duration": 0,
    "start_time": "2022-08-24T07:12:08.370Z"
   },
   {
    "duration": 0,
    "start_time": "2022-08-24T07:12:08.371Z"
   },
   {
    "duration": 0,
    "start_time": "2022-08-24T07:12:08.372Z"
   },
   {
    "duration": 0,
    "start_time": "2022-08-24T07:12:08.373Z"
   },
   {
    "duration": 0,
    "start_time": "2022-08-24T07:12:08.374Z"
   },
   {
    "duration": 0,
    "start_time": "2022-08-24T07:12:08.375Z"
   },
   {
    "duration": 0,
    "start_time": "2022-08-24T07:12:08.376Z"
   },
   {
    "duration": 0,
    "start_time": "2022-08-24T07:12:08.377Z"
   },
   {
    "duration": 0,
    "start_time": "2022-08-24T07:12:08.379Z"
   },
   {
    "duration": 0,
    "start_time": "2022-08-24T07:12:08.380Z"
   },
   {
    "duration": 0,
    "start_time": "2022-08-24T07:12:08.381Z"
   },
   {
    "duration": 13,
    "start_time": "2022-08-24T07:12:08.386Z"
   },
   {
    "duration": 79,
    "start_time": "2022-08-24T07:12:08.401Z"
   },
   {
    "duration": 10,
    "start_time": "2022-08-24T07:12:08.483Z"
   },
   {
    "duration": 14,
    "start_time": "2022-08-24T07:12:08.495Z"
   },
   {
    "duration": 8,
    "start_time": "2022-08-24T07:12:08.510Z"
   },
   {
    "duration": 21,
    "start_time": "2022-08-24T07:12:08.568Z"
   },
   {
    "duration": 12,
    "start_time": "2022-08-24T07:12:08.591Z"
   },
   {
    "duration": 10,
    "start_time": "2022-08-24T07:12:08.605Z"
   },
   {
    "duration": 10,
    "start_time": "2022-08-24T07:12:08.668Z"
   },
   {
    "duration": 7,
    "start_time": "2022-08-24T07:12:08.680Z"
   },
   {
    "duration": 11,
    "start_time": "2022-08-24T07:12:08.689Z"
   },
   {
    "duration": 7,
    "start_time": "2022-08-24T07:12:08.702Z"
   },
   {
    "duration": 11,
    "start_time": "2022-08-24T07:12:08.711Z"
   },
   {
    "duration": 10,
    "start_time": "2022-08-24T07:12:08.767Z"
   },
   {
    "duration": 9,
    "start_time": "2022-08-24T07:12:08.779Z"
   },
   {
    "duration": 10,
    "start_time": "2022-08-24T07:12:08.790Z"
   },
   {
    "duration": 11,
    "start_time": "2022-08-24T07:12:08.802Z"
   },
   {
    "duration": 57,
    "start_time": "2022-08-24T07:12:08.815Z"
   },
   {
    "duration": 36,
    "start_time": "2022-08-24T07:12:08.875Z"
   },
   {
    "duration": 18,
    "start_time": "2022-08-24T07:12:08.913Z"
   },
   {
    "duration": 46,
    "start_time": "2022-08-24T07:12:08.933Z"
   },
   {
    "duration": 18,
    "start_time": "2022-08-24T07:12:08.980Z"
   },
   {
    "duration": 3,
    "start_time": "2022-08-24T07:12:09.002Z"
   },
   {
    "duration": 14,
    "start_time": "2022-08-24T07:12:09.007Z"
   },
   {
    "duration": 4,
    "start_time": "2022-08-24T07:12:09.023Z"
   },
   {
    "duration": 42,
    "start_time": "2022-08-24T07:12:09.028Z"
   },
   {
    "duration": 11,
    "start_time": "2022-08-24T07:12:09.072Z"
   },
   {
    "duration": 12,
    "start_time": "2022-08-24T07:12:09.085Z"
   },
   {
    "duration": 22,
    "start_time": "2022-08-24T07:12:09.099Z"
   },
   {
    "duration": 5,
    "start_time": "2022-08-24T07:12:09.123Z"
   },
   {
    "duration": 40,
    "start_time": "2022-08-24T07:12:09.130Z"
   },
   {
    "duration": 16,
    "start_time": "2022-08-24T07:12:09.172Z"
   },
   {
    "duration": 436,
    "start_time": "2022-08-24T07:12:09.190Z"
   },
   {
    "duration": 0,
    "start_time": "2022-08-24T07:12:09.628Z"
   },
   {
    "duration": 0,
    "start_time": "2022-08-24T07:12:09.630Z"
   },
   {
    "duration": 0,
    "start_time": "2022-08-24T07:12:09.631Z"
   },
   {
    "duration": 0,
    "start_time": "2022-08-24T07:12:09.632Z"
   },
   {
    "duration": 0,
    "start_time": "2022-08-24T07:12:09.633Z"
   },
   {
    "duration": 0,
    "start_time": "2022-08-24T07:12:09.635Z"
   },
   {
    "duration": 0,
    "start_time": "2022-08-24T07:12:09.636Z"
   },
   {
    "duration": 0,
    "start_time": "2022-08-24T07:12:09.637Z"
   },
   {
    "duration": 0,
    "start_time": "2022-08-24T07:12:09.639Z"
   },
   {
    "duration": 0,
    "start_time": "2022-08-24T07:12:09.640Z"
   },
   {
    "duration": 0,
    "start_time": "2022-08-24T07:12:09.640Z"
   },
   {
    "duration": 0,
    "start_time": "2022-08-24T07:12:09.641Z"
   },
   {
    "duration": 0,
    "start_time": "2022-08-24T07:12:09.643Z"
   },
   {
    "duration": 0,
    "start_time": "2022-08-24T07:12:09.643Z"
   },
   {
    "duration": 0,
    "start_time": "2022-08-24T07:12:09.645Z"
   },
   {
    "duration": 0,
    "start_time": "2022-08-24T07:12:09.646Z"
   },
   {
    "duration": 0,
    "start_time": "2022-08-24T07:12:09.647Z"
   },
   {
    "duration": 0,
    "start_time": "2022-08-24T07:12:09.649Z"
   },
   {
    "duration": 0,
    "start_time": "2022-08-24T07:12:09.650Z"
   },
   {
    "duration": 0,
    "start_time": "2022-08-24T07:12:09.651Z"
   },
   {
    "duration": 0,
    "start_time": "2022-08-24T07:12:09.652Z"
   },
   {
    "duration": 0,
    "start_time": "2022-08-24T07:12:09.653Z"
   },
   {
    "duration": 0,
    "start_time": "2022-08-24T07:12:09.653Z"
   },
   {
    "duration": 0,
    "start_time": "2022-08-24T07:12:09.655Z"
   },
   {
    "duration": 0,
    "start_time": "2022-08-24T07:12:09.656Z"
   },
   {
    "duration": 0,
    "start_time": "2022-08-24T07:12:09.657Z"
   },
   {
    "duration": 0,
    "start_time": "2022-08-24T07:12:09.658Z"
   },
   {
    "duration": 0,
    "start_time": "2022-08-24T07:12:09.659Z"
   },
   {
    "duration": 0,
    "start_time": "2022-08-24T07:12:09.660Z"
   },
   {
    "duration": 0,
    "start_time": "2022-08-24T07:12:09.661Z"
   },
   {
    "duration": 0,
    "start_time": "2022-08-24T07:12:09.662Z"
   },
   {
    "duration": 0,
    "start_time": "2022-08-24T07:12:09.663Z"
   },
   {
    "duration": 4,
    "start_time": "2022-08-24T07:12:29.431Z"
   },
   {
    "duration": 3,
    "start_time": "2022-08-24T07:12:32.788Z"
   },
   {
    "duration": 3,
    "start_time": "2022-08-24T07:12:36.336Z"
   },
   {
    "duration": 12,
    "start_time": "2022-08-24T07:12:40.672Z"
   },
   {
    "duration": 7,
    "start_time": "2022-08-24T07:12:41.990Z"
   },
   {
    "duration": 8,
    "start_time": "2022-08-24T07:12:53.833Z"
   },
   {
    "duration": 9,
    "start_time": "2022-08-24T07:12:57.127Z"
   },
   {
    "duration": 3,
    "start_time": "2022-08-24T07:13:00.727Z"
   },
   {
    "duration": 4,
    "start_time": "2022-08-24T07:13:03.885Z"
   },
   {
    "duration": 9,
    "start_time": "2022-08-24T07:13:09.804Z"
   },
   {
    "duration": 6,
    "start_time": "2022-08-24T07:13:11.942Z"
   },
   {
    "duration": 3,
    "start_time": "2022-08-24T07:14:40.918Z"
   },
   {
    "duration": 4,
    "start_time": "2022-08-24T07:14:50.172Z"
   },
   {
    "duration": 42,
    "start_time": "2022-08-24T07:15:38.007Z"
   },
   {
    "duration": 11,
    "start_time": "2022-08-24T07:15:49.090Z"
   },
   {
    "duration": 9,
    "start_time": "2022-08-24T07:15:59.429Z"
   },
   {
    "duration": 8,
    "start_time": "2022-08-24T07:16:00.342Z"
   },
   {
    "duration": 6,
    "start_time": "2022-08-24T07:16:13.845Z"
   },
   {
    "duration": 5,
    "start_time": "2022-08-24T07:16:21.614Z"
   },
   {
    "duration": 401,
    "start_time": "2022-08-24T07:52:35.151Z"
   },
   {
    "duration": 24,
    "start_time": "2022-08-24T07:52:45.124Z"
   },
   {
    "duration": 5,
    "start_time": "2022-08-24T07:52:55.329Z"
   },
   {
    "duration": 6,
    "start_time": "2022-08-24T07:52:58.145Z"
   },
   {
    "duration": 14,
    "start_time": "2022-08-24T07:53:01.486Z"
   },
   {
    "duration": 379,
    "start_time": "2022-08-24T07:53:06.044Z"
   },
   {
    "duration": 5,
    "start_time": "2022-08-24T07:53:47.509Z"
   },
   {
    "duration": 423,
    "start_time": "2022-08-24T07:55:07.899Z"
   },
   {
    "duration": 4,
    "start_time": "2022-08-24T07:55:23.925Z"
   },
   {
    "duration": 4,
    "start_time": "2022-08-24T07:55:27.151Z"
   },
   {
    "duration": 8,
    "start_time": "2022-08-24T07:55:31.222Z"
   },
   {
    "duration": 7,
    "start_time": "2022-08-24T07:55:33.462Z"
   },
   {
    "duration": 380,
    "start_time": "2022-08-24T07:55:39.602Z"
   },
   {
    "duration": 432,
    "start_time": "2022-08-24T07:57:46.719Z"
   },
   {
    "duration": 58,
    "start_time": "2022-08-24T07:58:33.942Z"
   },
   {
    "duration": 3,
    "start_time": "2022-08-24T07:58:38.542Z"
   },
   {
    "duration": 13,
    "start_time": "2022-08-24T07:58:41.362Z"
   },
   {
    "duration": 15,
    "start_time": "2022-08-24T07:58:45.652Z"
   },
   {
    "duration": 11,
    "start_time": "2022-08-24T07:58:49.731Z"
   },
   {
    "duration": 6,
    "start_time": "2022-08-24T07:58:53.624Z"
   },
   {
    "duration": 12,
    "start_time": "2022-08-24T07:58:59.498Z"
   },
   {
    "duration": 12,
    "start_time": "2022-08-24T07:59:06.100Z"
   },
   {
    "duration": 17,
    "start_time": "2022-08-24T07:59:24.779Z"
   },
   {
    "duration": 8,
    "start_time": "2022-08-24T07:59:30.163Z"
   },
   {
    "duration": 8,
    "start_time": "2022-08-24T07:59:32.985Z"
   },
   {
    "duration": 11,
    "start_time": "2022-08-24T07:59:36.553Z"
   },
   {
    "duration": 6,
    "start_time": "2022-08-24T07:59:40.003Z"
   },
   {
    "duration": 8,
    "start_time": "2022-08-24T07:59:43.892Z"
   },
   {
    "duration": 8,
    "start_time": "2022-08-24T07:59:48.053Z"
   },
   {
    "duration": 8,
    "start_time": "2022-08-24T07:59:51.798Z"
   },
   {
    "duration": 6,
    "start_time": "2022-08-24T07:59:55.624Z"
   },
   {
    "duration": 14,
    "start_time": "2022-08-24T08:00:13.745Z"
   },
   {
    "duration": 13,
    "start_time": "2022-08-24T08:00:20.268Z"
   },
   {
    "duration": 6,
    "start_time": "2022-08-24T08:00:38.704Z"
   },
   {
    "duration": 6,
    "start_time": "2022-08-24T08:00:50.481Z"
   },
   {
    "duration": 17,
    "start_time": "2022-08-24T08:01:16.093Z"
   },
   {
    "duration": 6,
    "start_time": "2022-08-24T08:01:23.150Z"
   },
   {
    "duration": 6,
    "start_time": "2022-08-24T08:01:48.530Z"
   },
   {
    "duration": 5,
    "start_time": "2022-08-24T08:01:54.246Z"
   },
   {
    "duration": 6,
    "start_time": "2022-08-24T08:01:56.253Z"
   },
   {
    "duration": 20,
    "start_time": "2022-08-24T08:01:58.359Z"
   },
   {
    "duration": 10,
    "start_time": "2022-08-24T08:02:05.865Z"
   },
   {
    "duration": 5,
    "start_time": "2022-08-24T08:02:11.346Z"
   },
   {
    "duration": 9,
    "start_time": "2022-08-24T08:02:25.093Z"
   },
   {
    "duration": 9,
    "start_time": "2022-08-24T08:08:21.677Z"
   },
   {
    "duration": 25,
    "start_time": "2022-08-24T08:08:34.303Z"
   },
   {
    "duration": 6,
    "start_time": "2022-08-24T08:08:50.901Z"
   },
   {
    "duration": 5,
    "start_time": "2022-08-24T08:08:56.553Z"
   },
   {
    "duration": 13,
    "start_time": "2022-08-24T08:09:35.988Z"
   },
   {
    "duration": 5,
    "start_time": "2022-08-24T08:09:40.030Z"
   },
   {
    "duration": 10,
    "start_time": "2022-08-24T08:09:46.168Z"
   },
   {
    "duration": 7,
    "start_time": "2022-08-24T08:09:51.505Z"
   },
   {
    "duration": 21,
    "start_time": "2022-08-24T08:09:55.963Z"
   },
   {
    "duration": 7,
    "start_time": "2022-08-24T08:10:04.573Z"
   },
   {
    "duration": 11,
    "start_time": "2022-08-24T08:10:07.282Z"
   },
   {
    "duration": 10,
    "start_time": "2022-08-24T08:10:18.660Z"
   },
   {
    "duration": 6,
    "start_time": "2022-08-24T08:10:30.287Z"
   },
   {
    "duration": 8,
    "start_time": "2022-08-24T08:10:32.903Z"
   },
   {
    "duration": 4,
    "start_time": "2022-08-24T08:10:38.209Z"
   },
   {
    "duration": 10,
    "start_time": "2022-08-24T08:10:40.668Z"
   },
   {
    "duration": 7,
    "start_time": "2022-08-24T08:10:45.744Z"
   },
   {
    "duration": 9,
    "start_time": "2022-08-24T08:10:48.586Z"
   },
   {
    "duration": 8,
    "start_time": "2022-08-24T08:10:51.286Z"
   },
   {
    "duration": 8,
    "start_time": "2022-08-24T08:10:57.244Z"
   },
   {
    "duration": 36,
    "start_time": "2022-08-24T08:11:02.242Z"
   },
   {
    "duration": 36,
    "start_time": "2022-08-24T08:11:06.862Z"
   },
   {
    "duration": 17,
    "start_time": "2022-08-24T08:11:15.790Z"
   },
   {
    "duration": 18,
    "start_time": "2022-08-24T08:11:17.834Z"
   },
   {
    "duration": 16,
    "start_time": "2022-08-24T08:11:27.636Z"
   },
   {
    "duration": 4,
    "start_time": "2022-08-24T08:30:21.265Z"
   },
   {
    "duration": 6,
    "start_time": "2022-08-24T08:30:23.900Z"
   },
   {
    "duration": 13,
    "start_time": "2022-08-24T08:30:26.687Z"
   },
   {
    "duration": 10,
    "start_time": "2022-08-24T08:30:28.915Z"
   },
   {
    "duration": 21,
    "start_time": "2022-08-24T08:32:58.400Z"
   },
   {
    "duration": 5,
    "start_time": "2022-08-24T08:37:43.214Z"
   },
   {
    "duration": 27,
    "start_time": "2022-08-24T08:37:58.158Z"
   },
   {
    "duration": 5,
    "start_time": "2022-08-24T08:46:21.483Z"
   },
   {
    "duration": 3,
    "start_time": "2022-08-24T08:46:42.387Z"
   },
   {
    "duration": 26,
    "start_time": "2022-08-24T08:47:15.025Z"
   },
   {
    "duration": 79,
    "start_time": "2022-08-24T08:48:07.863Z"
   },
   {
    "duration": 12,
    "start_time": "2022-08-24T08:48:16.047Z"
   },
   {
    "duration": 9,
    "start_time": "2022-08-24T08:49:03.883Z"
   },
   {
    "duration": 20,
    "start_time": "2022-08-24T08:49:19.787Z"
   },
   {
    "duration": 11,
    "start_time": "2022-08-24T08:54:49.404Z"
   },
   {
    "duration": 3,
    "start_time": "2022-08-24T08:55:48.286Z"
   },
   {
    "duration": 4,
    "start_time": "2022-08-24T08:55:51.041Z"
   },
   {
    "duration": 10,
    "start_time": "2022-08-24T08:55:56.088Z"
   },
   {
    "duration": 7,
    "start_time": "2022-08-24T08:55:58.818Z"
   },
   {
    "duration": 63,
    "start_time": "2022-08-24T08:56:31.898Z"
   },
   {
    "duration": 4,
    "start_time": "2022-08-24T08:56:37.425Z"
   },
   {
    "duration": 5,
    "start_time": "2022-08-24T09:05:49.439Z"
   },
   {
    "duration": 13,
    "start_time": "2022-08-24T09:05:50.939Z"
   },
   {
    "duration": 28,
    "start_time": "2022-08-24T09:05:51.575Z"
   },
   {
    "duration": 10,
    "start_time": "2022-08-24T09:07:00.560Z"
   },
   {
    "duration": 3,
    "start_time": "2022-08-24T09:07:26.455Z"
   },
   {
    "duration": 4,
    "start_time": "2022-08-24T09:07:28.840Z"
   },
   {
    "duration": 13,
    "start_time": "2022-08-24T09:07:30.580Z"
   },
   {
    "duration": 9,
    "start_time": "2022-08-24T09:07:31.512Z"
   },
   {
    "duration": 15,
    "start_time": "2022-08-24T09:08:28.101Z"
   },
   {
    "duration": 31,
    "start_time": "2022-08-24T09:09:10.168Z"
   },
   {
    "duration": 4,
    "start_time": "2022-08-24T09:09:34.289Z"
   },
   {
    "duration": 17,
    "start_time": "2022-08-24T09:09:40.046Z"
   },
   {
    "duration": 66,
    "start_time": "2022-08-24T09:10:10.658Z"
   },
   {
    "duration": 5,
    "start_time": "2022-08-24T09:10:13.222Z"
   },
   {
    "duration": 41,
    "start_time": "2022-08-24T09:24:31.300Z"
   },
   {
    "duration": 65,
    "start_time": "2022-08-24T09:26:36.771Z"
   },
   {
    "duration": 46,
    "start_time": "2022-08-24T09:33:54.974Z"
   },
   {
    "duration": 18,
    "start_time": "2022-08-24T09:36:03.467Z"
   },
   {
    "duration": 96,
    "start_time": "2022-08-24T09:36:59.295Z"
   },
   {
    "duration": 76,
    "start_time": "2022-08-24T09:37:11.107Z"
   },
   {
    "duration": 19,
    "start_time": "2022-08-24T09:39:56.669Z"
   },
   {
    "duration": 20,
    "start_time": "2022-08-24T09:40:38.079Z"
   },
   {
    "duration": 77,
    "start_time": "2022-08-24T09:41:53.698Z"
   },
   {
    "duration": 20,
    "start_time": "2022-08-24T09:42:25.613Z"
   },
   {
    "duration": 19,
    "start_time": "2022-08-24T09:43:14.617Z"
   },
   {
    "duration": 19,
    "start_time": "2022-08-24T09:44:35.368Z"
   },
   {
    "duration": 15,
    "start_time": "2022-08-24T09:45:25.530Z"
   },
   {
    "duration": 10,
    "start_time": "2022-08-24T09:50:01.358Z"
   },
   {
    "duration": 17,
    "start_time": "2022-08-24T09:52:21.786Z"
   },
   {
    "duration": 45,
    "start_time": "2022-08-24T09:53:19.192Z"
   },
   {
    "duration": 16,
    "start_time": "2022-08-24T09:53:38.068Z"
   },
   {
    "duration": 13,
    "start_time": "2022-08-24T09:54:32.804Z"
   },
   {
    "duration": 11,
    "start_time": "2022-08-24T09:56:25.933Z"
   },
   {
    "duration": 9,
    "start_time": "2022-08-24T09:56:27.033Z"
   },
   {
    "duration": 90,
    "start_time": "2022-08-24T09:56:57.493Z"
   },
   {
    "duration": 19,
    "start_time": "2022-08-24T10:00:19.051Z"
   },
   {
    "duration": 14,
    "start_time": "2022-08-24T10:00:21.967Z"
   },
   {
    "duration": 22,
    "start_time": "2022-08-24T10:01:05.723Z"
   },
   {
    "duration": 63,
    "start_time": "2022-08-24T10:01:28.225Z"
   },
   {
    "duration": 5,
    "start_time": "2022-08-24T10:05:27.438Z"
   },
   {
    "duration": 8,
    "start_time": "2022-08-24T10:07:19.496Z"
   },
   {
    "duration": 7,
    "start_time": "2022-08-24T10:07:39.801Z"
   },
   {
    "duration": 6,
    "start_time": "2022-08-24T10:07:47.831Z"
   },
   {
    "duration": 24,
    "start_time": "2022-08-24T10:14:28.038Z"
   },
   {
    "duration": 9,
    "start_time": "2022-08-24T10:15:22.155Z"
   },
   {
    "duration": 14,
    "start_time": "2022-08-24T10:15:41.429Z"
   },
   {
    "duration": 622,
    "start_time": "2022-08-28T11:31:04.691Z"
   },
   {
    "duration": 4,
    "start_time": "2022-08-28T11:31:05.315Z"
   },
   {
    "duration": 13,
    "start_time": "2022-08-28T11:31:05.320Z"
   },
   {
    "duration": 21,
    "start_time": "2022-08-28T11:31:05.335Z"
   },
   {
    "duration": 15,
    "start_time": "2022-08-28T11:31:05.357Z"
   },
   {
    "duration": 37,
    "start_time": "2022-08-28T11:31:05.374Z"
   },
   {
    "duration": 12,
    "start_time": "2022-08-28T11:31:05.412Z"
   },
   {
    "duration": 19,
    "start_time": "2022-08-28T11:31:05.425Z"
   },
   {
    "duration": 13,
    "start_time": "2022-08-28T11:31:05.445Z"
   },
   {
    "duration": 11,
    "start_time": "2022-08-28T11:31:05.461Z"
   },
   {
    "duration": 12,
    "start_time": "2022-08-28T11:31:05.474Z"
   },
   {
    "duration": 25,
    "start_time": "2022-08-28T11:31:05.488Z"
   },
   {
    "duration": 12,
    "start_time": "2022-08-28T11:31:05.515Z"
   },
   {
    "duration": 14,
    "start_time": "2022-08-28T11:31:05.528Z"
   },
   {
    "duration": 10,
    "start_time": "2022-08-28T11:31:05.543Z"
   },
   {
    "duration": 2,
    "start_time": "2022-08-28T11:31:05.554Z"
   },
   {
    "duration": 6,
    "start_time": "2022-08-28T11:31:05.557Z"
   },
   {
    "duration": 9,
    "start_time": "2022-08-28T11:31:05.564Z"
   },
   {
    "duration": 12,
    "start_time": "2022-08-28T11:31:05.574Z"
   },
   {
    "duration": 24,
    "start_time": "2022-08-28T11:31:05.588Z"
   },
   {
    "duration": 6,
    "start_time": "2022-08-28T11:31:05.613Z"
   },
   {
    "duration": 5,
    "start_time": "2022-08-28T11:31:05.620Z"
   },
   {
    "duration": 10,
    "start_time": "2022-08-28T11:31:05.626Z"
   },
   {
    "duration": 17,
    "start_time": "2022-08-28T11:31:05.638Z"
   },
   {
    "duration": 8,
    "start_time": "2022-08-28T11:31:05.656Z"
   },
   {
    "duration": 6,
    "start_time": "2022-08-28T11:31:05.665Z"
   },
   {
    "duration": 40,
    "start_time": "2022-08-28T11:31:05.672Z"
   },
   {
    "duration": 7,
    "start_time": "2022-08-28T11:31:05.716Z"
   },
   {
    "duration": 23,
    "start_time": "2022-08-28T11:31:05.725Z"
   },
   {
    "duration": 4,
    "start_time": "2022-08-28T11:31:05.750Z"
   },
   {
    "duration": 8,
    "start_time": "2022-08-28T11:31:05.756Z"
   },
   {
    "duration": 10,
    "start_time": "2022-08-28T11:31:05.765Z"
   },
   {
    "duration": 34,
    "start_time": "2022-08-28T11:31:05.777Z"
   },
   {
    "duration": 5,
    "start_time": "2022-08-28T11:31:05.812Z"
   },
   {
    "duration": 15,
    "start_time": "2022-08-28T11:31:05.818Z"
   },
   {
    "duration": 10,
    "start_time": "2022-08-28T11:31:05.835Z"
   },
   {
    "duration": 13,
    "start_time": "2022-08-28T11:31:05.846Z"
   },
   {
    "duration": 8,
    "start_time": "2022-08-28T11:31:05.861Z"
   },
   {
    "duration": 13,
    "start_time": "2022-08-28T11:31:05.871Z"
   },
   {
    "duration": 14,
    "start_time": "2022-08-28T11:31:05.885Z"
   },
   {
    "duration": 4,
    "start_time": "2022-08-28T11:31:05.911Z"
   },
   {
    "duration": 7,
    "start_time": "2022-08-28T11:31:05.916Z"
   },
   {
    "duration": 8,
    "start_time": "2022-08-28T11:31:05.924Z"
   },
   {
    "duration": 19,
    "start_time": "2022-08-28T11:31:05.933Z"
   },
   {
    "duration": 16,
    "start_time": "2022-08-28T11:31:05.954Z"
   },
   {
    "duration": 6,
    "start_time": "2022-08-28T11:31:05.972Z"
   },
   {
    "duration": 9,
    "start_time": "2022-08-28T11:31:05.979Z"
   },
   {
    "duration": 13,
    "start_time": "2022-08-28T11:31:05.990Z"
   },
   {
    "duration": 16,
    "start_time": "2022-08-28T11:31:06.010Z"
   },
   {
    "duration": 26,
    "start_time": "2022-08-28T11:31:06.028Z"
   },
   {
    "duration": 15,
    "start_time": "2022-08-28T11:31:06.055Z"
   },
   {
    "duration": 16,
    "start_time": "2022-08-28T11:31:06.072Z"
   },
   {
    "duration": 16,
    "start_time": "2022-08-28T11:31:06.112Z"
   },
   {
    "duration": 2,
    "start_time": "2022-08-28T11:31:06.130Z"
   },
   {
    "duration": 17,
    "start_time": "2022-08-28T11:31:06.135Z"
   },
   {
    "duration": 5,
    "start_time": "2022-08-28T11:31:06.154Z"
   },
   {
    "duration": 7,
    "start_time": "2022-08-28T11:31:06.160Z"
   },
   {
    "duration": 10,
    "start_time": "2022-08-28T11:31:06.169Z"
   },
   {
    "duration": 31,
    "start_time": "2022-08-28T11:31:06.180Z"
   },
   {
    "duration": 17,
    "start_time": "2022-08-28T11:31:06.212Z"
   },
   {
    "duration": 13,
    "start_time": "2022-08-28T11:31:06.231Z"
   },
   {
    "duration": 12,
    "start_time": "2022-08-28T11:31:06.246Z"
   },
   {
    "duration": 8,
    "start_time": "2022-08-28T11:31:06.259Z"
   },
   {
    "duration": 22,
    "start_time": "2022-08-28T11:31:06.268Z"
   },
   {
    "duration": 30,
    "start_time": "2022-08-28T11:31:06.291Z"
   },
   {
    "duration": 4,
    "start_time": "2022-08-28T11:31:06.322Z"
   },
   {
    "duration": 7,
    "start_time": "2022-08-28T11:31:06.327Z"
   },
   {
    "duration": 17,
    "start_time": "2022-08-28T11:31:06.335Z"
   },
   {
    "duration": 28,
    "start_time": "2022-08-28T11:31:06.353Z"
   },
   {
    "duration": 29,
    "start_time": "2022-08-28T11:31:06.382Z"
   },
   {
    "duration": 4,
    "start_time": "2022-08-28T11:31:06.412Z"
   },
   {
    "duration": 7,
    "start_time": "2022-08-28T11:31:06.417Z"
   },
   {
    "duration": 3,
    "start_time": "2022-08-28T11:31:06.426Z"
   },
   {
    "duration": 8,
    "start_time": "2022-08-28T11:31:06.431Z"
   },
   {
    "duration": 4,
    "start_time": "2022-08-28T11:31:06.441Z"
   },
   {
    "duration": 4,
    "start_time": "2022-08-28T11:31:06.447Z"
   },
   {
    "duration": 4,
    "start_time": "2022-08-28T11:31:06.453Z"
   },
   {
    "duration": 4,
    "start_time": "2022-08-28T11:31:06.459Z"
   },
   {
    "duration": 4,
    "start_time": "2022-08-28T11:31:06.464Z"
   },
   {
    "duration": 5,
    "start_time": "2022-08-28T11:31:06.470Z"
   },
   {
    "duration": 5,
    "start_time": "2022-08-28T11:31:06.477Z"
   },
   {
    "duration": 31,
    "start_time": "2022-08-28T11:31:06.487Z"
   },
   {
    "duration": 5,
    "start_time": "2022-08-28T11:31:06.519Z"
   },
   {
    "duration": 8,
    "start_time": "2022-08-28T11:31:06.526Z"
   },
   {
    "duration": 4,
    "start_time": "2022-08-28T11:31:06.536Z"
   },
   {
    "duration": 5,
    "start_time": "2022-08-28T11:31:06.541Z"
   },
   {
    "duration": 9,
    "start_time": "2022-08-28T11:31:06.547Z"
   },
   {
    "duration": 12,
    "start_time": "2022-08-28T11:31:06.558Z"
   },
   {
    "duration": 8,
    "start_time": "2022-08-28T11:31:06.572Z"
   },
   {
    "duration": 12,
    "start_time": "2022-08-28T11:31:06.610Z"
   },
   {
    "duration": 33,
    "start_time": "2022-08-28T11:31:06.623Z"
   },
   {
    "duration": 7,
    "start_time": "2022-08-28T11:31:06.657Z"
   },
   {
    "duration": 3,
    "start_time": "2022-08-28T11:31:06.666Z"
   },
   {
    "duration": 9,
    "start_time": "2022-08-28T11:31:06.670Z"
   },
   {
    "duration": 9,
    "start_time": "2022-08-28T11:31:06.680Z"
   },
   {
    "duration": 6,
    "start_time": "2022-08-28T11:31:06.711Z"
   },
   {
    "duration": 13,
    "start_time": "2022-08-28T11:31:06.718Z"
   },
   {
    "duration": 47,
    "start_time": "2022-08-28T11:31:06.733Z"
   },
   {
    "duration": 55,
    "start_time": "2022-08-28T11:31:06.781Z"
   },
   {
    "duration": 48,
    "start_time": "2022-08-28T11:31:06.837Z"
   },
   {
    "duration": 0,
    "start_time": "2022-08-28T11:31:06.886Z"
   },
   {
    "duration": 0,
    "start_time": "2022-08-28T11:31:06.888Z"
   },
   {
    "duration": 0,
    "start_time": "2022-08-28T11:31:06.889Z"
   },
   {
    "duration": 4,
    "start_time": "2022-08-28T11:36:53.206Z"
   },
   {
    "duration": 6,
    "start_time": "2022-08-28T12:16:04.647Z"
   },
   {
    "duration": 6,
    "start_time": "2022-08-28T12:16:22.161Z"
   },
   {
    "duration": 79,
    "start_time": "2022-08-28T12:19:23.972Z"
   },
   {
    "duration": 6,
    "start_time": "2022-08-28T12:21:18.760Z"
   },
   {
    "duration": 556,
    "start_time": "2022-08-28T12:21:25.915Z"
   },
   {
    "duration": 4,
    "start_time": "2022-08-28T12:21:26.473Z"
   },
   {
    "duration": 12,
    "start_time": "2022-08-28T12:21:26.478Z"
   },
   {
    "duration": 13,
    "start_time": "2022-08-28T12:21:26.492Z"
   },
   {
    "duration": 16,
    "start_time": "2022-08-28T12:21:26.507Z"
   },
   {
    "duration": 5,
    "start_time": "2022-08-28T12:21:26.525Z"
   },
   {
    "duration": 10,
    "start_time": "2022-08-28T12:21:26.531Z"
   },
   {
    "duration": 10,
    "start_time": "2022-08-28T12:21:26.543Z"
   },
   {
    "duration": 6,
    "start_time": "2022-08-28T12:21:26.555Z"
   },
   {
    "duration": 10,
    "start_time": "2022-08-28T12:21:26.562Z"
   },
   {
    "duration": 40,
    "start_time": "2022-08-28T12:21:26.573Z"
   },
   {
    "duration": 11,
    "start_time": "2022-08-28T12:21:26.615Z"
   },
   {
    "duration": 7,
    "start_time": "2022-08-28T12:21:26.628Z"
   },
   {
    "duration": 13,
    "start_time": "2022-08-28T12:21:26.637Z"
   },
   {
    "duration": 11,
    "start_time": "2022-08-28T12:21:26.652Z"
   },
   {
    "duration": 2,
    "start_time": "2022-08-28T12:21:26.664Z"
   },
   {
    "duration": 7,
    "start_time": "2022-08-28T12:21:26.668Z"
   },
   {
    "duration": 41,
    "start_time": "2022-08-28T12:21:26.676Z"
   },
   {
    "duration": 13,
    "start_time": "2022-08-28T12:21:26.719Z"
   },
   {
    "duration": 6,
    "start_time": "2022-08-28T12:21:26.734Z"
   },
   {
    "duration": 12,
    "start_time": "2022-08-28T12:21:26.742Z"
   },
   {
    "duration": 13,
    "start_time": "2022-08-28T12:21:26.756Z"
   },
   {
    "duration": 31,
    "start_time": "2022-08-28T12:21:26.770Z"
   },
   {
    "duration": 11,
    "start_time": "2022-08-28T12:21:26.811Z"
   },
   {
    "duration": 4,
    "start_time": "2022-08-28T12:21:26.824Z"
   },
   {
    "duration": 17,
    "start_time": "2022-08-28T12:21:26.830Z"
   },
   {
    "duration": 12,
    "start_time": "2022-08-28T12:21:26.848Z"
   },
   {
    "duration": 50,
    "start_time": "2022-08-28T12:21:26.862Z"
   },
   {
    "duration": 5,
    "start_time": "2022-08-28T12:21:26.913Z"
   },
   {
    "duration": 10,
    "start_time": "2022-08-28T12:21:26.919Z"
   },
   {
    "duration": 9,
    "start_time": "2022-08-28T12:21:26.930Z"
   },
   {
    "duration": 12,
    "start_time": "2022-08-28T12:21:26.941Z"
   },
   {
    "duration": 7,
    "start_time": "2022-08-28T12:21:26.954Z"
   },
   {
    "duration": 11,
    "start_time": "2022-08-28T12:21:26.963Z"
   },
   {
    "duration": 37,
    "start_time": "2022-08-28T12:21:26.975Z"
   },
   {
    "duration": 15,
    "start_time": "2022-08-28T12:21:27.014Z"
   },
   {
    "duration": 7,
    "start_time": "2022-08-28T12:21:27.031Z"
   },
   {
    "duration": 7,
    "start_time": "2022-08-28T12:21:27.040Z"
   },
   {
    "duration": 9,
    "start_time": "2022-08-28T12:21:27.049Z"
   },
   {
    "duration": 9,
    "start_time": "2022-08-28T12:21:27.059Z"
   },
   {
    "duration": 39,
    "start_time": "2022-08-28T12:21:27.074Z"
   },
   {
    "duration": 6,
    "start_time": "2022-08-28T12:21:27.115Z"
   },
   {
    "duration": 8,
    "start_time": "2022-08-28T12:21:27.123Z"
   },
   {
    "duration": 10,
    "start_time": "2022-08-28T12:21:27.133Z"
   },
   {
    "duration": 7,
    "start_time": "2022-08-28T12:21:27.144Z"
   },
   {
    "duration": 6,
    "start_time": "2022-08-28T12:21:27.153Z"
   },
   {
    "duration": 6,
    "start_time": "2022-08-28T12:21:27.160Z"
   },
   {
    "duration": 46,
    "start_time": "2022-08-28T12:21:27.168Z"
   },
   {
    "duration": 26,
    "start_time": "2022-08-28T12:21:27.215Z"
   },
   {
    "duration": 14,
    "start_time": "2022-08-28T12:21:27.242Z"
   },
   {
    "duration": 14,
    "start_time": "2022-08-28T12:21:27.258Z"
   },
   {
    "duration": 44,
    "start_time": "2022-08-28T12:21:27.273Z"
   },
   {
    "duration": 2,
    "start_time": "2022-08-28T12:21:27.319Z"
   },
   {
    "duration": 9,
    "start_time": "2022-08-28T12:21:27.322Z"
   },
   {
    "duration": 4,
    "start_time": "2022-08-28T12:21:27.332Z"
   },
   {
    "duration": 6,
    "start_time": "2022-08-28T12:21:27.337Z"
   },
   {
    "duration": 8,
    "start_time": "2022-08-28T12:21:27.344Z"
   },
   {
    "duration": 8,
    "start_time": "2022-08-28T12:21:27.353Z"
   },
   {
    "duration": 50,
    "start_time": "2022-08-28T12:21:27.363Z"
   },
   {
    "duration": 24,
    "start_time": "2022-08-28T12:21:27.414Z"
   },
   {
    "duration": 6,
    "start_time": "2022-08-28T12:21:27.440Z"
   },
   {
    "duration": 19,
    "start_time": "2022-08-28T12:21:27.447Z"
   },
   {
    "duration": 11,
    "start_time": "2022-08-28T12:21:27.468Z"
   },
   {
    "duration": 35,
    "start_time": "2022-08-28T12:21:27.481Z"
   },
   {
    "duration": 5,
    "start_time": "2022-08-28T12:21:27.517Z"
   },
   {
    "duration": 49,
    "start_time": "2022-08-28T12:21:38.578Z"
   },
   {
    "duration": 3,
    "start_time": "2022-08-28T12:21:42.325Z"
   },
   {
    "duration": 6,
    "start_time": "2022-08-28T12:22:01.356Z"
   },
   {
    "duration": 6,
    "start_time": "2022-08-28T12:23:17.564Z"
   },
   {
    "duration": 8,
    "start_time": "2022-08-28T12:23:42.044Z"
   },
   {
    "duration": 5,
    "start_time": "2022-08-28T12:30:01.145Z"
   },
   {
    "duration": 3,
    "start_time": "2022-08-28T12:30:03.592Z"
   },
   {
    "duration": 6,
    "start_time": "2022-08-28T12:30:05.839Z"
   },
   {
    "duration": 8,
    "start_time": "2022-08-28T12:31:07.420Z"
   },
   {
    "duration": 7,
    "start_time": "2022-08-28T12:31:21.908Z"
   },
   {
    "duration": 520,
    "start_time": "2022-08-28T12:31:33.471Z"
   },
   {
    "duration": 4,
    "start_time": "2022-08-28T12:31:33.993Z"
   },
   {
    "duration": 12,
    "start_time": "2022-08-28T12:31:33.999Z"
   },
   {
    "duration": 14,
    "start_time": "2022-08-28T12:31:34.013Z"
   },
   {
    "duration": 13,
    "start_time": "2022-08-28T12:31:34.029Z"
   },
   {
    "duration": 4,
    "start_time": "2022-08-28T12:31:34.044Z"
   },
   {
    "duration": 14,
    "start_time": "2022-08-28T12:31:34.049Z"
   },
   {
    "duration": 11,
    "start_time": "2022-08-28T12:31:34.064Z"
   },
   {
    "duration": 39,
    "start_time": "2022-08-28T12:31:34.076Z"
   },
   {
    "duration": 6,
    "start_time": "2022-08-28T12:31:34.118Z"
   },
   {
    "duration": 4,
    "start_time": "2022-08-28T12:31:34.126Z"
   },
   {
    "duration": 10,
    "start_time": "2022-08-28T12:31:34.131Z"
   },
   {
    "duration": 6,
    "start_time": "2022-08-28T12:31:34.142Z"
   },
   {
    "duration": 11,
    "start_time": "2022-08-28T12:31:34.150Z"
   },
   {
    "duration": 49,
    "start_time": "2022-08-28T12:31:34.163Z"
   },
   {
    "duration": 2,
    "start_time": "2022-08-28T12:31:34.214Z"
   },
   {
    "duration": 7,
    "start_time": "2022-08-28T12:31:34.217Z"
   },
   {
    "duration": 10,
    "start_time": "2022-08-28T12:31:34.225Z"
   },
   {
    "duration": 7,
    "start_time": "2022-08-28T12:31:34.236Z"
   },
   {
    "duration": 9,
    "start_time": "2022-08-28T12:31:34.245Z"
   },
   {
    "duration": 4,
    "start_time": "2022-08-28T12:31:34.255Z"
   },
   {
    "duration": 7,
    "start_time": "2022-08-28T12:31:34.261Z"
   },
   {
    "duration": 44,
    "start_time": "2022-08-28T12:31:34.269Z"
   },
   {
    "duration": 8,
    "start_time": "2022-08-28T12:31:34.315Z"
   },
   {
    "duration": 4,
    "start_time": "2022-08-28T12:31:34.325Z"
   },
   {
    "duration": 10,
    "start_time": "2022-08-28T12:31:34.330Z"
   },
   {
    "duration": 9,
    "start_time": "2022-08-28T12:31:34.341Z"
   },
   {
    "duration": 22,
    "start_time": "2022-08-28T12:31:34.354Z"
   },
   {
    "duration": 34,
    "start_time": "2022-08-28T12:31:34.377Z"
   },
   {
    "duration": 4,
    "start_time": "2022-08-28T12:31:34.412Z"
   },
   {
    "duration": 9,
    "start_time": "2022-08-28T12:31:34.418Z"
   },
   {
    "duration": 8,
    "start_time": "2022-08-28T12:31:34.428Z"
   },
   {
    "duration": 16,
    "start_time": "2022-08-28T12:31:34.438Z"
   },
   {
    "duration": 9,
    "start_time": "2022-08-28T12:31:34.455Z"
   },
   {
    "duration": 6,
    "start_time": "2022-08-28T12:31:34.465Z"
   },
   {
    "duration": 40,
    "start_time": "2022-08-28T12:31:34.473Z"
   },
   {
    "duration": 13,
    "start_time": "2022-08-28T12:31:34.514Z"
   },
   {
    "duration": 9,
    "start_time": "2022-08-28T12:31:34.529Z"
   },
   {
    "duration": 26,
    "start_time": "2022-08-28T12:31:34.540Z"
   },
   {
    "duration": 6,
    "start_time": "2022-08-28T12:31:34.568Z"
   },
   {
    "duration": 8,
    "start_time": "2022-08-28T12:31:34.575Z"
   },
   {
    "duration": 6,
    "start_time": "2022-08-28T12:31:34.585Z"
   },
   {
    "duration": 9,
    "start_time": "2022-08-28T12:31:34.593Z"
   },
   {
    "duration": 9,
    "start_time": "2022-08-28T12:31:34.604Z"
   },
   {
    "duration": 9,
    "start_time": "2022-08-28T12:31:34.614Z"
   },
   {
    "duration": 6,
    "start_time": "2022-08-28T12:31:34.624Z"
   },
   {
    "duration": 10,
    "start_time": "2022-08-28T12:31:34.632Z"
   },
   {
    "duration": 17,
    "start_time": "2022-08-28T12:31:34.644Z"
   },
   {
    "duration": 52,
    "start_time": "2022-08-28T12:31:34.662Z"
   },
   {
    "duration": 16,
    "start_time": "2022-08-28T12:31:34.716Z"
   },
   {
    "duration": 15,
    "start_time": "2022-08-28T12:31:34.734Z"
   },
   {
    "duration": 12,
    "start_time": "2022-08-28T12:31:34.750Z"
   },
   {
    "duration": 3,
    "start_time": "2022-08-28T12:31:34.764Z"
   },
   {
    "duration": 9,
    "start_time": "2022-08-28T12:31:34.768Z"
   },
   {
    "duration": 33,
    "start_time": "2022-08-28T12:31:34.779Z"
   },
   {
    "duration": 10,
    "start_time": "2022-08-28T12:31:34.813Z"
   },
   {
    "duration": 9,
    "start_time": "2022-08-28T12:31:34.824Z"
   },
   {
    "duration": 5,
    "start_time": "2022-08-28T12:31:34.835Z"
   },
   {
    "duration": 20,
    "start_time": "2022-08-28T12:31:34.842Z"
   },
   {
    "duration": 13,
    "start_time": "2022-08-28T12:31:34.863Z"
   },
   {
    "duration": 4,
    "start_time": "2022-08-28T12:31:34.878Z"
   },
   {
    "duration": 31,
    "start_time": "2022-08-28T12:31:34.884Z"
   },
   {
    "duration": 10,
    "start_time": "2022-08-28T12:31:34.917Z"
   },
   {
    "duration": 22,
    "start_time": "2022-08-28T12:31:34.928Z"
   },
   {
    "duration": 3,
    "start_time": "2022-08-28T12:31:34.951Z"
   },
   {
    "duration": 49,
    "start_time": "2022-08-28T12:31:47.689Z"
   },
   {
    "duration": 539,
    "start_time": "2022-08-28T12:32:00.212Z"
   },
   {
    "duration": 4,
    "start_time": "2022-08-28T12:32:04.387Z"
   },
   {
    "duration": 9,
    "start_time": "2022-08-28T12:32:07.315Z"
   },
   {
    "duration": 13,
    "start_time": "2022-08-28T12:32:10.977Z"
   },
   {
    "duration": 13,
    "start_time": "2022-08-28T12:32:14.367Z"
   },
   {
    "duration": 5,
    "start_time": "2022-08-28T12:32:21.308Z"
   },
   {
    "duration": 11,
    "start_time": "2022-08-28T12:32:27.307Z"
   },
   {
    "duration": 11,
    "start_time": "2022-08-28T12:32:28.972Z"
   },
   {
    "duration": 6,
    "start_time": "2022-08-28T12:32:34.734Z"
   },
   {
    "duration": 6,
    "start_time": "2022-08-28T12:32:38.742Z"
   },
   {
    "duration": 5,
    "start_time": "2022-08-28T12:32:43.652Z"
   },
   {
    "duration": 7,
    "start_time": "2022-08-28T12:32:46.788Z"
   },
   {
    "duration": 8,
    "start_time": "2022-08-28T12:32:50.967Z"
   },
   {
    "duration": 11,
    "start_time": "2022-08-28T12:32:55.629Z"
   },
   {
    "duration": 14,
    "start_time": "2022-08-28T12:32:58.904Z"
   },
   {
    "duration": 3,
    "start_time": "2022-08-28T12:33:06.508Z"
   },
   {
    "duration": 5,
    "start_time": "2022-08-28T12:33:16.777Z"
   },
   {
    "duration": 15,
    "start_time": "2022-08-28T12:33:17.679Z"
   },
   {
    "duration": 7,
    "start_time": "2022-08-28T12:33:18.696Z"
   },
   {
    "duration": 7,
    "start_time": "2022-08-28T12:33:22.558Z"
   },
   {
    "duration": 4,
    "start_time": "2022-08-28T12:33:29.200Z"
   },
   {
    "duration": 7,
    "start_time": "2022-08-28T12:33:29.755Z"
   },
   {
    "duration": 23,
    "start_time": "2022-08-28T12:33:30.627Z"
   },
   {
    "duration": 8,
    "start_time": "2022-08-28T12:33:34.904Z"
   },
   {
    "duration": 6,
    "start_time": "2022-08-28T12:33:38.565Z"
   },
   {
    "duration": 7,
    "start_time": "2022-08-28T12:33:40.682Z"
   },
   {
    "duration": 9,
    "start_time": "2022-08-28T12:33:45.638Z"
   },
   {
    "duration": 34,
    "start_time": "2022-08-28T12:33:47.944Z"
   },
   {
    "duration": 4,
    "start_time": "2022-08-28T12:33:56.252Z"
   },
   {
    "duration": 3,
    "start_time": "2022-08-28T12:33:58.263Z"
   },
   {
    "duration": 8,
    "start_time": "2022-08-28T12:34:04.994Z"
   },
   {
    "duration": 12,
    "start_time": "2022-08-28T12:34:10.482Z"
   },
   {
    "duration": 7,
    "start_time": "2022-08-28T12:34:11.434Z"
   },
   {
    "duration": 8,
    "start_time": "2022-08-28T12:34:13.399Z"
   },
   {
    "duration": 5,
    "start_time": "2022-08-28T12:34:17.208Z"
   },
   {
    "duration": 13,
    "start_time": "2022-08-28T12:34:19.615Z"
   },
   {
    "duration": 6,
    "start_time": "2022-08-28T12:34:23.738Z"
   },
   {
    "duration": 9,
    "start_time": "2022-08-28T12:34:24.331Z"
   },
   {
    "duration": 12,
    "start_time": "2022-08-28T12:34:27.225Z"
   },
   {
    "duration": 6,
    "start_time": "2022-08-28T12:34:30.329Z"
   },
   {
    "duration": 9,
    "start_time": "2022-08-28T12:34:35.490Z"
   },
   {
    "duration": 5,
    "start_time": "2022-08-28T12:34:39.692Z"
   },
   {
    "duration": 7,
    "start_time": "2022-08-28T12:34:40.549Z"
   },
   {
    "duration": 6,
    "start_time": "2022-08-28T12:34:44.280Z"
   },
   {
    "duration": 7,
    "start_time": "2022-08-28T12:34:44.757Z"
   },
   {
    "duration": 8,
    "start_time": "2022-08-28T12:34:45.201Z"
   },
   {
    "duration": 9,
    "start_time": "2022-08-28T12:34:45.783Z"
   },
   {
    "duration": 18,
    "start_time": "2022-08-28T12:34:49.328Z"
   },
   {
    "duration": 27,
    "start_time": "2022-08-28T12:34:52.365Z"
   },
   {
    "duration": 22,
    "start_time": "2022-08-28T12:34:56.891Z"
   },
   {
    "duration": 24,
    "start_time": "2022-08-28T12:34:57.449Z"
   },
   {
    "duration": 20,
    "start_time": "2022-08-28T12:35:00.894Z"
   },
   {
    "duration": 3,
    "start_time": "2022-08-28T12:35:05.659Z"
   },
   {
    "duration": 8,
    "start_time": "2022-08-28T12:35:11.654Z"
   },
   {
    "duration": 5,
    "start_time": "2022-08-28T12:35:15.448Z"
   },
   {
    "duration": 4,
    "start_time": "2022-08-28T12:35:15.967Z"
   },
   {
    "duration": 13,
    "start_time": "2022-08-28T12:35:19.122Z"
   },
   {
    "duration": 9,
    "start_time": "2022-08-28T12:35:19.620Z"
   },
   {
    "duration": 25,
    "start_time": "2022-08-28T12:35:27.984Z"
   },
   {
    "duration": 20,
    "start_time": "2022-08-28T12:35:31.369Z"
   },
   {
    "duration": 4,
    "start_time": "2022-08-28T12:35:34.666Z"
   },
   {
    "duration": 5,
    "start_time": "2022-08-28T12:35:35.553Z"
   },
   {
    "duration": 8,
    "start_time": "2022-08-28T12:35:36.592Z"
   },
   {
    "duration": 20,
    "start_time": "2022-08-28T12:35:40.658Z"
   },
   {
    "duration": 3,
    "start_time": "2022-08-28T12:35:43.357Z"
   },
   {
    "duration": 49,
    "start_time": "2022-08-28T12:35:53.839Z"
   },
   {
    "duration": 6,
    "start_time": "2022-08-28T12:36:01.692Z"
   },
   {
    "duration": 4,
    "start_time": "2022-08-28T12:36:05.166Z"
   },
   {
    "duration": 6,
    "start_time": "2022-08-28T12:36:05.904Z"
   },
   {
    "duration": 6,
    "start_time": "2022-08-28T12:36:21.687Z"
   },
   {
    "duration": 10,
    "start_time": "2022-08-28T12:36:55.769Z"
   },
   {
    "duration": 6,
    "start_time": "2022-08-28T12:37:37.931Z"
   },
   {
    "duration": 6,
    "start_time": "2022-08-28T12:38:38.986Z"
   },
   {
    "duration": 513,
    "start_time": "2022-08-28T12:39:08.266Z"
   },
   {
    "duration": 3,
    "start_time": "2022-08-28T12:39:08.781Z"
   },
   {
    "duration": 9,
    "start_time": "2022-08-28T12:39:08.828Z"
   },
   {
    "duration": 13,
    "start_time": "2022-08-28T12:39:09.299Z"
   },
   {
    "duration": 14,
    "start_time": "2022-08-28T12:39:09.468Z"
   },
   {
    "duration": 5,
    "start_time": "2022-08-28T12:39:10.250Z"
   },
   {
    "duration": 10,
    "start_time": "2022-08-28T12:39:10.929Z"
   },
   {
    "duration": 10,
    "start_time": "2022-08-28T12:39:11.111Z"
   },
   {
    "duration": 7,
    "start_time": "2022-08-28T12:39:11.658Z"
   },
   {
    "duration": 7,
    "start_time": "2022-08-28T12:39:12.044Z"
   },
   {
    "duration": 10,
    "start_time": "2022-08-28T12:39:12.529Z"
   },
   {
    "duration": 8,
    "start_time": "2022-08-28T12:39:12.902Z"
   },
   {
    "duration": 7,
    "start_time": "2022-08-28T12:39:13.327Z"
   },
   {
    "duration": 13,
    "start_time": "2022-08-28T12:39:14.103Z"
   },
   {
    "duration": 10,
    "start_time": "2022-08-28T12:39:14.303Z"
   },
   {
    "duration": 2,
    "start_time": "2022-08-28T12:39:14.614Z"
   },
   {
    "duration": 5,
    "start_time": "2022-08-28T12:39:15.236Z"
   },
   {
    "duration": 14,
    "start_time": "2022-08-28T12:39:15.448Z"
   },
   {
    "duration": 5,
    "start_time": "2022-08-28T12:39:15.677Z"
   },
   {
    "duration": 5,
    "start_time": "2022-08-28T12:39:16.296Z"
   },
   {
    "duration": 3,
    "start_time": "2022-08-28T12:39:17.274Z"
   },
   {
    "duration": 6,
    "start_time": "2022-08-28T12:39:18.416Z"
   },
   {
    "duration": 15,
    "start_time": "2022-08-28T12:39:18.604Z"
   },
   {
    "duration": 8,
    "start_time": "2022-08-28T12:39:19.248Z"
   },
   {
    "duration": 5,
    "start_time": "2022-08-28T12:39:20.026Z"
   },
   {
    "duration": 7,
    "start_time": "2022-08-28T12:39:20.255Z"
   },
   {
    "duration": 7,
    "start_time": "2022-08-28T12:39:21.017Z"
   },
   {
    "duration": 23,
    "start_time": "2022-08-28T12:39:21.261Z"
   },
   {
    "duration": 4,
    "start_time": "2022-08-28T12:39:22.093Z"
   },
   {
    "duration": 4,
    "start_time": "2022-08-28T12:39:22.467Z"
   },
   {
    "duration": 9,
    "start_time": "2022-08-28T12:39:22.707Z"
   },
   {
    "duration": 8,
    "start_time": "2022-08-28T12:39:23.236Z"
   },
   {
    "duration": 5,
    "start_time": "2022-08-28T12:39:23.482Z"
   },
   {
    "duration": 8,
    "start_time": "2022-08-28T12:39:24.269Z"
   },
   {
    "duration": 5,
    "start_time": "2022-08-28T12:39:24.531Z"
   },
   {
    "duration": 10,
    "start_time": "2022-08-28T12:39:25.068Z"
   },
   {
    "duration": 6,
    "start_time": "2022-08-28T12:39:25.591Z"
   },
   {
    "duration": 8,
    "start_time": "2022-08-28T12:39:25.816Z"
   },
   {
    "duration": 8,
    "start_time": "2022-08-28T12:39:26.341Z"
   },
   {
    "duration": 5,
    "start_time": "2022-08-28T12:39:26.642Z"
   },
   {
    "duration": 9,
    "start_time": "2022-08-28T12:39:26.917Z"
   },
   {
    "duration": 5,
    "start_time": "2022-08-28T12:39:27.414Z"
   },
   {
    "duration": 7,
    "start_time": "2022-08-28T12:39:27.669Z"
   },
   {
    "duration": 6,
    "start_time": "2022-08-28T12:39:27.898Z"
   },
   {
    "duration": 7,
    "start_time": "2022-08-28T12:39:28.093Z"
   },
   {
    "duration": 6,
    "start_time": "2022-08-28T12:39:28.368Z"
   },
   {
    "duration": 6,
    "start_time": "2022-08-28T12:39:28.563Z"
   },
   {
    "duration": 15,
    "start_time": "2022-08-28T12:39:29.281Z"
   },
   {
    "duration": 27,
    "start_time": "2022-08-28T12:39:29.739Z"
   },
   {
    "duration": 16,
    "start_time": "2022-08-28T12:39:30.067Z"
   },
   {
    "duration": 17,
    "start_time": "2022-08-28T12:39:30.671Z"
   },
   {
    "duration": 13,
    "start_time": "2022-08-28T12:39:31.666Z"
   },
   {
    "duration": 2,
    "start_time": "2022-08-28T12:39:33.296Z"
   },
   {
    "duration": 10,
    "start_time": "2022-08-28T12:39:34.179Z"
   },
   {
    "duration": 3,
    "start_time": "2022-08-28T12:39:34.369Z"
   },
   {
    "duration": 5,
    "start_time": "2022-08-28T12:39:34.584Z"
   },
   {
    "duration": 13,
    "start_time": "2022-08-28T12:39:34.807Z"
   },
   {
    "duration": 9,
    "start_time": "2022-08-28T12:39:36.149Z"
   },
   {
    "duration": 27,
    "start_time": "2022-08-28T12:39:38.471Z"
   },
   {
    "duration": 15,
    "start_time": "2022-08-28T12:39:39.195Z"
   },
   {
    "duration": 6,
    "start_time": "2022-08-28T12:39:39.883Z"
   },
   {
    "duration": 6,
    "start_time": "2022-08-28T12:39:40.941Z"
   },
   {
    "duration": 10,
    "start_time": "2022-08-28T12:39:41.574Z"
   },
   {
    "duration": 40,
    "start_time": "2022-08-28T12:39:43.317Z"
   },
   {
    "duration": 5,
    "start_time": "2022-08-28T12:39:45.086Z"
   },
   {
    "duration": 14,
    "start_time": "2022-08-28T12:49:28.980Z"
   },
   {
    "duration": 5,
    "start_time": "2022-08-28T13:05:21.288Z"
   },
   {
    "duration": 4,
    "start_time": "2022-08-28T13:05:42.734Z"
   },
   {
    "duration": 7,
    "start_time": "2022-08-28T13:06:21.085Z"
   },
   {
    "duration": 28,
    "start_time": "2022-08-28T13:12:27.038Z"
   },
   {
    "duration": 5,
    "start_time": "2022-08-28T13:13:30.692Z"
   },
   {
    "duration": 24,
    "start_time": "2022-08-28T13:26:08.126Z"
   },
   {
    "duration": 5,
    "start_time": "2022-08-28T13:26:10.087Z"
   },
   {
    "duration": 14,
    "start_time": "2022-08-28T13:35:47.747Z"
   },
   {
    "duration": 11,
    "start_time": "2022-08-28T13:36:03.690Z"
   },
   {
    "duration": 772,
    "start_time": "2022-08-28T13:36:21.818Z"
   },
   {
    "duration": 5,
    "start_time": "2022-08-28T13:36:27.617Z"
   },
   {
    "duration": 6,
    "start_time": "2022-08-28T13:36:31.643Z"
   },
   {
    "duration": 3,
    "start_time": "2022-08-28T13:36:34.879Z"
   },
   {
    "duration": 3,
    "start_time": "2022-08-28T13:36:37.978Z"
   },
   {
    "duration": 4,
    "start_time": "2022-08-28T13:36:41.620Z"
   },
   {
    "duration": 9,
    "start_time": "2022-08-28T13:36:45.091Z"
   },
   {
    "duration": 10,
    "start_time": "2022-08-28T13:36:56.351Z"
   },
   {
    "duration": 6,
    "start_time": "2022-08-28T13:37:01.553Z"
   },
   {
    "duration": 11,
    "start_time": "2022-08-28T13:37:07.482Z"
   },
   {
    "duration": 29,
    "start_time": "2022-08-28T13:37:17.817Z"
   },
   {
    "duration": 8,
    "start_time": "2022-08-28T13:37:35.642Z"
   },
   {
    "duration": 2,
    "start_time": "2022-08-28T13:37:44.744Z"
   },
   {
    "duration": 3,
    "start_time": "2022-08-28T13:37:48.439Z"
   },
   {
    "duration": 3,
    "start_time": "2022-08-28T13:38:27.419Z"
   },
   {
    "duration": 3,
    "start_time": "2022-08-28T13:38:29.047Z"
   },
   {
    "duration": 8,
    "start_time": "2022-08-28T13:38:32.367Z"
   },
   {
    "duration": 7,
    "start_time": "2022-08-28T13:38:34.928Z"
   },
   {
    "duration": 13,
    "start_time": "2022-08-28T13:38:40.332Z"
   },
   {
    "duration": 58,
    "start_time": "2022-08-28T13:39:01.157Z"
   },
   {
    "duration": 36,
    "start_time": "2022-08-28T13:40:24.019Z"
   },
   {
    "duration": 53,
    "start_time": "2022-08-28T13:41:10.460Z"
   },
   {
    "duration": 34,
    "start_time": "2022-08-28T13:41:27.262Z"
   },
   {
    "duration": 37,
    "start_time": "2022-08-28T13:42:01.318Z"
   },
   {
    "duration": 44,
    "start_time": "2022-08-28T13:42:19.219Z"
   },
   {
    "duration": 599,
    "start_time": "2022-08-29T11:29:24.210Z"
   },
   {
    "duration": 3,
    "start_time": "2022-08-29T11:29:24.811Z"
   },
   {
    "duration": 12,
    "start_time": "2022-08-29T11:29:24.816Z"
   },
   {
    "duration": 21,
    "start_time": "2022-08-29T11:29:24.829Z"
   },
   {
    "duration": 14,
    "start_time": "2022-08-29T11:29:24.853Z"
   },
   {
    "duration": 5,
    "start_time": "2022-08-29T11:29:24.869Z"
   },
   {
    "duration": 15,
    "start_time": "2022-08-29T11:29:24.876Z"
   },
   {
    "duration": 15,
    "start_time": "2022-08-29T11:29:24.893Z"
   },
   {
    "duration": 11,
    "start_time": "2022-08-29T11:29:24.910Z"
   },
   {
    "duration": 11,
    "start_time": "2022-08-29T11:29:24.922Z"
   },
   {
    "duration": 7,
    "start_time": "2022-08-29T11:29:24.934Z"
   },
   {
    "duration": 31,
    "start_time": "2022-08-29T11:29:24.942Z"
   },
   {
    "duration": 6,
    "start_time": "2022-08-29T11:29:24.975Z"
   },
   {
    "duration": 12,
    "start_time": "2022-08-29T11:29:24.983Z"
   },
   {
    "duration": 11,
    "start_time": "2022-08-29T11:29:24.997Z"
   },
   {
    "duration": 11,
    "start_time": "2022-08-29T11:29:25.010Z"
   },
   {
    "duration": 10,
    "start_time": "2022-08-29T11:29:25.023Z"
   },
   {
    "duration": 39,
    "start_time": "2022-08-29T11:29:25.035Z"
   },
   {
    "duration": 15,
    "start_time": "2022-08-29T11:29:25.076Z"
   },
   {
    "duration": 8,
    "start_time": "2022-08-29T11:29:25.093Z"
   },
   {
    "duration": 13,
    "start_time": "2022-08-29T11:29:25.103Z"
   },
   {
    "duration": 14,
    "start_time": "2022-08-29T11:29:25.118Z"
   },
   {
    "duration": 16,
    "start_time": "2022-08-29T11:29:25.136Z"
   },
   {
    "duration": 8,
    "start_time": "2022-08-29T11:29:25.153Z"
   },
   {
    "duration": 4,
    "start_time": "2022-08-29T11:29:25.168Z"
   },
   {
    "duration": 10,
    "start_time": "2022-08-29T11:29:25.173Z"
   },
   {
    "duration": 13,
    "start_time": "2022-08-29T11:29:25.185Z"
   },
   {
    "duration": 24,
    "start_time": "2022-08-29T11:29:25.199Z"
   },
   {
    "duration": 4,
    "start_time": "2022-08-29T11:29:25.224Z"
   },
   {
    "duration": 9,
    "start_time": "2022-08-29T11:29:25.230Z"
   },
   {
    "duration": 29,
    "start_time": "2022-08-29T11:29:25.240Z"
   },
   {
    "duration": 9,
    "start_time": "2022-08-29T11:29:25.270Z"
   },
   {
    "duration": 9,
    "start_time": "2022-08-29T11:29:25.281Z"
   },
   {
    "duration": 13,
    "start_time": "2022-08-29T11:29:25.292Z"
   },
   {
    "duration": 12,
    "start_time": "2022-08-29T11:29:25.306Z"
   },
   {
    "duration": 17,
    "start_time": "2022-08-29T11:29:25.320Z"
   },
   {
    "duration": 9,
    "start_time": "2022-08-29T11:29:25.339Z"
   },
   {
    "duration": 9,
    "start_time": "2022-08-29T11:29:25.368Z"
   },
   {
    "duration": 11,
    "start_time": "2022-08-29T11:29:25.379Z"
   },
   {
    "duration": 6,
    "start_time": "2022-08-29T11:29:25.392Z"
   },
   {
    "duration": 6,
    "start_time": "2022-08-29T11:29:25.403Z"
   },
   {
    "duration": 17,
    "start_time": "2022-08-29T11:29:25.411Z"
   },
   {
    "duration": 20,
    "start_time": "2022-08-29T11:29:25.431Z"
   },
   {
    "duration": 12,
    "start_time": "2022-08-29T11:29:25.468Z"
   },
   {
    "duration": 7,
    "start_time": "2022-08-29T11:29:25.481Z"
   },
   {
    "duration": 7,
    "start_time": "2022-08-29T11:29:25.490Z"
   },
   {
    "duration": 9,
    "start_time": "2022-08-29T11:29:25.499Z"
   },
   {
    "duration": 33,
    "start_time": "2022-08-29T11:29:25.510Z"
   },
   {
    "duration": 59,
    "start_time": "2022-08-29T11:29:25.545Z"
   },
   {
    "duration": 16,
    "start_time": "2022-08-29T11:29:25.606Z"
   },
   {
    "duration": 17,
    "start_time": "2022-08-29T11:29:25.624Z"
   },
   {
    "duration": 33,
    "start_time": "2022-08-29T11:29:25.643Z"
   },
   {
    "duration": 8,
    "start_time": "2022-08-29T11:29:25.678Z"
   },
   {
    "duration": 12,
    "start_time": "2022-08-29T11:29:25.687Z"
   },
   {
    "duration": 4,
    "start_time": "2022-08-29T11:29:25.700Z"
   },
   {
    "duration": 8,
    "start_time": "2022-08-29T11:29:25.706Z"
   },
   {
    "duration": 11,
    "start_time": "2022-08-29T11:29:25.716Z"
   },
   {
    "duration": 7,
    "start_time": "2022-08-29T11:29:25.728Z"
   },
   {
    "duration": 50,
    "start_time": "2022-08-29T11:29:25.737Z"
   },
   {
    "duration": 16,
    "start_time": "2022-08-29T11:29:25.789Z"
   },
   {
    "duration": 5,
    "start_time": "2022-08-29T11:29:25.806Z"
   },
   {
    "duration": 11,
    "start_time": "2022-08-29T11:29:25.813Z"
   },
   {
    "duration": 14,
    "start_time": "2022-08-29T11:29:25.826Z"
   },
   {
    "duration": 53,
    "start_time": "2022-08-29T11:29:25.841Z"
   },
   {
    "duration": 5,
    "start_time": "2022-08-29T11:29:25.896Z"
   },
   {
    "duration": 7,
    "start_time": "2022-08-29T11:29:25.902Z"
   },
   {
    "duration": 17,
    "start_time": "2022-08-29T11:29:25.911Z"
   },
   {
    "duration": 5,
    "start_time": "2022-08-29T11:29:25.929Z"
   },
   {
    "duration": 6,
    "start_time": "2022-08-29T11:29:25.935Z"
   },
   {
    "duration": 28,
    "start_time": "2022-08-29T11:29:25.942Z"
   },
   {
    "duration": 34,
    "start_time": "2022-08-29T11:29:25.972Z"
   },
   {
    "duration": 5,
    "start_time": "2022-08-29T11:29:26.009Z"
   },
   {
    "duration": 48,
    "start_time": "2022-08-29T11:29:26.015Z"
   },
   {
    "duration": 5,
    "start_time": "2022-08-29T11:29:26.064Z"
   },
   {
    "duration": 8,
    "start_time": "2022-08-29T11:29:26.070Z"
   },
   {
    "duration": 6,
    "start_time": "2022-08-29T11:29:26.080Z"
   },
   {
    "duration": 7,
    "start_time": "2022-08-29T11:29:26.087Z"
   },
   {
    "duration": 6,
    "start_time": "2022-08-29T11:29:26.095Z"
   },
   {
    "duration": 13,
    "start_time": "2022-08-29T11:29:26.103Z"
   },
   {
    "duration": 6,
    "start_time": "2022-08-29T11:29:26.117Z"
   },
   {
    "duration": 14,
    "start_time": "2022-08-29T11:29:26.125Z"
   },
   {
    "duration": 75,
    "start_time": "2022-08-29T11:29:26.141Z"
   },
   {
    "duration": 25,
    "start_time": "2022-08-29T11:29:26.218Z"
   },
   {
    "duration": 25,
    "start_time": "2022-08-29T11:29:26.245Z"
   },
   {
    "duration": 75,
    "start_time": "2022-08-29T11:29:26.272Z"
   },
   {
    "duration": 19,
    "start_time": "2022-08-29T11:29:26.349Z"
   },
   {
    "duration": 9,
    "start_time": "2022-08-29T11:29:26.371Z"
   },
   {
    "duration": 21,
    "start_time": "2022-08-29T11:29:26.382Z"
   },
   {
    "duration": 80,
    "start_time": "2022-08-29T11:29:26.405Z"
   },
   {
    "duration": 54,
    "start_time": "2022-08-29T11:29:26.487Z"
   },
   {
    "duration": 64,
    "start_time": "2022-08-29T11:29:26.542Z"
   },
   {
    "duration": 116,
    "start_time": "2022-08-29T11:29:26.608Z"
   },
   {
    "duration": 64,
    "start_time": "2022-08-29T11:38:49.227Z"
   },
   {
    "duration": 28,
    "start_time": "2022-08-29T11:38:53.530Z"
   },
   {
    "duration": 35,
    "start_time": "2022-08-29T11:43:46.603Z"
   },
   {
    "duration": 46,
    "start_time": "2022-08-29T12:00:32.872Z"
   },
   {
    "duration": 648,
    "start_time": "2022-08-29T12:01:09.530Z"
   },
   {
    "duration": 7,
    "start_time": "2022-08-29T12:01:27.551Z"
   },
   {
    "duration": 14,
    "start_time": "2022-08-29T12:01:39.324Z"
   },
   {
    "duration": 5,
    "start_time": "2022-08-29T12:03:58.522Z"
   },
   {
    "duration": 28,
    "start_time": "2022-08-29T12:30:31.474Z"
   },
   {
    "duration": 55,
    "start_time": "2022-08-29T12:30:47.450Z"
   },
   {
    "duration": 3,
    "start_time": "2022-08-29T12:30:48.840Z"
   },
   {
    "duration": 12,
    "start_time": "2022-08-29T12:30:49.347Z"
   },
   {
    "duration": 14,
    "start_time": "2022-08-29T12:30:50.121Z"
   },
   {
    "duration": 8,
    "start_time": "2022-08-29T12:30:50.303Z"
   },
   {
    "duration": 4,
    "start_time": "2022-08-29T12:30:50.827Z"
   },
   {
    "duration": 15,
    "start_time": "2022-08-29T12:30:51.664Z"
   },
   {
    "duration": 11,
    "start_time": "2022-08-29T12:30:52.051Z"
   },
   {
    "duration": 6,
    "start_time": "2022-08-29T12:30:52.621Z"
   },
   {
    "duration": 7,
    "start_time": "2022-08-29T12:30:53.042Z"
   },
   {
    "duration": 5,
    "start_time": "2022-08-29T12:30:53.461Z"
   },
   {
    "duration": 6,
    "start_time": "2022-08-29T12:30:53.842Z"
   },
   {
    "duration": 6,
    "start_time": "2022-08-29T12:30:54.263Z"
   },
   {
    "duration": 12,
    "start_time": "2022-08-29T12:30:54.885Z"
   },
   {
    "duration": 10,
    "start_time": "2022-08-29T12:30:55.115Z"
   },
   {
    "duration": 5,
    "start_time": "2022-08-29T12:30:55.521Z"
   },
   {
    "duration": 8,
    "start_time": "2022-08-29T12:30:55.752Z"
   },
   {
    "duration": 5,
    "start_time": "2022-08-29T12:30:56.434Z"
   },
   {
    "duration": 7,
    "start_time": "2022-08-29T12:30:56.924Z"
   },
   {
    "duration": 4,
    "start_time": "2022-08-29T12:30:57.528Z"
   },
   {
    "duration": 5,
    "start_time": "2022-08-29T12:30:57.715Z"
   },
   {
    "duration": 4,
    "start_time": "2022-08-29T12:30:58.218Z"
   },
   {
    "duration": 8,
    "start_time": "2022-08-29T12:31:00.049Z"
   },
   {
    "duration": 5,
    "start_time": "2022-08-29T12:31:00.635Z"
   },
   {
    "duration": 8,
    "start_time": "2022-08-29T12:31:01.384Z"
   },
   {
    "duration": 8,
    "start_time": "2022-08-29T12:31:02.051Z"
   },
   {
    "duration": 22,
    "start_time": "2022-08-29T12:31:02.350Z"
   },
   {
    "duration": 5,
    "start_time": "2022-08-29T12:31:03.276Z"
   },
   {
    "duration": 3,
    "start_time": "2022-08-29T12:31:03.463Z"
   },
   {
    "duration": 7,
    "start_time": "2022-08-29T12:31:03.663Z"
   },
   {
    "duration": 8,
    "start_time": "2022-08-29T12:31:03.961Z"
   },
   {
    "duration": 4,
    "start_time": "2022-08-29T12:31:04.188Z"
   },
   {
    "duration": 9,
    "start_time": "2022-08-29T12:31:04.798Z"
   },
   {
    "duration": 5,
    "start_time": "2022-08-29T12:31:05.141Z"
   },
   {
    "duration": 11,
    "start_time": "2022-08-29T12:31:05.831Z"
   },
   {
    "duration": 5,
    "start_time": "2022-08-29T12:31:07.121Z"
   },
   {
    "duration": 9,
    "start_time": "2022-08-29T12:31:07.548Z"
   },
   {
    "duration": 8,
    "start_time": "2022-08-29T12:31:08.342Z"
   },
   {
    "duration": 5,
    "start_time": "2022-08-29T12:31:08.561Z"
   },
   {
    "duration": 7,
    "start_time": "2022-08-29T12:31:08.844Z"
   },
   {
    "duration": 4,
    "start_time": "2022-08-29T12:31:09.494Z"
   },
   {
    "duration": 6,
    "start_time": "2022-08-29T12:31:09.758Z"
   },
   {
    "duration": 7,
    "start_time": "2022-08-29T12:31:10.028Z"
   },
   {
    "duration": 8,
    "start_time": "2022-08-29T12:31:10.334Z"
   },
   {
    "duration": 7,
    "start_time": "2022-08-29T12:31:10.647Z"
   },
   {
    "duration": 6,
    "start_time": "2022-08-29T12:31:11.186Z"
   },
   {
    "duration": 15,
    "start_time": "2022-08-29T12:31:11.402Z"
   },
   {
    "duration": 27,
    "start_time": "2022-08-29T12:31:13.583Z"
   },
   {
    "duration": 14,
    "start_time": "2022-08-29T12:31:13.980Z"
   },
   {
    "duration": 16,
    "start_time": "2022-08-29T12:31:15.826Z"
   },
   {
    "duration": 13,
    "start_time": "2022-08-29T12:31:16.865Z"
   },
   {
    "duration": 2,
    "start_time": "2022-08-29T12:31:18.327Z"
   },
   {
    "duration": 7,
    "start_time": "2022-08-29T12:31:22.704Z"
   },
   {
    "duration": 3,
    "start_time": "2022-08-29T12:31:23.253Z"
   },
   {
    "duration": 3,
    "start_time": "2022-08-29T12:31:28.237Z"
   },
   {
    "duration": 7,
    "start_time": "2022-08-29T12:31:28.927Z"
   },
   {
    "duration": 7,
    "start_time": "2022-08-29T12:31:29.863Z"
   },
   {
    "duration": 17,
    "start_time": "2022-08-29T12:31:31.431Z"
   },
   {
    "duration": 13,
    "start_time": "2022-08-29T12:31:32.226Z"
   },
   {
    "duration": 4,
    "start_time": "2022-08-29T12:31:33.494Z"
   },
   {
    "duration": 6,
    "start_time": "2022-08-29T12:31:34.981Z"
   },
   {
    "duration": 9,
    "start_time": "2022-08-29T12:31:36.324Z"
   },
   {
    "duration": 43,
    "start_time": "2022-08-29T12:31:42.649Z"
   },
   {
    "duration": 5,
    "start_time": "2022-08-29T12:31:45.738Z"
   },
   {
    "duration": 15,
    "start_time": "2022-08-29T12:31:46.790Z"
   },
   {
    "duration": 7,
    "start_time": "2022-08-29T12:31:49.997Z"
   },
   {
    "duration": 5,
    "start_time": "2022-08-29T12:31:50.749Z"
   },
   {
    "duration": 7,
    "start_time": "2022-08-29T12:31:51.294Z"
   },
   {
    "duration": 24,
    "start_time": "2022-08-29T12:31:57.446Z"
   },
   {
    "duration": 4,
    "start_time": "2022-08-29T12:31:58.027Z"
   },
   {
    "duration": 13,
    "start_time": "2022-08-29T12:31:58.587Z"
   },
   {
    "duration": 14,
    "start_time": "2022-08-29T12:32:58.225Z"
   },
   {
    "duration": 10,
    "start_time": "2022-08-29T12:34:16.135Z"
   },
   {
    "duration": 5,
    "start_time": "2022-08-29T12:34:34.532Z"
   },
   {
    "duration": 14,
    "start_time": "2022-08-29T12:34:35.965Z"
   },
   {
    "duration": 5,
    "start_time": "2022-08-29T12:34:41.634Z"
   },
   {
    "duration": 7,
    "start_time": "2022-08-29T12:34:42.191Z"
   },
   {
    "duration": 4,
    "start_time": "2022-08-29T12:34:42.725Z"
   },
   {
    "duration": 4,
    "start_time": "2022-08-29T12:34:43.382Z"
   },
   {
    "duration": 5,
    "start_time": "2022-08-29T12:34:44.632Z"
   },
   {
    "duration": 17,
    "start_time": "2022-08-29T12:34:45.126Z"
   },
   {
    "duration": 8,
    "start_time": "2022-08-29T12:34:45.556Z"
   },
   {
    "duration": 12,
    "start_time": "2022-08-29T12:34:46.913Z"
   },
   {
    "duration": 29,
    "start_time": "2022-08-29T12:34:47.637Z"
   },
   {
    "duration": 9,
    "start_time": "2022-08-29T12:34:48.842Z"
   },
   {
    "duration": 3,
    "start_time": "2022-08-29T12:34:49.860Z"
   },
   {
    "duration": 4,
    "start_time": "2022-08-29T12:34:51.247Z"
   },
   {
    "duration": 9,
    "start_time": "2022-08-29T12:34:52.075Z"
   },
   {
    "duration": 7,
    "start_time": "2022-08-29T12:34:52.646Z"
   },
   {
    "duration": 12,
    "start_time": "2022-08-29T12:34:53.759Z"
   },
   {
    "duration": 20,
    "start_time": "2022-08-29T12:34:56.635Z"
   },
   {
    "duration": 58,
    "start_time": "2022-08-29T12:35:22.934Z"
   },
   {
    "duration": 26,
    "start_time": "2022-08-29T12:40:37.515Z"
   },
   {
    "duration": 5,
    "start_time": "2022-08-29T12:40:44.611Z"
   },
   {
    "duration": 13,
    "start_time": "2022-08-29T12:40:48.392Z"
   },
   {
    "duration": 74,
    "start_time": "2022-08-29T15:21:47.426Z"
   },
   {
    "duration": 5,
    "start_time": "2022-08-29T15:21:47.502Z"
   },
   {
    "duration": 21,
    "start_time": "2022-08-29T15:21:47.509Z"
   },
   {
    "duration": 16,
    "start_time": "2022-08-29T15:21:47.532Z"
   },
   {
    "duration": 41,
    "start_time": "2022-08-29T15:21:47.549Z"
   },
   {
    "duration": 11,
    "start_time": "2022-08-29T15:21:47.593Z"
   },
   {
    "duration": 11,
    "start_time": "2022-08-29T15:21:47.606Z"
   },
   {
    "duration": 10,
    "start_time": "2022-08-29T15:21:47.619Z"
   },
   {
    "duration": 7,
    "start_time": "2022-08-29T15:21:47.631Z"
   },
   {
    "duration": 8,
    "start_time": "2022-08-29T15:21:47.640Z"
   },
   {
    "duration": 25,
    "start_time": "2022-08-29T15:21:47.650Z"
   },
   {
    "duration": 25,
    "start_time": "2022-08-29T15:21:47.676Z"
   },
   {
    "duration": 10,
    "start_time": "2022-08-29T15:21:47.703Z"
   },
   {
    "duration": 16,
    "start_time": "2022-08-29T15:21:47.715Z"
   },
   {
    "duration": 11,
    "start_time": "2022-08-29T15:21:47.733Z"
   },
   {
    "duration": 5,
    "start_time": "2022-08-29T15:21:47.746Z"
   },
   {
    "duration": 34,
    "start_time": "2022-08-29T15:21:47.752Z"
   },
   {
    "duration": 12,
    "start_time": "2022-08-29T15:21:47.788Z"
   },
   {
    "duration": 8,
    "start_time": "2022-08-29T15:21:47.802Z"
   },
   {
    "duration": 3,
    "start_time": "2022-08-29T15:21:47.812Z"
   },
   {
    "duration": 6,
    "start_time": "2022-08-29T15:21:47.817Z"
   },
   {
    "duration": 5,
    "start_time": "2022-08-29T15:21:47.824Z"
   },
   {
    "duration": 12,
    "start_time": "2022-08-29T15:21:47.830Z"
   },
   {
    "duration": 28,
    "start_time": "2022-08-29T15:21:47.844Z"
   },
   {
    "duration": 13,
    "start_time": "2022-08-29T15:21:47.875Z"
   },
   {
    "duration": 21,
    "start_time": "2022-08-29T15:21:47.889Z"
   },
   {
    "duration": 27,
    "start_time": "2022-08-29T15:21:47.912Z"
   },
   {
    "duration": 5,
    "start_time": "2022-08-29T15:21:47.941Z"
   },
   {
    "duration": 5,
    "start_time": "2022-08-29T15:21:47.947Z"
   },
   {
    "duration": 16,
    "start_time": "2022-08-29T15:21:47.972Z"
   },
   {
    "duration": 18,
    "start_time": "2022-08-29T15:21:47.989Z"
   },
   {
    "duration": 7,
    "start_time": "2022-08-29T15:21:48.008Z"
   },
   {
    "duration": 11,
    "start_time": "2022-08-29T15:21:48.017Z"
   },
   {
    "duration": 7,
    "start_time": "2022-08-29T15:21:48.030Z"
   },
   {
    "duration": 35,
    "start_time": "2022-08-29T15:21:48.039Z"
   },
   {
    "duration": 8,
    "start_time": "2022-08-29T15:21:48.080Z"
   },
   {
    "duration": 12,
    "start_time": "2022-08-29T15:21:48.090Z"
   },
   {
    "duration": 10,
    "start_time": "2022-08-29T15:21:48.104Z"
   },
   {
    "duration": 7,
    "start_time": "2022-08-29T15:21:48.116Z"
   },
   {
    "duration": 7,
    "start_time": "2022-08-29T15:21:48.124Z"
   },
   {
    "duration": 10,
    "start_time": "2022-08-29T15:21:48.133Z"
   },
   {
    "duration": 31,
    "start_time": "2022-08-29T15:21:48.144Z"
   },
   {
    "duration": 27,
    "start_time": "2022-08-29T15:21:48.176Z"
   },
   {
    "duration": 9,
    "start_time": "2022-08-29T15:21:48.205Z"
   },
   {
    "duration": 6,
    "start_time": "2022-08-29T15:21:48.216Z"
   },
   {
    "duration": 7,
    "start_time": "2022-08-29T15:21:48.224Z"
   },
   {
    "duration": 19,
    "start_time": "2022-08-29T15:21:48.232Z"
   },
   {
    "duration": 52,
    "start_time": "2022-08-29T15:21:48.252Z"
   },
   {
    "duration": 15,
    "start_time": "2022-08-29T15:21:48.306Z"
   },
   {
    "duration": 16,
    "start_time": "2022-08-29T15:21:48.322Z"
   },
   {
    "duration": 33,
    "start_time": "2022-08-29T15:21:48.340Z"
   },
   {
    "duration": 12,
    "start_time": "2022-08-29T15:21:48.375Z"
   },
   {
    "duration": 23,
    "start_time": "2022-08-29T15:21:48.392Z"
   },
   {
    "duration": 4,
    "start_time": "2022-08-29T15:21:48.417Z"
   },
   {
    "duration": 6,
    "start_time": "2022-08-29T15:21:48.422Z"
   },
   {
    "duration": 10,
    "start_time": "2022-08-29T15:21:48.429Z"
   },
   {
    "duration": 6,
    "start_time": "2022-08-29T15:21:48.441Z"
   },
   {
    "duration": 35,
    "start_time": "2022-08-29T15:21:48.449Z"
   },
   {
    "duration": 29,
    "start_time": "2022-08-29T15:21:48.486Z"
   },
   {
    "duration": 6,
    "start_time": "2022-08-29T15:21:48.517Z"
   },
   {
    "duration": 6,
    "start_time": "2022-08-29T15:21:48.525Z"
   },
   {
    "duration": 10,
    "start_time": "2022-08-29T15:21:48.532Z"
   },
   {
    "duration": 18,
    "start_time": "2022-08-29T15:21:48.697Z"
   },
   {
    "duration": 15,
    "start_time": "2022-08-29T15:21:48.716Z"
   },
   {
    "duration": 53,
    "start_time": "2022-08-29T15:21:48.733Z"
   },
   {
    "duration": 5,
    "start_time": "2022-08-29T15:21:48.790Z"
   },
   {
    "duration": 17,
    "start_time": "2022-08-29T15:21:48.796Z"
   },
   {
    "duration": 6,
    "start_time": "2022-08-29T15:21:48.814Z"
   },
   {
    "duration": 8,
    "start_time": "2022-08-29T15:21:48.821Z"
   },
   {
    "duration": 5,
    "start_time": "2022-08-29T15:21:48.830Z"
   },
   {
    "duration": 8,
    "start_time": "2022-08-29T15:21:48.837Z"
   },
   {
    "duration": 7,
    "start_time": "2022-08-29T15:21:48.847Z"
   },
   {
    "duration": 18,
    "start_time": "2022-08-29T15:21:48.856Z"
   },
   {
    "duration": 22,
    "start_time": "2022-08-29T15:21:48.877Z"
   },
   {
    "duration": 23,
    "start_time": "2022-08-29T15:21:48.902Z"
   },
   {
    "duration": 38,
    "start_time": "2022-08-29T15:21:48.927Z"
   },
   {
    "duration": 24,
    "start_time": "2022-08-29T15:21:48.971Z"
   },
   {
    "duration": 6,
    "start_time": "2022-08-29T15:21:48.997Z"
   },
   {
    "duration": 9,
    "start_time": "2022-08-29T15:21:49.005Z"
   },
   {
    "duration": 13,
    "start_time": "2022-08-29T15:21:49.015Z"
   },
   {
    "duration": 6,
    "start_time": "2022-08-29T15:21:49.030Z"
   },
   {
    "duration": 15,
    "start_time": "2022-08-29T15:21:49.038Z"
   },
   {
    "duration": 63,
    "start_time": "2022-08-29T15:21:49.055Z"
   },
   {
    "duration": 60,
    "start_time": "2022-08-29T15:21:49.120Z"
   },
   {
    "duration": 41,
    "start_time": "2022-08-29T15:21:49.188Z"
   },
   {
    "duration": 56,
    "start_time": "2022-08-29T15:21:49.231Z"
   }
  ],
  "kernelspec": {
   "display_name": "Python 3 (ipykernel)",
   "language": "python",
   "name": "python3"
  },
  "language_info": {
   "codemirror_mode": {
    "name": "ipython",
    "version": 3
   },
   "file_extension": ".py",
   "mimetype": "text/x-python",
   "name": "python",
   "nbconvert_exporter": "python",
   "pygments_lexer": "ipython3",
   "version": "3.9.12"
  },
  "toc": {
   "base_numbering": 1,
   "nav_menu": {},
   "number_sections": true,
   "sideBar": true,
   "skip_h1_title": true,
   "title_cell": "Table of Contents",
   "title_sidebar": "Contents",
   "toc_cell": false,
   "toc_position": {},
   "toc_section_display": true,
   "toc_window_display": true
  }
 },
 "nbformat": 4,
 "nbformat_minor": 2
}
