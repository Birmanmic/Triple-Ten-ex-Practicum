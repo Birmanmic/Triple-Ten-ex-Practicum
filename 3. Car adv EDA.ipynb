{
 "cells": [
  {
   "cell_type": "markdown",
   "metadata": {},
   "source": [
    "# What sells a car?\n",
    "\n",
    "You're an analyst at Crankshaft List. Hundreds of free advertisements for vehicles are published on your site every day. You need to study data collected over the last few years and determine which factors influence the price of a vehicle."
   ]
  },
  {
   "cell_type": "markdown",
   "metadata": {},
   "source": [
    "[We've provided you with some commentary to guide your thinking as you complete this project. However, make sure to remove all the bracketed comments before submitting your project.]\n",
    "\n",
    "[Before you dive into analyzing your data, explain yourself the purposes of the project and actions you plan to take.]\n",
    "\n",
    "[Please bear in mind that studying, amending and analyzing data is an iterative process. It is normal to return back to previous steps and correct/expand them to allow for further steps.]"
   ]
  },
  {
   "cell_type": "markdown",
   "metadata": {},
   "source": [
    "## Initialization"
   ]
  },
  {
   "cell_type": "markdown",
   "metadata": {},
   "source": [
    "[Load libraries that you believe are required for the project. You may realise later that you need additional libraries as you go, which is totally fine - just make sure to update this section when you do.]"
   ]
  },
  {
   "cell_type": "code",
   "execution_count": 1,
   "metadata": {},
   "outputs": [],
   "source": [
    "# Loading all the libraries\n",
    "\n",
    "import pandas as pd\n",
    "import numpy as np\n",
    "import matplotlib.pyplot as plt  \n",
    "import seaborn as sns"
   ]
  },
  {
   "cell_type": "markdown",
   "metadata": {},
   "source": [
    "### Load data"
   ]
  },
  {
   "cell_type": "markdown",
   "metadata": {},
   "source": [
    "[Load the project data and have a look at the general information.]"
   ]
  },
  {
   "cell_type": "code",
   "execution_count": 2,
   "metadata": {},
   "outputs": [
    {
     "data": {
      "text/html": [
       "<div>\n",
       "<style scoped>\n",
       "    .dataframe tbody tr th:only-of-type {\n",
       "        vertical-align: middle;\n",
       "    }\n",
       "\n",
       "    .dataframe tbody tr th {\n",
       "        vertical-align: top;\n",
       "    }\n",
       "\n",
       "    .dataframe thead th {\n",
       "        text-align: right;\n",
       "    }\n",
       "</style>\n",
       "<table border=\"1\" class=\"dataframe\">\n",
       "  <thead>\n",
       "    <tr style=\"text-align: right;\">\n",
       "      <th></th>\n",
       "      <th>price</th>\n",
       "      <th>model_year</th>\n",
       "      <th>model</th>\n",
       "      <th>condition</th>\n",
       "      <th>cylinders</th>\n",
       "      <th>fuel</th>\n",
       "      <th>odometer</th>\n",
       "      <th>transmission</th>\n",
       "      <th>type</th>\n",
       "      <th>paint_color</th>\n",
       "      <th>is_4wd</th>\n",
       "      <th>date_posted</th>\n",
       "      <th>days_listed</th>\n",
       "    </tr>\n",
       "  </thead>\n",
       "  <tbody>\n",
       "    <tr>\n",
       "      <th>0</th>\n",
       "      <td>9400</td>\n",
       "      <td>2011.0</td>\n",
       "      <td>bmw x5</td>\n",
       "      <td>good</td>\n",
       "      <td>6.0</td>\n",
       "      <td>gas</td>\n",
       "      <td>145000.0</td>\n",
       "      <td>automatic</td>\n",
       "      <td>SUV</td>\n",
       "      <td>NaN</td>\n",
       "      <td>1.0</td>\n",
       "      <td>2018-06-23</td>\n",
       "      <td>19</td>\n",
       "    </tr>\n",
       "    <tr>\n",
       "      <th>1</th>\n",
       "      <td>25500</td>\n",
       "      <td>NaN</td>\n",
       "      <td>ford f-150</td>\n",
       "      <td>good</td>\n",
       "      <td>6.0</td>\n",
       "      <td>gas</td>\n",
       "      <td>88705.0</td>\n",
       "      <td>automatic</td>\n",
       "      <td>pickup</td>\n",
       "      <td>white</td>\n",
       "      <td>1.0</td>\n",
       "      <td>2018-10-19</td>\n",
       "      <td>50</td>\n",
       "    </tr>\n",
       "    <tr>\n",
       "      <th>2</th>\n",
       "      <td>5500</td>\n",
       "      <td>2013.0</td>\n",
       "      <td>hyundai sonata</td>\n",
       "      <td>like new</td>\n",
       "      <td>4.0</td>\n",
       "      <td>gas</td>\n",
       "      <td>110000.0</td>\n",
       "      <td>automatic</td>\n",
       "      <td>sedan</td>\n",
       "      <td>red</td>\n",
       "      <td>NaN</td>\n",
       "      <td>2019-02-07</td>\n",
       "      <td>79</td>\n",
       "    </tr>\n",
       "    <tr>\n",
       "      <th>3</th>\n",
       "      <td>1500</td>\n",
       "      <td>2003.0</td>\n",
       "      <td>ford f-150</td>\n",
       "      <td>fair</td>\n",
       "      <td>8.0</td>\n",
       "      <td>gas</td>\n",
       "      <td>NaN</td>\n",
       "      <td>automatic</td>\n",
       "      <td>pickup</td>\n",
       "      <td>NaN</td>\n",
       "      <td>NaN</td>\n",
       "      <td>2019-03-22</td>\n",
       "      <td>9</td>\n",
       "    </tr>\n",
       "    <tr>\n",
       "      <th>4</th>\n",
       "      <td>14900</td>\n",
       "      <td>2017.0</td>\n",
       "      <td>chrysler 200</td>\n",
       "      <td>excellent</td>\n",
       "      <td>4.0</td>\n",
       "      <td>gas</td>\n",
       "      <td>80903.0</td>\n",
       "      <td>automatic</td>\n",
       "      <td>sedan</td>\n",
       "      <td>black</td>\n",
       "      <td>NaN</td>\n",
       "      <td>2019-04-02</td>\n",
       "      <td>28</td>\n",
       "    </tr>\n",
       "  </tbody>\n",
       "</table>\n",
       "</div>"
      ],
      "text/plain": [
       "   price  model_year           model  condition  cylinders fuel  odometer  \\\n",
       "0   9400      2011.0          bmw x5       good        6.0  gas  145000.0   \n",
       "1  25500         NaN      ford f-150       good        6.0  gas   88705.0   \n",
       "2   5500      2013.0  hyundai sonata   like new        4.0  gas  110000.0   \n",
       "3   1500      2003.0      ford f-150       fair        8.0  gas       NaN   \n",
       "4  14900      2017.0    chrysler 200  excellent        4.0  gas   80903.0   \n",
       "\n",
       "  transmission    type paint_color  is_4wd date_posted  days_listed  \n",
       "0    automatic     SUV         NaN     1.0  2018-06-23           19  \n",
       "1    automatic  pickup       white     1.0  2018-10-19           50  \n",
       "2    automatic   sedan         red     NaN  2019-02-07           79  \n",
       "3    automatic  pickup         NaN     NaN  2019-03-22            9  \n",
       "4    automatic   sedan       black     NaN  2019-04-02           28  "
      ]
     },
     "execution_count": 2,
     "metadata": {},
     "output_type": "execute_result"
    }
   ],
   "source": [
    "# Load the data file into a DataFrame\n",
    "\n",
    "data = pd.read_csv('/datasets/vehicles_us.csv')\n",
    "data.head()"
   ]
  },
  {
   "cell_type": "markdown",
   "metadata": {},
   "source": [
    "### Explore initial data"
   ]
  },
  {
   "cell_type": "markdown",
   "metadata": {},
   "source": [
    "The dataset contains the following fields:\n",
    "- `price`\n",
    "- `model_year`\n",
    "- `model`\n",
    "- `condition`\n",
    "- `cylinders`\n",
    "- `fuel` — gas, diesel, etc.\n",
    "- `odometer` — the vehicle's mileage when the ad was published\n",
    "- `transmission`\n",
    "- `paint_color`\n",
    "- `is_4wd` — whether the vehicle has 4-wheel drive (Boolean type)\n",
    "- `date_posted` — the date the ad was published\n",
    "- `days_listed` — from publication to removal\n",
    "\n",
    "[Understanding the fields, explore them to make yourself familiar with the data.]"
   ]
  },
  {
   "cell_type": "code",
   "execution_count": 3,
   "metadata": {},
   "outputs": [
    {
     "name": "stdout",
     "output_type": "stream",
     "text": [
      "<class 'pandas.core.frame.DataFrame'>\n",
      "RangeIndex: 51525 entries, 0 to 51524\n",
      "Data columns (total 13 columns):\n",
      " #   Column        Non-Null Count  Dtype  \n",
      "---  ------        --------------  -----  \n",
      " 0   price         51525 non-null  int64  \n",
      " 1   model_year    47906 non-null  float64\n",
      " 2   model         51525 non-null  object \n",
      " 3   condition     51525 non-null  object \n",
      " 4   cylinders     46265 non-null  float64\n",
      " 5   fuel          51525 non-null  object \n",
      " 6   odometer      43633 non-null  float64\n",
      " 7   transmission  51525 non-null  object \n",
      " 8   type          51525 non-null  object \n",
      " 9   paint_color   42258 non-null  object \n",
      " 10  is_4wd        25572 non-null  float64\n",
      " 11  date_posted   51525 non-null  object \n",
      " 12  days_listed   51525 non-null  int64  \n",
      "dtypes: float64(4), int64(2), object(7)\n",
      "memory usage: 5.1+ MB\n"
     ]
    }
   ],
   "source": [
    "# print the general/summary information about the DataFrame\n",
    "data.info()\n"
   ]
  },
  {
   "cell_type": "code",
   "execution_count": 4,
   "metadata": {},
   "outputs": [
    {
     "data": {
      "text/html": [
       "<div>\n",
       "<style scoped>\n",
       "    .dataframe tbody tr th:only-of-type {\n",
       "        vertical-align: middle;\n",
       "    }\n",
       "\n",
       "    .dataframe tbody tr th {\n",
       "        vertical-align: top;\n",
       "    }\n",
       "\n",
       "    .dataframe thead th {\n",
       "        text-align: right;\n",
       "    }\n",
       "</style>\n",
       "<table border=\"1\" class=\"dataframe\">\n",
       "  <thead>\n",
       "    <tr style=\"text-align: right;\">\n",
       "      <th></th>\n",
       "      <th>price</th>\n",
       "      <th>model_year</th>\n",
       "      <th>model</th>\n",
       "      <th>condition</th>\n",
       "      <th>cylinders</th>\n",
       "      <th>fuel</th>\n",
       "      <th>odometer</th>\n",
       "      <th>transmission</th>\n",
       "      <th>type</th>\n",
       "      <th>paint_color</th>\n",
       "      <th>is_4wd</th>\n",
       "      <th>date_posted</th>\n",
       "      <th>days_listed</th>\n",
       "    </tr>\n",
       "  </thead>\n",
       "  <tbody>\n",
       "    <tr>\n",
       "      <th>0</th>\n",
       "      <td>9400</td>\n",
       "      <td>2011.0</td>\n",
       "      <td>bmw x5</td>\n",
       "      <td>good</td>\n",
       "      <td>6.0</td>\n",
       "      <td>gas</td>\n",
       "      <td>145000.0</td>\n",
       "      <td>automatic</td>\n",
       "      <td>SUV</td>\n",
       "      <td>NaN</td>\n",
       "      <td>1.0</td>\n",
       "      <td>2018-06-23</td>\n",
       "      <td>19</td>\n",
       "    </tr>\n",
       "    <tr>\n",
       "      <th>1</th>\n",
       "      <td>25500</td>\n",
       "      <td>NaN</td>\n",
       "      <td>ford f-150</td>\n",
       "      <td>good</td>\n",
       "      <td>6.0</td>\n",
       "      <td>gas</td>\n",
       "      <td>88705.0</td>\n",
       "      <td>automatic</td>\n",
       "      <td>pickup</td>\n",
       "      <td>white</td>\n",
       "      <td>1.0</td>\n",
       "      <td>2018-10-19</td>\n",
       "      <td>50</td>\n",
       "    </tr>\n",
       "    <tr>\n",
       "      <th>2</th>\n",
       "      <td>5500</td>\n",
       "      <td>2013.0</td>\n",
       "      <td>hyundai sonata</td>\n",
       "      <td>like new</td>\n",
       "      <td>4.0</td>\n",
       "      <td>gas</td>\n",
       "      <td>110000.0</td>\n",
       "      <td>automatic</td>\n",
       "      <td>sedan</td>\n",
       "      <td>red</td>\n",
       "      <td>NaN</td>\n",
       "      <td>2019-02-07</td>\n",
       "      <td>79</td>\n",
       "    </tr>\n",
       "    <tr>\n",
       "      <th>3</th>\n",
       "      <td>1500</td>\n",
       "      <td>2003.0</td>\n",
       "      <td>ford f-150</td>\n",
       "      <td>fair</td>\n",
       "      <td>8.0</td>\n",
       "      <td>gas</td>\n",
       "      <td>NaN</td>\n",
       "      <td>automatic</td>\n",
       "      <td>pickup</td>\n",
       "      <td>NaN</td>\n",
       "      <td>NaN</td>\n",
       "      <td>2019-03-22</td>\n",
       "      <td>9</td>\n",
       "    </tr>\n",
       "    <tr>\n",
       "      <th>4</th>\n",
       "      <td>14900</td>\n",
       "      <td>2017.0</td>\n",
       "      <td>chrysler 200</td>\n",
       "      <td>excellent</td>\n",
       "      <td>4.0</td>\n",
       "      <td>gas</td>\n",
       "      <td>80903.0</td>\n",
       "      <td>automatic</td>\n",
       "      <td>sedan</td>\n",
       "      <td>black</td>\n",
       "      <td>NaN</td>\n",
       "      <td>2019-04-02</td>\n",
       "      <td>28</td>\n",
       "    </tr>\n",
       "    <tr>\n",
       "      <th>5</th>\n",
       "      <td>14990</td>\n",
       "      <td>2014.0</td>\n",
       "      <td>chrysler 300</td>\n",
       "      <td>excellent</td>\n",
       "      <td>6.0</td>\n",
       "      <td>gas</td>\n",
       "      <td>57954.0</td>\n",
       "      <td>automatic</td>\n",
       "      <td>sedan</td>\n",
       "      <td>black</td>\n",
       "      <td>1.0</td>\n",
       "      <td>2018-06-20</td>\n",
       "      <td>15</td>\n",
       "    </tr>\n",
       "    <tr>\n",
       "      <th>6</th>\n",
       "      <td>12990</td>\n",
       "      <td>2015.0</td>\n",
       "      <td>toyota camry</td>\n",
       "      <td>excellent</td>\n",
       "      <td>4.0</td>\n",
       "      <td>gas</td>\n",
       "      <td>79212.0</td>\n",
       "      <td>automatic</td>\n",
       "      <td>sedan</td>\n",
       "      <td>white</td>\n",
       "      <td>NaN</td>\n",
       "      <td>2018-12-27</td>\n",
       "      <td>73</td>\n",
       "    </tr>\n",
       "    <tr>\n",
       "      <th>7</th>\n",
       "      <td>15990</td>\n",
       "      <td>2013.0</td>\n",
       "      <td>honda pilot</td>\n",
       "      <td>excellent</td>\n",
       "      <td>6.0</td>\n",
       "      <td>gas</td>\n",
       "      <td>109473.0</td>\n",
       "      <td>automatic</td>\n",
       "      <td>SUV</td>\n",
       "      <td>black</td>\n",
       "      <td>1.0</td>\n",
       "      <td>2019-01-07</td>\n",
       "      <td>68</td>\n",
       "    </tr>\n",
       "    <tr>\n",
       "      <th>8</th>\n",
       "      <td>11500</td>\n",
       "      <td>2012.0</td>\n",
       "      <td>kia sorento</td>\n",
       "      <td>excellent</td>\n",
       "      <td>4.0</td>\n",
       "      <td>gas</td>\n",
       "      <td>104174.0</td>\n",
       "      <td>automatic</td>\n",
       "      <td>SUV</td>\n",
       "      <td>NaN</td>\n",
       "      <td>1.0</td>\n",
       "      <td>2018-07-16</td>\n",
       "      <td>19</td>\n",
       "    </tr>\n",
       "    <tr>\n",
       "      <th>9</th>\n",
       "      <td>9200</td>\n",
       "      <td>2008.0</td>\n",
       "      <td>honda pilot</td>\n",
       "      <td>excellent</td>\n",
       "      <td>NaN</td>\n",
       "      <td>gas</td>\n",
       "      <td>147191.0</td>\n",
       "      <td>automatic</td>\n",
       "      <td>SUV</td>\n",
       "      <td>blue</td>\n",
       "      <td>1.0</td>\n",
       "      <td>2019-02-15</td>\n",
       "      <td>17</td>\n",
       "    </tr>\n",
       "  </tbody>\n",
       "</table>\n",
       "</div>"
      ],
      "text/plain": [
       "   price  model_year           model  condition  cylinders fuel  odometer  \\\n",
       "0   9400      2011.0          bmw x5       good        6.0  gas  145000.0   \n",
       "1  25500         NaN      ford f-150       good        6.0  gas   88705.0   \n",
       "2   5500      2013.0  hyundai sonata   like new        4.0  gas  110000.0   \n",
       "3   1500      2003.0      ford f-150       fair        8.0  gas       NaN   \n",
       "4  14900      2017.0    chrysler 200  excellent        4.0  gas   80903.0   \n",
       "5  14990      2014.0    chrysler 300  excellent        6.0  gas   57954.0   \n",
       "6  12990      2015.0    toyota camry  excellent        4.0  gas   79212.0   \n",
       "7  15990      2013.0     honda pilot  excellent        6.0  gas  109473.0   \n",
       "8  11500      2012.0     kia sorento  excellent        4.0  gas  104174.0   \n",
       "9   9200      2008.0     honda pilot  excellent        NaN  gas  147191.0   \n",
       "\n",
       "  transmission    type paint_color  is_4wd date_posted  days_listed  \n",
       "0    automatic     SUV         NaN     1.0  2018-06-23           19  \n",
       "1    automatic  pickup       white     1.0  2018-10-19           50  \n",
       "2    automatic   sedan         red     NaN  2019-02-07           79  \n",
       "3    automatic  pickup         NaN     NaN  2019-03-22            9  \n",
       "4    automatic   sedan       black     NaN  2019-04-02           28  \n",
       "5    automatic   sedan       black     1.0  2018-06-20           15  \n",
       "6    automatic   sedan       white     NaN  2018-12-27           73  \n",
       "7    automatic     SUV       black     1.0  2019-01-07           68  \n",
       "8    automatic     SUV         NaN     1.0  2018-07-16           19  \n",
       "9    automatic     SUV        blue     1.0  2019-02-15           17  "
      ]
     },
     "execution_count": 4,
     "metadata": {},
     "output_type": "execute_result"
    }
   ],
   "source": [
    "# print a sample of data\n",
    "\n",
    "data.head(10)"
   ]
  },
  {
   "cell_type": "code",
   "execution_count": 5,
   "metadata": {},
   "outputs": [
    {
     "data": {
      "text/plain": [
       "price           0.000000\n",
       "model_year      0.070238\n",
       "model           0.000000\n",
       "condition       0.000000\n",
       "cylinders       0.102086\n",
       "fuel            0.000000\n",
       "odometer        0.153168\n",
       "transmission    0.000000\n",
       "type            0.000000\n",
       "paint_color     0.179854\n",
       "is_4wd          0.503697\n",
       "date_posted     0.000000\n",
       "days_listed     0.000000\n",
       "dtype: float64"
      ]
     },
     "execution_count": 5,
     "metadata": {},
     "output_type": "execute_result"
    }
   ],
   "source": [
    "data.isnull().sum()/len(data)"
   ]
  },
  {
   "cell_type": "markdown",
   "metadata": {},
   "source": [
    "\n",
    "there are missing data in columns: model_year, odometer, paint_color, is_4wd. The number of missing data in all columns is different. in the is_4wd column there are most of them, but it is possible that they are there instead of 0, and also the float64 type in the type column has uppercase and lowercase letters (you need to convert to one)\n"
   ]
  },
  {
   "cell_type": "markdown",
   "metadata": {},
   "source": [
    "is_4wd should be bling, and it should be float date_posted - time, and it should be object model_year - float, should be int."
   ]
  },
  {
   "cell_type": "markdown",
   "metadata": {},
   "source": []
  },
  {
   "cell_type": "markdown",
   "metadata": {},
   "source": [
    "### Conclusions and further steps\n",
    "\n",
    "[Formulate your conclusions regarding the initial data. What do you think looks normal and what does not not?]\n",
    "\n",
    "[Explain your next steps and how they correlate with the conclusions you made so far. Specifically, it should be clear what part of data should be treated to make it more suitable for the required analysis.]"
   ]
  },
  {
   "cell_type": "markdown",
   "metadata": {},
   "source": [
    "there are quite a few columns with missing data. we need to study each of them and understand the reason. if there is an opportunity to replace or supplement, then do it.\n",
    "in the is_4wd column, check if the missing date is just zeros.\n",
    "change data types from float to int and from object to time. "
   ]
  },
  {
   "cell_type": "markdown",
   "metadata": {},
   "source": [
    "## Treat missing values (if any)"
   ]
  },
  {
   "cell_type": "code",
   "execution_count": 6,
   "metadata": {},
   "outputs": [
    {
     "data": {
      "text/plain": [
       "price               0\n",
       "model_year       3619\n",
       "model               0\n",
       "condition           0\n",
       "cylinders        5260\n",
       "fuel                0\n",
       "odometer         7892\n",
       "transmission        0\n",
       "type                0\n",
       "paint_color      9267\n",
       "is_4wd          25953\n",
       "date_posted         0\n",
       "days_listed         0\n",
       "dtype: int64"
      ]
     },
     "execution_count": 6,
     "metadata": {},
     "output_type": "execute_result"
    }
   ],
   "source": [
    "data.isna().sum()"
   ]
  },
  {
   "cell_type": "markdown",
   "metadata": {},
   "source": [
    "we see that the is_4wd column is boolean, i.e. yes or no. yes - value 1, value no - 0. so you can replace all NANs with 0"
   ]
  },
  {
   "cell_type": "code",
   "execution_count": 7,
   "metadata": {},
   "outputs": [],
   "source": [
    "data['is_4wd'] = data['is_4wd'].fillna(0)\n"
   ]
  },
  {
   "cell_type": "code",
   "execution_count": 8,
   "metadata": {},
   "outputs": [
    {
     "data": {
      "text/plain": [
       "count    51525.000000\n",
       "mean         0.496303\n",
       "std          0.499991\n",
       "min          0.000000\n",
       "25%          0.000000\n",
       "50%          0.000000\n",
       "75%          1.000000\n",
       "max          1.000000\n",
       "Name: is_4wd, dtype: float64"
      ]
     },
     "execution_count": 8,
     "metadata": {},
     "output_type": "execute_result"
    }
   ],
   "source": [
    "data['is_4wd'].describe()"
   ]
  },
  {
   "cell_type": "code",
   "execution_count": 9,
   "metadata": {},
   "outputs": [
    {
     "data": {
      "text/plain": [
       "price              0\n",
       "model_year      3619\n",
       "model              0\n",
       "condition          0\n",
       "cylinders       5260\n",
       "fuel               0\n",
       "odometer        7892\n",
       "transmission       0\n",
       "type               0\n",
       "paint_color     9267\n",
       "is_4wd             0\n",
       "date_posted        0\n",
       "days_listed        0\n",
       "dtype: int64"
      ]
     },
     "execution_count": 9,
     "metadata": {},
     "output_type": "execute_result"
    }
   ],
   "source": [
    "data.isna().sum()"
   ]
  },
  {
   "cell_type": "markdown",
   "metadata": {},
   "source": [
    "check the columns 'model_year' and 'odometer' for matching missing data. maybe there is a pattern"
   ]
  },
  {
   "cell_type": "code",
   "execution_count": 10,
   "metadata": {},
   "outputs": [
    {
     "name": "stdout",
     "output_type": "stream",
     "text": [
      "<class 'pandas.core.frame.DataFrame'>\n",
      "Int64Index: 549 entries, 159 to 51399\n",
      "Data columns (total 13 columns):\n",
      " #   Column        Non-Null Count  Dtype  \n",
      "---  ------        --------------  -----  \n",
      " 0   price         549 non-null    int64  \n",
      " 1   model_year    0 non-null      float64\n",
      " 2   model         549 non-null    object \n",
      " 3   condition     549 non-null    object \n",
      " 4   cylinders     490 non-null    float64\n",
      " 5   fuel          549 non-null    object \n",
      " 6   odometer      0 non-null      float64\n",
      " 7   transmission  549 non-null    object \n",
      " 8   type          549 non-null    object \n",
      " 9   paint_color   452 non-null    object \n",
      " 10  is_4wd        549 non-null    float64\n",
      " 11  date_posted   549 non-null    object \n",
      " 12  days_listed   549 non-null    int64  \n",
      "dtypes: float64(4), int64(2), object(7)\n",
      "memory usage: 60.0+ KB\n"
     ]
    },
    {
     "data": {
      "text/html": [
       "<div>\n",
       "<style scoped>\n",
       "    .dataframe tbody tr th:only-of-type {\n",
       "        vertical-align: middle;\n",
       "    }\n",
       "\n",
       "    .dataframe tbody tr th {\n",
       "        vertical-align: top;\n",
       "    }\n",
       "\n",
       "    .dataframe thead th {\n",
       "        text-align: right;\n",
       "    }\n",
       "</style>\n",
       "<table border=\"1\" class=\"dataframe\">\n",
       "  <thead>\n",
       "    <tr style=\"text-align: right;\">\n",
       "      <th></th>\n",
       "      <th>price</th>\n",
       "      <th>model_year</th>\n",
       "      <th>model</th>\n",
       "      <th>condition</th>\n",
       "      <th>cylinders</th>\n",
       "      <th>fuel</th>\n",
       "      <th>odometer</th>\n",
       "      <th>transmission</th>\n",
       "      <th>type</th>\n",
       "      <th>paint_color</th>\n",
       "      <th>is_4wd</th>\n",
       "      <th>date_posted</th>\n",
       "      <th>days_listed</th>\n",
       "    </tr>\n",
       "  </thead>\n",
       "  <tbody>\n",
       "    <tr>\n",
       "      <th>159</th>\n",
       "      <td>23300</td>\n",
       "      <td>NaN</td>\n",
       "      <td>nissan frontier crew cab sv</td>\n",
       "      <td>good</td>\n",
       "      <td>NaN</td>\n",
       "      <td>gas</td>\n",
       "      <td>NaN</td>\n",
       "      <td>other</td>\n",
       "      <td>pickup</td>\n",
       "      <td>grey</td>\n",
       "      <td>1.0</td>\n",
       "      <td>2018-07-24</td>\n",
       "      <td>73</td>\n",
       "    </tr>\n",
       "    <tr>\n",
       "      <th>260</th>\n",
       "      <td>14975</td>\n",
       "      <td>NaN</td>\n",
       "      <td>toyota 4runner</td>\n",
       "      <td>good</td>\n",
       "      <td>6.0</td>\n",
       "      <td>gas</td>\n",
       "      <td>NaN</td>\n",
       "      <td>automatic</td>\n",
       "      <td>SUV</td>\n",
       "      <td>silver</td>\n",
       "      <td>0.0</td>\n",
       "      <td>2018-05-13</td>\n",
       "      <td>57</td>\n",
       "    </tr>\n",
       "    <tr>\n",
       "      <th>370</th>\n",
       "      <td>4700</td>\n",
       "      <td>NaN</td>\n",
       "      <td>kia soul</td>\n",
       "      <td>good</td>\n",
       "      <td>NaN</td>\n",
       "      <td>gas</td>\n",
       "      <td>NaN</td>\n",
       "      <td>manual</td>\n",
       "      <td>sedan</td>\n",
       "      <td>white</td>\n",
       "      <td>0.0</td>\n",
       "      <td>2019-01-14</td>\n",
       "      <td>50</td>\n",
       "    </tr>\n",
       "    <tr>\n",
       "      <th>586</th>\n",
       "      <td>26000</td>\n",
       "      <td>NaN</td>\n",
       "      <td>toyota rav4</td>\n",
       "      <td>like new</td>\n",
       "      <td>4.0</td>\n",
       "      <td>gas</td>\n",
       "      <td>NaN</td>\n",
       "      <td>automatic</td>\n",
       "      <td>SUV</td>\n",
       "      <td>NaN</td>\n",
       "      <td>0.0</td>\n",
       "      <td>2018-08-09</td>\n",
       "      <td>29</td>\n",
       "    </tr>\n",
       "    <tr>\n",
       "      <th>659</th>\n",
       "      <td>8400</td>\n",
       "      <td>NaN</td>\n",
       "      <td>volkswagen jetta</td>\n",
       "      <td>good</td>\n",
       "      <td>4.0</td>\n",
       "      <td>diesel</td>\n",
       "      <td>NaN</td>\n",
       "      <td>manual</td>\n",
       "      <td>wagon</td>\n",
       "      <td>NaN</td>\n",
       "      <td>0.0</td>\n",
       "      <td>2018-10-22</td>\n",
       "      <td>37</td>\n",
       "    </tr>\n",
       "  </tbody>\n",
       "</table>\n",
       "</div>"
      ],
      "text/plain": [
       "     price  model_year                        model condition  cylinders  \\\n",
       "159  23300         NaN  nissan frontier crew cab sv      good        NaN   \n",
       "260  14975         NaN               toyota 4runner      good        6.0   \n",
       "370   4700         NaN                     kia soul      good        NaN   \n",
       "586  26000         NaN                  toyota rav4  like new        4.0   \n",
       "659   8400         NaN             volkswagen jetta      good        4.0   \n",
       "\n",
       "       fuel  odometer transmission    type paint_color  is_4wd date_posted  \\\n",
       "159     gas       NaN        other  pickup        grey     1.0  2018-07-24   \n",
       "260     gas       NaN    automatic     SUV      silver     0.0  2018-05-13   \n",
       "370     gas       NaN       manual   sedan       white     0.0  2019-01-14   \n",
       "586     gas       NaN    automatic     SUV         NaN     0.0  2018-08-09   \n",
       "659  diesel       NaN       manual   wagon         NaN     0.0  2018-10-22   \n",
       "\n",
       "     days_listed  \n",
       "159           73  \n",
       "260           57  \n",
       "370           50  \n",
       "586           29  \n",
       "659           37  "
      ]
     },
     "execution_count": 10,
     "metadata": {},
     "output_type": "execute_result"
    }
   ],
   "source": [
    "data_missing = data[(data['model_year'].isnull()) & (data['odometer'].isnull())]\n",
    "data_missing.info()\n",
    "data_missing.head()"
   ]
  },
  {
   "cell_type": "markdown",
   "metadata": {},
   "source": [
    "549 matches, less than 0.01 percent, can be easily removed."
   ]
  },
  {
   "cell_type": "code",
   "execution_count": 11,
   "metadata": {},
   "outputs": [
    {
     "name": "stdout",
     "output_type": "stream",
     "text": [
      "<class 'pandas.core.frame.DataFrame'>\n",
      "Int64Index: 50976 entries, 0 to 51524\n",
      "Data columns (total 13 columns):\n",
      " #   Column        Non-Null Count  Dtype  \n",
      "---  ------        --------------  -----  \n",
      " 0   price         50976 non-null  int64  \n",
      " 1   model_year    47906 non-null  float64\n",
      " 2   model         50976 non-null  object \n",
      " 3   condition     50976 non-null  object \n",
      " 4   cylinders     45775 non-null  float64\n",
      " 5   fuel          50976 non-null  object \n",
      " 6   odometer      43633 non-null  float64\n",
      " 7   transmission  50976 non-null  object \n",
      " 8   type          50976 non-null  object \n",
      " 9   paint_color   41806 non-null  object \n",
      " 10  is_4wd        50976 non-null  float64\n",
      " 11  date_posted   50976 non-null  object \n",
      " 12  days_listed   50976 non-null  int64  \n",
      "dtypes: float64(4), int64(2), object(7)\n",
      "memory usage: 5.4+ MB\n"
     ]
    }
   ],
   "source": [
    "data = data.drop(data[(data['model_year'].isnull()) & (data['odometer'].isnull())].index)\n",
    "data.info()"
   ]
  },
  {
   "cell_type": "code",
   "execution_count": 12,
   "metadata": {},
   "outputs": [
    {
     "data": {
      "text/plain": [
       "count    47906.000000\n",
       "mean      2009.750470\n",
       "std          6.282065\n",
       "min       1908.000000\n",
       "25%       2006.000000\n",
       "50%       2011.000000\n",
       "75%       2014.000000\n",
       "max       2019.000000\n",
       "Name: model_year, dtype: float64"
      ]
     },
     "execution_count": 12,
     "metadata": {},
     "output_type": "execute_result"
    }
   ],
   "source": [
    "data['model_year'].describe()"
   ]
  },
  {
   "cell_type": "markdown",
   "metadata": {},
   "source": [
    "most of the date is after 2005, in order not to get an incorrect solution, we use the median, not the average"
   ]
  },
  {
   "cell_type": "code",
   "execution_count": 13,
   "metadata": {},
   "outputs": [],
   "source": [
    "data['model_year'].fillna(value=data.groupby('model')['model_year'].transform('median'), inplace=True)"
   ]
  },
  {
   "cell_type": "code",
   "execution_count": 14,
   "metadata": {},
   "outputs": [
    {
     "data": {
      "text/plain": [
       "0"
      ]
     },
     "execution_count": 14,
     "metadata": {},
     "output_type": "execute_result"
    }
   ],
   "source": [
    "data['model_year'].isna().sum()"
   ]
  },
  {
   "cell_type": "code",
   "execution_count": 15,
   "metadata": {},
   "outputs": [
    {
     "data": {
      "text/plain": [
       "count    45775.000000\n",
       "mean         6.124413\n",
       "std          1.660406\n",
       "min          3.000000\n",
       "25%          4.000000\n",
       "50%          6.000000\n",
       "75%          8.000000\n",
       "max         12.000000\n",
       "Name: cylinders, dtype: float64"
      ]
     },
     "execution_count": 15,
     "metadata": {},
     "output_type": "execute_result"
    }
   ],
   "source": [
    "data['cylinders'].describe()"
   ]
  },
  {
   "cell_type": "code",
   "execution_count": 16,
   "metadata": {},
   "outputs": [],
   "source": [
    "data['cylinders'].fillna(value=data.groupby('model')['cylinders'].transform('mean'), inplace=True)\n"
   ]
  },
  {
   "cell_type": "code",
   "execution_count": 17,
   "metadata": {},
   "outputs": [
    {
     "data": {
      "text/plain": [
       "0"
      ]
     },
     "execution_count": 17,
     "metadata": {},
     "output_type": "execute_result"
    }
   ],
   "source": [
    "data['cylinders'].isna().sum()"
   ]
  },
  {
   "cell_type": "code",
   "execution_count": 18,
   "metadata": {},
   "outputs": [],
   "source": [
    "data['odometer'].fillna(value=data.groupby('model_year')['odometer'].transform('mean'), inplace=True)"
   ]
  },
  {
   "cell_type": "code",
   "execution_count": 19,
   "metadata": {},
   "outputs": [
    {
     "data": {
      "text/html": [
       "<div>\n",
       "<style scoped>\n",
       "    .dataframe tbody tr th:only-of-type {\n",
       "        vertical-align: middle;\n",
       "    }\n",
       "\n",
       "    .dataframe tbody tr th {\n",
       "        vertical-align: top;\n",
       "    }\n",
       "\n",
       "    .dataframe thead th {\n",
       "        text-align: right;\n",
       "    }\n",
       "</style>\n",
       "<table border=\"1\" class=\"dataframe\">\n",
       "  <thead>\n",
       "    <tr style=\"text-align: right;\">\n",
       "      <th></th>\n",
       "      <th>price</th>\n",
       "      <th>model_year</th>\n",
       "      <th>model</th>\n",
       "      <th>condition</th>\n",
       "      <th>cylinders</th>\n",
       "      <th>fuel</th>\n",
       "      <th>odometer</th>\n",
       "      <th>transmission</th>\n",
       "      <th>type</th>\n",
       "      <th>paint_color</th>\n",
       "      <th>is_4wd</th>\n",
       "      <th>date_posted</th>\n",
       "      <th>days_listed</th>\n",
       "    </tr>\n",
       "  </thead>\n",
       "  <tbody>\n",
       "    <tr>\n",
       "      <th>45694</th>\n",
       "      <td>18000</td>\n",
       "      <td>1929.0</td>\n",
       "      <td>ford f-150</td>\n",
       "      <td>good</td>\n",
       "      <td>8.0</td>\n",
       "      <td>gas</td>\n",
       "      <td>NaN</td>\n",
       "      <td>manual</td>\n",
       "      <td>other</td>\n",
       "      <td>silver</td>\n",
       "      <td>0.0</td>\n",
       "      <td>2018-11-18</td>\n",
       "      <td>59</td>\n",
       "    </tr>\n",
       "  </tbody>\n",
       "</table>\n",
       "</div>"
      ],
      "text/plain": [
       "       price  model_year       model condition  cylinders fuel  odometer  \\\n",
       "45694  18000      1929.0  ford f-150      good        8.0  gas       NaN   \n",
       "\n",
       "      transmission   type paint_color  is_4wd date_posted  days_listed  \n",
       "45694       manual  other      silver     0.0  2018-11-18           59  "
      ]
     },
     "execution_count": 19,
     "metadata": {},
     "output_type": "execute_result"
    }
   ],
   "source": [
    "data[data['odometer'].isna()]"
   ]
  },
  {
   "cell_type": "code",
   "execution_count": 20,
   "metadata": {},
   "outputs": [],
   "source": [
    "data = data.drop(index=45694)"
   ]
  },
  {
   "cell_type": "code",
   "execution_count": 21,
   "metadata": {},
   "outputs": [
    {
     "data": {
      "text/html": [
       "<div>\n",
       "<style scoped>\n",
       "    .dataframe tbody tr th:only-of-type {\n",
       "        vertical-align: middle;\n",
       "    }\n",
       "\n",
       "    .dataframe tbody tr th {\n",
       "        vertical-align: top;\n",
       "    }\n",
       "\n",
       "    .dataframe thead th {\n",
       "        text-align: right;\n",
       "    }\n",
       "</style>\n",
       "<table border=\"1\" class=\"dataframe\">\n",
       "  <thead>\n",
       "    <tr style=\"text-align: right;\">\n",
       "      <th></th>\n",
       "      <th>price</th>\n",
       "      <th>model_year</th>\n",
       "      <th>model</th>\n",
       "      <th>condition</th>\n",
       "      <th>cylinders</th>\n",
       "      <th>fuel</th>\n",
       "      <th>odometer</th>\n",
       "      <th>transmission</th>\n",
       "      <th>type</th>\n",
       "      <th>paint_color</th>\n",
       "      <th>is_4wd</th>\n",
       "      <th>date_posted</th>\n",
       "      <th>days_listed</th>\n",
       "    </tr>\n",
       "  </thead>\n",
       "  <tbody>\n",
       "  </tbody>\n",
       "</table>\n",
       "</div>"
      ],
      "text/plain": [
       "Empty DataFrame\n",
       "Columns: [price, model_year, model, condition, cylinders, fuel, odometer, transmission, type, paint_color, is_4wd, date_posted, days_listed]\n",
       "Index: []"
      ]
     },
     "execution_count": 21,
     "metadata": {},
     "output_type": "execute_result"
    }
   ],
   "source": [
    "data[data['odometer'].isna()]"
   ]
  },
  {
   "cell_type": "code",
   "execution_count": 22,
   "metadata": {},
   "outputs": [
    {
     "name": "stdout",
     "output_type": "stream",
     "text": [
      "<class 'pandas.core.frame.DataFrame'>\n",
      "Int64Index: 50975 entries, 0 to 51524\n",
      "Data columns (total 13 columns):\n",
      " #   Column        Non-Null Count  Dtype  \n",
      "---  ------        --------------  -----  \n",
      " 0   price         50975 non-null  int64  \n",
      " 1   model_year    50975 non-null  float64\n",
      " 2   model         50975 non-null  object \n",
      " 3   condition     50975 non-null  object \n",
      " 4   cylinders     50975 non-null  float64\n",
      " 5   fuel          50975 non-null  object \n",
      " 6   odometer      50975 non-null  float64\n",
      " 7   transmission  50975 non-null  object \n",
      " 8   type          50975 non-null  object \n",
      " 9   paint_color   41805 non-null  object \n",
      " 10  is_4wd        50975 non-null  float64\n",
      " 11  date_posted   50975 non-null  object \n",
      " 12  days_listed   50975 non-null  int64  \n",
      "dtypes: float64(4), int64(2), object(7)\n",
      "memory usage: 5.4+ MB\n"
     ]
    }
   ],
   "source": [
    "data.info()"
   ]
  },
  {
   "cell_type": "code",
   "execution_count": 23,
   "metadata": {},
   "outputs": [
    {
     "data": {
      "text/plain": [
       "array([nan, 'white', 'red', 'black', 'blue', 'grey', 'silver', 'custom',\n",
       "       'orange', 'yellow', 'brown', 'green', 'purple'], dtype=object)"
      ]
     },
     "execution_count": 23,
     "metadata": {},
     "output_type": "execute_result"
    }
   ],
   "source": [
    "data['paint_color'].unique()"
   ]
  },
  {
   "cell_type": "code",
   "execution_count": 24,
   "metadata": {},
   "outputs": [],
   "source": [
    "data['paint_color'] = data['paint_color'].fillna('other')"
   ]
  },
  {
   "cell_type": "code",
   "execution_count": 25,
   "metadata": {},
   "outputs": [
    {
     "data": {
      "text/plain": [
       "array(['other', 'white', 'red', 'black', 'blue', 'grey', 'silver',\n",
       "       'custom', 'orange', 'yellow', 'brown', 'green', 'purple'],\n",
       "      dtype=object)"
      ]
     },
     "execution_count": 25,
     "metadata": {},
     "output_type": "execute_result"
    }
   ],
   "source": [
    "data['paint_color'].unique()"
   ]
  },
  {
   "cell_type": "code",
   "execution_count": 26,
   "metadata": {},
   "outputs": [
    {
     "name": "stdout",
     "output_type": "stream",
     "text": [
      "<class 'pandas.core.frame.DataFrame'>\n",
      "Int64Index: 50975 entries, 0 to 51524\n",
      "Data columns (total 13 columns):\n",
      " #   Column        Non-Null Count  Dtype  \n",
      "---  ------        --------------  -----  \n",
      " 0   price         50975 non-null  int64  \n",
      " 1   model_year    50975 non-null  float64\n",
      " 2   model         50975 non-null  object \n",
      " 3   condition     50975 non-null  object \n",
      " 4   cylinders     50975 non-null  float64\n",
      " 5   fuel          50975 non-null  object \n",
      " 6   odometer      50975 non-null  float64\n",
      " 7   transmission  50975 non-null  object \n",
      " 8   type          50975 non-null  object \n",
      " 9   paint_color   50975 non-null  object \n",
      " 10  is_4wd        50975 non-null  float64\n",
      " 11  date_posted   50975 non-null  object \n",
      " 12  days_listed   50975 non-null  int64  \n",
      "dtypes: float64(4), int64(2), object(7)\n",
      "memory usage: 5.4+ MB\n"
     ]
    }
   ],
   "source": [
    "data.info()"
   ]
  },
  {
   "cell_type": "markdown",
   "metadata": {},
   "source": [
    "what we did:\n",
    "1. Replace missing data with mean or median in columns where possible\n",
    "2. in the \"color\" column, the missing data was replaced with \"other\""
   ]
  },
  {
   "cell_type": "markdown",
   "metadata": {},
   "source": [
    "## Fix data types"
   ]
  },
  {
   "cell_type": "markdown",
   "metadata": {},
   "source": [
    "change the type in the column over time to time"
   ]
  },
  {
   "cell_type": "code",
   "execution_count": 27,
   "metadata": {},
   "outputs": [
    {
     "data": {
      "text/plain": [
       "0       2018-06-23\n",
       "1       2018-10-19\n",
       "2       2019-02-07\n",
       "3       2019-03-22\n",
       "4       2019-04-02\n",
       "           ...    \n",
       "51520   2018-10-03\n",
       "51521   2018-11-14\n",
       "51522   2018-11-15\n",
       "51523   2018-07-02\n",
       "51524   2018-06-05\n",
       "Name: date_posted, Length: 50975, dtype: datetime64[ns]"
      ]
     },
     "execution_count": 27,
     "metadata": {},
     "output_type": "execute_result"
    }
   ],
   "source": [
    "data['date_posted'] = pd.to_datetime(data['date_posted'], format='%Y%m%dT')\n",
    "data['date_posted']"
   ]
  },
  {
   "cell_type": "markdown",
   "metadata": {},
   "source": [
    "## Enrich data"
   ]
  },
  {
   "cell_type": "markdown",
   "metadata": {},
   "source": [
    "[Add additional factors to the data to make the analysis easier.]"
   ]
  },
  {
   "cell_type": "code",
   "execution_count": 28,
   "metadata": {},
   "outputs": [
    {
     "data": {
      "text/html": [
       "<div>\n",
       "<style scoped>\n",
       "    .dataframe tbody tr th:only-of-type {\n",
       "        vertical-align: middle;\n",
       "    }\n",
       "\n",
       "    .dataframe tbody tr th {\n",
       "        vertical-align: top;\n",
       "    }\n",
       "\n",
       "    .dataframe thead th {\n",
       "        text-align: right;\n",
       "    }\n",
       "</style>\n",
       "<table border=\"1\" class=\"dataframe\">\n",
       "  <thead>\n",
       "    <tr style=\"text-align: right;\">\n",
       "      <th></th>\n",
       "      <th>price</th>\n",
       "      <th>model_year</th>\n",
       "      <th>model</th>\n",
       "      <th>condition</th>\n",
       "      <th>cylinders</th>\n",
       "      <th>fuel</th>\n",
       "      <th>odometer</th>\n",
       "      <th>transmission</th>\n",
       "      <th>type</th>\n",
       "      <th>paint_color</th>\n",
       "      <th>is_4wd</th>\n",
       "      <th>date_posted</th>\n",
       "      <th>days_listed</th>\n",
       "      <th>year_posted</th>\n",
       "    </tr>\n",
       "  </thead>\n",
       "  <tbody>\n",
       "    <tr>\n",
       "      <th>0</th>\n",
       "      <td>9400</td>\n",
       "      <td>2011.0</td>\n",
       "      <td>bmw x5</td>\n",
       "      <td>good</td>\n",
       "      <td>6.0</td>\n",
       "      <td>gas</td>\n",
       "      <td>145000.000000</td>\n",
       "      <td>automatic</td>\n",
       "      <td>SUV</td>\n",
       "      <td>other</td>\n",
       "      <td>1.0</td>\n",
       "      <td>2018-06-23</td>\n",
       "      <td>19</td>\n",
       "      <td>2018</td>\n",
       "    </tr>\n",
       "    <tr>\n",
       "      <th>1</th>\n",
       "      <td>25500</td>\n",
       "      <td>2011.0</td>\n",
       "      <td>ford f-150</td>\n",
       "      <td>good</td>\n",
       "      <td>6.0</td>\n",
       "      <td>gas</td>\n",
       "      <td>88705.000000</td>\n",
       "      <td>automatic</td>\n",
       "      <td>pickup</td>\n",
       "      <td>white</td>\n",
       "      <td>1.0</td>\n",
       "      <td>2018-10-19</td>\n",
       "      <td>50</td>\n",
       "      <td>2018</td>\n",
       "    </tr>\n",
       "    <tr>\n",
       "      <th>2</th>\n",
       "      <td>5500</td>\n",
       "      <td>2013.0</td>\n",
       "      <td>hyundai sonata</td>\n",
       "      <td>like new</td>\n",
       "      <td>4.0</td>\n",
       "      <td>gas</td>\n",
       "      <td>110000.000000</td>\n",
       "      <td>automatic</td>\n",
       "      <td>sedan</td>\n",
       "      <td>red</td>\n",
       "      <td>0.0</td>\n",
       "      <td>2019-02-07</td>\n",
       "      <td>79</td>\n",
       "      <td>2019</td>\n",
       "    </tr>\n",
       "    <tr>\n",
       "      <th>3</th>\n",
       "      <td>1500</td>\n",
       "      <td>2003.0</td>\n",
       "      <td>ford f-150</td>\n",
       "      <td>fair</td>\n",
       "      <td>8.0</td>\n",
       "      <td>gas</td>\n",
       "      <td>162071.751024</td>\n",
       "      <td>automatic</td>\n",
       "      <td>pickup</td>\n",
       "      <td>other</td>\n",
       "      <td>0.0</td>\n",
       "      <td>2019-03-22</td>\n",
       "      <td>9</td>\n",
       "      <td>2019</td>\n",
       "    </tr>\n",
       "    <tr>\n",
       "      <th>4</th>\n",
       "      <td>14900</td>\n",
       "      <td>2017.0</td>\n",
       "      <td>chrysler 200</td>\n",
       "      <td>excellent</td>\n",
       "      <td>4.0</td>\n",
       "      <td>gas</td>\n",
       "      <td>80903.000000</td>\n",
       "      <td>automatic</td>\n",
       "      <td>sedan</td>\n",
       "      <td>black</td>\n",
       "      <td>0.0</td>\n",
       "      <td>2019-04-02</td>\n",
       "      <td>28</td>\n",
       "      <td>2019</td>\n",
       "    </tr>\n",
       "  </tbody>\n",
       "</table>\n",
       "</div>"
      ],
      "text/plain": [
       "   price  model_year           model  condition  cylinders fuel  \\\n",
       "0   9400      2011.0          bmw x5       good        6.0  gas   \n",
       "1  25500      2011.0      ford f-150       good        6.0  gas   \n",
       "2   5500      2013.0  hyundai sonata   like new        4.0  gas   \n",
       "3   1500      2003.0      ford f-150       fair        8.0  gas   \n",
       "4  14900      2017.0    chrysler 200  excellent        4.0  gas   \n",
       "\n",
       "        odometer transmission    type paint_color  is_4wd date_posted  \\\n",
       "0  145000.000000    automatic     SUV       other     1.0  2018-06-23   \n",
       "1   88705.000000    automatic  pickup       white     1.0  2018-10-19   \n",
       "2  110000.000000    automatic   sedan         red     0.0  2019-02-07   \n",
       "3  162071.751024    automatic  pickup       other     0.0  2019-03-22   \n",
       "4   80903.000000    automatic   sedan       black     0.0  2019-04-02   \n",
       "\n",
       "   days_listed  year_posted  \n",
       "0           19         2018  \n",
       "1           50         2018  \n",
       "2           79         2019  \n",
       "3            9         2019  \n",
       "4           28         2019  "
      ]
     },
     "execution_count": 28,
     "metadata": {},
     "output_type": "execute_result"
    }
   ],
   "source": [
    "# Add datetime values for when the ad was placed\n",
    "\n",
    "data['year_posted'] = pd.to_datetime(data['date_posted']).dt.year\n",
    "data.head()"
   ]
  },
  {
   "cell_type": "code",
   "execution_count": 74,
   "metadata": {},
   "outputs": [
    {
     "data": {
      "text/html": [
       "<div>\n",
       "<style scoped>\n",
       "    .dataframe tbody tr th:only-of-type {\n",
       "        vertical-align: middle;\n",
       "    }\n",
       "\n",
       "    .dataframe tbody tr th {\n",
       "        vertical-align: top;\n",
       "    }\n",
       "\n",
       "    .dataframe thead th {\n",
       "        text-align: right;\n",
       "    }\n",
       "</style>\n",
       "<table border=\"1\" class=\"dataframe\">\n",
       "  <thead>\n",
       "    <tr style=\"text-align: right;\">\n",
       "      <th></th>\n",
       "      <th>price</th>\n",
       "      <th>model_year</th>\n",
       "      <th>model</th>\n",
       "      <th>condition</th>\n",
       "      <th>cylinders</th>\n",
       "      <th>fuel</th>\n",
       "      <th>odometer</th>\n",
       "      <th>transmission</th>\n",
       "      <th>type</th>\n",
       "      <th>paint_color</th>\n",
       "      <th>is_4wd</th>\n",
       "      <th>date_posted</th>\n",
       "      <th>days_listed</th>\n",
       "      <th>year_posted</th>\n",
       "      <th>vehicle_age</th>\n",
       "      <th>avg_mileage</th>\n",
       "      <th>condition_counters</th>\n",
       "    </tr>\n",
       "  </thead>\n",
       "  <tbody>\n",
       "    <tr>\n",
       "      <th>0</th>\n",
       "      <td>9400</td>\n",
       "      <td>2011.0</td>\n",
       "      <td>bmw x5</td>\n",
       "      <td>good</td>\n",
       "      <td>6.0</td>\n",
       "      <td>gas</td>\n",
       "      <td>145000.000000</td>\n",
       "      <td>automatic</td>\n",
       "      <td>SUV</td>\n",
       "      <td>other</td>\n",
       "      <td>1.0</td>\n",
       "      <td>2018-06-23</td>\n",
       "      <td>19</td>\n",
       "      <td>2018</td>\n",
       "      <td>8.0</td>\n",
       "      <td>124883.614978</td>\n",
       "      <td>2</td>\n",
       "    </tr>\n",
       "    <tr>\n",
       "      <th>1</th>\n",
       "      <td>25500</td>\n",
       "      <td>2011.0</td>\n",
       "      <td>ford f-150</td>\n",
       "      <td>good</td>\n",
       "      <td>6.0</td>\n",
       "      <td>gas</td>\n",
       "      <td>88705.000000</td>\n",
       "      <td>automatic</td>\n",
       "      <td>pickup</td>\n",
       "      <td>white</td>\n",
       "      <td>1.0</td>\n",
       "      <td>2018-10-19</td>\n",
       "      <td>50</td>\n",
       "      <td>2018</td>\n",
       "      <td>8.0</td>\n",
       "      <td>124883.614978</td>\n",
       "      <td>2</td>\n",
       "    </tr>\n",
       "    <tr>\n",
       "      <th>2</th>\n",
       "      <td>5500</td>\n",
       "      <td>2013.0</td>\n",
       "      <td>hyundai sonata</td>\n",
       "      <td>like new</td>\n",
       "      <td>4.0</td>\n",
       "      <td>gas</td>\n",
       "      <td>110000.000000</td>\n",
       "      <td>automatic</td>\n",
       "      <td>sedan</td>\n",
       "      <td>red</td>\n",
       "      <td>0.0</td>\n",
       "      <td>2019-02-07</td>\n",
       "      <td>79</td>\n",
       "      <td>2019</td>\n",
       "      <td>7.0</td>\n",
       "      <td>102880.891908</td>\n",
       "      <td>4</td>\n",
       "    </tr>\n",
       "    <tr>\n",
       "      <th>3</th>\n",
       "      <td>1500</td>\n",
       "      <td>2003.0</td>\n",
       "      <td>ford f-150</td>\n",
       "      <td>fair</td>\n",
       "      <td>8.0</td>\n",
       "      <td>gas</td>\n",
       "      <td>162071.751024</td>\n",
       "      <td>automatic</td>\n",
       "      <td>pickup</td>\n",
       "      <td>other</td>\n",
       "      <td>0.0</td>\n",
       "      <td>2019-03-22</td>\n",
       "      <td>9</td>\n",
       "      <td>2019</td>\n",
       "      <td>17.0</td>\n",
       "      <td>162071.751024</td>\n",
       "      <td>1</td>\n",
       "    </tr>\n",
       "    <tr>\n",
       "      <th>4</th>\n",
       "      <td>14900</td>\n",
       "      <td>2017.0</td>\n",
       "      <td>chrysler 200</td>\n",
       "      <td>excellent</td>\n",
       "      <td>4.0</td>\n",
       "      <td>gas</td>\n",
       "      <td>80903.000000</td>\n",
       "      <td>automatic</td>\n",
       "      <td>sedan</td>\n",
       "      <td>black</td>\n",
       "      <td>0.0</td>\n",
       "      <td>2019-04-02</td>\n",
       "      <td>28</td>\n",
       "      <td>2019</td>\n",
       "      <td>3.0</td>\n",
       "      <td>45620.000000</td>\n",
       "      <td>3</td>\n",
       "    </tr>\n",
       "  </tbody>\n",
       "</table>\n",
       "</div>"
      ],
      "text/plain": [
       "   price  model_year           model  condition  cylinders fuel  \\\n",
       "0   9400      2011.0          bmw x5       good        6.0  gas   \n",
       "1  25500      2011.0      ford f-150       good        6.0  gas   \n",
       "2   5500      2013.0  hyundai sonata   like new        4.0  gas   \n",
       "3   1500      2003.0      ford f-150       fair        8.0  gas   \n",
       "4  14900      2017.0    chrysler 200  excellent        4.0  gas   \n",
       "\n",
       "        odometer transmission    type paint_color  is_4wd date_posted  \\\n",
       "0  145000.000000    automatic     SUV       other     1.0  2018-06-23   \n",
       "1   88705.000000    automatic  pickup       white     1.0  2018-10-19   \n",
       "2  110000.000000    automatic   sedan         red     0.0  2019-02-07   \n",
       "3  162071.751024    automatic  pickup       other     0.0  2019-03-22   \n",
       "4   80903.000000    automatic   sedan       black     0.0  2019-04-02   \n",
       "\n",
       "   days_listed  year_posted  vehicle_age    avg_mileage  condition_counters  \n",
       "0           19         2018          8.0  124883.614978                   2  \n",
       "1           50         2018          8.0  124883.614978                   2  \n",
       "2           79         2019          7.0  102880.891908                   4  \n",
       "3            9         2019         17.0  162071.751024                   1  \n",
       "4           28         2019          3.0   45620.000000                   3  "
      ]
     },
     "execution_count": 74,
     "metadata": {},
     "output_type": "execute_result"
    }
   ],
   "source": [
    "# Add the vehicle's age when the ad was placed\n",
    "data['vehicle_age'] = data['year_posted'] - data['model_year'] + 1\n",
    "data.head()\n"
   ]
  },
  {
   "cell_type": "code",
   "execution_count": 75,
   "metadata": {},
   "outputs": [
    {
     "data": {
      "text/html": [
       "<div>\n",
       "<style scoped>\n",
       "    .dataframe tbody tr th:only-of-type {\n",
       "        vertical-align: middle;\n",
       "    }\n",
       "\n",
       "    .dataframe tbody tr th {\n",
       "        vertical-align: top;\n",
       "    }\n",
       "\n",
       "    .dataframe thead th {\n",
       "        text-align: right;\n",
       "    }\n",
       "</style>\n",
       "<table border=\"1\" class=\"dataframe\">\n",
       "  <thead>\n",
       "    <tr style=\"text-align: right;\">\n",
       "      <th></th>\n",
       "      <th>price</th>\n",
       "      <th>model_year</th>\n",
       "      <th>model</th>\n",
       "      <th>condition</th>\n",
       "      <th>cylinders</th>\n",
       "      <th>fuel</th>\n",
       "      <th>odometer</th>\n",
       "      <th>transmission</th>\n",
       "      <th>type</th>\n",
       "      <th>paint_color</th>\n",
       "      <th>is_4wd</th>\n",
       "      <th>date_posted</th>\n",
       "      <th>days_listed</th>\n",
       "      <th>year_posted</th>\n",
       "      <th>vehicle_age</th>\n",
       "      <th>avg_mileage</th>\n",
       "      <th>condition_counters</th>\n",
       "    </tr>\n",
       "  </thead>\n",
       "  <tbody>\n",
       "    <tr>\n",
       "      <th>0</th>\n",
       "      <td>9400</td>\n",
       "      <td>2011.0</td>\n",
       "      <td>bmw x5</td>\n",
       "      <td>good</td>\n",
       "      <td>6.0</td>\n",
       "      <td>gas</td>\n",
       "      <td>145000.000000</td>\n",
       "      <td>automatic</td>\n",
       "      <td>SUV</td>\n",
       "      <td>other</td>\n",
       "      <td>1.0</td>\n",
       "      <td>2018-06-23</td>\n",
       "      <td>19</td>\n",
       "      <td>2018</td>\n",
       "      <td>8.0</td>\n",
       "      <td>124883.614978</td>\n",
       "      <td>2</td>\n",
       "    </tr>\n",
       "    <tr>\n",
       "      <th>1</th>\n",
       "      <td>25500</td>\n",
       "      <td>2011.0</td>\n",
       "      <td>ford f-150</td>\n",
       "      <td>good</td>\n",
       "      <td>6.0</td>\n",
       "      <td>gas</td>\n",
       "      <td>88705.000000</td>\n",
       "      <td>automatic</td>\n",
       "      <td>pickup</td>\n",
       "      <td>white</td>\n",
       "      <td>1.0</td>\n",
       "      <td>2018-10-19</td>\n",
       "      <td>50</td>\n",
       "      <td>2018</td>\n",
       "      <td>8.0</td>\n",
       "      <td>124883.614978</td>\n",
       "      <td>2</td>\n",
       "    </tr>\n",
       "    <tr>\n",
       "      <th>2</th>\n",
       "      <td>5500</td>\n",
       "      <td>2013.0</td>\n",
       "      <td>hyundai sonata</td>\n",
       "      <td>like new</td>\n",
       "      <td>4.0</td>\n",
       "      <td>gas</td>\n",
       "      <td>110000.000000</td>\n",
       "      <td>automatic</td>\n",
       "      <td>sedan</td>\n",
       "      <td>red</td>\n",
       "      <td>0.0</td>\n",
       "      <td>2019-02-07</td>\n",
       "      <td>79</td>\n",
       "      <td>2019</td>\n",
       "      <td>7.0</td>\n",
       "      <td>102880.891908</td>\n",
       "      <td>4</td>\n",
       "    </tr>\n",
       "    <tr>\n",
       "      <th>3</th>\n",
       "      <td>1500</td>\n",
       "      <td>2003.0</td>\n",
       "      <td>ford f-150</td>\n",
       "      <td>fair</td>\n",
       "      <td>8.0</td>\n",
       "      <td>gas</td>\n",
       "      <td>162071.751024</td>\n",
       "      <td>automatic</td>\n",
       "      <td>pickup</td>\n",
       "      <td>other</td>\n",
       "      <td>0.0</td>\n",
       "      <td>2019-03-22</td>\n",
       "      <td>9</td>\n",
       "      <td>2019</td>\n",
       "      <td>17.0</td>\n",
       "      <td>162071.751024</td>\n",
       "      <td>1</td>\n",
       "    </tr>\n",
       "    <tr>\n",
       "      <th>4</th>\n",
       "      <td>14900</td>\n",
       "      <td>2017.0</td>\n",
       "      <td>chrysler 200</td>\n",
       "      <td>excellent</td>\n",
       "      <td>4.0</td>\n",
       "      <td>gas</td>\n",
       "      <td>80903.000000</td>\n",
       "      <td>automatic</td>\n",
       "      <td>sedan</td>\n",
       "      <td>black</td>\n",
       "      <td>0.0</td>\n",
       "      <td>2019-04-02</td>\n",
       "      <td>28</td>\n",
       "      <td>2019</td>\n",
       "      <td>3.0</td>\n",
       "      <td>45620.000000</td>\n",
       "      <td>3</td>\n",
       "    </tr>\n",
       "  </tbody>\n",
       "</table>\n",
       "</div>"
      ],
      "text/plain": [
       "   price  model_year           model  condition  cylinders fuel  \\\n",
       "0   9400      2011.0          bmw x5       good        6.0  gas   \n",
       "1  25500      2011.0      ford f-150       good        6.0  gas   \n",
       "2   5500      2013.0  hyundai sonata   like new        4.0  gas   \n",
       "3   1500      2003.0      ford f-150       fair        8.0  gas   \n",
       "4  14900      2017.0    chrysler 200  excellent        4.0  gas   \n",
       "\n",
       "        odometer transmission    type paint_color  is_4wd date_posted  \\\n",
       "0  145000.000000    automatic     SUV       other     1.0  2018-06-23   \n",
       "1   88705.000000    automatic  pickup       white     1.0  2018-10-19   \n",
       "2  110000.000000    automatic   sedan         red     0.0  2019-02-07   \n",
       "3  162071.751024    automatic  pickup       other     0.0  2019-03-22   \n",
       "4   80903.000000    automatic   sedan       black     0.0  2019-04-02   \n",
       "\n",
       "   days_listed  year_posted  vehicle_age    avg_mileage  condition_counters  \n",
       "0           19         2018          8.0  124883.614978                   2  \n",
       "1           50         2018          8.0  124883.614978                   2  \n",
       "2           79         2019          7.0  102880.891908                   4  \n",
       "3            9         2019         17.0  162071.751024                   1  \n",
       "4           28         2019          3.0   45620.000000                   3  "
      ]
     },
     "execution_count": 75,
     "metadata": {},
     "output_type": "execute_result"
    }
   ],
   "source": [
    "# Add the vehicle's average mileage per year\n",
    "\n",
    "data['avg_mileage'] = data.groupby('model_year')['odometer'].transform('median')\n",
    "data.head()"
   ]
  },
  {
   "cell_type": "code",
   "execution_count": 76,
   "metadata": {},
   "outputs": [],
   "source": [
    "# categorize the condition column into a numeric value and add a new column\n",
    "def condition(age):\n",
    "    if age == 'new':\n",
    "        return 5\n",
    "    elif age == 'like new':\n",
    "        return 4\n",
    "    elif age == 'excellent':\n",
    "        return 3\n",
    "    elif age == 'good':\n",
    "        return 2\n",
    "    elif age == 'fair':\n",
    "        return 1\n",
    "    else:\n",
    "        return 0"
   ]
  },
  {
   "cell_type": "code",
   "execution_count": 32,
   "metadata": {},
   "outputs": [
    {
     "data": {
      "text/plain": [
       "3"
      ]
     },
     "execution_count": 32,
     "metadata": {},
     "output_type": "execute_result"
    }
   ],
   "source": [
    "condition('excellent')\n"
   ]
  },
  {
   "cell_type": "code",
   "execution_count": 33,
   "metadata": {},
   "outputs": [
    {
     "data": {
      "text/html": [
       "<div>\n",
       "<style scoped>\n",
       "    .dataframe tbody tr th:only-of-type {\n",
       "        vertical-align: middle;\n",
       "    }\n",
       "\n",
       "    .dataframe tbody tr th {\n",
       "        vertical-align: top;\n",
       "    }\n",
       "\n",
       "    .dataframe thead th {\n",
       "        text-align: right;\n",
       "    }\n",
       "</style>\n",
       "<table border=\"1\" class=\"dataframe\">\n",
       "  <thead>\n",
       "    <tr style=\"text-align: right;\">\n",
       "      <th></th>\n",
       "      <th>price</th>\n",
       "      <th>model_year</th>\n",
       "      <th>model</th>\n",
       "      <th>condition</th>\n",
       "      <th>cylinders</th>\n",
       "      <th>fuel</th>\n",
       "      <th>odometer</th>\n",
       "      <th>transmission</th>\n",
       "      <th>type</th>\n",
       "      <th>paint_color</th>\n",
       "      <th>is_4wd</th>\n",
       "      <th>date_posted</th>\n",
       "      <th>days_listed</th>\n",
       "      <th>year_posted</th>\n",
       "      <th>vehicle_age</th>\n",
       "      <th>avg_mileage</th>\n",
       "      <th>condition_counters</th>\n",
       "    </tr>\n",
       "  </thead>\n",
       "  <tbody>\n",
       "    <tr>\n",
       "      <th>0</th>\n",
       "      <td>9400</td>\n",
       "      <td>2011.0</td>\n",
       "      <td>bmw x5</td>\n",
       "      <td>good</td>\n",
       "      <td>6.0</td>\n",
       "      <td>gas</td>\n",
       "      <td>145000.000000</td>\n",
       "      <td>automatic</td>\n",
       "      <td>SUV</td>\n",
       "      <td>other</td>\n",
       "      <td>1.0</td>\n",
       "      <td>2018-06-23</td>\n",
       "      <td>19</td>\n",
       "      <td>2018</td>\n",
       "      <td>7.0</td>\n",
       "      <td>124883.614978</td>\n",
       "      <td>2</td>\n",
       "    </tr>\n",
       "    <tr>\n",
       "      <th>1</th>\n",
       "      <td>25500</td>\n",
       "      <td>2011.0</td>\n",
       "      <td>ford f-150</td>\n",
       "      <td>good</td>\n",
       "      <td>6.0</td>\n",
       "      <td>gas</td>\n",
       "      <td>88705.000000</td>\n",
       "      <td>automatic</td>\n",
       "      <td>pickup</td>\n",
       "      <td>white</td>\n",
       "      <td>1.0</td>\n",
       "      <td>2018-10-19</td>\n",
       "      <td>50</td>\n",
       "      <td>2018</td>\n",
       "      <td>7.0</td>\n",
       "      <td>124883.614978</td>\n",
       "      <td>2</td>\n",
       "    </tr>\n",
       "    <tr>\n",
       "      <th>2</th>\n",
       "      <td>5500</td>\n",
       "      <td>2013.0</td>\n",
       "      <td>hyundai sonata</td>\n",
       "      <td>like new</td>\n",
       "      <td>4.0</td>\n",
       "      <td>gas</td>\n",
       "      <td>110000.000000</td>\n",
       "      <td>automatic</td>\n",
       "      <td>sedan</td>\n",
       "      <td>red</td>\n",
       "      <td>0.0</td>\n",
       "      <td>2019-02-07</td>\n",
       "      <td>79</td>\n",
       "      <td>2019</td>\n",
       "      <td>6.0</td>\n",
       "      <td>102880.891908</td>\n",
       "      <td>4</td>\n",
       "    </tr>\n",
       "    <tr>\n",
       "      <th>3</th>\n",
       "      <td>1500</td>\n",
       "      <td>2003.0</td>\n",
       "      <td>ford f-150</td>\n",
       "      <td>fair</td>\n",
       "      <td>8.0</td>\n",
       "      <td>gas</td>\n",
       "      <td>162071.751024</td>\n",
       "      <td>automatic</td>\n",
       "      <td>pickup</td>\n",
       "      <td>other</td>\n",
       "      <td>0.0</td>\n",
       "      <td>2019-03-22</td>\n",
       "      <td>9</td>\n",
       "      <td>2019</td>\n",
       "      <td>16.0</td>\n",
       "      <td>162071.751024</td>\n",
       "      <td>1</td>\n",
       "    </tr>\n",
       "    <tr>\n",
       "      <th>4</th>\n",
       "      <td>14900</td>\n",
       "      <td>2017.0</td>\n",
       "      <td>chrysler 200</td>\n",
       "      <td>excellent</td>\n",
       "      <td>4.0</td>\n",
       "      <td>gas</td>\n",
       "      <td>80903.000000</td>\n",
       "      <td>automatic</td>\n",
       "      <td>sedan</td>\n",
       "      <td>black</td>\n",
       "      <td>0.0</td>\n",
       "      <td>2019-04-02</td>\n",
       "      <td>28</td>\n",
       "      <td>2019</td>\n",
       "      <td>2.0</td>\n",
       "      <td>45620.000000</td>\n",
       "      <td>3</td>\n",
       "    </tr>\n",
       "  </tbody>\n",
       "</table>\n",
       "</div>"
      ],
      "text/plain": [
       "   price  model_year           model  condition  cylinders fuel  \\\n",
       "0   9400      2011.0          bmw x5       good        6.0  gas   \n",
       "1  25500      2011.0      ford f-150       good        6.0  gas   \n",
       "2   5500      2013.0  hyundai sonata   like new        4.0  gas   \n",
       "3   1500      2003.0      ford f-150       fair        8.0  gas   \n",
       "4  14900      2017.0    chrysler 200  excellent        4.0  gas   \n",
       "\n",
       "        odometer transmission    type paint_color  is_4wd date_posted  \\\n",
       "0  145000.000000    automatic     SUV       other     1.0  2018-06-23   \n",
       "1   88705.000000    automatic  pickup       white     1.0  2018-10-19   \n",
       "2  110000.000000    automatic   sedan         red     0.0  2019-02-07   \n",
       "3  162071.751024    automatic  pickup       other     0.0  2019-03-22   \n",
       "4   80903.000000    automatic   sedan       black     0.0  2019-04-02   \n",
       "\n",
       "   days_listed  year_posted  vehicle_age    avg_mileage  condition_counters  \n",
       "0           19         2018          7.0  124883.614978                   2  \n",
       "1           50         2018          7.0  124883.614978                   2  \n",
       "2           79         2019          6.0  102880.891908                   4  \n",
       "3            9         2019         16.0  162071.751024                   1  \n",
       "4           28         2019          2.0   45620.000000                   3  "
      ]
     },
     "execution_count": 33,
     "metadata": {},
     "output_type": "execute_result"
    }
   ],
   "source": [
    "data['condition_counters'] = data['condition'].apply(condition)\n",
    "data.head()"
   ]
  },
  {
   "cell_type": "markdown",
   "metadata": {},
   "source": [
    "## Check clean data"
   ]
  },
  {
   "cell_type": "markdown",
   "metadata": {},
   "source": [
    "[Given the data is ready for the analysis, take just another quick look at it. It is helpful to see what exactly you are going to use for the analysis.]"
   ]
  },
  {
   "cell_type": "code",
   "execution_count": 34,
   "metadata": {},
   "outputs": [
    {
     "name": "stdout",
     "output_type": "stream",
     "text": [
      "<class 'pandas.core.frame.DataFrame'>\n",
      "Int64Index: 50975 entries, 0 to 51524\n",
      "Data columns (total 17 columns):\n",
      " #   Column              Non-Null Count  Dtype         \n",
      "---  ------              --------------  -----         \n",
      " 0   price               50975 non-null  int64         \n",
      " 1   model_year          50975 non-null  float64       \n",
      " 2   model               50975 non-null  object        \n",
      " 3   condition           50975 non-null  object        \n",
      " 4   cylinders           50975 non-null  float64       \n",
      " 5   fuel                50975 non-null  object        \n",
      " 6   odometer            50975 non-null  float64       \n",
      " 7   transmission        50975 non-null  object        \n",
      " 8   type                50975 non-null  object        \n",
      " 9   paint_color         50975 non-null  object        \n",
      " 10  is_4wd              50975 non-null  float64       \n",
      " 11  date_posted         50975 non-null  datetime64[ns]\n",
      " 12  days_listed         50975 non-null  int64         \n",
      " 13  year_posted         50975 non-null  int64         \n",
      " 14  vehicle_age         50975 non-null  float64       \n",
      " 15  avg_mileage         50975 non-null  float64       \n",
      " 16  condition_counters  50975 non-null  int64         \n",
      "dtypes: datetime64[ns](1), float64(6), int64(4), object(6)\n",
      "memory usage: 7.0+ MB\n"
     ]
    }
   ],
   "source": [
    "# print the general/summary information about the DataFrame\n",
    "\n",
    "data.info()"
   ]
  },
  {
   "cell_type": "code",
   "execution_count": 35,
   "metadata": {},
   "outputs": [
    {
     "data": {
      "text/html": [
       "<div>\n",
       "<style scoped>\n",
       "    .dataframe tbody tr th:only-of-type {\n",
       "        vertical-align: middle;\n",
       "    }\n",
       "\n",
       "    .dataframe tbody tr th {\n",
       "        vertical-align: top;\n",
       "    }\n",
       "\n",
       "    .dataframe thead th {\n",
       "        text-align: right;\n",
       "    }\n",
       "</style>\n",
       "<table border=\"1\" class=\"dataframe\">\n",
       "  <thead>\n",
       "    <tr style=\"text-align: right;\">\n",
       "      <th></th>\n",
       "      <th>price</th>\n",
       "      <th>model_year</th>\n",
       "      <th>model</th>\n",
       "      <th>condition</th>\n",
       "      <th>cylinders</th>\n",
       "      <th>fuel</th>\n",
       "      <th>odometer</th>\n",
       "      <th>transmission</th>\n",
       "      <th>type</th>\n",
       "      <th>paint_color</th>\n",
       "      <th>is_4wd</th>\n",
       "      <th>date_posted</th>\n",
       "      <th>days_listed</th>\n",
       "      <th>year_posted</th>\n",
       "      <th>vehicle_age</th>\n",
       "      <th>avg_mileage</th>\n",
       "      <th>condition_counters</th>\n",
       "    </tr>\n",
       "  </thead>\n",
       "  <tbody>\n",
       "    <tr>\n",
       "      <th>0</th>\n",
       "      <td>9400</td>\n",
       "      <td>2011.0</td>\n",
       "      <td>bmw x5</td>\n",
       "      <td>good</td>\n",
       "      <td>6.00000</td>\n",
       "      <td>gas</td>\n",
       "      <td>145000.000000</td>\n",
       "      <td>automatic</td>\n",
       "      <td>SUV</td>\n",
       "      <td>other</td>\n",
       "      <td>1.0</td>\n",
       "      <td>2018-06-23</td>\n",
       "      <td>19</td>\n",
       "      <td>2018</td>\n",
       "      <td>7.0</td>\n",
       "      <td>124883.614978</td>\n",
       "      <td>2</td>\n",
       "    </tr>\n",
       "    <tr>\n",
       "      <th>1</th>\n",
       "      <td>25500</td>\n",
       "      <td>2011.0</td>\n",
       "      <td>ford f-150</td>\n",
       "      <td>good</td>\n",
       "      <td>6.00000</td>\n",
       "      <td>gas</td>\n",
       "      <td>88705.000000</td>\n",
       "      <td>automatic</td>\n",
       "      <td>pickup</td>\n",
       "      <td>white</td>\n",
       "      <td>1.0</td>\n",
       "      <td>2018-10-19</td>\n",
       "      <td>50</td>\n",
       "      <td>2018</td>\n",
       "      <td>7.0</td>\n",
       "      <td>124883.614978</td>\n",
       "      <td>2</td>\n",
       "    </tr>\n",
       "    <tr>\n",
       "      <th>2</th>\n",
       "      <td>5500</td>\n",
       "      <td>2013.0</td>\n",
       "      <td>hyundai sonata</td>\n",
       "      <td>like new</td>\n",
       "      <td>4.00000</td>\n",
       "      <td>gas</td>\n",
       "      <td>110000.000000</td>\n",
       "      <td>automatic</td>\n",
       "      <td>sedan</td>\n",
       "      <td>red</td>\n",
       "      <td>0.0</td>\n",
       "      <td>2019-02-07</td>\n",
       "      <td>79</td>\n",
       "      <td>2019</td>\n",
       "      <td>6.0</td>\n",
       "      <td>102880.891908</td>\n",
       "      <td>4</td>\n",
       "    </tr>\n",
       "    <tr>\n",
       "      <th>3</th>\n",
       "      <td>1500</td>\n",
       "      <td>2003.0</td>\n",
       "      <td>ford f-150</td>\n",
       "      <td>fair</td>\n",
       "      <td>8.00000</td>\n",
       "      <td>gas</td>\n",
       "      <td>162071.751024</td>\n",
       "      <td>automatic</td>\n",
       "      <td>pickup</td>\n",
       "      <td>other</td>\n",
       "      <td>0.0</td>\n",
       "      <td>2019-03-22</td>\n",
       "      <td>9</td>\n",
       "      <td>2019</td>\n",
       "      <td>16.0</td>\n",
       "      <td>162071.751024</td>\n",
       "      <td>1</td>\n",
       "    </tr>\n",
       "    <tr>\n",
       "      <th>4</th>\n",
       "      <td>14900</td>\n",
       "      <td>2017.0</td>\n",
       "      <td>chrysler 200</td>\n",
       "      <td>excellent</td>\n",
       "      <td>4.00000</td>\n",
       "      <td>gas</td>\n",
       "      <td>80903.000000</td>\n",
       "      <td>automatic</td>\n",
       "      <td>sedan</td>\n",
       "      <td>black</td>\n",
       "      <td>0.0</td>\n",
       "      <td>2019-04-02</td>\n",
       "      <td>28</td>\n",
       "      <td>2019</td>\n",
       "      <td>2.0</td>\n",
       "      <td>45620.000000</td>\n",
       "      <td>3</td>\n",
       "    </tr>\n",
       "    <tr>\n",
       "      <th>5</th>\n",
       "      <td>14990</td>\n",
       "      <td>2014.0</td>\n",
       "      <td>chrysler 300</td>\n",
       "      <td>excellent</td>\n",
       "      <td>6.00000</td>\n",
       "      <td>gas</td>\n",
       "      <td>57954.000000</td>\n",
       "      <td>automatic</td>\n",
       "      <td>sedan</td>\n",
       "      <td>black</td>\n",
       "      <td>1.0</td>\n",
       "      <td>2018-06-20</td>\n",
       "      <td>15</td>\n",
       "      <td>2018</td>\n",
       "      <td>4.0</td>\n",
       "      <td>93648.703319</td>\n",
       "      <td>3</td>\n",
       "    </tr>\n",
       "    <tr>\n",
       "      <th>6</th>\n",
       "      <td>12990</td>\n",
       "      <td>2015.0</td>\n",
       "      <td>toyota camry</td>\n",
       "      <td>excellent</td>\n",
       "      <td>4.00000</td>\n",
       "      <td>gas</td>\n",
       "      <td>79212.000000</td>\n",
       "      <td>automatic</td>\n",
       "      <td>sedan</td>\n",
       "      <td>white</td>\n",
       "      <td>0.0</td>\n",
       "      <td>2018-12-27</td>\n",
       "      <td>73</td>\n",
       "      <td>2018</td>\n",
       "      <td>3.0</td>\n",
       "      <td>82503.819348</td>\n",
       "      <td>3</td>\n",
       "    </tr>\n",
       "    <tr>\n",
       "      <th>7</th>\n",
       "      <td>15990</td>\n",
       "      <td>2013.0</td>\n",
       "      <td>honda pilot</td>\n",
       "      <td>excellent</td>\n",
       "      <td>6.00000</td>\n",
       "      <td>gas</td>\n",
       "      <td>109473.000000</td>\n",
       "      <td>automatic</td>\n",
       "      <td>SUV</td>\n",
       "      <td>black</td>\n",
       "      <td>1.0</td>\n",
       "      <td>2019-01-07</td>\n",
       "      <td>68</td>\n",
       "      <td>2019</td>\n",
       "      <td>6.0</td>\n",
       "      <td>102880.891908</td>\n",
       "      <td>3</td>\n",
       "    </tr>\n",
       "    <tr>\n",
       "      <th>8</th>\n",
       "      <td>11500</td>\n",
       "      <td>2012.0</td>\n",
       "      <td>kia sorento</td>\n",
       "      <td>excellent</td>\n",
       "      <td>4.00000</td>\n",
       "      <td>gas</td>\n",
       "      <td>104174.000000</td>\n",
       "      <td>automatic</td>\n",
       "      <td>SUV</td>\n",
       "      <td>other</td>\n",
       "      <td>1.0</td>\n",
       "      <td>2018-07-16</td>\n",
       "      <td>19</td>\n",
       "      <td>2018</td>\n",
       "      <td>6.0</td>\n",
       "      <td>112051.523598</td>\n",
       "      <td>3</td>\n",
       "    </tr>\n",
       "    <tr>\n",
       "      <th>9</th>\n",
       "      <td>9200</td>\n",
       "      <td>2008.0</td>\n",
       "      <td>honda pilot</td>\n",
       "      <td>excellent</td>\n",
       "      <td>5.99631</td>\n",
       "      <td>gas</td>\n",
       "      <td>147191.000000</td>\n",
       "      <td>automatic</td>\n",
       "      <td>SUV</td>\n",
       "      <td>blue</td>\n",
       "      <td>1.0</td>\n",
       "      <td>2019-02-15</td>\n",
       "      <td>17</td>\n",
       "      <td>2019</td>\n",
       "      <td>11.0</td>\n",
       "      <td>139878.910813</td>\n",
       "      <td>3</td>\n",
       "    </tr>\n",
       "  </tbody>\n",
       "</table>\n",
       "</div>"
      ],
      "text/plain": [
       "   price  model_year           model  condition  cylinders fuel  \\\n",
       "0   9400      2011.0          bmw x5       good    6.00000  gas   \n",
       "1  25500      2011.0      ford f-150       good    6.00000  gas   \n",
       "2   5500      2013.0  hyundai sonata   like new    4.00000  gas   \n",
       "3   1500      2003.0      ford f-150       fair    8.00000  gas   \n",
       "4  14900      2017.0    chrysler 200  excellent    4.00000  gas   \n",
       "5  14990      2014.0    chrysler 300  excellent    6.00000  gas   \n",
       "6  12990      2015.0    toyota camry  excellent    4.00000  gas   \n",
       "7  15990      2013.0     honda pilot  excellent    6.00000  gas   \n",
       "8  11500      2012.0     kia sorento  excellent    4.00000  gas   \n",
       "9   9200      2008.0     honda pilot  excellent    5.99631  gas   \n",
       "\n",
       "        odometer transmission    type paint_color  is_4wd date_posted  \\\n",
       "0  145000.000000    automatic     SUV       other     1.0  2018-06-23   \n",
       "1   88705.000000    automatic  pickup       white     1.0  2018-10-19   \n",
       "2  110000.000000    automatic   sedan         red     0.0  2019-02-07   \n",
       "3  162071.751024    automatic  pickup       other     0.0  2019-03-22   \n",
       "4   80903.000000    automatic   sedan       black     0.0  2019-04-02   \n",
       "5   57954.000000    automatic   sedan       black     1.0  2018-06-20   \n",
       "6   79212.000000    automatic   sedan       white     0.0  2018-12-27   \n",
       "7  109473.000000    automatic     SUV       black     1.0  2019-01-07   \n",
       "8  104174.000000    automatic     SUV       other     1.0  2018-07-16   \n",
       "9  147191.000000    automatic     SUV        blue     1.0  2019-02-15   \n",
       "\n",
       "   days_listed  year_posted  vehicle_age    avg_mileage  condition_counters  \n",
       "0           19         2018          7.0  124883.614978                   2  \n",
       "1           50         2018          7.0  124883.614978                   2  \n",
       "2           79         2019          6.0  102880.891908                   4  \n",
       "3            9         2019         16.0  162071.751024                   1  \n",
       "4           28         2019          2.0   45620.000000                   3  \n",
       "5           15         2018          4.0   93648.703319                   3  \n",
       "6           73         2018          3.0   82503.819348                   3  \n",
       "7           68         2019          6.0  102880.891908                   3  \n",
       "8           19         2018          6.0  112051.523598                   3  \n",
       "9           17         2019         11.0  139878.910813                   3  "
      ]
     },
     "execution_count": 35,
     "metadata": {},
     "output_type": "execute_result"
    }
   ],
   "source": [
    "# print a sample of data\n",
    "data.head(10)\n"
   ]
  },
  {
   "cell_type": "markdown",
   "metadata": {},
   "source": [
    "## Study core parameters\n",
    "\n",
    "[Choose an appropriate approach to study the parameters listed below, pay special attention to how outliers affect the form and readability of the histograms.]\n",
    "\n",
    "The parameters are\n",
    "- Price\n",
    "- The vehicle's age when the ad was placed\n",
    "- Mileage\n",
    "- Number of cylinders\n",
    "- Condition"
   ]
  },
  {
   "cell_type": "markdown",
   "metadata": {},
   "source": [
    "[If you find that you need to repeat the same jobs multiple times, think about what coding instrument might be helpful for such a thing to avoid duplicating your code.]"
   ]
  },
  {
   "cell_type": "code",
   "execution_count": 36,
   "metadata": {},
   "outputs": [
    {
     "data": {
      "text/plain": [
       "count     50975.000000\n",
       "mean      12130.817106\n",
       "std       10042.165686\n",
       "min           1.000000\n",
       "25%        5000.000000\n",
       "50%        9000.000000\n",
       "75%       16800.000000\n",
       "max      375000.000000\n",
       "Name: price, dtype: float64"
      ]
     },
     "execution_count": 36,
     "metadata": {},
     "output_type": "execute_result"
    }
   ],
   "source": [
    "data['price'].describe()\n",
    "\n"
   ]
  },
  {
   "cell_type": "code",
   "execution_count": 37,
   "metadata": {},
   "outputs": [
    {
     "data": {
      "text/plain": [
       "<AxesSubplot:>"
      ]
     },
     "execution_count": 37,
     "metadata": {},
     "output_type": "execute_result"
    },
    {
     "data": {
      "image/png": "[encoded data removed]",
      "text/plain": [
       "<Figure size 432x288 with 1 Axes>"
      ]
     },
     "metadata": {
      "needs_background": "light"
     },
     "output_type": "display_data"
    }
   ],
   "source": [
    "#\n",
    "data['price'].hist()\n"
   ]
  },
  {
   "cell_type": "markdown",
   "metadata": {},
   "source": [
    "Let's write a function that shows:\n",
    "1. statistics for the column\n",
    "2. decides which way to skewed\n",
    "3.calculates IQR\n",
    "4. checks the lower and upper bounds of outliers"
   ]
  },
  {
   "cell_type": "code",
   "execution_count": 38,
   "metadata": {},
   "outputs": [],
   "source": [
    "\n",
    "def distribution_IQR(parameter):\n",
    "    print('The histogram of: {}'.format(parameter))\n",
    "    sns.boxplot(x=data[parameter])\n",
    "    plt.show()\n",
    "    if data[parameter].mean() > data[parameter].median():\n",
    "        print('skewed to the right')\n",
    "    else:\n",
    "        print('skewed to the left')\n",
    "    print('________________________')\n",
    "    print('Statistic on: {}'.format(parameter))\n",
    "    print(data[parameter].describe())\n",
    "    Q1 = data[parameter].quantile(0.25)\n",
    "    Q3 = data[parameter].quantile(0.75)\n",
    "    IQR = Q3 - Q1\n",
    "    min_iqr = Q1 - 1.5 * IQR\n",
    "    max_iqr = Q3 + 1.5 * IQR\n",
    "    print('____________')\n",
    "    print('mi border:', min_iqr)\n",
    "    print('max border:', max_iqr)\n",
    "    print('_________________')\n",
    "    if min_iqr < 0:\n",
    "        print(' The outliers are considered to be values above', max_iqr)\n",
    "        print('')\n"
   ]
  },
  {
   "cell_type": "code",
   "execution_count": 39,
   "metadata": {},
   "outputs": [
    {
     "name": "stdout",
     "output_type": "stream",
     "text": [
      "The histogram of: price\n"
     ]
    },
    {
     "data": {
      "image/png": "[encoded data removed]",
      "text/plain": [
       "<Figure size 432x288 with 1 Axes>"
      ]
     },
     "metadata": {
      "needs_background": "light"
     },
     "output_type": "display_data"
    },
    {
     "name": "stdout",
     "output_type": "stream",
     "text": [
      "skewed to the right\n",
      "________________________\n",
      "Statistic on: price\n",
      "count     50975.000000\n",
      "mean      12130.817106\n",
      "std       10042.165686\n",
      "min           1.000000\n",
      "25%        5000.000000\n",
      "50%        9000.000000\n",
      "75%       16800.000000\n",
      "max      375000.000000\n",
      "Name: price, dtype: float64\n",
      "____________\n",
      "mi border: -12700.0\n",
      "max border: 34500.0\n",
      "_________________\n",
      " The outliers are considered to be values above 34500.0\n",
      "\n"
     ]
    }
   ],
   "source": [
    "#\n",
    "distribution_IQR('price')\n"
   ]
  },
  {
   "cell_type": "code",
   "execution_count": 40,
   "metadata": {},
   "outputs": [
    {
     "name": "stdout",
     "output_type": "stream",
     "text": [
      "The histogram of: price\n"
     ]
    },
    {
     "data": {
      "image/png": "[encoded data removed]",
      "text/plain": [
       "<Figure size 432x288 with 1 Axes>"
      ]
     },
     "metadata": {
      "needs_background": "light"
     },
     "output_type": "display_data"
    },
    {
     "name": "stdout",
     "output_type": "stream",
     "text": [
      "skewed to the right\n",
      "________________________\n",
      "Statistic on: price\n",
      "count     50975.000000\n",
      "mean      12130.817106\n",
      "std       10042.165686\n",
      "min           1.000000\n",
      "25%        5000.000000\n",
      "50%        9000.000000\n",
      "75%       16800.000000\n",
      "max      375000.000000\n",
      "Name: price, dtype: float64\n",
      "____________\n",
      "mi border: -12700.0\n",
      "max border: 34500.0\n",
      "_________________\n",
      " The outliers are considered to be values above 34500.0\n",
      "\n",
      "The histogram of: vehicle_age\n"
     ]
    },
    {
     "data": {
      "image/png": "[encoded data removed]",
      "text/plain": [
       "<Figure size 432x288 with 1 Axes>"
      ]
     },
     "metadata": {
      "needs_background": "light"
     },
     "output_type": "display_data"
    },
    {
     "name": "stdout",
     "output_type": "stream",
     "text": [
      "skewed to the right\n",
      "________________________\n",
      "Statistic on: vehicle_age\n",
      "count    50975.000000\n",
      "mean         8.518784\n",
      "std          6.128776\n",
      "min          0.000000\n",
      "25%          4.000000\n",
      "50%          7.000000\n",
      "75%         12.000000\n",
      "max        110.000000\n",
      "Name: vehicle_age, dtype: float64\n",
      "____________\n",
      "mi border: -8.0\n",
      "max border: 24.0\n",
      "_________________\n",
      " The outliers are considered to be values above 24.0\n",
      "\n",
      "The histogram of: avg_mileage\n"
     ]
    },
    {
     "data": {
      "image/png": "[encoded data removed]",
      "text/plain": [
       "<Figure size 432x288 with 1 Axes>"
      ]
     },
     "metadata": {
      "needs_background": "light"
     },
     "output_type": "display_data"
    },
    {
     "name": "stdout",
     "output_type": "stream",
     "text": [
      "skewed to the left\n",
      "________________________\n",
      "Statistic on: avg_mileage\n",
      "count     50975.000000\n",
      "mean     115323.877497\n",
      "std       39872.983398\n",
      "min        1800.000000\n",
      "25%       93648.703319\n",
      "50%      124883.614978\n",
      "75%      143331.120915\n",
      "max      181997.985294\n",
      "Name: avg_mileage, dtype: float64\n",
      "____________\n",
      "mi border: 19125.076924467387\n",
      "max border: 217854.7473093719\n",
      "_________________\n",
      "The histogram of: cylinders\n"
     ]
    },
    {
     "data": {
      "image/png": "[encoded data removed]",
      "text/plain": [
       "<Figure size 432x288 with 1 Axes>"
      ]
     },
     "metadata": {
      "needs_background": "light"
     },
     "output_type": "display_data"
    },
    {
     "name": "stdout",
     "output_type": "stream",
     "text": [
      "skewed to the right\n",
      "________________________\n",
      "Statistic on: cylinders\n",
      "count    50975.000000\n",
      "mean         6.123797\n",
      "std          1.644806\n",
      "min          3.000000\n",
      "25%          4.000000\n",
      "50%          6.000000\n",
      "75%          8.000000\n",
      "max         12.000000\n",
      "Name: cylinders, dtype: float64\n",
      "____________\n",
      "mi border: -2.0\n",
      "max border: 14.0\n",
      "_________________\n",
      " The outliers are considered to be values above 14.0\n",
      "\n",
      "The histogram of: condition_counters\n"
     ]
    },
    {
     "data": {
      "image/png": "[encoded data removed]",
      "text/plain": [
       "<Figure size 432x288 with 1 Axes>"
      ]
     },
     "metadata": {
      "needs_background": "light"
     },
     "output_type": "display_data"
    },
    {
     "name": "stdout",
     "output_type": "stream",
     "text": [
      "skewed to the left\n",
      "________________________\n",
      "Statistic on: condition_counters\n",
      "count    50975.000000\n",
      "mean         2.638117\n",
      "std          0.712584\n",
      "min          0.000000\n",
      "25%          2.000000\n",
      "50%          3.000000\n",
      "75%          3.000000\n",
      "max          5.000000\n",
      "Name: condition_counters, dtype: float64\n",
      "____________\n",
      "mi border: 0.5\n",
      "max border: 4.5\n",
      "_________________\n"
     ]
    }
   ],
   "source": [
    "# by simple iteration we call the function on the columns and check\n",
    "for parameter in ['price', 'vehicle_age', 'avg_mileage', 'cylinders', 'condition_counters']:\n",
    "    distribution_IQR(parameter)\n",
    "    \n",
    "\n"
   ]
  },
  {
   "cell_type": "markdown",
   "metadata": {},
   "source": [
    "we see that in the case of the column:\n",
    "1. price - the upper limit is 34500, the lower one is negative, because wrong distribution. we will consider for the lower bound -0\n",
    "2. vehicle_age - upper limit 24. lower negative, take 0\n",
    "3. avg_mileage - upper - 217854 lower 19125\n",
    "4. cylinders - from the graph we see that there are no emissions, although the borders are at 14 and -8.\n",
    "5. condition_counters - 4 and 1\n",
    "everything outside these boundaries is considered outliers. at the same time, in the subsequent analysis, we will refer not only to the boundaries, but also to the graphs.\n",
    "\n"
   ]
  },
  {
   "cell_type": "markdown",
   "metadata": {},
   "source": [
    "## Study and treat outliers\n",
    "\n",
    "[Given the results above, determine what columns may contain outliers, and create a DataFrame without those outliers. Hint: Outliers can be identified by defining the lower/upper limits for normal range of values.]"
   ]
  },
  {
   "cell_type": "code",
   "execution_count": 41,
   "metadata": {},
   "outputs": [],
   "source": [
    "data_clean = data.copy()\n",
    "for parameter in ['price', 'vehicle_age', 'avg_mileage', 'cylinders', 'condition_counters']:\n",
    "    Q1 = data_clean[parameter].quantile(0.25)\n",
    "    Q3 = data_clean[parameter].quantile(0.75)\n",
    "    IQR = Q3 - Q1\n",
    "    min_iqr = Q1 - 1.5 * IQR\n",
    "    max_iqr = Q3 + 1.5 * IQR\n",
    "    data_clean = data_clean[(data_clean[parameter] > min_iqr)&(data_clean[parameter] < max_iqr)]\n",
    "    \n",
    "    \n",
    "\n"
   ]
  },
  {
   "cell_type": "code",
   "execution_count": 42,
   "metadata": {},
   "outputs": [
    {
     "data": {
      "text/html": [
       "<div>\n",
       "<style scoped>\n",
       "    .dataframe tbody tr th:only-of-type {\n",
       "        vertical-align: middle;\n",
       "    }\n",
       "\n",
       "    .dataframe tbody tr th {\n",
       "        vertical-align: top;\n",
       "    }\n",
       "\n",
       "    .dataframe thead th {\n",
       "        text-align: right;\n",
       "    }\n",
       "</style>\n",
       "<table border=\"1\" class=\"dataframe\">\n",
       "  <thead>\n",
       "    <tr style=\"text-align: right;\">\n",
       "      <th></th>\n",
       "      <th>price</th>\n",
       "      <th>model_year</th>\n",
       "      <th>model</th>\n",
       "      <th>condition</th>\n",
       "      <th>cylinders</th>\n",
       "      <th>fuel</th>\n",
       "      <th>odometer</th>\n",
       "      <th>transmission</th>\n",
       "      <th>type</th>\n",
       "      <th>paint_color</th>\n",
       "      <th>is_4wd</th>\n",
       "      <th>date_posted</th>\n",
       "      <th>days_listed</th>\n",
       "      <th>year_posted</th>\n",
       "      <th>vehicle_age</th>\n",
       "      <th>avg_mileage</th>\n",
       "      <th>condition_counters</th>\n",
       "    </tr>\n",
       "  </thead>\n",
       "  <tbody>\n",
       "    <tr>\n",
       "      <th>0</th>\n",
       "      <td>9400</td>\n",
       "      <td>2011.0</td>\n",
       "      <td>bmw x5</td>\n",
       "      <td>good</td>\n",
       "      <td>6.0</td>\n",
       "      <td>gas</td>\n",
       "      <td>145000.000000</td>\n",
       "      <td>automatic</td>\n",
       "      <td>SUV</td>\n",
       "      <td>other</td>\n",
       "      <td>1.0</td>\n",
       "      <td>2018-06-23</td>\n",
       "      <td>19</td>\n",
       "      <td>2018</td>\n",
       "      <td>7.0</td>\n",
       "      <td>124883.614978</td>\n",
       "      <td>2</td>\n",
       "    </tr>\n",
       "    <tr>\n",
       "      <th>1</th>\n",
       "      <td>25500</td>\n",
       "      <td>2011.0</td>\n",
       "      <td>ford f-150</td>\n",
       "      <td>good</td>\n",
       "      <td>6.0</td>\n",
       "      <td>gas</td>\n",
       "      <td>88705.000000</td>\n",
       "      <td>automatic</td>\n",
       "      <td>pickup</td>\n",
       "      <td>white</td>\n",
       "      <td>1.0</td>\n",
       "      <td>2018-10-19</td>\n",
       "      <td>50</td>\n",
       "      <td>2018</td>\n",
       "      <td>7.0</td>\n",
       "      <td>124883.614978</td>\n",
       "      <td>2</td>\n",
       "    </tr>\n",
       "    <tr>\n",
       "      <th>2</th>\n",
       "      <td>5500</td>\n",
       "      <td>2013.0</td>\n",
       "      <td>hyundai sonata</td>\n",
       "      <td>like new</td>\n",
       "      <td>4.0</td>\n",
       "      <td>gas</td>\n",
       "      <td>110000.000000</td>\n",
       "      <td>automatic</td>\n",
       "      <td>sedan</td>\n",
       "      <td>red</td>\n",
       "      <td>0.0</td>\n",
       "      <td>2019-02-07</td>\n",
       "      <td>79</td>\n",
       "      <td>2019</td>\n",
       "      <td>6.0</td>\n",
       "      <td>102880.891908</td>\n",
       "      <td>4</td>\n",
       "    </tr>\n",
       "    <tr>\n",
       "      <th>3</th>\n",
       "      <td>1500</td>\n",
       "      <td>2003.0</td>\n",
       "      <td>ford f-150</td>\n",
       "      <td>fair</td>\n",
       "      <td>8.0</td>\n",
       "      <td>gas</td>\n",
       "      <td>162071.751024</td>\n",
       "      <td>automatic</td>\n",
       "      <td>pickup</td>\n",
       "      <td>other</td>\n",
       "      <td>0.0</td>\n",
       "      <td>2019-03-22</td>\n",
       "      <td>9</td>\n",
       "      <td>2019</td>\n",
       "      <td>16.0</td>\n",
       "      <td>162071.751024</td>\n",
       "      <td>1</td>\n",
       "    </tr>\n",
       "    <tr>\n",
       "      <th>4</th>\n",
       "      <td>14900</td>\n",
       "      <td>2017.0</td>\n",
       "      <td>chrysler 200</td>\n",
       "      <td>excellent</td>\n",
       "      <td>4.0</td>\n",
       "      <td>gas</td>\n",
       "      <td>80903.000000</td>\n",
       "      <td>automatic</td>\n",
       "      <td>sedan</td>\n",
       "      <td>black</td>\n",
       "      <td>0.0</td>\n",
       "      <td>2019-04-02</td>\n",
       "      <td>28</td>\n",
       "      <td>2019</td>\n",
       "      <td>2.0</td>\n",
       "      <td>45620.000000</td>\n",
       "      <td>3</td>\n",
       "    </tr>\n",
       "    <tr>\n",
       "      <th>...</th>\n",
       "      <td>...</td>\n",
       "      <td>...</td>\n",
       "      <td>...</td>\n",
       "      <td>...</td>\n",
       "      <td>...</td>\n",
       "      <td>...</td>\n",
       "      <td>...</td>\n",
       "      <td>...</td>\n",
       "      <td>...</td>\n",
       "      <td>...</td>\n",
       "      <td>...</td>\n",
       "      <td>...</td>\n",
       "      <td>...</td>\n",
       "      <td>...</td>\n",
       "      <td>...</td>\n",
       "      <td>...</td>\n",
       "      <td>...</td>\n",
       "    </tr>\n",
       "    <tr>\n",
       "      <th>51520</th>\n",
       "      <td>9249</td>\n",
       "      <td>2013.0</td>\n",
       "      <td>nissan maxima</td>\n",
       "      <td>like new</td>\n",
       "      <td>6.0</td>\n",
       "      <td>gas</td>\n",
       "      <td>88136.000000</td>\n",
       "      <td>automatic</td>\n",
       "      <td>sedan</td>\n",
       "      <td>black</td>\n",
       "      <td>0.0</td>\n",
       "      <td>2018-10-03</td>\n",
       "      <td>37</td>\n",
       "      <td>2018</td>\n",
       "      <td>5.0</td>\n",
       "      <td>102880.891908</td>\n",
       "      <td>4</td>\n",
       "    </tr>\n",
       "    <tr>\n",
       "      <th>51521</th>\n",
       "      <td>2700</td>\n",
       "      <td>2002.0</td>\n",
       "      <td>honda civic</td>\n",
       "      <td>salvage</td>\n",
       "      <td>4.0</td>\n",
       "      <td>gas</td>\n",
       "      <td>181500.000000</td>\n",
       "      <td>automatic</td>\n",
       "      <td>sedan</td>\n",
       "      <td>white</td>\n",
       "      <td>0.0</td>\n",
       "      <td>2018-11-14</td>\n",
       "      <td>22</td>\n",
       "      <td>2018</td>\n",
       "      <td>16.0</td>\n",
       "      <td>158508.842286</td>\n",
       "      <td>0</td>\n",
       "    </tr>\n",
       "    <tr>\n",
       "      <th>51522</th>\n",
       "      <td>3950</td>\n",
       "      <td>2009.0</td>\n",
       "      <td>hyundai sonata</td>\n",
       "      <td>excellent</td>\n",
       "      <td>4.0</td>\n",
       "      <td>gas</td>\n",
       "      <td>128000.000000</td>\n",
       "      <td>automatic</td>\n",
       "      <td>sedan</td>\n",
       "      <td>blue</td>\n",
       "      <td>0.0</td>\n",
       "      <td>2018-11-15</td>\n",
       "      <td>32</td>\n",
       "      <td>2018</td>\n",
       "      <td>9.0</td>\n",
       "      <td>132576.798250</td>\n",
       "      <td>3</td>\n",
       "    </tr>\n",
       "    <tr>\n",
       "      <th>51523</th>\n",
       "      <td>7455</td>\n",
       "      <td>2013.0</td>\n",
       "      <td>toyota corolla</td>\n",
       "      <td>good</td>\n",
       "      <td>4.0</td>\n",
       "      <td>gas</td>\n",
       "      <td>139573.000000</td>\n",
       "      <td>automatic</td>\n",
       "      <td>sedan</td>\n",
       "      <td>black</td>\n",
       "      <td>0.0</td>\n",
       "      <td>2018-07-02</td>\n",
       "      <td>71</td>\n",
       "      <td>2018</td>\n",
       "      <td>5.0</td>\n",
       "      <td>102880.891908</td>\n",
       "      <td>2</td>\n",
       "    </tr>\n",
       "    <tr>\n",
       "      <th>51524</th>\n",
       "      <td>6300</td>\n",
       "      <td>2014.0</td>\n",
       "      <td>nissan altima</td>\n",
       "      <td>good</td>\n",
       "      <td>4.0</td>\n",
       "      <td>gas</td>\n",
       "      <td>93648.703319</td>\n",
       "      <td>automatic</td>\n",
       "      <td>sedan</td>\n",
       "      <td>other</td>\n",
       "      <td>0.0</td>\n",
       "      <td>2018-06-05</td>\n",
       "      <td>10</td>\n",
       "      <td>2018</td>\n",
       "      <td>4.0</td>\n",
       "      <td>93648.703319</td>\n",
       "      <td>2</td>\n",
       "    </tr>\n",
       "  </tbody>\n",
       "</table>\n",
       "<p>50975 rows × 17 columns</p>\n",
       "</div>"
      ],
      "text/plain": [
       "       price  model_year           model  condition  cylinders fuel  \\\n",
       "0       9400      2011.0          bmw x5       good        6.0  gas   \n",
       "1      25500      2011.0      ford f-150       good        6.0  gas   \n",
       "2       5500      2013.0  hyundai sonata   like new        4.0  gas   \n",
       "3       1500      2003.0      ford f-150       fair        8.0  gas   \n",
       "4      14900      2017.0    chrysler 200  excellent        4.0  gas   \n",
       "...      ...         ...             ...        ...        ...  ...   \n",
       "51520   9249      2013.0   nissan maxima   like new        6.0  gas   \n",
       "51521   2700      2002.0     honda civic    salvage        4.0  gas   \n",
       "51522   3950      2009.0  hyundai sonata  excellent        4.0  gas   \n",
       "51523   7455      2013.0  toyota corolla       good        4.0  gas   \n",
       "51524   6300      2014.0   nissan altima       good        4.0  gas   \n",
       "\n",
       "            odometer transmission    type paint_color  is_4wd date_posted  \\\n",
       "0      145000.000000    automatic     SUV       other     1.0  2018-06-23   \n",
       "1       88705.000000    automatic  pickup       white     1.0  2018-10-19   \n",
       "2      110000.000000    automatic   sedan         red     0.0  2019-02-07   \n",
       "3      162071.751024    automatic  pickup       other     0.0  2019-03-22   \n",
       "4       80903.000000    automatic   sedan       black     0.0  2019-04-02   \n",
       "...              ...          ...     ...         ...     ...         ...   \n",
       "51520   88136.000000    automatic   sedan       black     0.0  2018-10-03   \n",
       "51521  181500.000000    automatic   sedan       white     0.0  2018-11-14   \n",
       "51522  128000.000000    automatic   sedan        blue     0.0  2018-11-15   \n",
       "51523  139573.000000    automatic   sedan       black     0.0  2018-07-02   \n",
       "51524   93648.703319    automatic   sedan       other     0.0  2018-06-05   \n",
       "\n",
       "       days_listed  year_posted  vehicle_age    avg_mileage  \\\n",
       "0               19         2018          7.0  124883.614978   \n",
       "1               50         2018          7.0  124883.614978   \n",
       "2               79         2019          6.0  102880.891908   \n",
       "3                9         2019         16.0  162071.751024   \n",
       "4               28         2019          2.0   45620.000000   \n",
       "...            ...          ...          ...            ...   \n",
       "51520           37         2018          5.0  102880.891908   \n",
       "51521           22         2018         16.0  158508.842286   \n",
       "51522           32         2018          9.0  132576.798250   \n",
       "51523           71         2018          5.0  102880.891908   \n",
       "51524           10         2018          4.0   93648.703319   \n",
       "\n",
       "       condition_counters  \n",
       "0                       2  \n",
       "1                       2  \n",
       "2                       4  \n",
       "3                       1  \n",
       "4                       3  \n",
       "...                   ...  \n",
       "51520                   4  \n",
       "51521                   0  \n",
       "51522                   3  \n",
       "51523                   2  \n",
       "51524                   2  \n",
       "\n",
       "[50975 rows x 17 columns]"
      ]
     },
     "execution_count": 42,
     "metadata": {},
     "output_type": "execute_result"
    }
   ],
   "source": [
    "# Store data without outliers in a separate DataFrame\n",
    "\n",
    "data"
   ]
  },
  {
   "cell_type": "code",
   "execution_count": 43,
   "metadata": {},
   "outputs": [
    {
     "data": {
      "text/html": [
       "<div>\n",
       "<style scoped>\n",
       "    .dataframe tbody tr th:only-of-type {\n",
       "        vertical-align: middle;\n",
       "    }\n",
       "\n",
       "    .dataframe tbody tr th {\n",
       "        vertical-align: top;\n",
       "    }\n",
       "\n",
       "    .dataframe thead th {\n",
       "        text-align: right;\n",
       "    }\n",
       "</style>\n",
       "<table border=\"1\" class=\"dataframe\">\n",
       "  <thead>\n",
       "    <tr style=\"text-align: right;\">\n",
       "      <th></th>\n",
       "      <th>price</th>\n",
       "      <th>model_year</th>\n",
       "      <th>model</th>\n",
       "      <th>condition</th>\n",
       "      <th>cylinders</th>\n",
       "      <th>fuel</th>\n",
       "      <th>odometer</th>\n",
       "      <th>transmission</th>\n",
       "      <th>type</th>\n",
       "      <th>paint_color</th>\n",
       "      <th>is_4wd</th>\n",
       "      <th>date_posted</th>\n",
       "      <th>days_listed</th>\n",
       "      <th>year_posted</th>\n",
       "      <th>vehicle_age</th>\n",
       "      <th>avg_mileage</th>\n",
       "      <th>condition_counters</th>\n",
       "    </tr>\n",
       "  </thead>\n",
       "  <tbody>\n",
       "    <tr>\n",
       "      <th>0</th>\n",
       "      <td>9400</td>\n",
       "      <td>2011.0</td>\n",
       "      <td>bmw x5</td>\n",
       "      <td>good</td>\n",
       "      <td>6.0</td>\n",
       "      <td>gas</td>\n",
       "      <td>145000.000000</td>\n",
       "      <td>automatic</td>\n",
       "      <td>SUV</td>\n",
       "      <td>other</td>\n",
       "      <td>1.0</td>\n",
       "      <td>2018-06-23</td>\n",
       "      <td>19</td>\n",
       "      <td>2018</td>\n",
       "      <td>7.0</td>\n",
       "      <td>124883.614978</td>\n",
       "      <td>2</td>\n",
       "    </tr>\n",
       "    <tr>\n",
       "      <th>1</th>\n",
       "      <td>25500</td>\n",
       "      <td>2011.0</td>\n",
       "      <td>ford f-150</td>\n",
       "      <td>good</td>\n",
       "      <td>6.0</td>\n",
       "      <td>gas</td>\n",
       "      <td>88705.000000</td>\n",
       "      <td>automatic</td>\n",
       "      <td>pickup</td>\n",
       "      <td>white</td>\n",
       "      <td>1.0</td>\n",
       "      <td>2018-10-19</td>\n",
       "      <td>50</td>\n",
       "      <td>2018</td>\n",
       "      <td>7.0</td>\n",
       "      <td>124883.614978</td>\n",
       "      <td>2</td>\n",
       "    </tr>\n",
       "    <tr>\n",
       "      <th>2</th>\n",
       "      <td>5500</td>\n",
       "      <td>2013.0</td>\n",
       "      <td>hyundai sonata</td>\n",
       "      <td>like new</td>\n",
       "      <td>4.0</td>\n",
       "      <td>gas</td>\n",
       "      <td>110000.000000</td>\n",
       "      <td>automatic</td>\n",
       "      <td>sedan</td>\n",
       "      <td>red</td>\n",
       "      <td>0.0</td>\n",
       "      <td>2019-02-07</td>\n",
       "      <td>79</td>\n",
       "      <td>2019</td>\n",
       "      <td>6.0</td>\n",
       "      <td>102880.891908</td>\n",
       "      <td>4</td>\n",
       "    </tr>\n",
       "    <tr>\n",
       "      <th>3</th>\n",
       "      <td>1500</td>\n",
       "      <td>2003.0</td>\n",
       "      <td>ford f-150</td>\n",
       "      <td>fair</td>\n",
       "      <td>8.0</td>\n",
       "      <td>gas</td>\n",
       "      <td>162071.751024</td>\n",
       "      <td>automatic</td>\n",
       "      <td>pickup</td>\n",
       "      <td>other</td>\n",
       "      <td>0.0</td>\n",
       "      <td>2019-03-22</td>\n",
       "      <td>9</td>\n",
       "      <td>2019</td>\n",
       "      <td>16.0</td>\n",
       "      <td>162071.751024</td>\n",
       "      <td>1</td>\n",
       "    </tr>\n",
       "    <tr>\n",
       "      <th>4</th>\n",
       "      <td>14900</td>\n",
       "      <td>2017.0</td>\n",
       "      <td>chrysler 200</td>\n",
       "      <td>excellent</td>\n",
       "      <td>4.0</td>\n",
       "      <td>gas</td>\n",
       "      <td>80903.000000</td>\n",
       "      <td>automatic</td>\n",
       "      <td>sedan</td>\n",
       "      <td>black</td>\n",
       "      <td>0.0</td>\n",
       "      <td>2019-04-02</td>\n",
       "      <td>28</td>\n",
       "      <td>2019</td>\n",
       "      <td>2.0</td>\n",
       "      <td>45620.000000</td>\n",
       "      <td>3</td>\n",
       "    </tr>\n",
       "    <tr>\n",
       "      <th>...</th>\n",
       "      <td>...</td>\n",
       "      <td>...</td>\n",
       "      <td>...</td>\n",
       "      <td>...</td>\n",
       "      <td>...</td>\n",
       "      <td>...</td>\n",
       "      <td>...</td>\n",
       "      <td>...</td>\n",
       "      <td>...</td>\n",
       "      <td>...</td>\n",
       "      <td>...</td>\n",
       "      <td>...</td>\n",
       "      <td>...</td>\n",
       "      <td>...</td>\n",
       "      <td>...</td>\n",
       "      <td>...</td>\n",
       "      <td>...</td>\n",
       "    </tr>\n",
       "    <tr>\n",
       "      <th>51519</th>\n",
       "      <td>11750</td>\n",
       "      <td>2015.0</td>\n",
       "      <td>honda accord</td>\n",
       "      <td>excellent</td>\n",
       "      <td>4.0</td>\n",
       "      <td>gas</td>\n",
       "      <td>82503.819348</td>\n",
       "      <td>automatic</td>\n",
       "      <td>coupe</td>\n",
       "      <td>other</td>\n",
       "      <td>0.0</td>\n",
       "      <td>2018-11-24</td>\n",
       "      <td>89</td>\n",
       "      <td>2018</td>\n",
       "      <td>3.0</td>\n",
       "      <td>82503.819348</td>\n",
       "      <td>3</td>\n",
       "    </tr>\n",
       "    <tr>\n",
       "      <th>51520</th>\n",
       "      <td>9249</td>\n",
       "      <td>2013.0</td>\n",
       "      <td>nissan maxima</td>\n",
       "      <td>like new</td>\n",
       "      <td>6.0</td>\n",
       "      <td>gas</td>\n",
       "      <td>88136.000000</td>\n",
       "      <td>automatic</td>\n",
       "      <td>sedan</td>\n",
       "      <td>black</td>\n",
       "      <td>0.0</td>\n",
       "      <td>2018-10-03</td>\n",
       "      <td>37</td>\n",
       "      <td>2018</td>\n",
       "      <td>5.0</td>\n",
       "      <td>102880.891908</td>\n",
       "      <td>4</td>\n",
       "    </tr>\n",
       "    <tr>\n",
       "      <th>51522</th>\n",
       "      <td>3950</td>\n",
       "      <td>2009.0</td>\n",
       "      <td>hyundai sonata</td>\n",
       "      <td>excellent</td>\n",
       "      <td>4.0</td>\n",
       "      <td>gas</td>\n",
       "      <td>128000.000000</td>\n",
       "      <td>automatic</td>\n",
       "      <td>sedan</td>\n",
       "      <td>blue</td>\n",
       "      <td>0.0</td>\n",
       "      <td>2018-11-15</td>\n",
       "      <td>32</td>\n",
       "      <td>2018</td>\n",
       "      <td>9.0</td>\n",
       "      <td>132576.798250</td>\n",
       "      <td>3</td>\n",
       "    </tr>\n",
       "    <tr>\n",
       "      <th>51523</th>\n",
       "      <td>7455</td>\n",
       "      <td>2013.0</td>\n",
       "      <td>toyota corolla</td>\n",
       "      <td>good</td>\n",
       "      <td>4.0</td>\n",
       "      <td>gas</td>\n",
       "      <td>139573.000000</td>\n",
       "      <td>automatic</td>\n",
       "      <td>sedan</td>\n",
       "      <td>black</td>\n",
       "      <td>0.0</td>\n",
       "      <td>2018-07-02</td>\n",
       "      <td>71</td>\n",
       "      <td>2018</td>\n",
       "      <td>5.0</td>\n",
       "      <td>102880.891908</td>\n",
       "      <td>2</td>\n",
       "    </tr>\n",
       "    <tr>\n",
       "      <th>51524</th>\n",
       "      <td>6300</td>\n",
       "      <td>2014.0</td>\n",
       "      <td>nissan altima</td>\n",
       "      <td>good</td>\n",
       "      <td>4.0</td>\n",
       "      <td>gas</td>\n",
       "      <td>93648.703319</td>\n",
       "      <td>automatic</td>\n",
       "      <td>sedan</td>\n",
       "      <td>other</td>\n",
       "      <td>0.0</td>\n",
       "      <td>2018-06-05</td>\n",
       "      <td>10</td>\n",
       "      <td>2018</td>\n",
       "      <td>4.0</td>\n",
       "      <td>93648.703319</td>\n",
       "      <td>2</td>\n",
       "    </tr>\n",
       "  </tbody>\n",
       "</table>\n",
       "<p>47994 rows × 17 columns</p>\n",
       "</div>"
      ],
      "text/plain": [
       "       price  model_year           model  condition  cylinders fuel  \\\n",
       "0       9400      2011.0          bmw x5       good        6.0  gas   \n",
       "1      25500      2011.0      ford f-150       good        6.0  gas   \n",
       "2       5500      2013.0  hyundai sonata   like new        4.0  gas   \n",
       "3       1500      2003.0      ford f-150       fair        8.0  gas   \n",
       "4      14900      2017.0    chrysler 200  excellent        4.0  gas   \n",
       "...      ...         ...             ...        ...        ...  ...   \n",
       "51519  11750      2015.0    honda accord  excellent        4.0  gas   \n",
       "51520   9249      2013.0   nissan maxima   like new        6.0  gas   \n",
       "51522   3950      2009.0  hyundai sonata  excellent        4.0  gas   \n",
       "51523   7455      2013.0  toyota corolla       good        4.0  gas   \n",
       "51524   6300      2014.0   nissan altima       good        4.0  gas   \n",
       "\n",
       "            odometer transmission    type paint_color  is_4wd date_posted  \\\n",
       "0      145000.000000    automatic     SUV       other     1.0  2018-06-23   \n",
       "1       88705.000000    automatic  pickup       white     1.0  2018-10-19   \n",
       "2      110000.000000    automatic   sedan         red     0.0  2019-02-07   \n",
       "3      162071.751024    automatic  pickup       other     0.0  2019-03-22   \n",
       "4       80903.000000    automatic   sedan       black     0.0  2019-04-02   \n",
       "...              ...          ...     ...         ...     ...         ...   \n",
       "51519   82503.819348    automatic   coupe       other     0.0  2018-11-24   \n",
       "51520   88136.000000    automatic   sedan       black     0.0  2018-10-03   \n",
       "51522  128000.000000    automatic   sedan        blue     0.0  2018-11-15   \n",
       "51523  139573.000000    automatic   sedan       black     0.0  2018-07-02   \n",
       "51524   93648.703319    automatic   sedan       other     0.0  2018-06-05   \n",
       "\n",
       "       days_listed  year_posted  vehicle_age    avg_mileage  \\\n",
       "0               19         2018          7.0  124883.614978   \n",
       "1               50         2018          7.0  124883.614978   \n",
       "2               79         2019          6.0  102880.891908   \n",
       "3                9         2019         16.0  162071.751024   \n",
       "4               28         2019          2.0   45620.000000   \n",
       "...            ...          ...          ...            ...   \n",
       "51519           89         2018          3.0   82503.819348   \n",
       "51520           37         2018          5.0  102880.891908   \n",
       "51522           32         2018          9.0  132576.798250   \n",
       "51523           71         2018          5.0  102880.891908   \n",
       "51524           10         2018          4.0   93648.703319   \n",
       "\n",
       "       condition_counters  \n",
       "0                       2  \n",
       "1                       2  \n",
       "2                       4  \n",
       "3                       1  \n",
       "4                       3  \n",
       "...                   ...  \n",
       "51519                   3  \n",
       "51520                   4  \n",
       "51522                   3  \n",
       "51523                   2  \n",
       "51524                   2  \n",
       "\n",
       "[47994 rows x 17 columns]"
      ]
     },
     "execution_count": 43,
     "metadata": {},
     "output_type": "execute_result"
    }
   ],
   "source": [
    "data_clean"
   ]
  },
  {
   "cell_type": "markdown",
   "metadata": {},
   "source": [
    "created data_clean as data without outliers."
   ]
  },
  {
   "cell_type": "markdown",
   "metadata": {},
   "source": [
    "## Study core parameters without outliers"
   ]
  },
  {
   "cell_type": "markdown",
   "metadata": {},
   "source": [
    "do a whisker plot comparison between clean data (no outliers) and data before we got rid of outliers"
   ]
  },
  {
   "cell_type": "code",
   "execution_count": 44,
   "metadata": {},
   "outputs": [],
   "source": [
    "def distribution_IQR(parameter):\n",
    "    print('The histogram of: {}'.format(parameter))\n",
    "    sns.boxplot(x=data[parameter])\n",
    "    plt.show()\n",
    "    "
   ]
  },
  {
   "cell_type": "code",
   "execution_count": 45,
   "metadata": {},
   "outputs": [
    {
     "name": "stdout",
     "output_type": "stream",
     "text": [
      "The histogram of: price\n"
     ]
    },
    {
     "data": {
      "image/png": "[encoded data removed]",
      "text/plain": [
       "<Figure size 432x288 with 1 Axes>"
      ]
     },
     "metadata": {
      "needs_background": "light"
     },
     "output_type": "display_data"
    },
    {
     "name": "stdout",
     "output_type": "stream",
     "text": [
      "The histogram of: vehicle_age\n"
     ]
    },
    {
     "data": {
      "image/png": "[encoded data removed]",
      "text/plain": [
       "<Figure size 432x288 with 1 Axes>"
      ]
     },
     "metadata": {
      "needs_background": "light"
     },
     "output_type": "display_data"
    },
    {
     "name": "stdout",
     "output_type": "stream",
     "text": [
      "The histogram of: avg_mileage\n"
     ]
    },
    {
     "data": {
      "image/png": "[encoded data removed]",
      "text/plain": [
       "<Figure size 432x288 with 1 Axes>"
      ]
     },
     "metadata": {
      "needs_background": "light"
     },
     "output_type": "display_data"
    },
    {
     "name": "stdout",
     "output_type": "stream",
     "text": [
      "The histogram of: cylinders\n"
     ]
    },
    {
     "data": {
      "image/png": "[encoded data removed]",
      "text/plain": [
       "<Figure size 432x288 with 1 Axes>"
      ]
     },
     "metadata": {
      "needs_background": "light"
     },
     "output_type": "display_data"
    },
    {
     "name": "stdout",
     "output_type": "stream",
     "text": [
      "The histogram of: condition_counters\n"
     ]
    },
    {
     "data": {
      "image/png": "[encoded data removed]",
      "text/plain": [
       "<Figure size 432x288 with 1 Axes>"
      ]
     },
     "metadata": {
      "needs_background": "light"
     },
     "output_type": "display_data"
    }
   ],
   "source": [
    "for parameter in ['price', 'vehicle_age', 'avg_mileage', 'cylinders', 'condition_counters']:\n",
    "    distribution_IQR(parameter)"
   ]
  },
  {
   "cell_type": "code",
   "execution_count": 46,
   "metadata": {},
   "outputs": [],
   "source": [
    "def distribution_IQR(parameter):\n",
    "    print('The histogram of: {}'.format(parameter))\n",
    "    sns.boxplot(x=data_clean[parameter])\n",
    "    plt.show()"
   ]
  },
  {
   "cell_type": "code",
   "execution_count": 47,
   "metadata": {},
   "outputs": [
    {
     "name": "stdout",
     "output_type": "stream",
     "text": [
      "The histogram of: price\n"
     ]
    },
    {
     "data": {
      "image/png": "[encoded data removed]",
      "text/plain": [
       "<Figure size 432x288 with 1 Axes>"
      ]
     },
     "metadata": {
      "needs_background": "light"
     },
     "output_type": "display_data"
    },
    {
     "name": "stdout",
     "output_type": "stream",
     "text": [
      "The histogram of: vehicle_age\n"
     ]
    },
    {
     "data": {
      "image/png": "[encoded data removed]",
      "text/plain": [
       "<Figure size 432x288 with 1 Axes>"
      ]
     },
     "metadata": {
      "needs_background": "light"
     },
     "output_type": "display_data"
    },
    {
     "name": "stdout",
     "output_type": "stream",
     "text": [
      "The histogram of: avg_mileage\n"
     ]
    },
    {
     "data": {
      "image/png": "[encoded data removed]",
      "text/plain": [
       "<Figure size 432x288 with 1 Axes>"
      ]
     },
     "metadata": {
      "needs_background": "light"
     },
     "output_type": "display_data"
    },
    {
     "name": "stdout",
     "output_type": "stream",
     "text": [
      "The histogram of: cylinders\n"
     ]
    },
    {
     "data": {
      "image/png": "[encoded data removed]",
      "text/plain": [
       "<Figure size 432x288 with 1 Axes>"
      ]
     },
     "metadata": {
      "needs_background": "light"
     },
     "output_type": "display_data"
    },
    {
     "name": "stdout",
     "output_type": "stream",
     "text": [
      "The histogram of: condition_counters\n"
     ]
    },
    {
     "data": {
      "image/png": "[encoded data removed]",
      "text/plain": [
       "<Figure size 432x288 with 1 Axes>"
      ]
     },
     "metadata": {
      "needs_background": "light"
     },
     "output_type": "display_data"
    }
   ],
   "source": [
    "for parameter in ['price', 'vehicle_age', 'avg_mileage', 'cylinders', 'condition_counters']:\n",
    "    distribution_IQR(parameter)"
   ]
  },
  {
   "cell_type": "markdown",
   "metadata": {},
   "source": [
    "## Ads lifetime\n",
    "\n",
    "[Study how many days advertisements were displayed (`days_listed`). Calculate the mean and median. Describe the typical lifetime of an ad. Determine when ads were removed quickly, and when they were listed for an abnormally long time.]"
   ]
  },
  {
   "cell_type": "code",
   "execution_count": 48,
   "metadata": {},
   "outputs": [
    {
     "data": {
      "text/html": [
       "<div>\n",
       "<style scoped>\n",
       "    .dataframe tbody tr th:only-of-type {\n",
       "        vertical-align: middle;\n",
       "    }\n",
       "\n",
       "    .dataframe tbody tr th {\n",
       "        vertical-align: top;\n",
       "    }\n",
       "\n",
       "    .dataframe thead th {\n",
       "        text-align: right;\n",
       "    }\n",
       "</style>\n",
       "<table border=\"1\" class=\"dataframe\">\n",
       "  <thead>\n",
       "    <tr style=\"text-align: right;\">\n",
       "      <th></th>\n",
       "      <th>price</th>\n",
       "      <th>model_year</th>\n",
       "      <th>model</th>\n",
       "      <th>condition</th>\n",
       "      <th>cylinders</th>\n",
       "      <th>fuel</th>\n",
       "      <th>odometer</th>\n",
       "      <th>transmission</th>\n",
       "      <th>type</th>\n",
       "      <th>paint_color</th>\n",
       "      <th>is_4wd</th>\n",
       "      <th>date_posted</th>\n",
       "      <th>days_listed</th>\n",
       "      <th>year_posted</th>\n",
       "      <th>vehicle_age</th>\n",
       "      <th>avg_mileage</th>\n",
       "      <th>condition_counters</th>\n",
       "    </tr>\n",
       "  </thead>\n",
       "  <tbody>\n",
       "    <tr>\n",
       "      <th>0</th>\n",
       "      <td>9400</td>\n",
       "      <td>2011.0</td>\n",
       "      <td>bmw x5</td>\n",
       "      <td>good</td>\n",
       "      <td>6.0</td>\n",
       "      <td>gas</td>\n",
       "      <td>145000.000000</td>\n",
       "      <td>automatic</td>\n",
       "      <td>SUV</td>\n",
       "      <td>other</td>\n",
       "      <td>1.0</td>\n",
       "      <td>2018-06-23</td>\n",
       "      <td>19</td>\n",
       "      <td>2018</td>\n",
       "      <td>7.0</td>\n",
       "      <td>124883.614978</td>\n",
       "      <td>2</td>\n",
       "    </tr>\n",
       "    <tr>\n",
       "      <th>1</th>\n",
       "      <td>25500</td>\n",
       "      <td>2011.0</td>\n",
       "      <td>ford f-150</td>\n",
       "      <td>good</td>\n",
       "      <td>6.0</td>\n",
       "      <td>gas</td>\n",
       "      <td>88705.000000</td>\n",
       "      <td>automatic</td>\n",
       "      <td>pickup</td>\n",
       "      <td>white</td>\n",
       "      <td>1.0</td>\n",
       "      <td>2018-10-19</td>\n",
       "      <td>50</td>\n",
       "      <td>2018</td>\n",
       "      <td>7.0</td>\n",
       "      <td>124883.614978</td>\n",
       "      <td>2</td>\n",
       "    </tr>\n",
       "    <tr>\n",
       "      <th>2</th>\n",
       "      <td>5500</td>\n",
       "      <td>2013.0</td>\n",
       "      <td>hyundai sonata</td>\n",
       "      <td>like new</td>\n",
       "      <td>4.0</td>\n",
       "      <td>gas</td>\n",
       "      <td>110000.000000</td>\n",
       "      <td>automatic</td>\n",
       "      <td>sedan</td>\n",
       "      <td>red</td>\n",
       "      <td>0.0</td>\n",
       "      <td>2019-02-07</td>\n",
       "      <td>79</td>\n",
       "      <td>2019</td>\n",
       "      <td>6.0</td>\n",
       "      <td>102880.891908</td>\n",
       "      <td>4</td>\n",
       "    </tr>\n",
       "    <tr>\n",
       "      <th>3</th>\n",
       "      <td>1500</td>\n",
       "      <td>2003.0</td>\n",
       "      <td>ford f-150</td>\n",
       "      <td>fair</td>\n",
       "      <td>8.0</td>\n",
       "      <td>gas</td>\n",
       "      <td>162071.751024</td>\n",
       "      <td>automatic</td>\n",
       "      <td>pickup</td>\n",
       "      <td>other</td>\n",
       "      <td>0.0</td>\n",
       "      <td>2019-03-22</td>\n",
       "      <td>9</td>\n",
       "      <td>2019</td>\n",
       "      <td>16.0</td>\n",
       "      <td>162071.751024</td>\n",
       "      <td>1</td>\n",
       "    </tr>\n",
       "    <tr>\n",
       "      <th>4</th>\n",
       "      <td>14900</td>\n",
       "      <td>2017.0</td>\n",
       "      <td>chrysler 200</td>\n",
       "      <td>excellent</td>\n",
       "      <td>4.0</td>\n",
       "      <td>gas</td>\n",
       "      <td>80903.000000</td>\n",
       "      <td>automatic</td>\n",
       "      <td>sedan</td>\n",
       "      <td>black</td>\n",
       "      <td>0.0</td>\n",
       "      <td>2019-04-02</td>\n",
       "      <td>28</td>\n",
       "      <td>2019</td>\n",
       "      <td>2.0</td>\n",
       "      <td>45620.000000</td>\n",
       "      <td>3</td>\n",
       "    </tr>\n",
       "  </tbody>\n",
       "</table>\n",
       "</div>"
      ],
      "text/plain": [
       "   price  model_year           model  condition  cylinders fuel  \\\n",
       "0   9400      2011.0          bmw x5       good        6.0  gas   \n",
       "1  25500      2011.0      ford f-150       good        6.0  gas   \n",
       "2   5500      2013.0  hyundai sonata   like new        4.0  gas   \n",
       "3   1500      2003.0      ford f-150       fair        8.0  gas   \n",
       "4  14900      2017.0    chrysler 200  excellent        4.0  gas   \n",
       "\n",
       "        odometer transmission    type paint_color  is_4wd date_posted  \\\n",
       "0  145000.000000    automatic     SUV       other     1.0  2018-06-23   \n",
       "1   88705.000000    automatic  pickup       white     1.0  2018-10-19   \n",
       "2  110000.000000    automatic   sedan         red     0.0  2019-02-07   \n",
       "3  162071.751024    automatic  pickup       other     0.0  2019-03-22   \n",
       "4   80903.000000    automatic   sedan       black     0.0  2019-04-02   \n",
       "\n",
       "   days_listed  year_posted  vehicle_age    avg_mileage  condition_counters  \n",
       "0           19         2018          7.0  124883.614978                   2  \n",
       "1           50         2018          7.0  124883.614978                   2  \n",
       "2           79         2019          6.0  102880.891908                   4  \n",
       "3            9         2019         16.0  162071.751024                   1  \n",
       "4           28         2019          2.0   45620.000000                   3  "
      ]
     },
     "execution_count": 48,
     "metadata": {},
     "output_type": "execute_result"
    }
   ],
   "source": [
    "data_clean.head()"
   ]
  },
  {
   "cell_type": "code",
   "execution_count": 49,
   "metadata": {},
   "outputs": [
    {
     "data": {
      "text/plain": [
       "count    47994.000000\n",
       "mean        39.515127\n",
       "std         28.187983\n",
       "min          0.000000\n",
       "25%         19.000000\n",
       "50%         33.000000\n",
       "75%         53.000000\n",
       "max        271.000000\n",
       "Name: days_listed, dtype: float64"
      ]
     },
     "execution_count": 49,
     "metadata": {},
     "output_type": "execute_result"
    }
   ],
   "source": [
    "data_clean['days_listed'].describe()"
   ]
  },
  {
   "cell_type": "code",
   "execution_count": 50,
   "metadata": {},
   "outputs": [
    {
     "data": {
      "text/plain": [
       "33.0"
      ]
     },
     "execution_count": 50,
     "metadata": {},
     "output_type": "execute_result"
    }
   ],
   "source": [
    "data_clean['days_listed'].median()"
   ]
  },
  {
   "cell_type": "code",
   "execution_count": 51,
   "metadata": {},
   "outputs": [
    {
     "data": {
      "text/plain": [
       "<AxesSubplot:>"
      ]
     },
     "execution_count": 51,
     "metadata": {},
     "output_type": "execute_result"
    },
    {
     "data": {
      "image/png": "[encoded data removed]",
      "text/plain": [
       "<Figure size 432x288 with 1 Axes>"
      ]
     },
     "metadata": {
      "needs_background": "light"
     },
     "output_type": "display_data"
    }
   ],
   "source": [
    "data_clean['days_listed'].hist()"
   ]
  },
  {
   "cell_type": "code",
   "execution_count": 52,
   "metadata": {},
   "outputs": [
    {
     "data": {
      "text/plain": [
       "<AxesSubplot:xlabel='days_listed'>"
      ]
     },
     "execution_count": 52,
     "metadata": {},
     "output_type": "execute_result"
    },
    {
     "data": {
      "image/png": "[encoded data removed]",
      "text/plain": [
       "<Figure size 432x288 with 1 Axes>"
      ]
     },
     "metadata": {
      "needs_background": "light"
     },
     "output_type": "display_data"
    }
   ],
   "source": [
    "sns.boxplot(x=data_clean['days_listed'])"
   ]
  },
  {
   "cell_type": "code",
   "execution_count": 53,
   "metadata": {},
   "outputs": [],
   "source": [
    "def distribution_IQR_new(parameter):\n",
    "    print('Statistic on: {}'.format(parameter))\n",
    "    print(data_clean[parameter].describe())\n",
    "    Q1 = data_clean[parameter].quantile(0.25)\n",
    "    Q3 = data_clean[parameter].quantile(0.75)\n",
    "    IQR = Q3 - Q1\n",
    "    min_iqr = Q1 - 1.5 * IQR\n",
    "    max_iqr = Q3 + 1.5 * IQR\n",
    "    print('____________')\n",
    "    print('mi border:', min_iqr)\n",
    "    print('max border:', max_iqr)\n",
    "    \n",
    "    \n",
    "  "
   ]
  },
  {
   "cell_type": "code",
   "execution_count": 54,
   "metadata": {},
   "outputs": [
    {
     "name": "stdout",
     "output_type": "stream",
     "text": [
      "Statistic on: days_listed\n",
      "count    47994.000000\n",
      "mean        39.515127\n",
      "std         28.187983\n",
      "min          0.000000\n",
      "25%         19.000000\n",
      "50%         33.000000\n",
      "75%         53.000000\n",
      "max        271.000000\n",
      "Name: days_listed, dtype: float64\n",
      "____________\n",
      "mi border: -32.0\n",
      "max border: 104.0\n"
     ]
    }
   ],
   "source": [
    " distribution_IQR_new('days_listed') "
   ]
  },
  {
   "cell_type": "markdown",
   "metadata": {},
   "source": [
    "top outlier = 104\n",
    "bottom = 0\n",
    "0 is strange, especially -32, consider the first five days as an outlier and see what happens in these 5 days and after 104 days.\n"
   ]
  },
  {
   "cell_type": "code",
   "execution_count": 55,
   "metadata": {},
   "outputs": [
    {
     "data": {
      "text/plain": [
       "<function matplotlib.pyplot.show(close=None, block=None)>"
      ]
     },
     "execution_count": 55,
     "metadata": {},
     "output_type": "execute_result"
    },
    {
     "data": {
      "image/png": "[encoded data removed]",
      "text/plain": [
       "<Figure size 432x288 with 1 Axes>"
      ]
     },
     "metadata": {
      "needs_background": "light"
     },
     "output_type": "display_data"
    }
   ],
   "source": [
    "ad_outlier_data = data_clean.query('days_listed < 5')\n",
    "\n",
    "plt.title('ads outlier less then 4 days')\n",
    "ad_outlier_data['days_listed'].hist(bins=5, range=(0,5))\n",
    "plt.show\n",
    "\n",
    "\n",
    "\n"
   ]
  },
  {
   "cell_type": "code",
   "execution_count": 56,
   "metadata": {},
   "outputs": [
    {
     "data": {
      "text/plain": [
       "<function matplotlib.pyplot.show(close=None, block=None)>"
      ]
     },
     "execution_count": 56,
     "metadata": {},
     "output_type": "execute_result"
    },
    {
     "data": {
      "image/png": "[encoded data removed]",
      "text/plain": [
       "<Figure size 432x288 with 1 Axes>"
      ]
     },
     "metadata": {
      "needs_background": "light"
     },
     "output_type": "display_data"
    }
   ],
   "source": [
    "ad_outlier_data = data_clean.query('days_listed > 104')\n",
    "\n",
    "plt.title('ads outlier mor then 104 days')\n",
    "ad_outlier_data['days_listed'].hist(bins=7, range=(104, 271))\n",
    "plt.show"
   ]
  },
  {
   "cell_type": "code",
   "execution_count": 57,
   "metadata": {},
   "outputs": [
    {
     "name": "stdout",
     "output_type": "stream",
     "text": [
      "Type and conditions of the venicles that sold in less then 5 days:\n",
      "     type  condition_counters  count          mean\n",
      "2     SUV                   3    205  10607.995122\n",
      "28  sedan                   3    191   8005.696335\n",
      "32  truck                   3    148  17212.655405\n",
      "---------------------------------\n",
      "\n",
      "Type and conditions of the venicles that sold in more then 104 days:\n",
      "     type  condition_counters  count          mean\n",
      "2     SUV                   3    205  10607.995122\n",
      "28  sedan                   3    191   8005.696335\n",
      "32  truck                   3    148  17212.655405\n"
     ]
    }
   ],
   "source": [
    "print('Type and conditions of the venicles that sold in less then 5 days:')\n",
    "type_car_short_ad=ad_outlier_data.groupby(['type', 'condition_counters'])['price'].agg(['count','mean']).reset_index().sort_values(by='count',ascending=False)\n",
    "print(type_car_short_ad.iloc[:3])\n",
    "print('---------------------------------')\n",
    "print('')\n",
    "print('Type and conditions of the venicles that sold in more then 104 days:')\n",
    "type_car_long_ad=ad_outlier_data.groupby(['type','condition_counters' ])['price'].agg(['count','mean']).reset_index().sort_values(by='count',ascending=False)\n",
    "print(type_car_long_ad.iloc[:3])"
   ]
  },
  {
   "cell_type": "markdown",
   "metadata": {},
   "source": [
    "no patterns visible.\n"
   ]
  },
  {
   "cell_type": "markdown",
   "metadata": {},
   "source": [
    "## Average price per each type of vehicle"
   ]
  },
  {
   "cell_type": "markdown",
   "metadata": {},
   "source": [
    "[Analyze the number of ads and the average price for each type of vehicle. Plot a graph showing the dependence of the number of ads on the vehicle type. Select the two types with the greatest number of ads.]"
   ]
  },
  {
   "cell_type": "code",
   "execution_count": 58,
   "metadata": {},
   "outputs": [
    {
     "data": {
      "text/html": [
       "<div>\n",
       "<style scoped>\n",
       "    .dataframe tbody tr th:only-of-type {\n",
       "        vertical-align: middle;\n",
       "    }\n",
       "\n",
       "    .dataframe tbody tr th {\n",
       "        vertical-align: top;\n",
       "    }\n",
       "\n",
       "    .dataframe thead th {\n",
       "        text-align: right;\n",
       "    }\n",
       "</style>\n",
       "<table border=\"1\" class=\"dataframe\">\n",
       "  <thead>\n",
       "    <tr style=\"text-align: right;\">\n",
       "      <th></th>\n",
       "      <th>type</th>\n",
       "      <th>count</th>\n",
       "      <th>mean</th>\n",
       "    </tr>\n",
       "  </thead>\n",
       "  <tbody>\n",
       "    <tr>\n",
       "      <th>9</th>\n",
       "      <td>sedan</td>\n",
       "      <td>11824</td>\n",
       "      <td>6923.648934</td>\n",
       "    </tr>\n",
       "    <tr>\n",
       "      <th>0</th>\n",
       "      <td>SUV</td>\n",
       "      <td>11761</td>\n",
       "      <td>10346.744495</td>\n",
       "    </tr>\n",
       "    <tr>\n",
       "      <th>10</th>\n",
       "      <td>truck</td>\n",
       "      <td>11185</td>\n",
       "      <td>14945.887886</td>\n",
       "    </tr>\n",
       "    <tr>\n",
       "      <th>8</th>\n",
       "      <td>pickup</td>\n",
       "      <td>6260</td>\n",
       "      <td>14752.012939</td>\n",
       "    </tr>\n",
       "    <tr>\n",
       "      <th>3</th>\n",
       "      <td>coupe</td>\n",
       "      <td>1987</td>\n",
       "      <td>13398.116759</td>\n",
       "    </tr>\n",
       "    <tr>\n",
       "      <th>12</th>\n",
       "      <td>wagon</td>\n",
       "      <td>1503</td>\n",
       "      <td>8877.632735</td>\n",
       "    </tr>\n",
       "    <tr>\n",
       "      <th>5</th>\n",
       "      <td>mini-van</td>\n",
       "      <td>1130</td>\n",
       "      <td>7928.647788</td>\n",
       "    </tr>\n",
       "    <tr>\n",
       "      <th>4</th>\n",
       "      <td>hatchback</td>\n",
       "      <td>1001</td>\n",
       "      <td>6821.680320</td>\n",
       "    </tr>\n",
       "    <tr>\n",
       "      <th>11</th>\n",
       "      <td>van</td>\n",
       "      <td>579</td>\n",
       "      <td>8746.314335</td>\n",
       "    </tr>\n",
       "    <tr>\n",
       "      <th>2</th>\n",
       "      <td>convertible</td>\n",
       "      <td>327</td>\n",
       "      <td>12945.354740</td>\n",
       "    </tr>\n",
       "    <tr>\n",
       "      <th>7</th>\n",
       "      <td>other</td>\n",
       "      <td>233</td>\n",
       "      <td>10512.081545</td>\n",
       "    </tr>\n",
       "    <tr>\n",
       "      <th>6</th>\n",
       "      <td>offroad</td>\n",
       "      <td>183</td>\n",
       "      <td>14266.213115</td>\n",
       "    </tr>\n",
       "    <tr>\n",
       "      <th>1</th>\n",
       "      <td>bus</td>\n",
       "      <td>21</td>\n",
       "      <td>18107.428571</td>\n",
       "    </tr>\n",
       "  </tbody>\n",
       "</table>\n",
       "</div>"
      ],
      "text/plain": [
       "           type  count          mean\n",
       "9         sedan  11824   6923.648934\n",
       "0           SUV  11761  10346.744495\n",
       "10        truck  11185  14945.887886\n",
       "8        pickup   6260  14752.012939\n",
       "3         coupe   1987  13398.116759\n",
       "12        wagon   1503   8877.632735\n",
       "5      mini-van   1130   7928.647788\n",
       "4     hatchback   1001   6821.680320\n",
       "11          van    579   8746.314335\n",
       "2   convertible    327  12945.354740\n",
       "7         other    233  10512.081545\n",
       "6       offroad    183  14266.213115\n",
       "1           bus     21  18107.428571"
      ]
     },
     "execution_count": 58,
     "metadata": {},
     "output_type": "execute_result"
    }
   ],
   "source": [
    "avg_price_group = data_clean.groupby(['type'])['price'].agg(['count','mean']).reset_index().sort_values(by='count', ascending=False)\n",
    "avg_price_group"
   ]
  },
  {
   "cell_type": "code",
   "execution_count": 59,
   "metadata": {},
   "outputs": [
    {
     "data": {
      "text/plain": [
       "<AxesSubplot:xlabel='type', ylabel='count'>"
      ]
     },
     "execution_count": 59,
     "metadata": {},
     "output_type": "execute_result"
    },
    {
     "data": {
      "image/png": "[encoded data removed]",
      "text/plain": [
       "<Figure size 864x360 with 1 Axes>"
      ]
     },
     "metadata": {
      "needs_background": "light"
     },
     "output_type": "display_data"
    }
   ],
   "source": [
    "plt.figure(figsize=(12,5))\n",
    "sns.barplot(x='type', y='count', data = avg_price_group)"
   ]
  },
  {
   "cell_type": "code",
   "execution_count": 60,
   "metadata": {},
   "outputs": [
    {
     "data": {
      "text/plain": [
       "['sedan', 'SUV']"
      ]
     },
     "execution_count": 60,
     "metadata": {},
     "output_type": "execute_result"
    }
   ],
   "source": [
    "top = list(avg_price_group.head(2)['type'])\n",
    "top"
   ]
  },
  {
   "cell_type": "markdown",
   "metadata": {},
   "source": [
    "два самых продаваемых типа автомобилей это \n",
    "Sedan\n",
    "SUV"
   ]
  },
  {
   "cell_type": "markdown",
   "metadata": {},
   "source": [
    "## Price factors"
   ]
  },
  {
   "cell_type": "markdown",
   "metadata": {},
   "source": [
    "[What factors impact the price most? Take each of the popular types you detected at the previous stage and study whether the price depends on age, mileage, condition, transmission type, and color. For categorical variables (transmission type and color), plot box-and-whisker charts, and create scatterplots for the rest. When analyzing categorical variables, note that the categories must have at least 50 ads; otherwise, their parameters won't be valid for analysis.]"
   ]
  },
  {
   "cell_type": "markdown",
   "metadata": {},
   "source": [
    "[Make use of correlation matrix and correlation plots]"
   ]
  },
  {
   "cell_type": "code",
   "execution_count": 61,
   "metadata": {},
   "outputs": [
    {
     "data": {
      "text/html": [
       "<div>\n",
       "<style scoped>\n",
       "    .dataframe tbody tr th:only-of-type {\n",
       "        vertical-align: middle;\n",
       "    }\n",
       "\n",
       "    .dataframe tbody tr th {\n",
       "        vertical-align: top;\n",
       "    }\n",
       "\n",
       "    .dataframe thead th {\n",
       "        text-align: right;\n",
       "    }\n",
       "</style>\n",
       "<table border=\"1\" class=\"dataframe\">\n",
       "  <thead>\n",
       "    <tr style=\"text-align: right;\">\n",
       "      <th></th>\n",
       "      <th>price</th>\n",
       "      <th>model_year</th>\n",
       "      <th>model</th>\n",
       "      <th>condition</th>\n",
       "      <th>cylinders</th>\n",
       "      <th>fuel</th>\n",
       "      <th>odometer</th>\n",
       "      <th>transmission</th>\n",
       "      <th>type</th>\n",
       "      <th>paint_color</th>\n",
       "      <th>is_4wd</th>\n",
       "      <th>date_posted</th>\n",
       "      <th>days_listed</th>\n",
       "      <th>year_posted</th>\n",
       "      <th>vehicle_age</th>\n",
       "      <th>avg_mileage</th>\n",
       "      <th>condition_counters</th>\n",
       "    </tr>\n",
       "  </thead>\n",
       "  <tbody>\n",
       "    <tr>\n",
       "      <th>2</th>\n",
       "      <td>5500</td>\n",
       "      <td>2013.0</td>\n",
       "      <td>hyundai sonata</td>\n",
       "      <td>like new</td>\n",
       "      <td>4.0</td>\n",
       "      <td>gas</td>\n",
       "      <td>110000.000000</td>\n",
       "      <td>automatic</td>\n",
       "      <td>sedan</td>\n",
       "      <td>red</td>\n",
       "      <td>0.0</td>\n",
       "      <td>2019-02-07</td>\n",
       "      <td>79</td>\n",
       "      <td>2019</td>\n",
       "      <td>6.0</td>\n",
       "      <td>102880.891908</td>\n",
       "      <td>4</td>\n",
       "    </tr>\n",
       "    <tr>\n",
       "      <th>4</th>\n",
       "      <td>14900</td>\n",
       "      <td>2017.0</td>\n",
       "      <td>chrysler 200</td>\n",
       "      <td>excellent</td>\n",
       "      <td>4.0</td>\n",
       "      <td>gas</td>\n",
       "      <td>80903.000000</td>\n",
       "      <td>automatic</td>\n",
       "      <td>sedan</td>\n",
       "      <td>black</td>\n",
       "      <td>0.0</td>\n",
       "      <td>2019-04-02</td>\n",
       "      <td>28</td>\n",
       "      <td>2019</td>\n",
       "      <td>2.0</td>\n",
       "      <td>45620.000000</td>\n",
       "      <td>3</td>\n",
       "    </tr>\n",
       "    <tr>\n",
       "      <th>5</th>\n",
       "      <td>14990</td>\n",
       "      <td>2014.0</td>\n",
       "      <td>chrysler 300</td>\n",
       "      <td>excellent</td>\n",
       "      <td>6.0</td>\n",
       "      <td>gas</td>\n",
       "      <td>57954.000000</td>\n",
       "      <td>automatic</td>\n",
       "      <td>sedan</td>\n",
       "      <td>black</td>\n",
       "      <td>1.0</td>\n",
       "      <td>2018-06-20</td>\n",
       "      <td>15</td>\n",
       "      <td>2018</td>\n",
       "      <td>4.0</td>\n",
       "      <td>93648.703319</td>\n",
       "      <td>3</td>\n",
       "    </tr>\n",
       "    <tr>\n",
       "      <th>6</th>\n",
       "      <td>12990</td>\n",
       "      <td>2015.0</td>\n",
       "      <td>toyota camry</td>\n",
       "      <td>excellent</td>\n",
       "      <td>4.0</td>\n",
       "      <td>gas</td>\n",
       "      <td>79212.000000</td>\n",
       "      <td>automatic</td>\n",
       "      <td>sedan</td>\n",
       "      <td>white</td>\n",
       "      <td>0.0</td>\n",
       "      <td>2018-12-27</td>\n",
       "      <td>73</td>\n",
       "      <td>2018</td>\n",
       "      <td>3.0</td>\n",
       "      <td>82503.819348</td>\n",
       "      <td>3</td>\n",
       "    </tr>\n",
       "    <tr>\n",
       "      <th>11</th>\n",
       "      <td>8990</td>\n",
       "      <td>2012.0</td>\n",
       "      <td>honda accord</td>\n",
       "      <td>excellent</td>\n",
       "      <td>4.0</td>\n",
       "      <td>gas</td>\n",
       "      <td>111142.000000</td>\n",
       "      <td>automatic</td>\n",
       "      <td>sedan</td>\n",
       "      <td>grey</td>\n",
       "      <td>0.0</td>\n",
       "      <td>2019-03-28</td>\n",
       "      <td>29</td>\n",
       "      <td>2019</td>\n",
       "      <td>7.0</td>\n",
       "      <td>112051.523598</td>\n",
       "      <td>3</td>\n",
       "    </tr>\n",
       "    <tr>\n",
       "      <th>...</th>\n",
       "      <td>...</td>\n",
       "      <td>...</td>\n",
       "      <td>...</td>\n",
       "      <td>...</td>\n",
       "      <td>...</td>\n",
       "      <td>...</td>\n",
       "      <td>...</td>\n",
       "      <td>...</td>\n",
       "      <td>...</td>\n",
       "      <td>...</td>\n",
       "      <td>...</td>\n",
       "      <td>...</td>\n",
       "      <td>...</td>\n",
       "      <td>...</td>\n",
       "      <td>...</td>\n",
       "      <td>...</td>\n",
       "      <td>...</td>\n",
       "    </tr>\n",
       "    <tr>\n",
       "      <th>51518</th>\n",
       "      <td>3750</td>\n",
       "      <td>2005.0</td>\n",
       "      <td>ford taurus</td>\n",
       "      <td>excellent</td>\n",
       "      <td>6.0</td>\n",
       "      <td>gas</td>\n",
       "      <td>110200.000000</td>\n",
       "      <td>automatic</td>\n",
       "      <td>sedan</td>\n",
       "      <td>silver</td>\n",
       "      <td>0.0</td>\n",
       "      <td>2018-08-10</td>\n",
       "      <td>63</td>\n",
       "      <td>2018</td>\n",
       "      <td>13.0</td>\n",
       "      <td>152011.719127</td>\n",
       "      <td>3</td>\n",
       "    </tr>\n",
       "    <tr>\n",
       "      <th>51520</th>\n",
       "      <td>9249</td>\n",
       "      <td>2013.0</td>\n",
       "      <td>nissan maxima</td>\n",
       "      <td>like new</td>\n",
       "      <td>6.0</td>\n",
       "      <td>gas</td>\n",
       "      <td>88136.000000</td>\n",
       "      <td>automatic</td>\n",
       "      <td>sedan</td>\n",
       "      <td>black</td>\n",
       "      <td>0.0</td>\n",
       "      <td>2018-10-03</td>\n",
       "      <td>37</td>\n",
       "      <td>2018</td>\n",
       "      <td>5.0</td>\n",
       "      <td>102880.891908</td>\n",
       "      <td>4</td>\n",
       "    </tr>\n",
       "    <tr>\n",
       "      <th>51522</th>\n",
       "      <td>3950</td>\n",
       "      <td>2009.0</td>\n",
       "      <td>hyundai sonata</td>\n",
       "      <td>excellent</td>\n",
       "      <td>4.0</td>\n",
       "      <td>gas</td>\n",
       "      <td>128000.000000</td>\n",
       "      <td>automatic</td>\n",
       "      <td>sedan</td>\n",
       "      <td>blue</td>\n",
       "      <td>0.0</td>\n",
       "      <td>2018-11-15</td>\n",
       "      <td>32</td>\n",
       "      <td>2018</td>\n",
       "      <td>9.0</td>\n",
       "      <td>132576.798250</td>\n",
       "      <td>3</td>\n",
       "    </tr>\n",
       "    <tr>\n",
       "      <th>51523</th>\n",
       "      <td>7455</td>\n",
       "      <td>2013.0</td>\n",
       "      <td>toyota corolla</td>\n",
       "      <td>good</td>\n",
       "      <td>4.0</td>\n",
       "      <td>gas</td>\n",
       "      <td>139573.000000</td>\n",
       "      <td>automatic</td>\n",
       "      <td>sedan</td>\n",
       "      <td>black</td>\n",
       "      <td>0.0</td>\n",
       "      <td>2018-07-02</td>\n",
       "      <td>71</td>\n",
       "      <td>2018</td>\n",
       "      <td>5.0</td>\n",
       "      <td>102880.891908</td>\n",
       "      <td>2</td>\n",
       "    </tr>\n",
       "    <tr>\n",
       "      <th>51524</th>\n",
       "      <td>6300</td>\n",
       "      <td>2014.0</td>\n",
       "      <td>nissan altima</td>\n",
       "      <td>good</td>\n",
       "      <td>4.0</td>\n",
       "      <td>gas</td>\n",
       "      <td>93648.703319</td>\n",
       "      <td>automatic</td>\n",
       "      <td>sedan</td>\n",
       "      <td>other</td>\n",
       "      <td>0.0</td>\n",
       "      <td>2018-06-05</td>\n",
       "      <td>10</td>\n",
       "      <td>2018</td>\n",
       "      <td>4.0</td>\n",
       "      <td>93648.703319</td>\n",
       "      <td>2</td>\n",
       "    </tr>\n",
       "  </tbody>\n",
       "</table>\n",
       "<p>11824 rows × 17 columns</p>\n",
       "</div>"
      ],
      "text/plain": [
       "       price  model_year           model  condition  cylinders fuel  \\\n",
       "2       5500      2013.0  hyundai sonata   like new        4.0  gas   \n",
       "4      14900      2017.0    chrysler 200  excellent        4.0  gas   \n",
       "5      14990      2014.0    chrysler 300  excellent        6.0  gas   \n",
       "6      12990      2015.0    toyota camry  excellent        4.0  gas   \n",
       "11      8990      2012.0    honda accord  excellent        4.0  gas   \n",
       "...      ...         ...             ...        ...        ...  ...   \n",
       "51518   3750      2005.0     ford taurus  excellent        6.0  gas   \n",
       "51520   9249      2013.0   nissan maxima   like new        6.0  gas   \n",
       "51522   3950      2009.0  hyundai sonata  excellent        4.0  gas   \n",
       "51523   7455      2013.0  toyota corolla       good        4.0  gas   \n",
       "51524   6300      2014.0   nissan altima       good        4.0  gas   \n",
       "\n",
       "            odometer transmission   type paint_color  is_4wd date_posted  \\\n",
       "2      110000.000000    automatic  sedan         red     0.0  2019-02-07   \n",
       "4       80903.000000    automatic  sedan       black     0.0  2019-04-02   \n",
       "5       57954.000000    automatic  sedan       black     1.0  2018-06-20   \n",
       "6       79212.000000    automatic  sedan       white     0.0  2018-12-27   \n",
       "11     111142.000000    automatic  sedan        grey     0.0  2019-03-28   \n",
       "...              ...          ...    ...         ...     ...         ...   \n",
       "51518  110200.000000    automatic  sedan      silver     0.0  2018-08-10   \n",
       "51520   88136.000000    automatic  sedan       black     0.0  2018-10-03   \n",
       "51522  128000.000000    automatic  sedan        blue     0.0  2018-11-15   \n",
       "51523  139573.000000    automatic  sedan       black     0.0  2018-07-02   \n",
       "51524   93648.703319    automatic  sedan       other     0.0  2018-06-05   \n",
       "\n",
       "       days_listed  year_posted  vehicle_age    avg_mileage  \\\n",
       "2               79         2019          6.0  102880.891908   \n",
       "4               28         2019          2.0   45620.000000   \n",
       "5               15         2018          4.0   93648.703319   \n",
       "6               73         2018          3.0   82503.819348   \n",
       "11              29         2019          7.0  112051.523598   \n",
       "...            ...          ...          ...            ...   \n",
       "51518           63         2018         13.0  152011.719127   \n",
       "51520           37         2018          5.0  102880.891908   \n",
       "51522           32         2018          9.0  132576.798250   \n",
       "51523           71         2018          5.0  102880.891908   \n",
       "51524           10         2018          4.0   93648.703319   \n",
       "\n",
       "       condition_counters  \n",
       "2                       4  \n",
       "4                       3  \n",
       "5                       3  \n",
       "6                       3  \n",
       "11                      3  \n",
       "...                   ...  \n",
       "51518                   3  \n",
       "51520                   4  \n",
       "51522                   3  \n",
       "51523                   2  \n",
       "51524                   2  \n",
       "\n",
       "[11824 rows x 17 columns]"
      ]
     },
     "execution_count": 61,
     "metadata": {},
     "output_type": "execute_result"
    }
   ],
   "source": [
    "sedan = data_clean[data_clean['type'] == 'sedan']\n",
    "sedan"
   ]
  },
  {
   "cell_type": "code",
   "execution_count": 62,
   "metadata": {},
   "outputs": [
    {
     "data": {
      "text/html": [
       "<div>\n",
       "<style scoped>\n",
       "    .dataframe tbody tr th:only-of-type {\n",
       "        vertical-align: middle;\n",
       "    }\n",
       "\n",
       "    .dataframe tbody tr th {\n",
       "        vertical-align: top;\n",
       "    }\n",
       "\n",
       "    .dataframe thead th {\n",
       "        text-align: right;\n",
       "    }\n",
       "</style>\n",
       "<table border=\"1\" class=\"dataframe\">\n",
       "  <thead>\n",
       "    <tr style=\"text-align: right;\">\n",
       "      <th></th>\n",
       "      <th>price</th>\n",
       "      <th>vehicle_age</th>\n",
       "      <th>avg_mileage</th>\n",
       "      <th>condition_counters</th>\n",
       "    </tr>\n",
       "  </thead>\n",
       "  <tbody>\n",
       "    <tr>\n",
       "      <th>2</th>\n",
       "      <td>5500</td>\n",
       "      <td>6.0</td>\n",
       "      <td>102880.891908</td>\n",
       "      <td>4</td>\n",
       "    </tr>\n",
       "    <tr>\n",
       "      <th>4</th>\n",
       "      <td>14900</td>\n",
       "      <td>2.0</td>\n",
       "      <td>45620.000000</td>\n",
       "      <td>3</td>\n",
       "    </tr>\n",
       "    <tr>\n",
       "      <th>5</th>\n",
       "      <td>14990</td>\n",
       "      <td>4.0</td>\n",
       "      <td>93648.703319</td>\n",
       "      <td>3</td>\n",
       "    </tr>\n",
       "    <tr>\n",
       "      <th>6</th>\n",
       "      <td>12990</td>\n",
       "      <td>3.0</td>\n",
       "      <td>82503.819348</td>\n",
       "      <td>3</td>\n",
       "    </tr>\n",
       "    <tr>\n",
       "      <th>11</th>\n",
       "      <td>8990</td>\n",
       "      <td>7.0</td>\n",
       "      <td>112051.523598</td>\n",
       "      <td>3</td>\n",
       "    </tr>\n",
       "    <tr>\n",
       "      <th>...</th>\n",
       "      <td>...</td>\n",
       "      <td>...</td>\n",
       "      <td>...</td>\n",
       "      <td>...</td>\n",
       "    </tr>\n",
       "    <tr>\n",
       "      <th>51518</th>\n",
       "      <td>3750</td>\n",
       "      <td>13.0</td>\n",
       "      <td>152011.719127</td>\n",
       "      <td>3</td>\n",
       "    </tr>\n",
       "    <tr>\n",
       "      <th>51520</th>\n",
       "      <td>9249</td>\n",
       "      <td>5.0</td>\n",
       "      <td>102880.891908</td>\n",
       "      <td>4</td>\n",
       "    </tr>\n",
       "    <tr>\n",
       "      <th>51522</th>\n",
       "      <td>3950</td>\n",
       "      <td>9.0</td>\n",
       "      <td>132576.798250</td>\n",
       "      <td>3</td>\n",
       "    </tr>\n",
       "    <tr>\n",
       "      <th>51523</th>\n",
       "      <td>7455</td>\n",
       "      <td>5.0</td>\n",
       "      <td>102880.891908</td>\n",
       "      <td>2</td>\n",
       "    </tr>\n",
       "    <tr>\n",
       "      <th>51524</th>\n",
       "      <td>6300</td>\n",
       "      <td>4.0</td>\n",
       "      <td>93648.703319</td>\n",
       "      <td>2</td>\n",
       "    </tr>\n",
       "  </tbody>\n",
       "</table>\n",
       "<p>11824 rows × 4 columns</p>\n",
       "</div>"
      ],
      "text/plain": [
       "       price  vehicle_age    avg_mileage  condition_counters\n",
       "2       5500          6.0  102880.891908                   4\n",
       "4      14900          2.0   45620.000000                   3\n",
       "5      14990          4.0   93648.703319                   3\n",
       "6      12990          3.0   82503.819348                   3\n",
       "11      8990          7.0  112051.523598                   3\n",
       "...      ...          ...            ...                 ...\n",
       "51518   3750         13.0  152011.719127                   3\n",
       "51520   9249          5.0  102880.891908                   4\n",
       "51522   3950          9.0  132576.798250                   3\n",
       "51523   7455          5.0  102880.891908                   2\n",
       "51524   6300          4.0   93648.703319                   2\n",
       "\n",
       "[11824 rows x 4 columns]"
      ]
     },
     "execution_count": 62,
     "metadata": {},
     "output_type": "execute_result"
    }
   ],
   "source": [
    "for_scatter = sedan[['price', 'vehicle_age', 'avg_mileage', 'condition_counters' ]]\n",
    "for_scatter"
   ]
  },
  {
   "cell_type": "code",
   "execution_count": 63,
   "metadata": {},
   "outputs": [
    {
     "data": {
      "text/plain": [
       "<seaborn.axisgrid.PairGrid at 0x7f8d1e15bfd0>"
      ]
     },
     "execution_count": 63,
     "metadata": {},
     "output_type": "execute_result"
    },
    {
     "data": {
      "image/png": "[encoded data removed]",
      "text/plain": [
       "<Figure size 720x720 with 20 Axes>"
      ]
     },
     "metadata": {
      "needs_background": "light"
     },
     "output_type": "display_data"
    }
   ],
   "source": [
    "sns.pairplot(for_scatter)"
   ]
  },
  {
   "cell_type": "code",
   "execution_count": 64,
   "metadata": {},
   "outputs": [
    {
     "data": {
      "text/html": [
       "<div>\n",
       "<style scoped>\n",
       "    .dataframe tbody tr th:only-of-type {\n",
       "        vertical-align: middle;\n",
       "    }\n",
       "\n",
       "    .dataframe tbody tr th {\n",
       "        vertical-align: top;\n",
       "    }\n",
       "\n",
       "    .dataframe thead th {\n",
       "        text-align: right;\n",
       "    }\n",
       "</style>\n",
       "<table border=\"1\" class=\"dataframe\">\n",
       "  <thead>\n",
       "    <tr style=\"text-align: right;\">\n",
       "      <th></th>\n",
       "      <th>price</th>\n",
       "      <th>vehicle_age</th>\n",
       "      <th>avg_mileage</th>\n",
       "      <th>condition_counters</th>\n",
       "    </tr>\n",
       "  </thead>\n",
       "  <tbody>\n",
       "    <tr>\n",
       "      <th>price</th>\n",
       "      <td>1.000000</td>\n",
       "      <td>-0.623327</td>\n",
       "      <td>-0.652202</td>\n",
       "      <td>0.292797</td>\n",
       "    </tr>\n",
       "    <tr>\n",
       "      <th>vehicle_age</th>\n",
       "      <td>-0.623327</td>\n",
       "      <td>1.000000</td>\n",
       "      <td>0.940128</td>\n",
       "      <td>-0.304131</td>\n",
       "    </tr>\n",
       "    <tr>\n",
       "      <th>avg_mileage</th>\n",
       "      <td>-0.652202</td>\n",
       "      <td>0.940128</td>\n",
       "      <td>1.000000</td>\n",
       "      <td>-0.308345</td>\n",
       "    </tr>\n",
       "    <tr>\n",
       "      <th>condition_counters</th>\n",
       "      <td>0.292797</td>\n",
       "      <td>-0.304131</td>\n",
       "      <td>-0.308345</td>\n",
       "      <td>1.000000</td>\n",
       "    </tr>\n",
       "  </tbody>\n",
       "</table>\n",
       "</div>"
      ],
      "text/plain": [
       "                       price  vehicle_age  avg_mileage  condition_counters\n",
       "price               1.000000    -0.623327    -0.652202            0.292797\n",
       "vehicle_age        -0.623327     1.000000     0.940128           -0.304131\n",
       "avg_mileage        -0.652202     0.940128     1.000000           -0.308345\n",
       "condition_counters  0.292797    -0.304131    -0.308345            1.000000"
      ]
     },
     "execution_count": 64,
     "metadata": {},
     "output_type": "execute_result"
    }
   ],
   "source": [
    "for_scatter.corr()"
   ]
  },
  {
   "cell_type": "markdown",
   "metadata": {},
   "source": [
    "we see that in the case of the sedan, there is a strong correlation between mileage and age of the car. there is also a negative correlation between age and mileage and price. i.e. the older the car and the more mileage it has, the lower the price."
   ]
  },
  {
   "cell_type": "code",
   "execution_count": 65,
   "metadata": {},
   "outputs": [
    {
     "data": {
      "text/html": [
       "<div>\n",
       "<style scoped>\n",
       "    .dataframe tbody tr th:only-of-type {\n",
       "        vertical-align: middle;\n",
       "    }\n",
       "\n",
       "    .dataframe tbody tr th {\n",
       "        vertical-align: top;\n",
       "    }\n",
       "\n",
       "    .dataframe thead th {\n",
       "        text-align: right;\n",
       "    }\n",
       "</style>\n",
       "<table border=\"1\" class=\"dataframe\">\n",
       "  <thead>\n",
       "    <tr style=\"text-align: right;\">\n",
       "      <th></th>\n",
       "      <th>price</th>\n",
       "      <th>model_year</th>\n",
       "      <th>model</th>\n",
       "      <th>condition</th>\n",
       "      <th>cylinders</th>\n",
       "      <th>fuel</th>\n",
       "      <th>odometer</th>\n",
       "      <th>transmission</th>\n",
       "      <th>type</th>\n",
       "      <th>paint_color</th>\n",
       "      <th>is_4wd</th>\n",
       "      <th>date_posted</th>\n",
       "      <th>days_listed</th>\n",
       "      <th>year_posted</th>\n",
       "      <th>vehicle_age</th>\n",
       "      <th>avg_mileage</th>\n",
       "      <th>condition_counters</th>\n",
       "    </tr>\n",
       "  </thead>\n",
       "  <tbody>\n",
       "    <tr>\n",
       "      <th>0</th>\n",
       "      <td>9400</td>\n",
       "      <td>2011.0</td>\n",
       "      <td>bmw x5</td>\n",
       "      <td>good</td>\n",
       "      <td>6.00000</td>\n",
       "      <td>gas</td>\n",
       "      <td>145000.000000</td>\n",
       "      <td>automatic</td>\n",
       "      <td>SUV</td>\n",
       "      <td>other</td>\n",
       "      <td>1.0</td>\n",
       "      <td>2018-06-23</td>\n",
       "      <td>19</td>\n",
       "      <td>2018</td>\n",
       "      <td>7.0</td>\n",
       "      <td>124883.614978</td>\n",
       "      <td>2</td>\n",
       "    </tr>\n",
       "    <tr>\n",
       "      <th>7</th>\n",
       "      <td>15990</td>\n",
       "      <td>2013.0</td>\n",
       "      <td>honda pilot</td>\n",
       "      <td>excellent</td>\n",
       "      <td>6.00000</td>\n",
       "      <td>gas</td>\n",
       "      <td>109473.000000</td>\n",
       "      <td>automatic</td>\n",
       "      <td>SUV</td>\n",
       "      <td>black</td>\n",
       "      <td>1.0</td>\n",
       "      <td>2019-01-07</td>\n",
       "      <td>68</td>\n",
       "      <td>2019</td>\n",
       "      <td>6.0</td>\n",
       "      <td>102880.891908</td>\n",
       "      <td>3</td>\n",
       "    </tr>\n",
       "    <tr>\n",
       "      <th>8</th>\n",
       "      <td>11500</td>\n",
       "      <td>2012.0</td>\n",
       "      <td>kia sorento</td>\n",
       "      <td>excellent</td>\n",
       "      <td>4.00000</td>\n",
       "      <td>gas</td>\n",
       "      <td>104174.000000</td>\n",
       "      <td>automatic</td>\n",
       "      <td>SUV</td>\n",
       "      <td>other</td>\n",
       "      <td>1.0</td>\n",
       "      <td>2018-07-16</td>\n",
       "      <td>19</td>\n",
       "      <td>2018</td>\n",
       "      <td>6.0</td>\n",
       "      <td>112051.523598</td>\n",
       "      <td>3</td>\n",
       "    </tr>\n",
       "    <tr>\n",
       "      <th>9</th>\n",
       "      <td>9200</td>\n",
       "      <td>2008.0</td>\n",
       "      <td>honda pilot</td>\n",
       "      <td>excellent</td>\n",
       "      <td>5.99631</td>\n",
       "      <td>gas</td>\n",
       "      <td>147191.000000</td>\n",
       "      <td>automatic</td>\n",
       "      <td>SUV</td>\n",
       "      <td>blue</td>\n",
       "      <td>1.0</td>\n",
       "      <td>2019-02-15</td>\n",
       "      <td>17</td>\n",
       "      <td>2019</td>\n",
       "      <td>11.0</td>\n",
       "      <td>139878.910813</td>\n",
       "      <td>3</td>\n",
       "    </tr>\n",
       "    <tr>\n",
       "      <th>14</th>\n",
       "      <td>12990</td>\n",
       "      <td>2009.0</td>\n",
       "      <td>gmc yukon</td>\n",
       "      <td>excellent</td>\n",
       "      <td>8.00000</td>\n",
       "      <td>gas</td>\n",
       "      <td>132285.000000</td>\n",
       "      <td>automatic</td>\n",
       "      <td>SUV</td>\n",
       "      <td>black</td>\n",
       "      <td>1.0</td>\n",
       "      <td>2019-01-31</td>\n",
       "      <td>24</td>\n",
       "      <td>2019</td>\n",
       "      <td>10.0</td>\n",
       "      <td>132576.798250</td>\n",
       "      <td>3</td>\n",
       "    </tr>\n",
       "    <tr>\n",
       "      <th>...</th>\n",
       "      <td>...</td>\n",
       "      <td>...</td>\n",
       "      <td>...</td>\n",
       "      <td>...</td>\n",
       "      <td>...</td>\n",
       "      <td>...</td>\n",
       "      <td>...</td>\n",
       "      <td>...</td>\n",
       "      <td>...</td>\n",
       "      <td>...</td>\n",
       "      <td>...</td>\n",
       "      <td>...</td>\n",
       "      <td>...</td>\n",
       "      <td>...</td>\n",
       "      <td>...</td>\n",
       "      <td>...</td>\n",
       "      <td>...</td>\n",
       "    </tr>\n",
       "    <tr>\n",
       "      <th>51495</th>\n",
       "      <td>9500</td>\n",
       "      <td>2012.0</td>\n",
       "      <td>chevrolet traverse</td>\n",
       "      <td>good</td>\n",
       "      <td>6.00000</td>\n",
       "      <td>gas</td>\n",
       "      <td>144500.000000</td>\n",
       "      <td>automatic</td>\n",
       "      <td>SUV</td>\n",
       "      <td>other</td>\n",
       "      <td>1.0</td>\n",
       "      <td>2019-03-05</td>\n",
       "      <td>1</td>\n",
       "      <td>2019</td>\n",
       "      <td>7.0</td>\n",
       "      <td>112051.523598</td>\n",
       "      <td>2</td>\n",
       "    </tr>\n",
       "    <tr>\n",
       "      <th>51496</th>\n",
       "      <td>4999</td>\n",
       "      <td>2002.0</td>\n",
       "      <td>toyota 4runner</td>\n",
       "      <td>excellent</td>\n",
       "      <td>6.00000</td>\n",
       "      <td>gas</td>\n",
       "      <td>177901.000000</td>\n",
       "      <td>automatic</td>\n",
       "      <td>SUV</td>\n",
       "      <td>other</td>\n",
       "      <td>1.0</td>\n",
       "      <td>2018-05-26</td>\n",
       "      <td>59</td>\n",
       "      <td>2018</td>\n",
       "      <td>16.0</td>\n",
       "      <td>158508.842286</td>\n",
       "      <td>3</td>\n",
       "    </tr>\n",
       "    <tr>\n",
       "      <th>51500</th>\n",
       "      <td>6995</td>\n",
       "      <td>2012.0</td>\n",
       "      <td>buick enclave</td>\n",
       "      <td>excellent</td>\n",
       "      <td>6.00000</td>\n",
       "      <td>gas</td>\n",
       "      <td>157000.000000</td>\n",
       "      <td>automatic</td>\n",
       "      <td>SUV</td>\n",
       "      <td>white</td>\n",
       "      <td>1.0</td>\n",
       "      <td>2018-08-04</td>\n",
       "      <td>17</td>\n",
       "      <td>2018</td>\n",
       "      <td>6.0</td>\n",
       "      <td>112051.523598</td>\n",
       "      <td>3</td>\n",
       "    </tr>\n",
       "    <tr>\n",
       "      <th>51502</th>\n",
       "      <td>7995</td>\n",
       "      <td>2011.0</td>\n",
       "      <td>chevrolet equinox</td>\n",
       "      <td>like new</td>\n",
       "      <td>4.00000</td>\n",
       "      <td>gas</td>\n",
       "      <td>111088.000000</td>\n",
       "      <td>automatic</td>\n",
       "      <td>SUV</td>\n",
       "      <td>other</td>\n",
       "      <td>0.0</td>\n",
       "      <td>2019-04-01</td>\n",
       "      <td>175</td>\n",
       "      <td>2019</td>\n",
       "      <td>8.0</td>\n",
       "      <td>124883.614978</td>\n",
       "      <td>4</td>\n",
       "    </tr>\n",
       "    <tr>\n",
       "      <th>51516</th>\n",
       "      <td>8999</td>\n",
       "      <td>2011.0</td>\n",
       "      <td>jeep grand cherokee</td>\n",
       "      <td>good</td>\n",
       "      <td>6.00000</td>\n",
       "      <td>gas</td>\n",
       "      <td>124883.614978</td>\n",
       "      <td>automatic</td>\n",
       "      <td>SUV</td>\n",
       "      <td>white</td>\n",
       "      <td>1.0</td>\n",
       "      <td>2018-11-01</td>\n",
       "      <td>51</td>\n",
       "      <td>2018</td>\n",
       "      <td>7.0</td>\n",
       "      <td>124883.614978</td>\n",
       "      <td>2</td>\n",
       "    </tr>\n",
       "  </tbody>\n",
       "</table>\n",
       "<p>11761 rows × 17 columns</p>\n",
       "</div>"
      ],
      "text/plain": [
       "       price  model_year                model  condition  cylinders fuel  \\\n",
       "0       9400      2011.0               bmw x5       good    6.00000  gas   \n",
       "7      15990      2013.0          honda pilot  excellent    6.00000  gas   \n",
       "8      11500      2012.0          kia sorento  excellent    4.00000  gas   \n",
       "9       9200      2008.0          honda pilot  excellent    5.99631  gas   \n",
       "14     12990      2009.0            gmc yukon  excellent    8.00000  gas   \n",
       "...      ...         ...                  ...        ...        ...  ...   \n",
       "51495   9500      2012.0   chevrolet traverse       good    6.00000  gas   \n",
       "51496   4999      2002.0       toyota 4runner  excellent    6.00000  gas   \n",
       "51500   6995      2012.0        buick enclave  excellent    6.00000  gas   \n",
       "51502   7995      2011.0    chevrolet equinox   like new    4.00000  gas   \n",
       "51516   8999      2011.0  jeep grand cherokee       good    6.00000  gas   \n",
       "\n",
       "            odometer transmission type paint_color  is_4wd date_posted  \\\n",
       "0      145000.000000    automatic  SUV       other     1.0  2018-06-23   \n",
       "7      109473.000000    automatic  SUV       black     1.0  2019-01-07   \n",
       "8      104174.000000    automatic  SUV       other     1.0  2018-07-16   \n",
       "9      147191.000000    automatic  SUV        blue     1.0  2019-02-15   \n",
       "14     132285.000000    automatic  SUV       black     1.0  2019-01-31   \n",
       "...              ...          ...  ...         ...     ...         ...   \n",
       "51495  144500.000000    automatic  SUV       other     1.0  2019-03-05   \n",
       "51496  177901.000000    automatic  SUV       other     1.0  2018-05-26   \n",
       "51500  157000.000000    automatic  SUV       white     1.0  2018-08-04   \n",
       "51502  111088.000000    automatic  SUV       other     0.0  2019-04-01   \n",
       "51516  124883.614978    automatic  SUV       white     1.0  2018-11-01   \n",
       "\n",
       "       days_listed  year_posted  vehicle_age    avg_mileage  \\\n",
       "0               19         2018          7.0  124883.614978   \n",
       "7               68         2019          6.0  102880.891908   \n",
       "8               19         2018          6.0  112051.523598   \n",
       "9               17         2019         11.0  139878.910813   \n",
       "14              24         2019         10.0  132576.798250   \n",
       "...            ...          ...          ...            ...   \n",
       "51495            1         2019          7.0  112051.523598   \n",
       "51496           59         2018         16.0  158508.842286   \n",
       "51500           17         2018          6.0  112051.523598   \n",
       "51502          175         2019          8.0  124883.614978   \n",
       "51516           51         2018          7.0  124883.614978   \n",
       "\n",
       "       condition_counters  \n",
       "0                       2  \n",
       "7                       3  \n",
       "8                       3  \n",
       "9                       3  \n",
       "14                      3  \n",
       "...                   ...  \n",
       "51495                   2  \n",
       "51496                   3  \n",
       "51500                   3  \n",
       "51502                   4  \n",
       "51516                   2  \n",
       "\n",
       "[11761 rows x 17 columns]"
      ]
     },
     "execution_count": 65,
     "metadata": {},
     "output_type": "execute_result"
    }
   ],
   "source": [
    "SUV = data_clean[data_clean['type'] == 'SUV']\n",
    "SUV"
   ]
  },
  {
   "cell_type": "code",
   "execution_count": 66,
   "metadata": {},
   "outputs": [
    {
     "data": {
      "text/html": [
       "<div>\n",
       "<style scoped>\n",
       "    .dataframe tbody tr th:only-of-type {\n",
       "        vertical-align: middle;\n",
       "    }\n",
       "\n",
       "    .dataframe tbody tr th {\n",
       "        vertical-align: top;\n",
       "    }\n",
       "\n",
       "    .dataframe thead th {\n",
       "        text-align: right;\n",
       "    }\n",
       "</style>\n",
       "<table border=\"1\" class=\"dataframe\">\n",
       "  <thead>\n",
       "    <tr style=\"text-align: right;\">\n",
       "      <th></th>\n",
       "      <th>price</th>\n",
       "      <th>vehicle_age</th>\n",
       "      <th>avg_mileage</th>\n",
       "      <th>condition_counters</th>\n",
       "    </tr>\n",
       "  </thead>\n",
       "  <tbody>\n",
       "    <tr>\n",
       "      <th>0</th>\n",
       "      <td>9400</td>\n",
       "      <td>7.0</td>\n",
       "      <td>124883.614978</td>\n",
       "      <td>2</td>\n",
       "    </tr>\n",
       "    <tr>\n",
       "      <th>7</th>\n",
       "      <td>15990</td>\n",
       "      <td>6.0</td>\n",
       "      <td>102880.891908</td>\n",
       "      <td>3</td>\n",
       "    </tr>\n",
       "    <tr>\n",
       "      <th>8</th>\n",
       "      <td>11500</td>\n",
       "      <td>6.0</td>\n",
       "      <td>112051.523598</td>\n",
       "      <td>3</td>\n",
       "    </tr>\n",
       "    <tr>\n",
       "      <th>9</th>\n",
       "      <td>9200</td>\n",
       "      <td>11.0</td>\n",
       "      <td>139878.910813</td>\n",
       "      <td>3</td>\n",
       "    </tr>\n",
       "    <tr>\n",
       "      <th>14</th>\n",
       "      <td>12990</td>\n",
       "      <td>10.0</td>\n",
       "      <td>132576.798250</td>\n",
       "      <td>3</td>\n",
       "    </tr>\n",
       "    <tr>\n",
       "      <th>...</th>\n",
       "      <td>...</td>\n",
       "      <td>...</td>\n",
       "      <td>...</td>\n",
       "      <td>...</td>\n",
       "    </tr>\n",
       "    <tr>\n",
       "      <th>51495</th>\n",
       "      <td>9500</td>\n",
       "      <td>7.0</td>\n",
       "      <td>112051.523598</td>\n",
       "      <td>2</td>\n",
       "    </tr>\n",
       "    <tr>\n",
       "      <th>51496</th>\n",
       "      <td>4999</td>\n",
       "      <td>16.0</td>\n",
       "      <td>158508.842286</td>\n",
       "      <td>3</td>\n",
       "    </tr>\n",
       "    <tr>\n",
       "      <th>51500</th>\n",
       "      <td>6995</td>\n",
       "      <td>6.0</td>\n",
       "      <td>112051.523598</td>\n",
       "      <td>3</td>\n",
       "    </tr>\n",
       "    <tr>\n",
       "      <th>51502</th>\n",
       "      <td>7995</td>\n",
       "      <td>8.0</td>\n",
       "      <td>124883.614978</td>\n",
       "      <td>4</td>\n",
       "    </tr>\n",
       "    <tr>\n",
       "      <th>51516</th>\n",
       "      <td>8999</td>\n",
       "      <td>7.0</td>\n",
       "      <td>124883.614978</td>\n",
       "      <td>2</td>\n",
       "    </tr>\n",
       "  </tbody>\n",
       "</table>\n",
       "<p>11761 rows × 4 columns</p>\n",
       "</div>"
      ],
      "text/plain": [
       "       price  vehicle_age    avg_mileage  condition_counters\n",
       "0       9400          7.0  124883.614978                   2\n",
       "7      15990          6.0  102880.891908                   3\n",
       "8      11500          6.0  112051.523598                   3\n",
       "9       9200         11.0  139878.910813                   3\n",
       "14     12990         10.0  132576.798250                   3\n",
       "...      ...          ...            ...                 ...\n",
       "51495   9500          7.0  112051.523598                   2\n",
       "51496   4999         16.0  158508.842286                   3\n",
       "51500   6995          6.0  112051.523598                   3\n",
       "51502   7995          8.0  124883.614978                   4\n",
       "51516   8999          7.0  124883.614978                   2\n",
       "\n",
       "[11761 rows x 4 columns]"
      ]
     },
     "execution_count": 66,
     "metadata": {},
     "output_type": "execute_result"
    }
   ],
   "source": [
    "for_scatter_1 = SUV[['price', 'vehicle_age', 'avg_mileage', 'condition_counters' ]]\n",
    "for_scatter_1"
   ]
  },
  {
   "cell_type": "code",
   "execution_count": 67,
   "metadata": {},
   "outputs": [
    {
     "data": {
      "text/html": [
       "<div>\n",
       "<style scoped>\n",
       "    .dataframe tbody tr th:only-of-type {\n",
       "        vertical-align: middle;\n",
       "    }\n",
       "\n",
       "    .dataframe tbody tr th {\n",
       "        vertical-align: top;\n",
       "    }\n",
       "\n",
       "    .dataframe thead th {\n",
       "        text-align: right;\n",
       "    }\n",
       "</style>\n",
       "<table border=\"1\" class=\"dataframe\">\n",
       "  <thead>\n",
       "    <tr style=\"text-align: right;\">\n",
       "      <th></th>\n",
       "      <th>price</th>\n",
       "      <th>vehicle_age</th>\n",
       "      <th>avg_mileage</th>\n",
       "      <th>condition_counters</th>\n",
       "    </tr>\n",
       "  </thead>\n",
       "  <tbody>\n",
       "    <tr>\n",
       "      <th>price</th>\n",
       "      <td>1.000000</td>\n",
       "      <td>-0.584341</td>\n",
       "      <td>-0.587138</td>\n",
       "      <td>0.265480</td>\n",
       "    </tr>\n",
       "    <tr>\n",
       "      <th>vehicle_age</th>\n",
       "      <td>-0.584341</td>\n",
       "      <td>1.000000</td>\n",
       "      <td>0.935809</td>\n",
       "      <td>-0.309392</td>\n",
       "    </tr>\n",
       "    <tr>\n",
       "      <th>avg_mileage</th>\n",
       "      <td>-0.587138</td>\n",
       "      <td>0.935809</td>\n",
       "      <td>1.000000</td>\n",
       "      <td>-0.292794</td>\n",
       "    </tr>\n",
       "    <tr>\n",
       "      <th>condition_counters</th>\n",
       "      <td>0.265480</td>\n",
       "      <td>-0.309392</td>\n",
       "      <td>-0.292794</td>\n",
       "      <td>1.000000</td>\n",
       "    </tr>\n",
       "  </tbody>\n",
       "</table>\n",
       "</div>"
      ],
      "text/plain": [
       "                       price  vehicle_age  avg_mileage  condition_counters\n",
       "price               1.000000    -0.584341    -0.587138            0.265480\n",
       "vehicle_age        -0.584341     1.000000     0.935809           -0.309392\n",
       "avg_mileage        -0.587138     0.935809     1.000000           -0.292794\n",
       "condition_counters  0.265480    -0.309392    -0.292794            1.000000"
      ]
     },
     "execution_count": 67,
     "metadata": {},
     "output_type": "execute_result"
    }
   ],
   "source": [
    "for_scatter_1.corr()"
   ]
  },
  {
   "cell_type": "markdown",
   "metadata": {},
   "source": [
    "in the case of the SUV, the correlation between price, mileage and age is still negative, slightly less than with the Sedan, but still quite strong. conclusion: the older the car and the more mileage, the lower its price."
   ]
  },
  {
   "cell_type": "code",
   "execution_count": 68,
   "metadata": {},
   "outputs": [
    {
     "data": {
      "text/plain": [
       "sedan          11824\n",
       "SUV            11761\n",
       "truck          11185\n",
       "pickup          6260\n",
       "coupe           1987\n",
       "wagon           1503\n",
       "mini-van        1130\n",
       "hatchback       1001\n",
       "van              579\n",
       "convertible      327\n",
       "other            233\n",
       "offroad          183\n",
       "bus               21\n",
       "Name: type, dtype: int64"
      ]
     },
     "execution_count": 68,
     "metadata": {},
     "output_type": "execute_result"
    }
   ],
   "source": [
    "data_clean['type'].value_counts()"
   ]
  },
  {
   "cell_type": "code",
   "execution_count": 69,
   "metadata": {},
   "outputs": [
    {
     "data": {
      "image/png": "[encoded data removed]",
      "text/plain": [
       "<Figure size 1008x576 with 1 Axes>"
      ]
     },
     "metadata": {
      "needs_background": "light"
     },
     "output_type": "display_data"
    }
   ],
   "source": [
    "plt.figure(figsize=(14,8))\n",
    "ax = sns.boxplot(x='transmission', y='price', data=sedan, showfliers=False)"
   ]
  },
  {
   "cell_type": "markdown",
   "metadata": {},
   "source": [
    "the most expensive  sedan cars sold with automatic transmission"
   ]
  },
  {
   "cell_type": "code",
   "execution_count": 70,
   "metadata": {},
   "outputs": [
    {
     "data": {
      "text/plain": [
       "paint_color  type    \n",
       "white        truck       3368\n",
       "other        sedan       2134\n",
       "             SUV         2106\n",
       "black        SUV         2070\n",
       "silver       sedan       2011\n",
       "                         ... \n",
       "yellow       other          1\n",
       "purple       mini-van       1\n",
       "             other          1\n",
       "blue         bus            1\n",
       "purple       van            1\n",
       "Length: 155, dtype: int64"
      ]
     },
     "execution_count": 70,
     "metadata": {},
     "output_type": "execute_result"
    }
   ],
   "source": [
    "data_clean[['paint_color', 'type']].value_counts()"
   ]
  },
  {
   "cell_type": "code",
   "execution_count": 71,
   "metadata": {},
   "outputs": [
    {
     "data": {
      "image/png": "[encoded data removed]",
      "text/plain": [
       "<Figure size 1008x576 with 1 Axes>"
      ]
     },
     "metadata": {
      "needs_background": "light"
     },
     "output_type": "display_data"
    }
   ],
   "source": [
    "plt.figure(figsize=(14,8))\n",
    "ax = sns.boxplot(x='paint_color', y='price', data=sedan, showfliers=False)"
   ]
  },
  {
   "cell_type": "markdown",
   "metadata": {},
   "source": [
    "hard to say for sure. in the case of the Sedan, the color doesn't really matter. it can be seen that orange cars are selling a little better, but there less then 50 of them, so it is impossible to draw an unambiguous conclusion."
   ]
  },
  {
   "cell_type": "code",
   "execution_count": 72,
   "metadata": {},
   "outputs": [
    {
     "data": {
      "image/png": "[encoded data removed]",
      "text/plain": [
       "<Figure size 1008x576 with 1 Axes>"
      ]
     },
     "metadata": {
      "needs_background": "light"
     },
     "output_type": "display_data"
    }
   ],
   "source": [
    "plt.figure(figsize=(14,8))\n",
    "ax = sns.boxplot(x='transmission', y='price', data=SUV, showfliers=False)"
   ]
  },
  {
   "cell_type": "markdown",
   "metadata": {},
   "source": [
    "in the case of SUVs, those with a manual transmission will be more expensive."
   ]
  },
  {
   "cell_type": "code",
   "execution_count": 73,
   "metadata": {},
   "outputs": [
    {
     "data": {
      "image/png": "[encoded data removed]",
      "text/plain": [
       "<Figure size 1008x576 with 1 Axes>"
      ]
     },
     "metadata": {
      "needs_background": "light"
     },
     "output_type": "display_data"
    }
   ],
   "source": [
    "plt.figure(figsize=(14,8))\n",
    "ax = sns.boxplot(x='paint_color', y='price', data=SUV, showfliers=False)"
   ]
  },
  {
   "cell_type": "markdown",
   "metadata": {},
   "source": [
    "orange and yellow SUVs are more expensive than others, but they are relatively few and definitely less than 50 of each. therefore, from those who can participate in the analysis, it turns out that the price is almost independent of color. black and white are sold a little more expensive, but not essential."
   ]
  },
  {
   "cell_type": "markdown",
   "metadata": {},
   "source": [
    "## General conclusion\n",
    "\n",
    "[List your important conclusions in this final section, make sure they include those that led you to the way you processed and analyzed the data. Cover the missing values, duplicates, outliers and possible reasons and solutions for problematic artifacts that you had to address. Don't forget to remove all bracketed comments before submitting your project.]"
   ]
  },
  {
   "cell_type": "markdown",
   "metadata": {},
   "source": [
    "the total amount of data was:\n",
    "lines - 51524\n",
    "columns - 13.\n",
    "there were columns with the wrong type and missing data.\n",
    "we replaced missing data where possible with the median or mean. in non-numeric columns replaced by \"other\".\n",
    "translated the data type in the columns to what suits us.\n",
    "processed the data using whisker plots and other methods and found outliers.\n",
    "got rid of outliers and compared data before and after getting rid of outliers.\n",
    "conducted a comparative analysis and came to the following conclusions:\n",
    "1. The best-selling types of cars are: sedan and SUV\n",
    "2. The price depends more on the mileage and age of the car and less on the general condition and color, while the most \"expensive\" colors are white and black, but the difference is not great."
   ]
  },
  {
   "cell_type": "code",
   "execution_count": null,
   "metadata": {},
   "outputs": [],
   "source": []
  }
 ],
 "metadata": {
  "ExecuteTimeLog": [
   {
    "duration": 828,
    "start_time": "2021-11-16T09:21:11.304Z"
   },
   {
    "duration": 893,
    "start_time": "2021-11-16T09:21:17.728Z"
   },
   {
    "duration": 1150,
    "start_time": "2021-11-16T09:21:29.568Z"
   },
   {
    "duration": 3,
    "start_time": "2021-11-16T09:24:14.495Z"
   },
   {
    "duration": 120,
    "start_time": "2021-11-16T09:24:46.630Z"
   },
   {
    "duration": 3,
    "start_time": "2021-11-16T09:28:27.882Z"
   },
   {
    "duration": 4,
    "start_time": "2021-11-16T09:29:54.281Z"
   },
   {
    "duration": 3,
    "start_time": "2021-11-16T09:30:45.936Z"
   },
   {
    "duration": 4,
    "start_time": "2021-11-16T09:31:06.300Z"
   },
   {
    "duration": 113,
    "start_time": "2021-11-16T09:31:37.208Z"
   },
   {
    "duration": 143,
    "start_time": "2021-11-16T09:31:48.656Z"
   },
   {
    "duration": 98,
    "start_time": "2021-11-16T09:31:55.678Z"
   },
   {
    "duration": 3,
    "start_time": "2021-11-16T09:32:08.535Z"
   },
   {
    "duration": 111,
    "start_time": "2021-11-16T09:32:10.120Z"
   },
   {
    "duration": 3,
    "start_time": "2021-11-16T09:32:15.732Z"
   },
   {
    "duration": 4,
    "start_time": "2021-11-16T09:32:29.423Z"
   },
   {
    "duration": 3,
    "start_time": "2021-11-16T10:03:03.074Z"
   },
   {
    "duration": 3,
    "start_time": "2021-11-16T10:10:01.288Z"
   },
   {
    "duration": 3,
    "start_time": "2021-11-16T10:10:46.923Z"
   },
   {
    "duration": 121,
    "start_time": "2021-11-16T10:37:46.494Z"
   },
   {
    "duration": 125,
    "start_time": "2021-11-16T10:38:20.632Z"
   },
   {
    "duration": 112,
    "start_time": "2021-11-16T10:46:53.001Z"
   },
   {
    "duration": 110,
    "start_time": "2021-11-16T10:48:25.775Z"
   },
   {
    "duration": 3,
    "start_time": "2021-11-16T10:50:18.720Z"
   },
   {
    "duration": 4,
    "start_time": "2021-11-16T10:50:37.649Z"
   },
   {
    "duration": 2,
    "start_time": "2021-11-16T10:50:51.884Z"
   },
   {
    "duration": 3,
    "start_time": "2021-11-16T10:51:56.237Z"
   },
   {
    "duration": 101,
    "start_time": "2021-11-16T10:53:13.791Z"
   },
   {
    "duration": 3,
    "start_time": "2021-11-16T10:55:59.186Z"
   },
   {
    "duration": 3,
    "start_time": "2021-11-16T10:56:10.751Z"
   },
   {
    "duration": 3,
    "start_time": "2021-11-16T10:56:49.038Z"
   },
   {
    "duration": 3,
    "start_time": "2021-11-16T10:56:49.174Z"
   },
   {
    "duration": 4,
    "start_time": "2021-11-16T10:56:49.414Z"
   },
   {
    "duration": 3,
    "start_time": "2021-11-16T10:56:49.680Z"
   },
   {
    "duration": 3,
    "start_time": "2021-11-16T10:56:50.370Z"
   },
   {
    "duration": 114,
    "start_time": "2021-11-16T10:59:34.518Z"
   },
   {
    "duration": 3,
    "start_time": "2021-11-16T11:01:41.201Z"
   },
   {
    "duration": 116,
    "start_time": "2021-11-16T11:01:48.754Z"
   },
   {
    "duration": 3,
    "start_time": "2021-11-16T11:02:16.685Z"
   },
   {
    "duration": 3,
    "start_time": "2021-11-16T11:02:19.479Z"
   },
   {
    "duration": 3,
    "start_time": "2021-11-16T11:02:47.067Z"
   },
   {
    "duration": 3,
    "start_time": "2021-11-16T11:02:49.353Z"
   },
   {
    "duration": 3,
    "start_time": "2021-11-16T11:03:07.835Z"
   },
   {
    "duration": 3,
    "start_time": "2021-11-16T11:03:07.953Z"
   },
   {
    "duration": 112,
    "start_time": "2021-11-16T11:07:52.072Z"
   },
   {
    "duration": 187,
    "start_time": "2021-11-16T11:09:23.468Z"
   },
   {
    "duration": 4,
    "start_time": "2021-11-16T11:10:01.455Z"
   },
   {
    "duration": 3,
    "start_time": "2021-11-16T11:10:05.069Z"
   },
   {
    "duration": 4,
    "start_time": "2021-11-16T11:10:13.376Z"
   },
   {
    "duration": 3,
    "start_time": "2021-11-16T11:10:14.434Z"
   },
   {
    "duration": 3,
    "start_time": "2021-11-16T11:10:22.853Z"
   },
   {
    "duration": 4,
    "start_time": "2021-11-16T11:27:29.279Z"
   },
   {
    "duration": 4,
    "start_time": "2021-11-16T11:29:08.919Z"
   },
   {
    "duration": 118,
    "start_time": "2021-11-16T11:29:46.703Z"
   },
   {
    "duration": 437,
    "start_time": "2021-11-16T11:36:02.181Z"
   },
   {
    "duration": 157,
    "start_time": "2021-11-16T11:36:14.388Z"
   },
   {
    "duration": 207,
    "start_time": "2021-11-16T11:47:15.898Z"
   },
   {
    "duration": 3,
    "start_time": "2021-11-16T11:53:52.092Z"
   },
   {
    "duration": 3,
    "start_time": "2021-11-16T11:53:52.236Z"
   },
   {
    "duration": 3,
    "start_time": "2021-11-16T11:59:12.005Z"
   },
   {
    "duration": 112,
    "start_time": "2021-11-16T12:00:33.446Z"
   },
   {
    "duration": 3,
    "start_time": "2021-11-16T12:02:14.453Z"
   },
   {
    "duration": 3,
    "start_time": "2021-11-16T12:02:39.512Z"
   },
   {
    "duration": 106,
    "start_time": "2021-11-16T12:03:03.460Z"
   },
   {
    "duration": 809,
    "start_time": "2022-08-30T09:13:54.144Z"
   },
   {
    "duration": 395,
    "start_time": "2022-08-30T09:13:56.666Z"
   },
   {
    "duration": 128,
    "start_time": "2022-08-30T09:14:16.681Z"
   },
   {
    "duration": 37,
    "start_time": "2022-08-30T09:16:00.581Z"
   },
   {
    "duration": 20,
    "start_time": "2022-08-30T09:16:29.333Z"
   },
   {
    "duration": 107,
    "start_time": "2022-08-30T09:24:05.042Z"
   },
   {
    "duration": 76,
    "start_time": "2022-08-30T09:29:44.223Z"
   },
   {
    "duration": 12,
    "start_time": "2022-08-30T09:30:15.560Z"
   },
   {
    "duration": 67,
    "start_time": "2022-08-30T09:31:17.406Z"
   },
   {
    "duration": 7,
    "start_time": "2022-08-30T09:31:28.838Z"
   },
   {
    "duration": 9,
    "start_time": "2022-08-30T09:31:40.679Z"
   },
   {
    "duration": 9,
    "start_time": "2022-08-30T09:32:56.985Z"
   },
   {
    "duration": 17,
    "start_time": "2022-08-30T09:34:21.696Z"
   },
   {
    "duration": 10,
    "start_time": "2022-08-30T09:35:35.178Z"
   },
   {
    "duration": 18,
    "start_time": "2022-08-30T09:39:37.785Z"
   },
   {
    "duration": 669,
    "start_time": "2022-08-30T10:53:36.682Z"
   },
   {
    "duration": 648,
    "start_time": "2022-08-30T10:55:13.706Z"
   },
   {
    "duration": 677,
    "start_time": "2022-08-30T10:55:38.769Z"
   },
   {
    "duration": 656,
    "start_time": "2022-08-30T10:55:47.087Z"
   },
   {
    "duration": 750,
    "start_time": "2022-08-30T11:01:33.271Z"
   },
   {
    "duration": 980,
    "start_time": "2022-08-30T11:02:37.382Z"
   },
   {
    "duration": 794,
    "start_time": "2022-08-30T11:04:44.484Z"
   },
   {
    "duration": 12,
    "start_time": "2022-08-30T11:04:54.685Z"
   },
   {
    "duration": 14,
    "start_time": "2022-08-30T11:05:03.029Z"
   },
   {
    "duration": 11,
    "start_time": "2022-08-30T11:05:16.240Z"
   },
   {
    "duration": 13,
    "start_time": "2022-08-30T11:05:20.298Z"
   },
   {
    "duration": 14,
    "start_time": "2022-08-30T11:05:41.100Z"
   },
   {
    "duration": 839,
    "start_time": "2022-09-11T11:53:06.723Z"
   },
   {
    "duration": 185,
    "start_time": "2022-09-11T11:53:07.564Z"
   },
   {
    "duration": 28,
    "start_time": "2022-09-11T11:53:07.750Z"
   },
   {
    "duration": 18,
    "start_time": "2022-09-11T11:53:07.781Z"
   },
   {
    "duration": 48,
    "start_time": "2022-09-11T11:53:07.800Z"
   },
   {
    "duration": 12,
    "start_time": "2022-09-11T11:53:07.849Z"
   },
   {
    "duration": 20,
    "start_time": "2022-09-11T11:53:07.862Z"
   },
   {
    "duration": 16,
    "start_time": "2022-09-11T11:53:07.884Z"
   },
   {
    "duration": 16,
    "start_time": "2022-09-11T11:53:07.901Z"
   },
   {
    "duration": 3,
    "start_time": "2022-09-11T11:53:07.949Z"
   },
   {
    "duration": 6,
    "start_time": "2022-09-11T11:53:07.955Z"
   },
   {
    "duration": 6,
    "start_time": "2022-09-11T11:53:07.963Z"
   },
   {
    "duration": 7,
    "start_time": "2022-09-11T11:53:07.970Z"
   },
   {
    "duration": 17,
    "start_time": "2022-09-11T11:53:07.979Z"
   },
   {
    "duration": 12,
    "start_time": "2022-09-11T11:53:07.998Z"
   },
   {
    "duration": 13,
    "start_time": "2022-09-11T11:53:08.013Z"
   },
   {
    "duration": 7,
    "start_time": "2022-09-11T11:53:08.028Z"
   },
   {
    "duration": 4,
    "start_time": "2022-09-11T11:53:08.037Z"
   },
   {
    "duration": 6,
    "start_time": "2022-09-11T11:53:08.043Z"
   },
   {
    "duration": 8,
    "start_time": "2022-09-11T11:53:08.050Z"
   },
   {
    "duration": 9,
    "start_time": "2022-09-11T11:53:08.059Z"
   },
   {
    "duration": 7,
    "start_time": "2022-09-11T11:53:08.069Z"
   },
   {
    "duration": 8,
    "start_time": "2022-09-11T11:53:08.078Z"
   },
   {
    "duration": 10,
    "start_time": "2022-09-11T11:53:08.087Z"
   },
   {
    "duration": 75,
    "start_time": "2022-09-11T12:02:10.717Z"
   },
   {
    "duration": 3,
    "start_time": "2022-09-11T12:03:54.588Z"
   },
   {
    "duration": 118,
    "start_time": "2022-09-11T12:03:56.645Z"
   },
   {
    "duration": 24,
    "start_time": "2022-09-11T12:03:58.237Z"
   },
   {
    "duration": 16,
    "start_time": "2022-09-11T12:03:59.065Z"
   },
   {
    "duration": 21,
    "start_time": "2022-09-11T12:04:00.420Z"
   },
   {
    "duration": 12,
    "start_time": "2022-09-11T12:04:08.919Z"
   },
   {
    "duration": 22,
    "start_time": "2022-09-11T12:04:10.532Z"
   },
   {
    "duration": 10,
    "start_time": "2022-09-11T12:04:15.412Z"
   },
   {
    "duration": 4,
    "start_time": "2022-09-11T12:04:56.852Z"
   },
   {
    "duration": 10,
    "start_time": "2022-09-11T12:05:25.746Z"
   },
   {
    "duration": 19,
    "start_time": "2022-09-11T12:11:18.054Z"
   },
   {
    "duration": 973,
    "start_time": "2022-09-11T12:12:24.653Z"
   },
   {
    "duration": 10,
    "start_time": "2022-09-11T12:12:31.803Z"
   },
   {
    "duration": 6,
    "start_time": "2022-09-11T12:15:10.141Z"
   },
   {
    "duration": 9,
    "start_time": "2022-09-11T12:19:25.581Z"
   },
   {
    "duration": 44,
    "start_time": "2022-09-11T12:27:56.852Z"
   },
   {
    "duration": 5,
    "start_time": "2022-09-11T12:33:41.031Z"
   },
   {
    "duration": 8,
    "start_time": "2022-09-11T12:34:38.317Z"
   },
   {
    "duration": 7,
    "start_time": "2022-09-11T12:34:44.950Z"
   },
   {
    "duration": 7,
    "start_time": "2022-09-11T12:35:55.443Z"
   },
   {
    "duration": 11,
    "start_time": "2022-09-11T12:36:17.987Z"
   },
   {
    "duration": 5,
    "start_time": "2022-09-11T12:36:30.278Z"
   },
   {
    "duration": 18,
    "start_time": "2022-09-11T13:03:39.320Z"
   },
   {
    "duration": 3,
    "start_time": "2022-09-11T13:04:55.109Z"
   },
   {
    "duration": 40,
    "start_time": "2022-09-11T13:05:04.087Z"
   },
   {
    "duration": 39,
    "start_time": "2022-09-11T13:05:10.002Z"
   },
   {
    "duration": 5,
    "start_time": "2022-09-11T13:06:03.522Z"
   },
   {
    "duration": 41,
    "start_time": "2022-09-11T13:06:31.357Z"
   },
   {
    "duration": 5,
    "start_time": "2022-09-11T13:06:32.190Z"
   },
   {
    "duration": 8,
    "start_time": "2022-09-11T13:13:47.110Z"
   },
   {
    "duration": 5,
    "start_time": "2022-09-11T13:13:50.006Z"
   },
   {
    "duration": 11,
    "start_time": "2022-09-11T13:16:40.450Z"
   },
   {
    "duration": 6,
    "start_time": "2022-09-11T13:18:16.779Z"
   },
   {
    "duration": 5,
    "start_time": "2022-09-11T13:18:39.661Z"
   },
   {
    "duration": 36,
    "start_time": "2022-09-11T13:20:16.289Z"
   },
   {
    "duration": 13,
    "start_time": "2022-09-11T13:21:03.196Z"
   },
   {
    "duration": 26,
    "start_time": "2022-09-11T13:22:58.245Z"
   },
   {
    "duration": 17,
    "start_time": "2022-09-11T13:23:26.688Z"
   },
   {
    "duration": 9,
    "start_time": "2022-09-11T13:23:45.738Z"
   },
   {
    "duration": 13,
    "start_time": "2022-09-11T13:23:49.163Z"
   },
   {
    "duration": 12,
    "start_time": "2022-09-11T13:24:13.986Z"
   },
   {
    "duration": 8,
    "start_time": "2022-09-11T13:24:31.659Z"
   },
   {
    "duration": 10,
    "start_time": "2022-09-11T13:26:15.539Z"
   },
   {
    "duration": 23,
    "start_time": "2022-09-11T13:26:33.048Z"
   },
   {
    "duration": 7,
    "start_time": "2022-09-11T13:26:47.908Z"
   },
   {
    "duration": 4,
    "start_time": "2022-09-11T13:26:51.420Z"
   },
   {
    "duration": 6,
    "start_time": "2022-09-11T13:27:37.933Z"
   },
   {
    "duration": 5,
    "start_time": "2022-09-11T13:27:59.455Z"
   },
   {
    "duration": 4,
    "start_time": "2022-09-11T13:28:01.197Z"
   },
   {
    "duration": 5,
    "start_time": "2022-09-11T13:28:52.048Z"
   },
   {
    "duration": 4,
    "start_time": "2022-09-11T13:28:53.526Z"
   },
   {
    "duration": 12,
    "start_time": "2022-09-11T13:29:40.954Z"
   },
   {
    "duration": 5,
    "start_time": "2022-09-11T13:30:02.767Z"
   },
   {
    "duration": 5,
    "start_time": "2022-09-11T13:30:08.800Z"
   },
   {
    "duration": 25,
    "start_time": "2022-09-11T13:32:24.443Z"
   },
   {
    "duration": 5,
    "start_time": "2022-09-11T13:32:57.151Z"
   },
   {
    "duration": 25,
    "start_time": "2022-09-11T13:33:27.256Z"
   },
   {
    "duration": 15,
    "start_time": "2022-09-11T13:33:39.945Z"
   },
   {
    "duration": 5,
    "start_time": "2022-09-11T13:35:19.371Z"
   },
   {
    "duration": 30,
    "start_time": "2022-09-11T13:35:39.356Z"
   },
   {
    "duration": 9,
    "start_time": "2022-09-11T13:41:25.919Z"
   },
   {
    "duration": 19,
    "start_time": "2022-09-11T13:41:35.293Z"
   },
   {
    "duration": 15,
    "start_time": "2022-09-11T13:41:52.703Z"
   },
   {
    "duration": 18,
    "start_time": "2022-09-11T13:42:44.774Z"
   },
   {
    "duration": 16,
    "start_time": "2022-09-11T13:43:53.052Z"
   },
   {
    "duration": 6,
    "start_time": "2022-09-11T13:45:46.525Z"
   },
   {
    "duration": 143,
    "start_time": "2022-09-11T13:45:46.534Z"
   },
   {
    "duration": 21,
    "start_time": "2022-09-11T13:45:46.679Z"
   },
   {
    "duration": 14,
    "start_time": "2022-09-11T13:45:46.702Z"
   },
   {
    "duration": 42,
    "start_time": "2022-09-11T13:45:46.718Z"
   },
   {
    "duration": 18,
    "start_time": "2022-09-11T13:45:46.762Z"
   },
   {
    "duration": 4,
    "start_time": "2022-09-11T13:45:46.781Z"
   },
   {
    "duration": 11,
    "start_time": "2022-09-11T13:45:46.786Z"
   },
   {
    "duration": 18,
    "start_time": "2022-09-11T13:45:46.798Z"
   },
   {
    "duration": 52,
    "start_time": "2022-09-11T13:45:46.818Z"
   },
   {
    "duration": 11,
    "start_time": "2022-09-11T13:45:46.872Z"
   },
   {
    "duration": 16,
    "start_time": "2022-09-11T13:45:46.884Z"
   },
   {
    "duration": 7,
    "start_time": "2022-09-11T13:45:46.901Z"
   },
   {
    "duration": 12,
    "start_time": "2022-09-11T13:45:46.909Z"
   },
   {
    "duration": 34,
    "start_time": "2022-09-11T13:45:46.923Z"
   },
   {
    "duration": 5,
    "start_time": "2022-09-11T13:45:46.959Z"
   },
   {
    "duration": 15,
    "start_time": "2022-09-11T13:45:46.965Z"
   },
   {
    "duration": 9,
    "start_time": "2022-09-11T13:45:46.982Z"
   },
   {
    "duration": 20,
    "start_time": "2022-09-11T13:45:46.993Z"
   },
   {
    "duration": 11,
    "start_time": "2022-09-11T13:45:47.014Z"
   },
   {
    "duration": 33,
    "start_time": "2022-09-11T13:45:47.027Z"
   },
   {
    "duration": 6,
    "start_time": "2022-09-11T13:45:47.062Z"
   },
   {
    "duration": 13,
    "start_time": "2022-09-11T13:45:47.069Z"
   },
   {
    "duration": 15,
    "start_time": "2022-09-11T13:45:47.084Z"
   },
   {
    "duration": 1,
    "start_time": "2022-09-11T13:45:47.101Z"
   },
   {
    "duration": 5,
    "start_time": "2022-09-11T13:45:47.104Z"
   },
   {
    "duration": 5,
    "start_time": "2022-09-11T13:45:47.111Z"
   },
   {
    "duration": 5,
    "start_time": "2022-09-11T13:45:47.117Z"
   },
   {
    "duration": 4,
    "start_time": "2022-09-11T13:45:47.124Z"
   },
   {
    "duration": 29,
    "start_time": "2022-09-11T13:45:47.129Z"
   },
   {
    "duration": 4,
    "start_time": "2022-09-11T13:45:47.160Z"
   },
   {
    "duration": 6,
    "start_time": "2022-09-11T13:45:47.165Z"
   },
   {
    "duration": 4,
    "start_time": "2022-09-11T13:45:47.173Z"
   },
   {
    "duration": 7,
    "start_time": "2022-09-11T13:45:47.178Z"
   },
   {
    "duration": 5,
    "start_time": "2022-09-11T13:45:47.186Z"
   },
   {
    "duration": 9,
    "start_time": "2022-09-11T13:45:47.192Z"
   },
   {
    "duration": 5,
    "start_time": "2022-09-11T13:45:47.202Z"
   },
   {
    "duration": 6,
    "start_time": "2022-09-11T13:45:47.209Z"
   },
   {
    "duration": 14,
    "start_time": "2022-09-11T13:45:47.217Z"
   },
   {
    "duration": 14,
    "start_time": "2022-09-11T13:48:59.861Z"
   },
   {
    "duration": 34,
    "start_time": "2022-09-11T13:49:13.332Z"
   },
   {
    "duration": 10,
    "start_time": "2022-09-11T13:49:30.722Z"
   },
   {
    "duration": 8,
    "start_time": "2022-09-11T13:49:32.715Z"
   },
   {
    "duration": 5,
    "start_time": "2022-09-11T13:49:33.323Z"
   },
   {
    "duration": 9,
    "start_time": "2022-09-11T13:49:34.562Z"
   },
   {
    "duration": 6,
    "start_time": "2022-09-11T13:49:38.085Z"
   },
   {
    "duration": 5,
    "start_time": "2022-09-11T13:49:38.840Z"
   },
   {
    "duration": 8,
    "start_time": "2022-09-11T13:49:39.787Z"
   },
   {
    "duration": 11,
    "start_time": "2022-09-11T13:49:41.010Z"
   },
   {
    "duration": 8,
    "start_time": "2022-09-11T13:49:49.318Z"
   },
   {
    "duration": 3,
    "start_time": "2022-09-11T13:49:55.939Z"
   },
   {
    "duration": 124,
    "start_time": "2022-09-11T13:49:55.943Z"
   },
   {
    "duration": 24,
    "start_time": "2022-09-11T13:49:56.070Z"
   },
   {
    "duration": 18,
    "start_time": "2022-09-11T13:49:56.096Z"
   },
   {
    "duration": 38,
    "start_time": "2022-09-11T13:49:56.117Z"
   },
   {
    "duration": 18,
    "start_time": "2022-09-11T13:49:56.157Z"
   },
   {
    "duration": 5,
    "start_time": "2022-09-11T13:49:56.177Z"
   },
   {
    "duration": 16,
    "start_time": "2022-09-11T13:49:56.183Z"
   },
   {
    "duration": 18,
    "start_time": "2022-09-11T13:49:56.200Z"
   },
   {
    "duration": 42,
    "start_time": "2022-09-11T13:49:56.220Z"
   },
   {
    "duration": 35,
    "start_time": "2022-09-11T13:49:56.266Z"
   },
   {
    "duration": 12,
    "start_time": "2022-09-11T13:49:56.302Z"
   },
   {
    "duration": 31,
    "start_time": "2022-09-11T13:49:56.316Z"
   },
   {
    "duration": 6,
    "start_time": "2022-09-11T13:49:56.349Z"
   },
   {
    "duration": 21,
    "start_time": "2022-09-11T13:49:56.356Z"
   },
   {
    "duration": 7,
    "start_time": "2022-09-11T13:49:56.379Z"
   },
   {
    "duration": 11,
    "start_time": "2022-09-11T13:49:56.387Z"
   },
   {
    "duration": 33,
    "start_time": "2022-09-11T13:49:56.400Z"
   },
   {
    "duration": 34,
    "start_time": "2022-09-11T13:49:56.435Z"
   },
   {
    "duration": 17,
    "start_time": "2022-09-11T13:49:56.471Z"
   },
   {
    "duration": 15,
    "start_time": "2022-09-11T13:49:56.490Z"
   },
   {
    "duration": 10,
    "start_time": "2022-09-11T13:49:56.507Z"
   },
   {
    "duration": 9,
    "start_time": "2022-09-11T13:49:56.518Z"
   },
   {
    "duration": 26,
    "start_time": "2022-09-11T13:49:56.529Z"
   },
   {
    "duration": 14,
    "start_time": "2022-09-11T13:49:56.557Z"
   },
   {
    "duration": 4,
    "start_time": "2022-09-11T13:49:56.572Z"
   },
   {
    "duration": 5,
    "start_time": "2022-09-11T13:49:56.577Z"
   },
   {
    "duration": 7,
    "start_time": "2022-09-11T13:49:56.584Z"
   },
   {
    "duration": 4,
    "start_time": "2022-09-11T13:49:56.593Z"
   },
   {
    "duration": 6,
    "start_time": "2022-09-11T13:49:56.598Z"
   },
   {
    "duration": 5,
    "start_time": "2022-09-11T13:49:56.605Z"
   },
   {
    "duration": 15,
    "start_time": "2022-09-11T13:49:56.611Z"
   },
   {
    "duration": 5,
    "start_time": "2022-09-11T13:49:56.628Z"
   },
   {
    "duration": 2,
    "start_time": "2022-09-11T13:49:56.647Z"
   },
   {
    "duration": 8,
    "start_time": "2022-09-11T13:49:56.651Z"
   },
   {
    "duration": 9,
    "start_time": "2022-09-11T13:49:56.661Z"
   },
   {
    "duration": 5,
    "start_time": "2022-09-11T13:49:56.671Z"
   },
   {
    "duration": 5,
    "start_time": "2022-09-11T13:49:56.678Z"
   },
   {
    "duration": 10,
    "start_time": "2022-09-11T13:49:56.685Z"
   },
   {
    "duration": 8,
    "start_time": "2022-09-11T13:49:56.696Z"
   },
   {
    "duration": 13,
    "start_time": "2022-09-11T13:51:02.280Z"
   },
   {
    "duration": 8,
    "start_time": "2022-09-11T13:51:19.084Z"
   },
   {
    "duration": 23,
    "start_time": "2022-09-11T13:51:38.584Z"
   },
   {
    "duration": 3,
    "start_time": "2022-09-11T13:52:44.774Z"
   },
   {
    "duration": 4,
    "start_time": "2022-09-11T13:54:04.558Z"
   },
   {
    "duration": 6,
    "start_time": "2022-09-11T13:54:17.626Z"
   },
   {
    "duration": 7,
    "start_time": "2022-09-11T13:55:57.258Z"
   },
   {
    "duration": 7,
    "start_time": "2022-09-11T13:56:10.031Z"
   },
   {
    "duration": 21,
    "start_time": "2022-09-11T13:57:08.735Z"
   },
   {
    "duration": 32,
    "start_time": "2022-09-11T14:39:33.103Z"
   },
   {
    "duration": 17,
    "start_time": "2022-09-11T14:44:59.565Z"
   },
   {
    "duration": 17,
    "start_time": "2022-09-11T14:47:11.772Z"
   },
   {
    "duration": 55,
    "start_time": "2022-09-11T14:59:32.390Z"
   },
   {
    "duration": 6,
    "start_time": "2022-09-11T15:06:12.265Z"
   },
   {
    "duration": 21,
    "start_time": "2022-09-11T15:06:24.952Z"
   },
   {
    "duration": 25,
    "start_time": "2022-09-11T15:08:50.770Z"
   },
   {
    "duration": 21,
    "start_time": "2022-09-11T15:11:12.822Z"
   },
   {
    "duration": 30,
    "start_time": "2022-09-11T15:11:36.378Z"
   },
   {
    "duration": 3,
    "start_time": "2022-09-11T15:11:47.194Z"
   },
   {
    "duration": 128,
    "start_time": "2022-09-11T15:11:47.200Z"
   },
   {
    "duration": 37,
    "start_time": "2022-09-11T15:11:47.330Z"
   },
   {
    "duration": 26,
    "start_time": "2022-09-11T15:11:47.369Z"
   },
   {
    "duration": 30,
    "start_time": "2022-09-11T15:11:47.398Z"
   },
   {
    "duration": 38,
    "start_time": "2022-09-11T15:11:47.430Z"
   },
   {
    "duration": 6,
    "start_time": "2022-09-11T15:11:47.470Z"
   },
   {
    "duration": 11,
    "start_time": "2022-09-11T15:11:47.477Z"
   },
   {
    "duration": 18,
    "start_time": "2022-09-11T15:11:47.490Z"
   },
   {
    "duration": 42,
    "start_time": "2022-09-11T15:11:47.509Z"
   },
   {
    "duration": 31,
    "start_time": "2022-09-11T15:11:47.554Z"
   },
   {
    "duration": 11,
    "start_time": "2022-09-11T15:11:47.586Z"
   },
   {
    "duration": 9,
    "start_time": "2022-09-11T15:11:47.599Z"
   },
   {
    "duration": 5,
    "start_time": "2022-09-11T15:11:47.610Z"
   },
   {
    "duration": 40,
    "start_time": "2022-09-11T15:11:47.616Z"
   },
   {
    "duration": 6,
    "start_time": "2022-09-11T15:11:47.658Z"
   },
   {
    "duration": 6,
    "start_time": "2022-09-11T15:11:47.665Z"
   },
   {
    "duration": 16,
    "start_time": "2022-09-11T15:11:47.672Z"
   },
   {
    "duration": 14,
    "start_time": "2022-09-11T15:11:47.689Z"
   },
   {
    "duration": 48,
    "start_time": "2022-09-11T15:11:47.705Z"
   },
   {
    "duration": 15,
    "start_time": "2022-09-11T15:11:47.755Z"
   },
   {
    "duration": 10,
    "start_time": "2022-09-11T15:11:47.772Z"
   },
   {
    "duration": 7,
    "start_time": "2022-09-11T15:11:47.784Z"
   },
   {
    "duration": 16,
    "start_time": "2022-09-11T15:11:47.792Z"
   },
   {
    "duration": 38,
    "start_time": "2022-09-11T15:11:47.809Z"
   },
   {
    "duration": 10,
    "start_time": "2022-09-11T15:11:47.849Z"
   },
   {
    "duration": 40,
    "start_time": "2022-09-11T15:11:47.861Z"
   },
   {
    "duration": 6,
    "start_time": "2022-09-11T15:11:47.903Z"
   },
   {
    "duration": 12,
    "start_time": "2022-09-11T15:11:47.912Z"
   },
   {
    "duration": 27,
    "start_time": "2022-09-11T15:11:47.926Z"
   },
   {
    "duration": 31,
    "start_time": "2022-09-11T15:11:47.955Z"
   },
   {
    "duration": 20,
    "start_time": "2022-09-11T15:11:47.988Z"
   },
   {
    "duration": 46,
    "start_time": "2022-09-11T15:11:48.009Z"
   },
   {
    "duration": 17,
    "start_time": "2022-09-11T15:11:48.057Z"
   },
   {
    "duration": 23,
    "start_time": "2022-09-11T15:11:48.076Z"
   },
   {
    "duration": 46,
    "start_time": "2022-09-11T15:11:48.101Z"
   },
   {
    "duration": 2,
    "start_time": "2022-09-11T15:11:48.149Z"
   },
   {
    "duration": 12,
    "start_time": "2022-09-11T15:11:48.153Z"
   },
   {
    "duration": 8,
    "start_time": "2022-09-11T15:11:48.167Z"
   },
   {
    "duration": 4,
    "start_time": "2022-09-11T15:11:48.177Z"
   },
   {
    "duration": 5,
    "start_time": "2022-09-11T15:11:48.183Z"
   },
   {
    "duration": 9,
    "start_time": "2022-09-11T15:11:48.189Z"
   },
   {
    "duration": 8,
    "start_time": "2022-09-11T15:11:48.199Z"
   },
   {
    "duration": 6,
    "start_time": "2022-09-11T15:11:48.209Z"
   },
   {
    "duration": 5,
    "start_time": "2022-09-11T15:11:48.217Z"
   },
   {
    "duration": 6,
    "start_time": "2022-09-11T15:11:48.223Z"
   },
   {
    "duration": 17,
    "start_time": "2022-09-11T15:12:32.901Z"
   },
   {
    "duration": 3,
    "start_time": "2022-09-11T15:18:57.137Z"
   },
   {
    "duration": 5,
    "start_time": "2022-09-11T15:19:38.759Z"
   },
   {
    "duration": 54,
    "start_time": "2022-09-11T15:20:48.264Z"
   },
   {
    "duration": 24,
    "start_time": "2022-09-11T15:21:04.985Z"
   },
   {
    "duration": 20,
    "start_time": "2022-09-11T15:21:10.232Z"
   },
   {
    "duration": 779,
    "start_time": "2022-09-12T08:02:40.982Z"
   },
   {
    "duration": 197,
    "start_time": "2022-09-12T08:02:41.763Z"
   },
   {
    "duration": 28,
    "start_time": "2022-09-12T08:02:41.962Z"
   },
   {
    "duration": 18,
    "start_time": "2022-09-12T08:02:41.992Z"
   },
   {
    "duration": 44,
    "start_time": "2022-09-12T08:02:42.012Z"
   },
   {
    "duration": 45,
    "start_time": "2022-09-12T08:02:42.058Z"
   },
   {
    "duration": 4,
    "start_time": "2022-09-12T08:02:42.105Z"
   },
   {
    "duration": 29,
    "start_time": "2022-09-12T08:02:42.111Z"
   },
   {
    "duration": 35,
    "start_time": "2022-09-12T08:02:42.142Z"
   },
   {
    "duration": 23,
    "start_time": "2022-09-12T08:02:42.180Z"
   },
   {
    "duration": 55,
    "start_time": "2022-09-12T08:02:42.206Z"
   },
   {
    "duration": 9,
    "start_time": "2022-09-12T08:02:42.262Z"
   },
   {
    "duration": 11,
    "start_time": "2022-09-12T08:02:42.273Z"
   },
   {
    "duration": 13,
    "start_time": "2022-09-12T08:02:42.285Z"
   },
   {
    "duration": 25,
    "start_time": "2022-09-12T08:02:42.299Z"
   },
   {
    "duration": 17,
    "start_time": "2022-09-12T08:02:42.326Z"
   },
   {
    "duration": 13,
    "start_time": "2022-09-12T08:02:42.344Z"
   },
   {
    "duration": 31,
    "start_time": "2022-09-12T08:02:42.359Z"
   },
   {
    "duration": 33,
    "start_time": "2022-09-12T08:02:42.392Z"
   },
   {
    "duration": 19,
    "start_time": "2022-09-12T08:02:42.426Z"
   },
   {
    "duration": 23,
    "start_time": "2022-09-12T08:02:42.447Z"
   },
   {
    "duration": 12,
    "start_time": "2022-09-12T08:02:42.472Z"
   },
   {
    "duration": 27,
    "start_time": "2022-09-12T08:02:42.485Z"
   },
   {
    "duration": 27,
    "start_time": "2022-09-12T08:02:42.514Z"
   },
   {
    "duration": 34,
    "start_time": "2022-09-12T08:02:42.542Z"
   },
   {
    "duration": 25,
    "start_time": "2022-09-12T08:02:42.577Z"
   },
   {
    "duration": 43,
    "start_time": "2022-09-12T08:02:42.603Z"
   },
   {
    "duration": 17,
    "start_time": "2022-09-12T08:02:42.649Z"
   },
   {
    "duration": 22,
    "start_time": "2022-09-12T08:02:42.667Z"
   },
   {
    "duration": 25,
    "start_time": "2022-09-12T08:02:42.691Z"
   },
   {
    "duration": 46,
    "start_time": "2022-09-12T08:02:42.718Z"
   },
   {
    "duration": 25,
    "start_time": "2022-09-12T08:02:42.766Z"
   },
   {
    "duration": 46,
    "start_time": "2022-09-12T08:02:42.793Z"
   },
   {
    "duration": 30,
    "start_time": "2022-09-12T08:02:42.841Z"
   },
   {
    "duration": 23,
    "start_time": "2022-09-12T08:02:42.872Z"
   },
   {
    "duration": 22,
    "start_time": "2022-09-12T08:02:42.896Z"
   },
   {
    "duration": 22,
    "start_time": "2022-09-12T08:02:42.919Z"
   },
   {
    "duration": 65,
    "start_time": "2022-09-12T08:02:42.943Z"
   },
   {
    "duration": 39,
    "start_time": "2022-09-12T08:02:43.010Z"
   },
   {
    "duration": 40,
    "start_time": "2022-09-12T08:02:43.051Z"
   },
   {
    "duration": 9,
    "start_time": "2022-09-12T08:02:43.092Z"
   },
   {
    "duration": 20,
    "start_time": "2022-09-12T08:02:43.103Z"
   },
   {
    "duration": 21,
    "start_time": "2022-09-12T08:02:43.125Z"
   },
   {
    "duration": 21,
    "start_time": "2022-09-12T08:02:43.148Z"
   },
   {
    "duration": 25,
    "start_time": "2022-09-12T08:02:43.171Z"
   },
   {
    "duration": 14,
    "start_time": "2022-09-12T08:02:43.198Z"
   },
   {
    "duration": 39,
    "start_time": "2022-09-12T08:02:43.213Z"
   },
   {
    "duration": 19,
    "start_time": "2022-09-12T08:02:43.253Z"
   },
   {
    "duration": 22,
    "start_time": "2022-09-12T08:02:43.274Z"
   },
   {
    "duration": 9,
    "start_time": "2022-09-12T08:09:37.149Z"
   },
   {
    "duration": 134,
    "start_time": "2022-09-12T08:10:21.716Z"
   },
   {
    "duration": 3,
    "start_time": "2022-09-12T08:47:00.197Z"
   },
   {
    "duration": 109,
    "start_time": "2022-09-12T08:47:00.211Z"
   },
   {
    "duration": 33,
    "start_time": "2022-09-12T08:47:00.322Z"
   },
   {
    "duration": 33,
    "start_time": "2022-09-12T08:47:00.357Z"
   },
   {
    "duration": 31,
    "start_time": "2022-09-12T08:47:00.393Z"
   },
   {
    "duration": 37,
    "start_time": "2022-09-12T08:47:00.425Z"
   },
   {
    "duration": 7,
    "start_time": "2022-09-12T08:47:00.464Z"
   },
   {
    "duration": 42,
    "start_time": "2022-09-12T08:47:00.472Z"
   },
   {
    "duration": 58,
    "start_time": "2022-09-12T08:47:00.516Z"
   },
   {
    "duration": 50,
    "start_time": "2022-09-12T08:47:00.576Z"
   },
   {
    "duration": 42,
    "start_time": "2022-09-12T08:47:00.628Z"
   },
   {
    "duration": 8,
    "start_time": "2022-09-12T08:47:00.671Z"
   },
   {
    "duration": 33,
    "start_time": "2022-09-12T08:47:00.681Z"
   },
   {
    "duration": 30,
    "start_time": "2022-09-12T08:47:00.716Z"
   },
   {
    "duration": 46,
    "start_time": "2022-09-12T08:47:00.748Z"
   },
   {
    "duration": 65,
    "start_time": "2022-09-12T08:47:00.795Z"
   },
   {
    "duration": 48,
    "start_time": "2022-09-12T08:47:00.861Z"
   },
   {
    "duration": 58,
    "start_time": "2022-09-12T08:47:00.911Z"
   },
   {
    "duration": 28,
    "start_time": "2022-09-12T08:47:00.971Z"
   },
   {
    "duration": 24,
    "start_time": "2022-09-12T08:47:01.000Z"
   },
   {
    "duration": 39,
    "start_time": "2022-09-12T08:47:01.026Z"
   },
   {
    "duration": 17,
    "start_time": "2022-09-12T08:47:01.066Z"
   },
   {
    "duration": 34,
    "start_time": "2022-09-12T08:47:01.085Z"
   },
   {
    "duration": 32,
    "start_time": "2022-09-12T08:47:01.120Z"
   },
   {
    "duration": 34,
    "start_time": "2022-09-12T08:47:01.153Z"
   },
   {
    "duration": 30,
    "start_time": "2022-09-12T08:47:01.189Z"
   },
   {
    "duration": 37,
    "start_time": "2022-09-12T08:47:01.220Z"
   },
   {
    "duration": 25,
    "start_time": "2022-09-12T08:47:01.259Z"
   },
   {
    "duration": 30,
    "start_time": "2022-09-12T08:47:01.288Z"
   },
   {
    "duration": 13,
    "start_time": "2022-09-12T08:47:01.319Z"
   },
   {
    "duration": 45,
    "start_time": "2022-09-12T08:47:01.334Z"
   },
   {
    "duration": 43,
    "start_time": "2022-09-12T08:47:01.381Z"
   },
   {
    "duration": 46,
    "start_time": "2022-09-12T08:47:01.425Z"
   },
   {
    "duration": 23,
    "start_time": "2022-09-12T08:47:01.473Z"
   },
   {
    "duration": 29,
    "start_time": "2022-09-12T08:47:01.497Z"
   },
   {
    "duration": 11,
    "start_time": "2022-09-12T08:47:01.527Z"
   },
   {
    "duration": 42,
    "start_time": "2022-09-12T08:47:01.539Z"
   },
   {
    "duration": 53,
    "start_time": "2022-09-12T08:47:01.583Z"
   },
   {
    "duration": 21,
    "start_time": "2022-09-12T08:47:01.638Z"
   },
   {
    "duration": 16,
    "start_time": "2022-09-12T08:47:01.661Z"
   },
   {
    "duration": 28,
    "start_time": "2022-09-12T08:47:01.679Z"
   },
   {
    "duration": 123,
    "start_time": "2022-09-12T08:47:01.709Z"
   },
   {
    "duration": 2,
    "start_time": "2022-09-12T08:47:01.836Z"
   },
   {
    "duration": 28,
    "start_time": "2022-09-12T08:47:01.840Z"
   },
   {
    "duration": 84,
    "start_time": "2022-09-12T08:47:01.869Z"
   },
   {
    "duration": 66,
    "start_time": "2022-09-12T08:47:01.955Z"
   },
   {
    "duration": 28,
    "start_time": "2022-09-12T08:47:02.023Z"
   },
   {
    "duration": 51,
    "start_time": "2022-09-12T08:47:02.053Z"
   },
   {
    "duration": 26,
    "start_time": "2022-09-12T08:47:02.105Z"
   },
   {
    "duration": 66,
    "start_time": "2022-09-12T09:16:20.246Z"
   }
  ],
  "kernelspec": {
   "display_name": "Python 3 (ipykernel)",
   "language": "python",
   "name": "python3"
  },
  "language_info": {
   "codemirror_mode": {
    "name": "ipython",
    "version": 3
   },
   "file_extension": ".py",
   "mimetype": "text/x-python",
   "name": "python",
   "nbconvert_exporter": "python",
   "pygments_lexer": "ipython3",
   "version": "3.9.5"
  },
  "toc": {
   "base_numbering": 1,
   "nav_menu": {},
   "number_sections": true,
   "sideBar": true,
   "skip_h1_title": false,
   "title_cell": "Table of Contents",
   "title_sidebar": "Contents",
   "toc_cell": false,
   "toc_position": {
    "height": "calc(100% - 180px)",
    "left": "10px",
    "top": "150px",
    "width": "164.988px"
   },
   "toc_section_display": true,
   "toc_window_display": true
  }
 },
 "nbformat": 4,
 "nbformat_minor": 2
}
